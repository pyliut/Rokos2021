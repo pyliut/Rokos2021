{
 "cells": [
  {
   "cell_type": "markdown",
   "metadata": {},
   "source": [
    "# 1) Setup"
   ]
  },
  {
   "cell_type": "code",
   "execution_count": 2,
   "metadata": {},
   "outputs": [],
   "source": [
    "import numpy as np\n",
    "from scipy.special import gamma, factorial\n",
    "from matplotlib import pyplot as plt "
   ]
  },
  {
   "cell_type": "markdown",
   "metadata": {},
   "source": [
    "# 2) Metropolis Algorithm\n",
    "- gamma prior\n",
    "- poisson likelihood"
   ]
  },
  {
   "cell_type": "code",
   "execution_count": 3,
   "metadata": {},
   "outputs": [
    {
     "data": {
      "text/plain": [
       "(array([ 39., 114., 214., 162., 168., 118.,  81.,  44.,  42.,  18.]),\n",
       " array([ 4.34525842,  5.28946137,  6.23366432,  7.17786727,  8.12207022,\n",
       "         9.06627317, 10.01047612, 10.95467907, 11.89888202, 12.84308497,\n",
       "        13.78728792]),\n",
       " <a list of 10 Patch objects>)"
      ]
     },
     "execution_count": 3,
     "metadata": {},
     "output_type": "execute_result"
    },
    {
     "data": {
      "image/png": "[encoded data removed]",
      "text/plain": [
       "<Figure size 432x288 with 1 Axes>"
      ]
     },
     "metadata": {
      "needs_background": "light"
     },
     "output_type": "display_data"
    }
   ],
   "source": [
    "# Prior alpha = 7, beta = 1\n",
    "# Start with a value of lambda given by 8.0 and compute the prior probability density of observing this value\n",
    "\n",
    "def prior_prob_density(lam, alpha, beta):\n",
    "     return(beta**(alpha) * lam**(alpha - 1) * np.exp(-beta*lam) / gamma(alpha))\n",
    "\n",
    "def likelihood_density(data, lam):\n",
    "    return(lam**(data) * np.exp(-lam)/ factorial(data))\n",
    "\n",
    "# Number of iterations\n",
    "n_iter = 1000\n",
    "# Starting value of lambda\n",
    "lambda_current = 8.0\n",
    "# Prior parameters alpha and beta\n",
    "alpha = 7.0\n",
    "beta = 1.0\n",
    "# Observed data of 9 outages \n",
    "data_val = 9\n",
    "\n",
    "lambda_array = np.zeros(n_iter)\n",
    "\n",
    "for i in range(n_iter):\n",
    "    \n",
    "    # Current value \n",
    "    prior = prior_prob_density(lam=lambda_current, alpha=alpha, beta=beta)\n",
    "    likelihood = likelihood_density(data=data_val, lam=lambda_current)\n",
    "    posterior_current = likelihood * prior \n",
    "    \n",
    "    # Proposed value\n",
    "    lambda_proposed = np.random.normal(lambda_current, scale=0.5) # scale is our tuning parameter\n",
    "    prior = prior_prob_density(lam=lambda_proposed, alpha=alpha, beta=beta)\n",
    "    likelihood = likelihood_density(data=data_val, lam=lambda_proposed)\n",
    "    posterior_proposed = likelihood * prior\n",
    "    \n",
    "    # Compute the probability of move\n",
    "    ratio = posterior_proposed / posterior_current\n",
    "    p_move = min(ratio, 1)\n",
    "    random_draw = np.random.uniform(0,1)\n",
    "    if (random_draw < p_move):\n",
    "        lambda_current = lambda_proposed\n",
    "        \n",
    "    # Store the current value\n",
    "    lambda_array[i] = lambda_current\n",
    "\n",
    "plt.hist(lambda_array)"
   ]
  },
  {
   "cell_type": "code",
   "execution_count": 4,
   "metadata": {},
   "outputs": [],
   "source": [
    "# 1) define\n",
    "#prior params\n",
    "alpha = 7.0\n",
    "beta = 1.0\n",
    "prior_params = [alpha, beta]\n",
    "\n",
    "#start params\n",
    "lam = 7.5\n",
    "start_params = [lam]\n",
    "\n",
    "#observations\n",
    "t_op = [10,11,12,13]\n",
    "\n",
    "#no. of iterations\n",
    "n_iter = 1000\n",
    "\n",
    "\n",
    "# 2) Metropolis algorithm\n",
    "\n"
   ]
  },
  {
   "cell_type": "code",
   "execution_count": null,
   "metadata": {},
   "outputs": [],
   "source": []
  }
 ],
 "metadata": {
  "kernelspec": {
   "display_name": "Python 3",
   "language": "python",
   "name": "python3"
  },
  "language_info": {
   "codemirror_mode": {
    "name": "ipython",
    "version": 3
   },
   "file_extension": ".py",
   "mimetype": "text/x-python",
   "name": "python",
   "nbconvert_exporter": "python",
   "pygments_lexer": "ipython3",
   "version": "3.8.3"
  }
 },
 "nbformat": 4,
 "nbformat_minor": 4
}
