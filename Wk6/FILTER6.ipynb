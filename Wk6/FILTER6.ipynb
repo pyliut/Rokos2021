{
 "cells": [
  {
   "cell_type": "markdown",
   "metadata": {},
   "source": [
    "# 1) Setup"
   ]
  },
  {
   "cell_type": "code",
   "execution_count": 2,
   "metadata": {},
   "outputs": [
    {
     "name": "stdout",
     "output_type": "stream",
     "text": [
      "done\n"
     ]
    }
   ],
   "source": [
    "#import libraries\n",
    "import pandas as pd\n",
    "import matplotlib.pyplot as plt\n",
    "from matplotlib import cm\n",
    "\n",
    "import numpy as np\n",
    "import math\n",
    "import scipy as sp\n",
    "from scipy import stats\n",
    "from copy import copy\n",
    "import time\n",
    "\n",
    "import pymongo\n",
    "from pymongo import MongoClient\n",
    "from datetime import datetime\n",
    "from datetime import timedelta\n",
    "print(\"done\")"
   ]
  },
  {
   "cell_type": "code",
   "execution_count": 3,
   "metadata": {},
   "outputs": [
    {
     "name": "stdout",
     "output_type": "stream",
     "text": [
      "done\n"
     ]
    }
   ],
   "source": [
    "#import functions from python files\n",
    "\n",
    "#1) data import & filtering\n",
    "from get_data import *\n",
    "from filter_data1 import *\n",
    "from filter_data2 import *\n",
    "from filter_data3 import *\n",
    "from filter_data4 import *\n",
    "from filter_data5 import *\n",
    "from select_data import *\n",
    "from select_data_edge import *\n",
    "\n",
    "from get_adjacent import *\n",
    "\n",
    "\n",
    "print(\"done\")"
   ]
  },
  {
   "cell_type": "markdown",
   "metadata": {},
   "source": [
    "# 2) Count n_robots per edge\n",
    "- Walmart random"
   ]
  },
  {
   "cell_type": "code",
   "execution_count": 4,
   "metadata": {},
   "outputs": [
    {
     "name": "stdout",
     "output_type": "stream",
     "text": [
      "done\n"
     ]
    }
   ],
   "source": [
    "#1) Import data from PyMongo\n",
    "df = get_data(address = \"walmart_random\")\n",
    "#2) Preliminary filtering\n",
    "df = filter_data1(df)\n",
    "print(\"done\")"
   ]
  },
  {
   "cell_type": "code",
   "execution_count": null,
   "metadata": {},
   "outputs": [],
   "source": []
  },
  {
   "cell_type": "code",
   "execution_count": 4,
   "metadata": {},
   "outputs": [
    {
     "name": "stdout",
     "output_type": "stream",
     "text": [
      "Time taken: 0.6316194534301758 secs\n",
      "0 iterations 0.0009970664978027344 secs\n",
      "1000 iterations 9.897929906845093 secs\n",
      "2000 iterations 19.549097061157227 secs\n",
      "3000 iterations 29.32994294166565 secs\n",
      "4000 iterations 44.79227685928345 secs\n",
      "5000 iterations 54.47217774391174 secs\n",
      "6000 iterations 64.06527757644653 secs\n",
      "7000 iterations 73.56073522567749 secs\n",
      "8000 iterations 82.08332538604736 secs\n",
      "9000 iterations 90.7105073928833 secs\n",
      "10000 iterations 98.69599342346191 secs\n",
      "11000 iterations 106.85569453239441 secs\n",
      "12000 iterations 114.42217564582825 secs\n",
      "13000 iterations 122.522390127182 secs\n",
      "14000 iterations 130.32969760894775 secs\n",
      "15000 iterations 138.29958772659302 secs\n",
      "Time taken 145.00739812850952 secs\n"
     ]
    }
   ],
   "source": [
    "#3a) Count n_robots\n",
    "adjacent = get_adjacent(\"walmart_map.yaml\")\n",
    "df = filter_data5(df, adjacent)"
   ]
  },
  {
   "cell_type": "code",
   "execution_count": 5,
   "metadata": {},
   "outputs": [
    {
     "name": "stdout",
     "output_type": "stream",
     "text": [
      "done\n"
     ]
    }
   ],
   "source": [
    "#3b) save to excel\n",
    "df.to_excel(\"nrobots_walmart_random.xlsx\")\n",
    "print(\"done\")"
   ]
  },
  {
   "cell_type": "code",
   "execution_count": 6,
   "metadata": {},
   "outputs": [
    {
     "name": "stdout",
     "output_type": "stream",
     "text": [
      "done\n"
     ]
    }
   ],
   "source": [
    "#3c) load from excel\n",
    "df = pd.read_excel(\"nrobots_walmart_random.xlsx\")\n",
    "print(\"done\")"
   ]
  },
  {
   "cell_type": "code",
   "execution_count": 7,
   "metadata": {},
   "outputs": [
    {
     "data": {
      "text/html": [
       "<div>\n",
       "<style scoped>\n",
       "    .dataframe tbody tr th:only-of-type {\n",
       "        vertical-align: middle;\n",
       "    }\n",
       "\n",
       "    .dataframe tbody tr th {\n",
       "        vertical-align: top;\n",
       "    }\n",
       "\n",
       "    .dataframe thead th {\n",
       "        text-align: right;\n",
       "    }\n",
       "</style>\n",
       "<table border=\"1\" class=\"dataframe\">\n",
       "  <thead>\n",
       "    <tr style=\"text-align: right;\">\n",
       "      <th></th>\n",
       "      <th>origin</th>\n",
       "      <th>target</th>\n",
       "      <th>edge_id</th>\n",
       "      <th>operation_time</th>\n",
       "      <th>start</th>\n",
       "      <th>finish</th>\n",
       "      <th>n_robots</th>\n",
       "      <th>is_final</th>\n",
       "      <th>is_initial</th>\n",
       "    </tr>\n",
       "  </thead>\n",
       "  <tbody>\n",
       "    <tr>\n",
       "      <th>0</th>\n",
       "      <td>WayPoint110</td>\n",
       "      <td>WayPoint68</td>\n",
       "      <td>WayPoint110_WayPoint68</td>\n",
       "      <td>4.898</td>\n",
       "      <td>2021-02-23 21:18:37.108</td>\n",
       "      <td>2021-02-23 21:18:42.376</td>\n",
       "      <td>1</td>\n",
       "      <td>False</td>\n",
       "      <td>False</td>\n",
       "    </tr>\n",
       "    <tr>\n",
       "      <th>1</th>\n",
       "      <td>WayPoint68</td>\n",
       "      <td>WayPoint61</td>\n",
       "      <td>WayPoint68_WayPoint61</td>\n",
       "      <td>10.916</td>\n",
       "      <td>2021-02-23 21:19:12.520</td>\n",
       "      <td>2021-02-23 21:19:17.788</td>\n",
       "      <td>1</td>\n",
       "      <td>False</td>\n",
       "      <td>False</td>\n",
       "    </tr>\n",
       "    <tr>\n",
       "      <th>2</th>\n",
       "      <td>WayPoint61</td>\n",
       "      <td>WayPoint54</td>\n",
       "      <td>WayPoint61_WayPoint54</td>\n",
       "      <td>9.276</td>\n",
       "      <td>2021-02-23 21:19:42.080</td>\n",
       "      <td>2021-02-23 21:19:47.348</td>\n",
       "      <td>1</td>\n",
       "      <td>False</td>\n",
       "      <td>False</td>\n",
       "    </tr>\n",
       "    <tr>\n",
       "      <th>3</th>\n",
       "      <td>WayPoint54</td>\n",
       "      <td>WayPoint47</td>\n",
       "      <td>WayPoint54_WayPoint47</td>\n",
       "      <td>10.398</td>\n",
       "      <td>2021-02-23 21:20:15.528</td>\n",
       "      <td>2021-02-23 21:20:20.796</td>\n",
       "      <td>1</td>\n",
       "      <td>False</td>\n",
       "      <td>False</td>\n",
       "    </tr>\n",
       "    <tr>\n",
       "      <th>4</th>\n",
       "      <td>WayPoint47</td>\n",
       "      <td>WayPoint48</td>\n",
       "      <td>WayPoint47_WayPoint48</td>\n",
       "      <td>10.212</td>\n",
       "      <td>2021-02-23 21:20:48.740</td>\n",
       "      <td>2021-02-23 21:20:54.008</td>\n",
       "      <td>1</td>\n",
       "      <td>False</td>\n",
       "      <td>False</td>\n",
       "    </tr>\n",
       "  </tbody>\n",
       "</table>\n",
       "</div>"
      ],
      "text/plain": [
       "        origin      target                 edge_id  operation_time  \\\n",
       "0  WayPoint110  WayPoint68  WayPoint110_WayPoint68           4.898   \n",
       "1   WayPoint68  WayPoint61   WayPoint68_WayPoint61          10.916   \n",
       "2   WayPoint61  WayPoint54   WayPoint61_WayPoint54           9.276   \n",
       "3   WayPoint54  WayPoint47   WayPoint54_WayPoint47          10.398   \n",
       "4   WayPoint47  WayPoint48   WayPoint47_WayPoint48          10.212   \n",
       "\n",
       "                    start                  finish  n_robots  is_final  \\\n",
       "0 2021-02-23 21:18:37.108 2021-02-23 21:18:42.376         1     False   \n",
       "1 2021-02-23 21:19:12.520 2021-02-23 21:19:17.788         1     False   \n",
       "2 2021-02-23 21:19:42.080 2021-02-23 21:19:47.348         1     False   \n",
       "3 2021-02-23 21:20:15.528 2021-02-23 21:20:20.796         1     False   \n",
       "4 2021-02-23 21:20:48.740 2021-02-23 21:20:54.008         1     False   \n",
       "\n",
       "   is_initial  \n",
       "0       False  \n",
       "1       False  \n",
       "2       False  \n",
       "3       False  \n",
       "4       False  "
      ]
     },
     "execution_count": 7,
     "metadata": {},
     "output_type": "execute_result"
    }
   ],
   "source": [
    "#4) Get rid of is_final = True & n_robots != 1\n",
    "#create is_initial column and get rid of is_initial == True\n",
    "df = filter_data3(df, remove_multimodal = False)\n",
    "df.head()"
   ]
  },
  {
   "cell_type": "code",
   "execution_count": 8,
   "metadata": {},
   "outputs": [
    {
     "name": "stdout",
     "output_type": "stream",
     "text": [
      "done\n"
     ]
    }
   ],
   "source": [
    "#5a) save to excel\n",
    "df.to_excel(\"filtered_walmart_random.xlsx\")\n",
    "print(\"done\")"
   ]
  },
  {
   "cell_type": "code",
   "execution_count": 9,
   "metadata": {},
   "outputs": [
    {
     "name": "stdout",
     "output_type": "stream",
     "text": [
      "done\n"
     ]
    }
   ],
   "source": [
    "#5b) load from excel\n",
    "df = pd.read_excel(\"filtered_walmart_random.xlsx\")\n",
    "print(\"done\")"
   ]
  },
  {
   "cell_type": "markdown",
   "metadata": {},
   "source": [
    "# 3) Walmart targeted"
   ]
  },
  {
   "cell_type": "code",
   "execution_count": 10,
   "metadata": {},
   "outputs": [
    {
     "name": "stdout",
     "output_type": "stream",
     "text": [
      "Time taken: 0.7310616970062256 secs\n",
      "0 iterations 0.0009665489196777344 secs\n",
      "1000 iterations 19.51107120513916 secs\n",
      "2000 iterations 36.5931761264801 secs\n",
      "3000 iterations 54.62571740150452 secs\n",
      "4000 iterations 74.2363588809967 secs\n",
      "5000 iterations 88.68155765533447 secs\n",
      "6000 iterations 99.46605205535889 secs\n",
      "7000 iterations 109.08775281906128 secs\n",
      "8000 iterations 117.92900896072388 secs\n",
      "9000 iterations 125.59708571434021 secs\n",
      "10000 iterations 132.79944348335266 secs\n",
      "11000 iterations 150.58520007133484 secs\n",
      "12000 iterations 167.25253343582153 secs\n",
      "Time taken 172.31037020683289 secs\n"
     ]
    }
   ],
   "source": [
    "#1) Import data from PyMongo\n",
    "df = get_data(address = \"walmart_targeted\")\n",
    "#2) Preliminary filtering\n",
    "df = filter_data1(df)\n",
    "#3a) Count n_robots\n",
    "adjacent = get_adjacent(\"walmart_map.yaml\")\n",
    "df = filter_data5(df, adjacent)"
   ]
  },
  {
   "cell_type": "code",
   "execution_count": 11,
   "metadata": {},
   "outputs": [
    {
     "name": "stdout",
     "output_type": "stream",
     "text": [
      "done\n"
     ]
    }
   ],
   "source": [
    "#3b) save to excel\n",
    "df.to_excel(\"nrobots_walmart_targeted.xlsx\")\n",
    "#3c) load from excel\n",
    "df = pd.read_excel(\"nrobots_walmart_targeted.xlsx\")\n",
    "print(\"done\")"
   ]
  },
  {
   "cell_type": "code",
   "execution_count": 12,
   "metadata": {},
   "outputs": [
    {
     "data": {
      "text/html": [
       "<div>\n",
       "<style scoped>\n",
       "    .dataframe tbody tr th:only-of-type {\n",
       "        vertical-align: middle;\n",
       "    }\n",
       "\n",
       "    .dataframe tbody tr th {\n",
       "        vertical-align: top;\n",
       "    }\n",
       "\n",
       "    .dataframe thead th {\n",
       "        text-align: right;\n",
       "    }\n",
       "</style>\n",
       "<table border=\"1\" class=\"dataframe\">\n",
       "  <thead>\n",
       "    <tr style=\"text-align: right;\">\n",
       "      <th></th>\n",
       "      <th>origin</th>\n",
       "      <th>target</th>\n",
       "      <th>edge_id</th>\n",
       "      <th>operation_time</th>\n",
       "      <th>start</th>\n",
       "      <th>finish</th>\n",
       "      <th>n_robots</th>\n",
       "      <th>is_final</th>\n",
       "      <th>is_initial</th>\n",
       "    </tr>\n",
       "  </thead>\n",
       "  <tbody>\n",
       "    <tr>\n",
       "      <th>0</th>\n",
       "      <td>WayPoint110</td>\n",
       "      <td>WayPoint68</td>\n",
       "      <td>WayPoint110_WayPoint68</td>\n",
       "      <td>5.179</td>\n",
       "      <td>2021-02-26 05:09:52.153</td>\n",
       "      <td>2021-02-26 05:09:57.273</td>\n",
       "      <td>1</td>\n",
       "      <td>False</td>\n",
       "      <td>False</td>\n",
       "    </tr>\n",
       "    <tr>\n",
       "      <th>1</th>\n",
       "      <td>WayPoint68</td>\n",
       "      <td>WayPoint75</td>\n",
       "      <td>WayPoint68_WayPoint75</td>\n",
       "      <td>9.396</td>\n",
       "      <td>2021-02-26 05:10:22.306</td>\n",
       "      <td>2021-02-26 05:10:27.426</td>\n",
       "      <td>1</td>\n",
       "      <td>False</td>\n",
       "      <td>False</td>\n",
       "    </tr>\n",
       "    <tr>\n",
       "      <th>2</th>\n",
       "      <td>WayPoint75</td>\n",
       "      <td>WayPoint82</td>\n",
       "      <td>WayPoint75_WayPoint82</td>\n",
       "      <td>10.883</td>\n",
       "      <td>2021-02-26 05:10:57.317</td>\n",
       "      <td>2021-02-26 05:11:02.437</td>\n",
       "      <td>1</td>\n",
       "      <td>False</td>\n",
       "      <td>False</td>\n",
       "    </tr>\n",
       "    <tr>\n",
       "      <th>3</th>\n",
       "      <td>WayPoint82</td>\n",
       "      <td>WayPoint89</td>\n",
       "      <td>WayPoint82_WayPoint89</td>\n",
       "      <td>14.213</td>\n",
       "      <td>2021-02-26 05:11:41.242</td>\n",
       "      <td>2021-02-26 05:11:46.362</td>\n",
       "      <td>1</td>\n",
       "      <td>False</td>\n",
       "      <td>False</td>\n",
       "    </tr>\n",
       "    <tr>\n",
       "      <th>4</th>\n",
       "      <td>WayPoint89</td>\n",
       "      <td>WayPoint90</td>\n",
       "      <td>WayPoint89_WayPoint90</td>\n",
       "      <td>10.272</td>\n",
       "      <td>2021-02-26 05:12:13.089</td>\n",
       "      <td>2021-02-26 05:12:18.209</td>\n",
       "      <td>1</td>\n",
       "      <td>False</td>\n",
       "      <td>False</td>\n",
       "    </tr>\n",
       "  </tbody>\n",
       "</table>\n",
       "</div>"
      ],
      "text/plain": [
       "        origin      target                 edge_id  operation_time  \\\n",
       "0  WayPoint110  WayPoint68  WayPoint110_WayPoint68           5.179   \n",
       "1   WayPoint68  WayPoint75   WayPoint68_WayPoint75           9.396   \n",
       "2   WayPoint75  WayPoint82   WayPoint75_WayPoint82          10.883   \n",
       "3   WayPoint82  WayPoint89   WayPoint82_WayPoint89          14.213   \n",
       "4   WayPoint89  WayPoint90   WayPoint89_WayPoint90          10.272   \n",
       "\n",
       "                    start                  finish  n_robots  is_final  \\\n",
       "0 2021-02-26 05:09:52.153 2021-02-26 05:09:57.273         1     False   \n",
       "1 2021-02-26 05:10:22.306 2021-02-26 05:10:27.426         1     False   \n",
       "2 2021-02-26 05:10:57.317 2021-02-26 05:11:02.437         1     False   \n",
       "3 2021-02-26 05:11:41.242 2021-02-26 05:11:46.362         1     False   \n",
       "4 2021-02-26 05:12:13.089 2021-02-26 05:12:18.209         1     False   \n",
       "\n",
       "   is_initial  \n",
       "0       False  \n",
       "1       False  \n",
       "2       False  \n",
       "3       False  \n",
       "4       False  "
      ]
     },
     "execution_count": 12,
     "metadata": {},
     "output_type": "execute_result"
    }
   ],
   "source": [
    "#4) Get rid of is_final = True & n_robots != 1\n",
    "#create is_initial column and get rid of is_initial == True\n",
    "df = filter_data3(df, remove_multimodal = False)\n",
    "df.head()"
   ]
  },
  {
   "cell_type": "code",
   "execution_count": 13,
   "metadata": {},
   "outputs": [
    {
     "name": "stdout",
     "output_type": "stream",
     "text": [
      "done\n"
     ]
    }
   ],
   "source": [
    "#5a) save to excel\n",
    "df.to_excel(\"filtered_walmart_targeted.xlsx\")\n",
    "#5b) load from excel\n",
    "df = pd.read_excel(\"filtered_walmart_targeted.xlsx\")\n",
    "print(\"done\")"
   ]
  },
  {
   "cell_type": "markdown",
   "metadata": {},
   "source": [
    "# 4) Blenheim random"
   ]
  },
  {
   "cell_type": "code",
   "execution_count": 14,
   "metadata": {},
   "outputs": [
    {
     "name": "stdout",
     "output_type": "stream",
     "text": [
      "Time taken: 0.1007533073425293 secs\n",
      "0 iterations 0.0009982585906982422 secs\n",
      "1000 iterations 53.77694845199585 secs\n",
      "2000 iterations 106.74167513847351 secs\n",
      "3000 iterations 161.58069252967834 secs\n",
      "4000 iterations 220.10846376419067 secs\n",
      "5000 iterations 273.1299831867218 secs\n",
      "6000 iterations 323.6510982513428 secs\n",
      "7000 iterations 377.25618863105774 secs\n",
      "8000 iterations 427.3415629863739 secs\n",
      "9000 iterations 474.44754576683044 secs\n",
      "10000 iterations 521.1655426025391 secs\n",
      "11000 iterations 565.9877805709839 secs\n",
      "12000 iterations 607.6665480136871 secs\n",
      "13000 iterations 647.6879770755768 secs\n",
      "14000 iterations 684.972407579422 secs\n",
      "Time taken 714.603529214859 secs\n"
     ]
    }
   ],
   "source": [
    "#1) Import data from PyMongo\n",
    "df = get_data(address = \"blenheim_random\")\n",
    "#2) Preliminary filtering\n",
    "df = filter_data1(df)\n",
    "#3a) Count n_robots\n",
    "adjacent = get_adjacent(\"blenheim_map.yaml\")\n",
    "df = filter_data5(df, adjacent)"
   ]
  },
  {
   "cell_type": "code",
   "execution_count": 15,
   "metadata": {},
   "outputs": [
    {
     "name": "stdout",
     "output_type": "stream",
     "text": [
      "done\n"
     ]
    }
   ],
   "source": [
    "#3b) save to excel\n",
    "df.to_excel(\"nrobots_blenheim_random.xlsx\")\n",
    "#3c) load from excel\n",
    "df = pd.read_excel(\"nrobots_blenheim_random.xlsx\")\n",
    "print(\"done\")"
   ]
  },
  {
   "cell_type": "code",
   "execution_count": 16,
   "metadata": {},
   "outputs": [
    {
     "data": {
      "text/html": [
       "<div>\n",
       "<style scoped>\n",
       "    .dataframe tbody tr th:only-of-type {\n",
       "        vertical-align: middle;\n",
       "    }\n",
       "\n",
       "    .dataframe tbody tr th {\n",
       "        vertical-align: top;\n",
       "    }\n",
       "\n",
       "    .dataframe thead th {\n",
       "        text-align: right;\n",
       "    }\n",
       "</style>\n",
       "<table border=\"1\" class=\"dataframe\">\n",
       "  <thead>\n",
       "    <tr style=\"text-align: right;\">\n",
       "      <th></th>\n",
       "      <th>origin</th>\n",
       "      <th>target</th>\n",
       "      <th>edge_id</th>\n",
       "      <th>operation_time</th>\n",
       "      <th>start</th>\n",
       "      <th>finish</th>\n",
       "      <th>n_robots</th>\n",
       "      <th>is_final</th>\n",
       "      <th>is_initial</th>\n",
       "    </tr>\n",
       "  </thead>\n",
       "  <tbody>\n",
       "    <tr>\n",
       "      <th>0</th>\n",
       "      <td>WayPoint4</td>\n",
       "      <td>WayPoint7</td>\n",
       "      <td>WayPoint4_WayPoint7</td>\n",
       "      <td>12.409</td>\n",
       "      <td>2021-02-26 00:21:53.498</td>\n",
       "      <td>2021-02-26 00:22:04.356</td>\n",
       "      <td>1</td>\n",
       "      <td>False</td>\n",
       "      <td>False</td>\n",
       "    </tr>\n",
       "    <tr>\n",
       "      <th>1</th>\n",
       "      <td>WayPoint7</td>\n",
       "      <td>WayPoint10</td>\n",
       "      <td>WayPoint7_WayPoint10</td>\n",
       "      <td>13.035</td>\n",
       "      <td>2021-02-26 00:22:21.434</td>\n",
       "      <td>2021-02-26 00:22:32.292</td>\n",
       "      <td>1</td>\n",
       "      <td>False</td>\n",
       "      <td>False</td>\n",
       "    </tr>\n",
       "    <tr>\n",
       "      <th>2</th>\n",
       "      <td>WayPoint10</td>\n",
       "      <td>WayPoint3</td>\n",
       "      <td>WayPoint10_WayPoint3</td>\n",
       "      <td>13.041</td>\n",
       "      <td>2021-02-26 00:22:48.395</td>\n",
       "      <td>2021-02-26 00:22:59.253</td>\n",
       "      <td>1</td>\n",
       "      <td>False</td>\n",
       "      <td>False</td>\n",
       "    </tr>\n",
       "    <tr>\n",
       "      <th>3</th>\n",
       "      <td>WayPoint3</td>\n",
       "      <td>WayPoint1</td>\n",
       "      <td>WayPoint3_WayPoint1</td>\n",
       "      <td>13.831</td>\n",
       "      <td>2021-02-26 00:23:19.018</td>\n",
       "      <td>2021-02-26 00:23:29.876</td>\n",
       "      <td>2</td>\n",
       "      <td>False</td>\n",
       "      <td>False</td>\n",
       "    </tr>\n",
       "    <tr>\n",
       "      <th>4</th>\n",
       "      <td>WayPoint1</td>\n",
       "      <td>WayPoint11</td>\n",
       "      <td>WayPoint1_WayPoint11</td>\n",
       "      <td>11.756</td>\n",
       "      <td>2021-02-26 00:23:45.344</td>\n",
       "      <td>2021-02-26 00:23:56.202</td>\n",
       "      <td>1</td>\n",
       "      <td>False</td>\n",
       "      <td>False</td>\n",
       "    </tr>\n",
       "  </tbody>\n",
       "</table>\n",
       "</div>"
      ],
      "text/plain": [
       "       origin      target               edge_id  operation_time  \\\n",
       "0   WayPoint4   WayPoint7   WayPoint4_WayPoint7          12.409   \n",
       "1   WayPoint7  WayPoint10  WayPoint7_WayPoint10          13.035   \n",
       "2  WayPoint10   WayPoint3  WayPoint10_WayPoint3          13.041   \n",
       "3   WayPoint3   WayPoint1   WayPoint3_WayPoint1          13.831   \n",
       "4   WayPoint1  WayPoint11  WayPoint1_WayPoint11          11.756   \n",
       "\n",
       "                    start                  finish  n_robots  is_final  \\\n",
       "0 2021-02-26 00:21:53.498 2021-02-26 00:22:04.356         1     False   \n",
       "1 2021-02-26 00:22:21.434 2021-02-26 00:22:32.292         1     False   \n",
       "2 2021-02-26 00:22:48.395 2021-02-26 00:22:59.253         1     False   \n",
       "3 2021-02-26 00:23:19.018 2021-02-26 00:23:29.876         2     False   \n",
       "4 2021-02-26 00:23:45.344 2021-02-26 00:23:56.202         1     False   \n",
       "\n",
       "   is_initial  \n",
       "0       False  \n",
       "1       False  \n",
       "2       False  \n",
       "3       False  \n",
       "4       False  "
      ]
     },
     "execution_count": 16,
     "metadata": {},
     "output_type": "execute_result"
    }
   ],
   "source": [
    "#4) Get rid of is_final = True & n_robots != 1\n",
    "#create is_initial column and get rid of is_initial == True\n",
    "df = filter_data3(df, remove_multimodal = False)\n",
    "df.head()"
   ]
  },
  {
   "cell_type": "code",
   "execution_count": 17,
   "metadata": {},
   "outputs": [
    {
     "name": "stdout",
     "output_type": "stream",
     "text": [
      "done\n"
     ]
    }
   ],
   "source": [
    "#5a) save to excel\n",
    "df.to_excel(\"filtered_blenheim_random.xlsx\")\n",
    "#5b) load from excel\n",
    "df = pd.read_excel(\"filtered_blenheim_random.xlsx\")\n",
    "print(\"done\")"
   ]
  },
  {
   "cell_type": "markdown",
   "metadata": {},
   "source": [
    "# 5) Blenheim targeted"
   ]
  },
  {
   "cell_type": "code",
   "execution_count": 18,
   "metadata": {},
   "outputs": [
    {
     "name": "stdout",
     "output_type": "stream",
     "text": [
      "Time taken: 0.07184004783630371 secs\n",
      "0 iterations 0.0 secs\n",
      "1000 iterations 62.78183054924011 secs\n",
      "2000 iterations 122.61701464653015 secs\n",
      "3000 iterations 180.886061668396 secs\n",
      "4000 iterations 236.86100959777832 secs\n",
      "5000 iterations 295.4899697303772 secs\n",
      "6000 iterations 352.2764024734497 secs\n",
      "7000 iterations 407.0648260116577 secs\n",
      "8000 iterations 459.3584678173065 secs\n",
      "9000 iterations 510.16506361961365 secs\n",
      "10000 iterations 559.3612704277039 secs\n",
      "11000 iterations 605.6231586933136 secs\n",
      "12000 iterations 651.948157787323 secs\n",
      "13000 iterations 694.642550945282 secs\n",
      "14000 iterations 735.4519364833832 secs\n",
      "Time taken 768.4588451385498 secs\n"
     ]
    }
   ],
   "source": [
    "#1) Import data from PyMongo\n",
    "df = get_data(address = \"blenheim_targeted\")\n",
    "#2) Preliminary filtering\n",
    "df = filter_data1(df)\n",
    "#3a) Count n_robots\n",
    "adjacent = get_adjacent(\"blenheim_map.yaml\")\n",
    "df = filter_data5(df, adjacent)"
   ]
  },
  {
   "cell_type": "code",
   "execution_count": 19,
   "metadata": {},
   "outputs": [
    {
     "name": "stdout",
     "output_type": "stream",
     "text": [
      "done\n"
     ]
    }
   ],
   "source": [
    "#3b) save to excel\n",
    "df.to_excel(\"nrobots_blenheim_targeted.xlsx\")\n",
    "#3c) load from excel\n",
    "df = pd.read_excel(\"nrobots_blenheim_targeted.xlsx\")\n",
    "print(\"done\")"
   ]
  },
  {
   "cell_type": "code",
   "execution_count": 20,
   "metadata": {},
   "outputs": [
    {
     "data": {
      "text/html": [
       "<div>\n",
       "<style scoped>\n",
       "    .dataframe tbody tr th:only-of-type {\n",
       "        vertical-align: middle;\n",
       "    }\n",
       "\n",
       "    .dataframe tbody tr th {\n",
       "        vertical-align: top;\n",
       "    }\n",
       "\n",
       "    .dataframe thead th {\n",
       "        text-align: right;\n",
       "    }\n",
       "</style>\n",
       "<table border=\"1\" class=\"dataframe\">\n",
       "  <thead>\n",
       "    <tr style=\"text-align: right;\">\n",
       "      <th></th>\n",
       "      <th>origin</th>\n",
       "      <th>target</th>\n",
       "      <th>edge_id</th>\n",
       "      <th>operation_time</th>\n",
       "      <th>start</th>\n",
       "      <th>finish</th>\n",
       "      <th>n_robots</th>\n",
       "      <th>is_final</th>\n",
       "      <th>is_initial</th>\n",
       "    </tr>\n",
       "  </thead>\n",
       "  <tbody>\n",
       "    <tr>\n",
       "      <th>0</th>\n",
       "      <td>WayPoint4</td>\n",
       "      <td>WayPoint7</td>\n",
       "      <td>WayPoint4_WayPoint7</td>\n",
       "      <td>11.574</td>\n",
       "      <td>2021-02-24 13:25:40.322</td>\n",
       "      <td>2021-02-24 13:25:51.100</td>\n",
       "      <td>1</td>\n",
       "      <td>False</td>\n",
       "      <td>False</td>\n",
       "    </tr>\n",
       "    <tr>\n",
       "      <th>1</th>\n",
       "      <td>WayPoint7</td>\n",
       "      <td>WayPoint10</td>\n",
       "      <td>WayPoint7_WayPoint10</td>\n",
       "      <td>12.874</td>\n",
       "      <td>2021-02-24 13:26:11.520</td>\n",
       "      <td>2021-02-24 13:26:22.298</td>\n",
       "      <td>1</td>\n",
       "      <td>False</td>\n",
       "      <td>False</td>\n",
       "    </tr>\n",
       "    <tr>\n",
       "      <th>2</th>\n",
       "      <td>WayPoint10</td>\n",
       "      <td>WayPoint3</td>\n",
       "      <td>WayPoint10_WayPoint3</td>\n",
       "      <td>13.195</td>\n",
       "      <td>2021-02-24 13:26:42.290</td>\n",
       "      <td>2021-02-24 13:26:53.068</td>\n",
       "      <td>1</td>\n",
       "      <td>False</td>\n",
       "      <td>False</td>\n",
       "    </tr>\n",
       "    <tr>\n",
       "      <th>3</th>\n",
       "      <td>WayPoint3</td>\n",
       "      <td>WayPoint1</td>\n",
       "      <td>WayPoint3_WayPoint1</td>\n",
       "      <td>16.896</td>\n",
       "      <td>2021-02-24 13:27:22.148</td>\n",
       "      <td>2021-02-24 13:27:32.926</td>\n",
       "      <td>2</td>\n",
       "      <td>False</td>\n",
       "      <td>False</td>\n",
       "    </tr>\n",
       "    <tr>\n",
       "      <th>6</th>\n",
       "      <td>WayPoint1</td>\n",
       "      <td>WayPoint3</td>\n",
       "      <td>WayPoint1_WayPoint3</td>\n",
       "      <td>12.965</td>\n",
       "      <td>2021-02-24 13:29:07.287</td>\n",
       "      <td>2021-02-24 13:29:18.065</td>\n",
       "      <td>1</td>\n",
       "      <td>False</td>\n",
       "      <td>False</td>\n",
       "    </tr>\n",
       "  </tbody>\n",
       "</table>\n",
       "</div>"
      ],
      "text/plain": [
       "       origin      target               edge_id  operation_time  \\\n",
       "0   WayPoint4   WayPoint7   WayPoint4_WayPoint7          11.574   \n",
       "1   WayPoint7  WayPoint10  WayPoint7_WayPoint10          12.874   \n",
       "2  WayPoint10   WayPoint3  WayPoint10_WayPoint3          13.195   \n",
       "3   WayPoint3   WayPoint1   WayPoint3_WayPoint1          16.896   \n",
       "6   WayPoint1   WayPoint3   WayPoint1_WayPoint3          12.965   \n",
       "\n",
       "                    start                  finish  n_robots  is_final  \\\n",
       "0 2021-02-24 13:25:40.322 2021-02-24 13:25:51.100         1     False   \n",
       "1 2021-02-24 13:26:11.520 2021-02-24 13:26:22.298         1     False   \n",
       "2 2021-02-24 13:26:42.290 2021-02-24 13:26:53.068         1     False   \n",
       "3 2021-02-24 13:27:22.148 2021-02-24 13:27:32.926         2     False   \n",
       "6 2021-02-24 13:29:07.287 2021-02-24 13:29:18.065         1     False   \n",
       "\n",
       "   is_initial  \n",
       "0       False  \n",
       "1       False  \n",
       "2       False  \n",
       "3       False  \n",
       "6       False  "
      ]
     },
     "execution_count": 20,
     "metadata": {},
     "output_type": "execute_result"
    }
   ],
   "source": [
    "#4) Get rid of is_final = True & n_robots != 1\n",
    "#create is_initial column and get rid of is_initial == True\n",
    "df = filter_data3(df, remove_multimodal = False)\n",
    "df.head()"
   ]
  },
  {
   "cell_type": "code",
   "execution_count": 21,
   "metadata": {},
   "outputs": [
    {
     "name": "stdout",
     "output_type": "stream",
     "text": [
      "done\n"
     ]
    }
   ],
   "source": [
    "#5a) save to excel\n",
    "df.to_excel(\"filtered_blenheim_targeted.xlsx\")\n",
    "#5b) load from excel\n",
    "df = pd.read_excel(\"filtered_blenheim_targeted.xlsx\")\n",
    "print(\"done\")"
   ]
  },
  {
   "cell_type": "code",
   "execution_count": null,
   "metadata": {},
   "outputs": [],
   "source": []
  }
 ],
 "metadata": {
  "kernelspec": {
   "display_name": "Python 3",
   "language": "python",
   "name": "python3"
  },
  "language_info": {
   "codemirror_mode": {
    "name": "ipython",
    "version": 3
   },
   "file_extension": ".py",
   "mimetype": "text/x-python",
   "name": "python",
   "nbconvert_exporter": "python",
   "pygments_lexer": "ipython3",
   "version": "3.8.3"
  }
 },
 "nbformat": 4,
 "nbformat_minor": 4
}
