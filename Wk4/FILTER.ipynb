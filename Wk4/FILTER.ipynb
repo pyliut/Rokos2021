{
 "cells": [
  {
   "cell_type": "markdown",
   "metadata": {},
   "source": [
    "# 1) Setup"
   ]
  },
  {
   "cell_type": "code",
   "execution_count": 2,
   "metadata": {},
   "outputs": [
    {
     "name": "stdout",
     "output_type": "stream",
     "text": [
      "done\n"
     ]
    }
   ],
   "source": [
    "#import libraries\n",
    "import pandas as pd\n",
    "import matplotlib.pyplot as plt\n",
    "from matplotlib import cm\n",
    "\n",
    "import numpy as np\n",
    "import math\n",
    "import scipy as sp\n",
    "from scipy import stats\n",
    "from copy import copy\n",
    "import time\n",
    "\n",
    "import pymongo\n",
    "from pymongo import MongoClient\n",
    "from datetime import datetime\n",
    "from datetime import timedelta\n",
    "print(\"done\")"
   ]
  },
  {
   "cell_type": "code",
   "execution_count": 3,
   "metadata": {},
   "outputs": [
    {
     "name": "stdout",
     "output_type": "stream",
     "text": [
      "done\n"
     ]
    }
   ],
   "source": [
    "#import functions from python files\n",
    "\n",
    "#1) data import & filtering\n",
    "from get_data import *\n",
    "from filter_data1 import *\n",
    "from filter_data2 import *\n",
    "from filter_data3 import *\n",
    "from select_data import *\n",
    "from select_data_edge import *\n",
    "\n",
    "\n",
    "print(\"done\")"
   ]
  },
  {
   "cell_type": "markdown",
   "metadata": {},
   "source": [
    "# 2) Remove edge transitions with >1 robot on an edge"
   ]
  },
  {
   "cell_type": "code",
   "execution_count": 9,
   "metadata": {},
   "outputs": [
    {
     "name": "stdout",
     "output_type": "stream",
     "text": [
      "12360\n"
     ]
    }
   ],
   "source": [
    "#1) Import data from PyMongo\n",
    "df = get_data()\n",
    "#2) Preliminary filtering\n",
    "df = filter_data1(df)\n",
    "print(len(df))"
   ]
  },
  {
   "cell_type": "code",
   "execution_count": 5,
   "metadata": {},
   "outputs": [
    {
     "name": "stdout",
     "output_type": "stream",
     "text": [
      "done 125.4742796421051\n"
     ]
    }
   ],
   "source": [
    "#3a) Count n_robots\n",
    "tic = time.time()\n",
    "df = filter_data2(df)\n",
    "toc = time.time()\n",
    "print(\"done\", toc-tic)"
   ]
  },
  {
   "cell_type": "code",
   "execution_count": 6,
   "metadata": {},
   "outputs": [
    {
     "name": "stdout",
     "output_type": "stream",
     "text": [
      "done\n"
     ]
    }
   ],
   "source": [
    "#3b) save to excel\n",
    "df.to_excel(\"n_robots.xlsx\")\n",
    "print(\"done\")"
   ]
  },
  {
   "cell_type": "code",
   "execution_count": 4,
   "metadata": {},
   "outputs": [
    {
     "name": "stdout",
     "output_type": "stream",
     "text": [
      "done\n"
     ]
    }
   ],
   "source": [
    "#3c) load from excel\n",
    "df = pd.read_excel(\"n_robots.xlsx\")\n",
    "print(\"done\")"
   ]
  },
  {
   "cell_type": "code",
   "execution_count": 5,
   "metadata": {},
   "outputs": [
    {
     "data": {
      "text/html": [
       "<div>\n",
       "<style scoped>\n",
       "    .dataframe tbody tr th:only-of-type {\n",
       "        vertical-align: middle;\n",
       "    }\n",
       "\n",
       "    .dataframe tbody tr th {\n",
       "        vertical-align: top;\n",
       "    }\n",
       "\n",
       "    .dataframe thead th {\n",
       "        text-align: right;\n",
       "    }\n",
       "</style>\n",
       "<table border=\"1\" class=\"dataframe\">\n",
       "  <thead>\n",
       "    <tr style=\"text-align: right;\">\n",
       "      <th></th>\n",
       "      <th>origin</th>\n",
       "      <th>target</th>\n",
       "      <th>edge_id</th>\n",
       "      <th>operation_time</th>\n",
       "      <th>start</th>\n",
       "      <th>finish</th>\n",
       "      <th>n_robots</th>\n",
       "      <th>is_final</th>\n",
       "      <th>is_initial</th>\n",
       "    </tr>\n",
       "  </thead>\n",
       "  <tbody>\n",
       "    <tr>\n",
       "      <th>0</th>\n",
       "      <td>WayPoint110</td>\n",
       "      <td>WayPoint68</td>\n",
       "      <td>WayPoint110_WayPoint68</td>\n",
       "      <td>5.179</td>\n",
       "      <td>2021-02-26 05:09:52.153</td>\n",
       "      <td>2021-02-26 05:09:57.273</td>\n",
       "      <td>1</td>\n",
       "      <td>False</td>\n",
       "      <td>False</td>\n",
       "    </tr>\n",
       "    <tr>\n",
       "      <th>1</th>\n",
       "      <td>WayPoint68</td>\n",
       "      <td>WayPoint75</td>\n",
       "      <td>WayPoint68_WayPoint75</td>\n",
       "      <td>9.396</td>\n",
       "      <td>2021-02-26 05:10:22.306</td>\n",
       "      <td>2021-02-26 05:10:27.426</td>\n",
       "      <td>1</td>\n",
       "      <td>False</td>\n",
       "      <td>False</td>\n",
       "    </tr>\n",
       "    <tr>\n",
       "      <th>2</th>\n",
       "      <td>WayPoint75</td>\n",
       "      <td>WayPoint82</td>\n",
       "      <td>WayPoint75_WayPoint82</td>\n",
       "      <td>10.883</td>\n",
       "      <td>2021-02-26 05:10:57.317</td>\n",
       "      <td>2021-02-26 05:11:02.437</td>\n",
       "      <td>1</td>\n",
       "      <td>False</td>\n",
       "      <td>False</td>\n",
       "    </tr>\n",
       "    <tr>\n",
       "      <th>3</th>\n",
       "      <td>WayPoint82</td>\n",
       "      <td>WayPoint89</td>\n",
       "      <td>WayPoint82_WayPoint89</td>\n",
       "      <td>14.213</td>\n",
       "      <td>2021-02-26 05:11:41.242</td>\n",
       "      <td>2021-02-26 05:11:46.362</td>\n",
       "      <td>1</td>\n",
       "      <td>False</td>\n",
       "      <td>False</td>\n",
       "    </tr>\n",
       "    <tr>\n",
       "      <th>4</th>\n",
       "      <td>WayPoint89</td>\n",
       "      <td>WayPoint90</td>\n",
       "      <td>WayPoint89_WayPoint90</td>\n",
       "      <td>10.272</td>\n",
       "      <td>2021-02-26 05:12:13.089</td>\n",
       "      <td>2021-02-26 05:12:18.209</td>\n",
       "      <td>1</td>\n",
       "      <td>False</td>\n",
       "      <td>False</td>\n",
       "    </tr>\n",
       "  </tbody>\n",
       "</table>\n",
       "</div>"
      ],
      "text/plain": [
       "        origin      target                 edge_id  operation_time  \\\n",
       "0  WayPoint110  WayPoint68  WayPoint110_WayPoint68           5.179   \n",
       "1   WayPoint68  WayPoint75   WayPoint68_WayPoint75           9.396   \n",
       "2   WayPoint75  WayPoint82   WayPoint75_WayPoint82          10.883   \n",
       "3   WayPoint82  WayPoint89   WayPoint82_WayPoint89          14.213   \n",
       "4   WayPoint89  WayPoint90   WayPoint89_WayPoint90          10.272   \n",
       "\n",
       "                    start                  finish  n_robots  is_final  \\\n",
       "0 2021-02-26 05:09:52.153 2021-02-26 05:09:57.273         1     False   \n",
       "1 2021-02-26 05:10:22.306 2021-02-26 05:10:27.426         1     False   \n",
       "2 2021-02-26 05:10:57.317 2021-02-26 05:11:02.437         1     False   \n",
       "3 2021-02-26 05:11:41.242 2021-02-26 05:11:46.362         1     False   \n",
       "4 2021-02-26 05:12:13.089 2021-02-26 05:12:18.209         1     False   \n",
       "\n",
       "   is_initial  \n",
       "0       False  \n",
       "1       False  \n",
       "2       False  \n",
       "3       False  \n",
       "4       False  "
      ]
     },
     "execution_count": 5,
     "metadata": {},
     "output_type": "execute_result"
    }
   ],
   "source": [
    "#4) Get rid of is_final = True & n_robots != 1\n",
    "#create is_initial column and get rid of is_initial == True\n",
    "df = filter_data3(df)\n",
    "df.head()"
   ]
  },
  {
   "cell_type": "code",
   "execution_count": 6,
   "metadata": {},
   "outputs": [
    {
     "name": "stdout",
     "output_type": "stream",
     "text": [
      "done\n"
     ]
    }
   ],
   "source": [
    "#5a) save to excel\n",
    "df.to_excel(\"filtered_data.xlsx\")\n",
    "print(\"done\")"
   ]
  },
  {
   "cell_type": "code",
   "execution_count": 8,
   "metadata": {},
   "outputs": [
    {
     "name": "stdout",
     "output_type": "stream",
     "text": [
      "done\n"
     ]
    }
   ],
   "source": [
    "#5b) load from excel\n",
    "df = pd.read_excel(\"filtered_data.xlsx\")\n",
    "print(\"done\")"
   ]
  },
  {
   "cell_type": "code",
   "execution_count": null,
   "metadata": {},
   "outputs": [],
   "source": []
  }
 ],
 "metadata": {
  "kernelspec": {
   "display_name": "Python 3",
   "language": "python",
   "name": "python3"
  },
  "language_info": {
   "codemirror_mode": {
    "name": "ipython",
    "version": 3
   },
   "file_extension": ".py",
   "mimetype": "text/x-python",
   "name": "python",
   "nbconvert_exporter": "python",
   "pygments_lexer": "ipython3",
   "version": "3.8.3"
  }
 },
 "nbformat": 4,
 "nbformat_minor": 4
}
