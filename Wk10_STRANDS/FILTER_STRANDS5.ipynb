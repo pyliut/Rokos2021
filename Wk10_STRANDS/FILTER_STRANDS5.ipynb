{
 "cells": [
  {
   "cell_type": "markdown",
   "metadata": {},
   "source": [
    "# 1) Setup"
   ]
  },
  {
   "cell_type": "code",
   "execution_count": 2,
   "metadata": {},
   "outputs": [
    {
     "name": "stdout",
     "output_type": "stream",
     "text": [
      "done\n"
     ]
    }
   ],
   "source": [
    "#import libraries\n",
    "import pandas as pd\n",
    "import matplotlib.pyplot as plt\n",
    "from matplotlib import cm\n",
    "\n",
    "import numpy as np\n",
    "import math\n",
    "import scipy as sp\n",
    "from scipy import stats\n",
    "from copy import copy\n",
    "import time\n",
    "\n",
    "import pymongo\n",
    "from pymongo import MongoClient\n",
    "from datetime import datetime\n",
    "from datetime import timedelta\n",
    "print(\"done\")"
   ]
  },
  {
   "cell_type": "code",
   "execution_count": 3,
   "metadata": {},
   "outputs": [
    {
     "name": "stdout",
     "output_type": "stream",
     "text": [
      "done\n"
     ]
    }
   ],
   "source": [
    "#import functions from python files\n",
    "\n",
    "#1) data import & filtering (AAF, TSC, LABS)\n",
    "from get_data_strands import *\n",
    "from get_adjacent import *\n",
    "from get_valid1 import *\n",
    "from get_times import *\n",
    "from get_congestion_strands import *\n",
    "from get_valid2 import *\n",
    "from get_length import *\n",
    "\n",
    "from select_data import *\n",
    "from select_data_edge import *\n",
    "\n",
    "from underscore_prefix import *\n",
    "from underscore_suffix import *\n",
    "\n",
    "# 2) Walmart & Blenheim\n",
    "from get_data import *\n",
    "from get_data_yaml import *\n",
    "from get_congestion import *\n",
    "from get_valid import *\n",
    "from get_context import *\n",
    "\n",
    "print(\"done\")"
   ]
  },
  {
   "cell_type": "markdown",
   "metadata": {},
   "source": [
    "# 2) AAF"
   ]
  },
  {
   "cell_type": "markdown",
   "metadata": {},
   "source": [
    "## 2a) AAF Y4"
   ]
  },
  {
   "cell_type": "code",
   "execution_count": 4,
   "metadata": {},
   "outputs": [
    {
     "name": "stdout",
     "output_type": "stream",
     "text": [
      "Time taken (get_adjacent): 0.7536811828613281 secs\n",
      "Time taken (get_length): 0.7350988388061523 secs\n",
      "23044\n",
      "Time taken (get_adjacent): 0.6098117828369141 secs\n",
      "23044\n",
      "Time taken (get_times): 21.687305688858032 secs\n",
      "0 iterations in 0.0009965896606445312 seconds\n",
      "5000 iterations in 26.51748752593994 seconds\n",
      "10000 iterations in 52.70743536949158 seconds\n",
      "15000 iterations in 79.38232564926147 seconds\n",
      "20000 iterations in 106.26281023025513 seconds\n",
      "Time taken (get_congestion): 122.78819108009338 seconds\n",
      "Unimodal:  22581\n",
      "Multimodal:  463\n"
     ]
    },
    {
     "data": {
      "text/html": [
       "<div>\n",
       "<style scoped>\n",
       "    .dataframe tbody tr th:only-of-type {\n",
       "        vertical-align: middle;\n",
       "    }\n",
       "\n",
       "    .dataframe tbody tr th {\n",
       "        vertical-align: top;\n",
       "    }\n",
       "\n",
       "    .dataframe thead th {\n",
       "        text-align: right;\n",
       "    }\n",
       "</style>\n",
       "<table border=\"1\" class=\"dataframe\">\n",
       "  <thead>\n",
       "    <tr style=\"text-align: right;\">\n",
       "      <th></th>\n",
       "      <th>origin</th>\n",
       "      <th>target</th>\n",
       "      <th>edge_id</th>\n",
       "      <th>time_to_waypoint</th>\n",
       "      <th>operation_time</th>\n",
       "    </tr>\n",
       "  </thead>\n",
       "  <tbody>\n",
       "    <tr>\n",
       "      <th>0</th>\n",
       "      <td>Station</td>\n",
       "      <td>ChargingPoint</td>\n",
       "      <td>Station_ChargingPoint</td>\n",
       "      <td>0.624420</td>\n",
       "      <td>19.893930</td>\n",
       "    </tr>\n",
       "    <tr>\n",
       "      <th>1</th>\n",
       "      <td>ChargingPoint</td>\n",
       "      <td>Station</td>\n",
       "      <td>ChargingPoint_Station</td>\n",
       "      <td>17.028488</td>\n",
       "      <td>23.572407</td>\n",
       "    </tr>\n",
       "  </tbody>\n",
       "</table>\n",
       "</div>"
      ],
      "text/plain": [
       "          origin         target                edge_id  time_to_waypoint  \\\n",
       "0        Station  ChargingPoint  Station_ChargingPoint          0.624420   \n",
       "1  ChargingPoint        Station  ChargingPoint_Station         17.028488   \n",
       "\n",
       "   operation_time  \n",
       "0       19.893930  \n",
       "1       23.572407  "
      ]
     },
     "execution_count": 4,
     "metadata": {},
     "output_type": "execute_result"
    }
   ],
   "source": [
    "#1) Import data from PyMongo\n",
    "df = get_data_strands(address = \"aaf_y4\")\n",
    "df = df[df[\"edge_id\"] != \"WayPoint28_Feuerloescher\"]\n",
    "adjacent = get_adjacent(\"aaf_map.yaml\")\n",
    "nodes = list(adjacent.keys())\n",
    "length = get_length(\"aaf_map.yaml\")\n",
    "edges = list(length.keys())\n",
    "df = df.loc[df[\"origin\"].isin(nodes)]\n",
    "df = df.loc[df[\"target\"].isin(nodes)]\n",
    "df = df.loc[df[\"edge_id\"].isin(edges)]\n",
    "print(len(df))\n",
    "\n",
    "#2) Remove data with invalid origin/target\n",
    "adjacent = get_adjacent(\"aaf_map.yaml\")\n",
    "df = get_valid1(df, adjacent)\n",
    "print(len(df))\n",
    "\n",
    "#3) Change format of datetimes in dataframe to datetime.datetime object\n",
    "df = get_times(df)\n",
    "\n",
    "#4) Count congestion level\n",
    "df = get_congestion_strands(df, adjacent)\n",
    "print(\"Unimodal: \", len(df[df[\"n_robots\"] == 1]))\n",
    "print(\"Multimodal: \", len(df[df[\"n_robots\"] != 1]))\n",
    "\n",
    "#5) remove final, unsuccessful, multimodal runs\n",
    "df_aaf = get_valid2(df)\n",
    "df_aaf.head(2)"
   ]
  },
  {
   "cell_type": "code",
   "execution_count": 5,
   "metadata": {},
   "outputs": [
    {
     "name": "stdout",
     "output_type": "stream",
     "text": [
      "done\n"
     ]
    }
   ],
   "source": [
    "#6) save to excel\n",
    "df_aaf.to_excel(\"data_aaf_y4.xlsx\")\n",
    "print(\"done\")"
   ]
  },
  {
   "cell_type": "code",
   "execution_count": 6,
   "metadata": {},
   "outputs": [
    {
     "data": {
      "text/html": [
       "<div>\n",
       "<style scoped>\n",
       "    .dataframe tbody tr th:only-of-type {\n",
       "        vertical-align: middle;\n",
       "    }\n",
       "\n",
       "    .dataframe tbody tr th {\n",
       "        vertical-align: top;\n",
       "    }\n",
       "\n",
       "    .dataframe thead th {\n",
       "        text-align: right;\n",
       "    }\n",
       "</style>\n",
       "<table border=\"1\" class=\"dataframe\">\n",
       "  <thead>\n",
       "    <tr style=\"text-align: right;\">\n",
       "      <th></th>\n",
       "      <th>origin</th>\n",
       "      <th>target</th>\n",
       "      <th>edge_id</th>\n",
       "      <th>time_to_waypoint</th>\n",
       "      <th>operation_time</th>\n",
       "    </tr>\n",
       "  </thead>\n",
       "  <tbody>\n",
       "    <tr>\n",
       "      <th>0</th>\n",
       "      <td>Station</td>\n",
       "      <td>ChargingPoint</td>\n",
       "      <td>Station_ChargingPoint</td>\n",
       "      <td>0.624420</td>\n",
       "      <td>19.893930</td>\n",
       "    </tr>\n",
       "    <tr>\n",
       "      <th>1</th>\n",
       "      <td>ChargingPoint</td>\n",
       "      <td>Station</td>\n",
       "      <td>ChargingPoint_Station</td>\n",
       "      <td>17.028488</td>\n",
       "      <td>23.572407</td>\n",
       "    </tr>\n",
       "  </tbody>\n",
       "</table>\n",
       "</div>"
      ],
      "text/plain": [
       "          origin         target                edge_id  time_to_waypoint  \\\n",
       "0        Station  ChargingPoint  Station_ChargingPoint          0.624420   \n",
       "1  ChargingPoint        Station  ChargingPoint_Station         17.028488   \n",
       "\n",
       "   operation_time  \n",
       "0       19.893930  \n",
       "1       23.572407  "
      ]
     },
     "execution_count": 6,
     "metadata": {},
     "output_type": "execute_result"
    }
   ],
   "source": [
    "# retrieve data\n",
    "df_aaf = pd.read_excel(\"data_aaf_y4.xlsx\")\n",
    "df_aaf = df_aaf[[\"origin\", \"target\", \"edge_id\", \"time_to_waypoint\", \"operation_time\"]]\n",
    "df_aaf.head(2)"
   ]
  },
  {
   "cell_type": "markdown",
   "metadata": {},
   "source": [
    "## 2b) AAF Y3"
   ]
  },
  {
   "cell_type": "code",
   "execution_count": 7,
   "metadata": {},
   "outputs": [
    {
     "name": "stdout",
     "output_type": "stream",
     "text": [
      "Time taken (get_adjacent): 0.6597387790679932 secs\n",
      "Time taken (get_length): 0.7350325584411621 secs\n",
      "18142\n",
      "18142\n",
      "Time taken (get_times): 12.67652940750122 secs\n",
      "0 iterations in 0.0 seconds\n",
      "5000 iterations in 23.3138370513916 seconds\n",
      "10000 iterations in 47.93099546432495 seconds\n",
      "15000 iterations in 71.80394101142883 seconds\n",
      "Time taken (get_congestion): 86.7775342464447 seconds\n",
      "Unimodal:  17867\n",
      "Multimodal:  275\n"
     ]
    },
    {
     "data": {
      "text/html": [
       "<div>\n",
       "<style scoped>\n",
       "    .dataframe tbody tr th:only-of-type {\n",
       "        vertical-align: middle;\n",
       "    }\n",
       "\n",
       "    .dataframe tbody tr th {\n",
       "        vertical-align: top;\n",
       "    }\n",
       "\n",
       "    .dataframe thead th {\n",
       "        text-align: right;\n",
       "    }\n",
       "</style>\n",
       "<table border=\"1\" class=\"dataframe\">\n",
       "  <thead>\n",
       "    <tr style=\"text-align: right;\">\n",
       "      <th></th>\n",
       "      <th>origin</th>\n",
       "      <th>target</th>\n",
       "      <th>edge_id</th>\n",
       "      <th>time_to_waypoint</th>\n",
       "      <th>operation_time</th>\n",
       "    </tr>\n",
       "  </thead>\n",
       "  <tbody>\n",
       "    <tr>\n",
       "      <th>1</th>\n",
       "      <td>Station</td>\n",
       "      <td>WayPoint91</td>\n",
       "      <td>Station_WayPoint91</td>\n",
       "      <td>0.071773</td>\n",
       "      <td>4.097293</td>\n",
       "    </tr>\n",
       "    <tr>\n",
       "      <th>2</th>\n",
       "      <td>WayPoint91</td>\n",
       "      <td>WayPoint8</td>\n",
       "      <td>WayPoint91_WayPoint8</td>\n",
       "      <td>5.784959</td>\n",
       "      <td>13.085477</td>\n",
       "    </tr>\n",
       "  </tbody>\n",
       "</table>\n",
       "</div>"
      ],
      "text/plain": [
       "       origin      target               edge_id  time_to_waypoint  \\\n",
       "1     Station  WayPoint91    Station_WayPoint91          0.071773   \n",
       "2  WayPoint91   WayPoint8  WayPoint91_WayPoint8          5.784959   \n",
       "\n",
       "   operation_time  \n",
       "1        4.097293  \n",
       "2       13.085477  "
      ]
     },
     "execution_count": 7,
     "metadata": {},
     "output_type": "execute_result"
    }
   ],
   "source": [
    "#1) Import data from PyMongo\n",
    "df = get_data_strands(address = \"aaf_y3\")\n",
    "df = df[df[\"edge_id\"] != \"WayPoint28_Feuerloescher\"]\n",
    "adjacent = get_adjacent(\"aaf_map.yaml\")\n",
    "nodes = list(adjacent.keys())\n",
    "length = get_length(\"aaf_map.yaml\")\n",
    "edges = list(length.keys())\n",
    "df = df.loc[df[\"origin\"].isin(nodes)]\n",
    "df = df.loc[df[\"target\"].isin(nodes)]\n",
    "df = df.loc[df[\"edge_id\"].isin(edges)]\n",
    "print(len(df))\n",
    "\n",
    "#2) Remove data with invalid origin/target\n",
    "#adjacent = get_adjacent(\"aaf_map.yaml\")\n",
    "df = get_valid1(df, adjacent)\n",
    "print(len(df))\n",
    "\n",
    "#3) Change format of datetimes in dataframe to datetime.datetime object\n",
    "df = get_times(df)\n",
    "\n",
    "#4) Count congestion level\n",
    "df = get_congestion_strands(df, adjacent)\n",
    "print(\"Unimodal: \", len(df[df[\"n_robots\"] == 1]))\n",
    "print(\"Multimodal: \", len(df[df[\"n_robots\"] != 1]))\n",
    "\n",
    "#5) remove final, unsuccessful, multimodal runs\n",
    "df_aaf = get_valid2(df)\n",
    "df_aaf.head(2)"
   ]
  },
  {
   "cell_type": "code",
   "execution_count": 8,
   "metadata": {},
   "outputs": [
    {
     "name": "stdout",
     "output_type": "stream",
     "text": [
      "done\n"
     ]
    }
   ],
   "source": [
    "#6) save to excel\n",
    "df_aaf.to_excel(\"data_aaf_y3.xlsx\")\n",
    "print(\"done\")"
   ]
  },
  {
   "cell_type": "code",
   "execution_count": 9,
   "metadata": {},
   "outputs": [
    {
     "data": {
      "text/html": [
       "<div>\n",
       "<style scoped>\n",
       "    .dataframe tbody tr th:only-of-type {\n",
       "        vertical-align: middle;\n",
       "    }\n",
       "\n",
       "    .dataframe tbody tr th {\n",
       "        vertical-align: top;\n",
       "    }\n",
       "\n",
       "    .dataframe thead th {\n",
       "        text-align: right;\n",
       "    }\n",
       "</style>\n",
       "<table border=\"1\" class=\"dataframe\">\n",
       "  <thead>\n",
       "    <tr style=\"text-align: right;\">\n",
       "      <th></th>\n",
       "      <th>origin</th>\n",
       "      <th>target</th>\n",
       "      <th>edge_id</th>\n",
       "      <th>time_to_waypoint</th>\n",
       "      <th>operation_time</th>\n",
       "    </tr>\n",
       "  </thead>\n",
       "  <tbody>\n",
       "    <tr>\n",
       "      <th>0</th>\n",
       "      <td>Station</td>\n",
       "      <td>WayPoint91</td>\n",
       "      <td>Station_WayPoint91</td>\n",
       "      <td>0.071773</td>\n",
       "      <td>4.097293</td>\n",
       "    </tr>\n",
       "    <tr>\n",
       "      <th>1</th>\n",
       "      <td>WayPoint91</td>\n",
       "      <td>WayPoint8</td>\n",
       "      <td>WayPoint91_WayPoint8</td>\n",
       "      <td>5.784959</td>\n",
       "      <td>13.085477</td>\n",
       "    </tr>\n",
       "  </tbody>\n",
       "</table>\n",
       "</div>"
      ],
      "text/plain": [
       "       origin      target               edge_id  time_to_waypoint  \\\n",
       "0     Station  WayPoint91    Station_WayPoint91          0.071773   \n",
       "1  WayPoint91   WayPoint8  WayPoint91_WayPoint8          5.784959   \n",
       "\n",
       "   operation_time  \n",
       "0        4.097293  \n",
       "1       13.085477  "
      ]
     },
     "execution_count": 9,
     "metadata": {},
     "output_type": "execute_result"
    }
   ],
   "source": [
    "# retrieve data\n",
    "df_aaf = pd.read_excel(\"data_aaf_y3.xlsx\")\n",
    "df_aaf = df_aaf[[\"origin\", \"target\", \"edge_id\", \"time_to_waypoint\", \"operation_time\"]]\n",
    "df_aaf.head(2)"
   ]
  },
  {
   "cell_type": "markdown",
   "metadata": {},
   "source": [
    "## 2c) AAF Y2"
   ]
  },
  {
   "cell_type": "code",
   "execution_count": 10,
   "metadata": {},
   "outputs": [
    {
     "name": "stdout",
     "output_type": "stream",
     "text": [
      "Time taken (get_adjacent): 0.6606223583221436 secs\n",
      "Time taken (get_length): 0.7240626811981201 secs\n",
      "5446\n",
      "5446\n",
      "Time taken (get_times): 2.2354207038879395 secs\n",
      "0 iterations in 0.0010304450988769531 seconds\n",
      "5000 iterations in 9.984898567199707 seconds\n",
      "Time taken (get_congestion): 10.929473638534546 seconds\n",
      "Unimodal:  5409\n",
      "Multimodal:  37\n"
     ]
    },
    {
     "data": {
      "text/html": [
       "<div>\n",
       "<style scoped>\n",
       "    .dataframe tbody tr th:only-of-type {\n",
       "        vertical-align: middle;\n",
       "    }\n",
       "\n",
       "    .dataframe tbody tr th {\n",
       "        vertical-align: top;\n",
       "    }\n",
       "\n",
       "    .dataframe thead th {\n",
       "        text-align: right;\n",
       "    }\n",
       "</style>\n",
       "<table border=\"1\" class=\"dataframe\">\n",
       "  <thead>\n",
       "    <tr style=\"text-align: right;\">\n",
       "      <th></th>\n",
       "      <th>origin</th>\n",
       "      <th>target</th>\n",
       "      <th>edge_id</th>\n",
       "      <th>time_to_waypoint</th>\n",
       "      <th>operation_time</th>\n",
       "    </tr>\n",
       "  </thead>\n",
       "  <tbody>\n",
       "    <tr>\n",
       "      <th>1</th>\n",
       "      <td>Station</td>\n",
       "      <td>WayPoint2</td>\n",
       "      <td>Station_WayPoint2</td>\n",
       "      <td>0.328289</td>\n",
       "      <td>2.676215</td>\n",
       "    </tr>\n",
       "    <tr>\n",
       "      <th>2</th>\n",
       "      <td>WayPoint2</td>\n",
       "      <td>WayPoint86</td>\n",
       "      <td>WayPoint2_WayPoint86</td>\n",
       "      <td>0.236417</td>\n",
       "      <td>9.111409</td>\n",
       "    </tr>\n",
       "  </tbody>\n",
       "</table>\n",
       "</div>"
      ],
      "text/plain": [
       "      origin      target               edge_id  time_to_waypoint  \\\n",
       "1    Station   WayPoint2     Station_WayPoint2          0.328289   \n",
       "2  WayPoint2  WayPoint86  WayPoint2_WayPoint86          0.236417   \n",
       "\n",
       "   operation_time  \n",
       "1        2.676215  \n",
       "2        9.111409  "
      ]
     },
     "execution_count": 10,
     "metadata": {},
     "output_type": "execute_result"
    }
   ],
   "source": [
    "#1) Import data from PyMongo\n",
    "df = get_data_strands(address = \"aaf_y2\")\n",
    "df = df[df[\"edge_id\"] != \"Wp87_WP2\"]\n",
    "df = df[df[\"edge_id\"] != \"WayPoint28_Feuerloescher\"]\n",
    "\n",
    "adjacent = get_adjacent(\"aaf_map.yaml\")\n",
    "nodes = list(adjacent.keys())\n",
    "length = get_length(\"aaf_map.yaml\")\n",
    "edges = list(length.keys())\n",
    "df = df.loc[df[\"origin\"].isin(nodes)]\n",
    "df = df.loc[df[\"target\"].isin(nodes)]\n",
    "df = df.loc[df[\"edge_id\"].isin(edges)]\n",
    "print(len(df))\n",
    "\n",
    "#2) Remove data with invalid origin/target\n",
    "#adjacent = get_adjacent(\"aaf_map.yaml\")\n",
    "df = get_valid1(df, adjacent)\n",
    "print(len(df))\n",
    "\n",
    "#3) Change format of datetimes in dataframe to datetime.datetime object\n",
    "df = get_times(df)\n",
    "\n",
    "#4) Count congestion level\n",
    "df = get_congestion_strands(df, adjacent)\n",
    "print(\"Unimodal: \", len(df[df[\"n_robots\"] == 1]))\n",
    "print(\"Multimodal: \", len(df[df[\"n_robots\"] != 1]))\n",
    "\n",
    "#5) remove final, unsuccessful, multimodal runs\n",
    "df_aaf = get_valid2(df)\n",
    "df_aaf.head(2)"
   ]
  },
  {
   "cell_type": "code",
   "execution_count": 11,
   "metadata": {},
   "outputs": [
    {
     "name": "stdout",
     "output_type": "stream",
     "text": [
      "done\n"
     ]
    }
   ],
   "source": [
    "#6) save to excel\n",
    "df_aaf.to_excel(\"data_aaf_y2.xlsx\")\n",
    "print(\"done\")"
   ]
  },
  {
   "cell_type": "code",
   "execution_count": 12,
   "metadata": {},
   "outputs": [
    {
     "data": {
      "text/html": [
       "<div>\n",
       "<style scoped>\n",
       "    .dataframe tbody tr th:only-of-type {\n",
       "        vertical-align: middle;\n",
       "    }\n",
       "\n",
       "    .dataframe tbody tr th {\n",
       "        vertical-align: top;\n",
       "    }\n",
       "\n",
       "    .dataframe thead th {\n",
       "        text-align: right;\n",
       "    }\n",
       "</style>\n",
       "<table border=\"1\" class=\"dataframe\">\n",
       "  <thead>\n",
       "    <tr style=\"text-align: right;\">\n",
       "      <th></th>\n",
       "      <th>origin</th>\n",
       "      <th>target</th>\n",
       "      <th>edge_id</th>\n",
       "      <th>time_to_waypoint</th>\n",
       "      <th>operation_time</th>\n",
       "    </tr>\n",
       "  </thead>\n",
       "  <tbody>\n",
       "    <tr>\n",
       "      <th>0</th>\n",
       "      <td>Station</td>\n",
       "      <td>WayPoint2</td>\n",
       "      <td>Station_WayPoint2</td>\n",
       "      <td>0.328289</td>\n",
       "      <td>2.676215</td>\n",
       "    </tr>\n",
       "    <tr>\n",
       "      <th>1</th>\n",
       "      <td>WayPoint2</td>\n",
       "      <td>WayPoint86</td>\n",
       "      <td>WayPoint2_WayPoint86</td>\n",
       "      <td>0.236417</td>\n",
       "      <td>9.111409</td>\n",
       "    </tr>\n",
       "  </tbody>\n",
       "</table>\n",
       "</div>"
      ],
      "text/plain": [
       "      origin      target               edge_id  time_to_waypoint  \\\n",
       "0    Station   WayPoint2     Station_WayPoint2          0.328289   \n",
       "1  WayPoint2  WayPoint86  WayPoint2_WayPoint86          0.236417   \n",
       "\n",
       "   operation_time  \n",
       "0        2.676215  \n",
       "1        9.111409  "
      ]
     },
     "execution_count": 12,
     "metadata": {},
     "output_type": "execute_result"
    }
   ],
   "source": [
    "# retrieve data\n",
    "df_aaf = pd.read_excel(\"data_aaf_y2.xlsx\")\n",
    "df_aaf = df_aaf[[\"origin\", \"target\", \"edge_id\", \"time_to_waypoint\", \"operation_time\"]]\n",
    "df_aaf.head(2)"
   ]
  },
  {
   "cell_type": "markdown",
   "metadata": {},
   "source": [
    "# 3) TSC"
   ]
  },
  {
   "cell_type": "markdown",
   "metadata": {},
   "source": [
    "## 3a) TSC y3"
   ]
  },
  {
   "cell_type": "code",
   "execution_count": 13,
   "metadata": {},
   "outputs": [
    {
     "name": "stdout",
     "output_type": "stream",
     "text": [
      "Time taken (get_adjacent): 0.6370594501495361 secs\n",
      "Time taken (get_length): 0.7142281532287598 secs\n",
      "6828\n",
      "6828\n",
      "Time taken (get_times): 3.6583423614501953 secs\n",
      "0 iterations in 0.00099945068359375 seconds\n",
      "5000 iterations in 12.357964754104614 seconds\n",
      "Time taken (get_congestion): 16.64172124862671 seconds\n",
      "Unimodal:  6397\n",
      "Multimodal:  431\n"
     ]
    },
    {
     "data": {
      "text/html": [
       "<div>\n",
       "<style scoped>\n",
       "    .dataframe tbody tr th:only-of-type {\n",
       "        vertical-align: middle;\n",
       "    }\n",
       "\n",
       "    .dataframe tbody tr th {\n",
       "        vertical-align: top;\n",
       "    }\n",
       "\n",
       "    .dataframe thead th {\n",
       "        text-align: right;\n",
       "    }\n",
       "</style>\n",
       "<table border=\"1\" class=\"dataframe\">\n",
       "  <thead>\n",
       "    <tr style=\"text-align: right;\">\n",
       "      <th></th>\n",
       "      <th>origin</th>\n",
       "      <th>target</th>\n",
       "      <th>edge_id</th>\n",
       "      <th>time_to_waypoint</th>\n",
       "      <th>operation_time</th>\n",
       "    </tr>\n",
       "  </thead>\n",
       "  <tbody>\n",
       "    <tr>\n",
       "      <th>0</th>\n",
       "      <td>ChargingPoint</td>\n",
       "      <td>Station</td>\n",
       "      <td>ChargingPoint_Station</td>\n",
       "      <td>26.468006</td>\n",
       "      <td>38.898573</td>\n",
       "    </tr>\n",
       "    <tr>\n",
       "      <th>2</th>\n",
       "      <td>Station</td>\n",
       "      <td>ChargingPoint</td>\n",
       "      <td>Station_ChargingPoint</td>\n",
       "      <td>0.413475</td>\n",
       "      <td>68.313145</td>\n",
       "    </tr>\n",
       "  </tbody>\n",
       "</table>\n",
       "</div>"
      ],
      "text/plain": [
       "          origin         target                edge_id  time_to_waypoint  \\\n",
       "0  ChargingPoint        Station  ChargingPoint_Station         26.468006   \n",
       "2        Station  ChargingPoint  Station_ChargingPoint          0.413475   \n",
       "\n",
       "   operation_time  \n",
       "0       38.898573  \n",
       "2       68.313145  "
      ]
     },
     "execution_count": 13,
     "metadata": {},
     "output_type": "execute_result"
    }
   ],
   "source": [
    "#1) Import data from PyMongo\n",
    "df = get_data_strands(address = \"tsc_y3\")\n",
    "\n",
    "adjacent = get_adjacent(\"tsc_map.yaml\")\n",
    "nodes = list(adjacent.keys())\n",
    "length = get_length(\"tsc_map.yaml\")\n",
    "edges = list(length.keys())\n",
    "df = df.loc[df[\"origin\"].isin(nodes)]\n",
    "df = df.loc[df[\"target\"].isin(nodes)]\n",
    "df = df.loc[df[\"edge_id\"].isin(edges)]\n",
    "print(len(df))\n",
    "\n",
    "#2) Remove data with invalid origin/target\n",
    "#adjacent = get_adjacent(\"aaf_map.yaml\")\n",
    "df = get_valid1(df, adjacent)\n",
    "print(len(df))\n",
    "\n",
    "#3) Change format of datetimes in dataframe to datetime.datetime object\n",
    "df = get_times(df)\n",
    "\n",
    "#4) Count congestion level\n",
    "df = get_congestion_strands(df, adjacent)\n",
    "print(\"Unimodal: \", len(df[df[\"n_robots\"] == 1]))\n",
    "print(\"Multimodal: \", len(df[df[\"n_robots\"] != 1]))\n",
    "\n",
    "#5) remove final, unsuccessful, multimodal runs\n",
    "df_tsc = get_valid2(df)\n",
    "df_tsc.head(2)"
   ]
  },
  {
   "cell_type": "code",
   "execution_count": 14,
   "metadata": {},
   "outputs": [
    {
     "name": "stdout",
     "output_type": "stream",
     "text": [
      "done\n"
     ]
    }
   ],
   "source": [
    "#6) save to excel\n",
    "df_tsc.to_excel(\"data_tsc_y3.xlsx\")\n",
    "print(\"done\")"
   ]
  },
  {
   "cell_type": "code",
   "execution_count": 15,
   "metadata": {},
   "outputs": [
    {
     "data": {
      "text/html": [
       "<div>\n",
       "<style scoped>\n",
       "    .dataframe tbody tr th:only-of-type {\n",
       "        vertical-align: middle;\n",
       "    }\n",
       "\n",
       "    .dataframe tbody tr th {\n",
       "        vertical-align: top;\n",
       "    }\n",
       "\n",
       "    .dataframe thead th {\n",
       "        text-align: right;\n",
       "    }\n",
       "</style>\n",
       "<table border=\"1\" class=\"dataframe\">\n",
       "  <thead>\n",
       "    <tr style=\"text-align: right;\">\n",
       "      <th></th>\n",
       "      <th>origin</th>\n",
       "      <th>target</th>\n",
       "      <th>edge_id</th>\n",
       "      <th>time_to_waypoint</th>\n",
       "      <th>operation_time</th>\n",
       "    </tr>\n",
       "  </thead>\n",
       "  <tbody>\n",
       "    <tr>\n",
       "      <th>0</th>\n",
       "      <td>ChargingPoint</td>\n",
       "      <td>Station</td>\n",
       "      <td>ChargingPoint_Station</td>\n",
       "      <td>26.468006</td>\n",
       "      <td>38.898573</td>\n",
       "    </tr>\n",
       "    <tr>\n",
       "      <th>1</th>\n",
       "      <td>Station</td>\n",
       "      <td>ChargingPoint</td>\n",
       "      <td>Station_ChargingPoint</td>\n",
       "      <td>0.413475</td>\n",
       "      <td>68.313145</td>\n",
       "    </tr>\n",
       "  </tbody>\n",
       "</table>\n",
       "</div>"
      ],
      "text/plain": [
       "          origin         target                edge_id  time_to_waypoint  \\\n",
       "0  ChargingPoint        Station  ChargingPoint_Station         26.468006   \n",
       "1        Station  ChargingPoint  Station_ChargingPoint          0.413475   \n",
       "\n",
       "   operation_time  \n",
       "0       38.898573  \n",
       "1       68.313145  "
      ]
     },
     "execution_count": 15,
     "metadata": {},
     "output_type": "execute_result"
    }
   ],
   "source": [
    "# retrieve data\n",
    "df_tsc = pd.read_excel(\"data_tsc_y3.xlsx\")\n",
    "df_tsc = df_tsc[[\"origin\", \"target\", \"edge_id\", \"time_to_waypoint\", \"operation_time\"]]\n",
    "df_tsc.head(2)"
   ]
  },
  {
   "cell_type": "markdown",
   "metadata": {},
   "source": [
    "## 3b) TSC y4 - Betty"
   ]
  },
  {
   "cell_type": "code",
   "execution_count": 16,
   "metadata": {},
   "outputs": [
    {
     "name": "stdout",
     "output_type": "stream",
     "text": [
      "Time taken (get_adjacent): 0.6338837146759033 secs\n",
      "Time taken (get_length): 0.7181215286254883 secs\n",
      "3328\n",
      "3328\n",
      "Time taken (get_times): 1.2542166709899902 secs\n",
      "0 iterations in 0.0 seconds\n",
      "Time taken (get_congestion): 5.3084352016448975 seconds\n",
      "Unimodal:  3323\n",
      "Multimodal:  5\n"
     ]
    },
    {
     "data": {
      "text/html": [
       "<div>\n",
       "<style scoped>\n",
       "    .dataframe tbody tr th:only-of-type {\n",
       "        vertical-align: middle;\n",
       "    }\n",
       "\n",
       "    .dataframe tbody tr th {\n",
       "        vertical-align: top;\n",
       "    }\n",
       "\n",
       "    .dataframe thead th {\n",
       "        text-align: right;\n",
       "    }\n",
       "</style>\n",
       "<table border=\"1\" class=\"dataframe\">\n",
       "  <thead>\n",
       "    <tr style=\"text-align: right;\">\n",
       "      <th></th>\n",
       "      <th>origin</th>\n",
       "      <th>target</th>\n",
       "      <th>edge_id</th>\n",
       "      <th>time_to_waypoint</th>\n",
       "      <th>operation_time</th>\n",
       "    </tr>\n",
       "  </thead>\n",
       "  <tbody>\n",
       "    <tr>\n",
       "      <th>0</th>\n",
       "      <td>Station1</td>\n",
       "      <td>SmallKitchen</td>\n",
       "      <td>Station1_SmallKitchen</td>\n",
       "      <td>0.047758</td>\n",
       "      <td>9.263602</td>\n",
       "    </tr>\n",
       "    <tr>\n",
       "      <th>1</th>\n",
       "      <td>SmallKitchen</td>\n",
       "      <td>HospActRec4</td>\n",
       "      <td>SmallKitchen_HospActRec4</td>\n",
       "      <td>0.088824</td>\n",
       "      <td>8.628814</td>\n",
       "    </tr>\n",
       "  </tbody>\n",
       "</table>\n",
       "</div>"
      ],
      "text/plain": [
       "         origin        target                   edge_id  time_to_waypoint  \\\n",
       "0      Station1  SmallKitchen     Station1_SmallKitchen          0.047758   \n",
       "1  SmallKitchen   HospActRec4  SmallKitchen_HospActRec4          0.088824   \n",
       "\n",
       "   operation_time  \n",
       "0        9.263602  \n",
       "1        8.628814  "
      ]
     },
     "execution_count": 16,
     "metadata": {},
     "output_type": "execute_result"
    }
   ],
   "source": [
    "#1) Import data from PyMongo\n",
    "df = get_data_strands(address = \"tsc_betty\")\n",
    "\n",
    "adjacent = get_adjacent(\"tsc_map.yaml\")\n",
    "nodes = list(adjacent.keys())\n",
    "length = get_length(\"tsc_map.yaml\")\n",
    "edges = list(length.keys())\n",
    "df = df.loc[df[\"origin\"].isin(nodes)]\n",
    "df = df.loc[df[\"target\"].isin(nodes)]\n",
    "df = df.loc[df[\"edge_id\"].isin(edges)]\n",
    "print(len(df))\n",
    "\n",
    "#2) Remove data with invalid origin/target\n",
    "#adjacent = get_adjacent(\"aaf_map.yaml\")\n",
    "df = get_valid1(df, adjacent)\n",
    "print(len(df))\n",
    "\n",
    "#3) Change format of datetimes in dataframe to datetime.datetime object\n",
    "df = get_times(df)\n",
    "\n",
    "#4) Count congestion level\n",
    "df = get_congestion_strands(df, adjacent)\n",
    "print(\"Unimodal: \", len(df[df[\"n_robots\"] == 1]))\n",
    "print(\"Multimodal: \", len(df[df[\"n_robots\"] != 1]))\n",
    "\n",
    "#5) remove final, unsuccessful, multimodal runs\n",
    "df_tsc = get_valid2(df)\n",
    "df_tsc.head(2)"
   ]
  },
  {
   "cell_type": "code",
   "execution_count": 17,
   "metadata": {},
   "outputs": [
    {
     "name": "stdout",
     "output_type": "stream",
     "text": [
      "done\n"
     ]
    }
   ],
   "source": [
    "#6) save to excel\n",
    "df_tsc.to_excel(\"data_tsc_betty.xlsx\")\n",
    "print(\"done\")"
   ]
  },
  {
   "cell_type": "code",
   "execution_count": 18,
   "metadata": {},
   "outputs": [
    {
     "data": {
      "text/html": [
       "<div>\n",
       "<style scoped>\n",
       "    .dataframe tbody tr th:only-of-type {\n",
       "        vertical-align: middle;\n",
       "    }\n",
       "\n",
       "    .dataframe tbody tr th {\n",
       "        vertical-align: top;\n",
       "    }\n",
       "\n",
       "    .dataframe thead th {\n",
       "        text-align: right;\n",
       "    }\n",
       "</style>\n",
       "<table border=\"1\" class=\"dataframe\">\n",
       "  <thead>\n",
       "    <tr style=\"text-align: right;\">\n",
       "      <th></th>\n",
       "      <th>origin</th>\n",
       "      <th>target</th>\n",
       "      <th>edge_id</th>\n",
       "      <th>time_to_waypoint</th>\n",
       "      <th>operation_time</th>\n",
       "    </tr>\n",
       "  </thead>\n",
       "  <tbody>\n",
       "    <tr>\n",
       "      <th>0</th>\n",
       "      <td>Station1</td>\n",
       "      <td>SmallKitchen</td>\n",
       "      <td>Station1_SmallKitchen</td>\n",
       "      <td>0.047758</td>\n",
       "      <td>9.263602</td>\n",
       "    </tr>\n",
       "    <tr>\n",
       "      <th>1</th>\n",
       "      <td>SmallKitchen</td>\n",
       "      <td>HospActRec4</td>\n",
       "      <td>SmallKitchen_HospActRec4</td>\n",
       "      <td>0.088824</td>\n",
       "      <td>8.628814</td>\n",
       "    </tr>\n",
       "  </tbody>\n",
       "</table>\n",
       "</div>"
      ],
      "text/plain": [
       "         origin        target                   edge_id  time_to_waypoint  \\\n",
       "0      Station1  SmallKitchen     Station1_SmallKitchen          0.047758   \n",
       "1  SmallKitchen   HospActRec4  SmallKitchen_HospActRec4          0.088824   \n",
       "\n",
       "   operation_time  \n",
       "0        9.263602  \n",
       "1        8.628814  "
      ]
     },
     "execution_count": 18,
     "metadata": {},
     "output_type": "execute_result"
    }
   ],
   "source": [
    "# retrieve data\n",
    "df_tsc = pd.read_excel(\"data_tsc_betty.xlsx\")\n",
    "df_tsc = df_tsc[[\"origin\", \"target\", \"edge_id\", \"time_to_waypoint\", \"operation_time\"]]\n",
    "df_tsc.head(2)"
   ]
  },
  {
   "cell_type": "markdown",
   "metadata": {},
   "source": [
    "## 3c) TSC y4 - Bob"
   ]
  },
  {
   "cell_type": "code",
   "execution_count": 19,
   "metadata": {},
   "outputs": [
    {
     "name": "stdout",
     "output_type": "stream",
     "text": [
      "Time taken (get_adjacent): 0.5919177532196045 secs\n",
      "Time taken (get_length): 0.7005703449249268 secs\n",
      "9012\n",
      "9012\n",
      "Time taken (get_times): 4.1809210777282715 secs\n",
      "0 iterations in 0.000997304916381836 seconds\n",
      "5000 iterations in 13.163287878036499 seconds\n",
      "Time taken (get_congestion): 23.45139980316162 seconds\n",
      "Unimodal:  8986\n",
      "Multimodal:  26\n"
     ]
    },
    {
     "data": {
      "text/html": [
       "<div>\n",
       "<style scoped>\n",
       "    .dataframe tbody tr th:only-of-type {\n",
       "        vertical-align: middle;\n",
       "    }\n",
       "\n",
       "    .dataframe tbody tr th {\n",
       "        vertical-align: top;\n",
       "    }\n",
       "\n",
       "    .dataframe thead th {\n",
       "        text-align: right;\n",
       "    }\n",
       "</style>\n",
       "<table border=\"1\" class=\"dataframe\">\n",
       "  <thead>\n",
       "    <tr style=\"text-align: right;\">\n",
       "      <th></th>\n",
       "      <th>origin</th>\n",
       "      <th>target</th>\n",
       "      <th>edge_id</th>\n",
       "      <th>time_to_waypoint</th>\n",
       "      <th>operation_time</th>\n",
       "    </tr>\n",
       "  </thead>\n",
       "  <tbody>\n",
       "    <tr>\n",
       "      <th>1</th>\n",
       "      <td>Station1</td>\n",
       "      <td>SmallKitchen</td>\n",
       "      <td>Station1_SmallKitchen</td>\n",
       "      <td>0.054096</td>\n",
       "      <td>4.340037</td>\n",
       "    </tr>\n",
       "    <tr>\n",
       "      <th>2</th>\n",
       "      <td>SmallKitchen</td>\n",
       "      <td>HospActRec4</td>\n",
       "      <td>SmallKitchen_HospActRec4</td>\n",
       "      <td>0.077031</td>\n",
       "      <td>5.906566</td>\n",
       "    </tr>\n",
       "  </tbody>\n",
       "</table>\n",
       "</div>"
      ],
      "text/plain": [
       "         origin        target                   edge_id  time_to_waypoint  \\\n",
       "1      Station1  SmallKitchen     Station1_SmallKitchen          0.054096   \n",
       "2  SmallKitchen   HospActRec4  SmallKitchen_HospActRec4          0.077031   \n",
       "\n",
       "   operation_time  \n",
       "1        4.340037  \n",
       "2        5.906566  "
      ]
     },
     "execution_count": 19,
     "metadata": {},
     "output_type": "execute_result"
    }
   ],
   "source": [
    "#1) Import data from PyMongo\n",
    "df = get_data_strands(address = \"tsc_bob\")\n",
    "\n",
    "adjacent = get_adjacent(\"tsc_map.yaml\")\n",
    "nodes = list(adjacent.keys())\n",
    "length = get_length(\"tsc_map.yaml\")\n",
    "edges = list(length.keys())\n",
    "df = df.loc[df[\"origin\"].isin(nodes)]\n",
    "df = df.loc[df[\"target\"].isin(nodes)]\n",
    "df = df.loc[df[\"edge_id\"].isin(edges)]\n",
    "print(len(df))\n",
    "\n",
    "#2) Remove data with invalid origin/target\n",
    "#adjacent = get_adjacent(\"aaf_map.yaml\")\n",
    "df = get_valid1(df, adjacent)\n",
    "print(len(df))\n",
    "\n",
    "#3) Change format of datetimes in dataframe to datetime.datetime object\n",
    "df = get_times(df)\n",
    "\n",
    "#4) Count congestion level\n",
    "df = get_congestion_strands(df, adjacent)\n",
    "print(\"Unimodal: \", len(df[df[\"n_robots\"] == 1]))\n",
    "print(\"Multimodal: \", len(df[df[\"n_robots\"] != 1]))\n",
    "\n",
    "#5) remove final, unsuccessful, multimodal runs\n",
    "df_tsc = get_valid2(df)\n",
    "df_tsc.head(2)"
   ]
  },
  {
   "cell_type": "code",
   "execution_count": 20,
   "metadata": {},
   "outputs": [
    {
     "name": "stdout",
     "output_type": "stream",
     "text": [
      "done\n"
     ]
    }
   ],
   "source": [
    "#6) save to excel\n",
    "df_tsc.to_excel(\"data_tsc_bob.xlsx\")\n",
    "print(\"done\")"
   ]
  },
  {
   "cell_type": "code",
   "execution_count": 21,
   "metadata": {},
   "outputs": [
    {
     "data": {
      "text/html": [
       "<div>\n",
       "<style scoped>\n",
       "    .dataframe tbody tr th:only-of-type {\n",
       "        vertical-align: middle;\n",
       "    }\n",
       "\n",
       "    .dataframe tbody tr th {\n",
       "        vertical-align: top;\n",
       "    }\n",
       "\n",
       "    .dataframe thead th {\n",
       "        text-align: right;\n",
       "    }\n",
       "</style>\n",
       "<table border=\"1\" class=\"dataframe\">\n",
       "  <thead>\n",
       "    <tr style=\"text-align: right;\">\n",
       "      <th></th>\n",
       "      <th>origin</th>\n",
       "      <th>target</th>\n",
       "      <th>edge_id</th>\n",
       "      <th>time_to_waypoint</th>\n",
       "      <th>operation_time</th>\n",
       "    </tr>\n",
       "  </thead>\n",
       "  <tbody>\n",
       "    <tr>\n",
       "      <th>0</th>\n",
       "      <td>Station1</td>\n",
       "      <td>SmallKitchen</td>\n",
       "      <td>Station1_SmallKitchen</td>\n",
       "      <td>0.054096</td>\n",
       "      <td>4.340037</td>\n",
       "    </tr>\n",
       "    <tr>\n",
       "      <th>1</th>\n",
       "      <td>SmallKitchen</td>\n",
       "      <td>HospActRec4</td>\n",
       "      <td>SmallKitchen_HospActRec4</td>\n",
       "      <td>0.077031</td>\n",
       "      <td>5.906566</td>\n",
       "    </tr>\n",
       "  </tbody>\n",
       "</table>\n",
       "</div>"
      ],
      "text/plain": [
       "         origin        target                   edge_id  time_to_waypoint  \\\n",
       "0      Station1  SmallKitchen     Station1_SmallKitchen          0.054096   \n",
       "1  SmallKitchen   HospActRec4  SmallKitchen_HospActRec4          0.077031   \n",
       "\n",
       "   operation_time  \n",
       "0        4.340037  \n",
       "1        5.906566  "
      ]
     },
     "execution_count": 21,
     "metadata": {},
     "output_type": "execute_result"
    }
   ],
   "source": [
    "# retrieve data\n",
    "df_tsc_bob = pd.read_excel(\"data_tsc_bob.xlsx\")\n",
    "df_tsc_bob = df_tsc_bob[[\"origin\", \"target\", \"edge_id\", \"time_to_waypoint\", \"operation_time\"]]\n",
    "df_tsc_bob.head(2)"
   ]
  },
  {
   "cell_type": "markdown",
   "metadata": {},
   "source": [
    "# 4) LABS"
   ]
  },
  {
   "cell_type": "code",
   "execution_count": 22,
   "metadata": {},
   "outputs": [
    {
     "name": "stdout",
     "output_type": "stream",
     "text": [
      "Time taken (get_adjacent): 0.06781792640686035 secs\n",
      "Time taken (get_length): 0.07582974433898926 secs\n",
      "2135\n",
      "2135\n",
      "Time taken (get_times): 0.8437132835388184 secs\n",
      "0 iterations in 0.0009975433349609375 seconds\n",
      "Time taken (get_congestion): 3.3905131816864014 seconds\n",
      "Unimodal:  1877\n",
      "Multimodal:  258\n"
     ]
    },
    {
     "data": {
      "text/html": [
       "<div>\n",
       "<style scoped>\n",
       "    .dataframe tbody tr th:only-of-type {\n",
       "        vertical-align: middle;\n",
       "    }\n",
       "\n",
       "    .dataframe tbody tr th {\n",
       "        vertical-align: top;\n",
       "    }\n",
       "\n",
       "    .dataframe thead th {\n",
       "        text-align: right;\n",
       "    }\n",
       "</style>\n",
       "<table border=\"1\" class=\"dataframe\">\n",
       "  <thead>\n",
       "    <tr style=\"text-align: right;\">\n",
       "      <th></th>\n",
       "      <th>origin</th>\n",
       "      <th>target</th>\n",
       "      <th>edge_id</th>\n",
       "      <th>time_to_waypoint</th>\n",
       "      <th>operation_time</th>\n",
       "    </tr>\n",
       "  </thead>\n",
       "  <tbody>\n",
       "    <tr>\n",
       "      <th>1</th>\n",
       "      <td>WayPoint2</td>\n",
       "      <td>WayPoint1</td>\n",
       "      <td>WayPoint2_WayPoint1</td>\n",
       "      <td>0.124470</td>\n",
       "      <td>20.516262</td>\n",
       "    </tr>\n",
       "    <tr>\n",
       "      <th>2</th>\n",
       "      <td>WayPoint9</td>\n",
       "      <td>WayPoint1</td>\n",
       "      <td>WayPoint9_WayPoint1</td>\n",
       "      <td>4.591103</td>\n",
       "      <td>15.661669</td>\n",
       "    </tr>\n",
       "  </tbody>\n",
       "</table>\n",
       "</div>"
      ],
      "text/plain": [
       "      origin     target              edge_id  time_to_waypoint  operation_time\n",
       "1  WayPoint2  WayPoint1  WayPoint2_WayPoint1          0.124470       20.516262\n",
       "2  WayPoint9  WayPoint1  WayPoint9_WayPoint1          4.591103       15.661669"
      ]
     },
     "execution_count": 22,
     "metadata": {},
     "output_type": "execute_result"
    }
   ],
   "source": [
    "#1) Import data from PyMongo\n",
    "df = get_data_strands(address = \"labs\")\n",
    "\n",
    "adjacent = get_adjacent(\"labs_map.yaml\")\n",
    "nodes = list(adjacent.keys())\n",
    "length = get_length(\"labs_map.yaml\")\n",
    "edges = list(length.keys())\n",
    "df = df.loc[df[\"origin\"].isin(nodes)]\n",
    "df = df.loc[df[\"target\"].isin(nodes)]\n",
    "df = df.loc[df[\"edge_id\"].isin(edges)]\n",
    "print(len(df))\n",
    "\n",
    "#2) Remove data with invalid origin/target\n",
    "df = get_valid1(df, adjacent)\n",
    "print(len(df))\n",
    "\n",
    "#3) Change format of datetimes in dataframe to datetime.datetime object\n",
    "df = get_times(df)\n",
    "\n",
    "#4) Count congestion level\n",
    "df = get_congestion_strands(df, adjacent)\n",
    "print(\"Unimodal: \", len(df[df[\"n_robots\"] == 1]))\n",
    "print(\"Multimodal: \", len(df[df[\"n_robots\"] != 1]))\n",
    "\n",
    "#5) remove final, unsuccessful, multimodal runs\n",
    "df_labs = get_valid2(df)\n",
    "df_labs.head(2)"
   ]
  },
  {
   "cell_type": "code",
   "execution_count": 23,
   "metadata": {},
   "outputs": [
    {
     "name": "stdout",
     "output_type": "stream",
     "text": [
      "done\n"
     ]
    }
   ],
   "source": [
    "#6) save to excel\n",
    "df_labs.to_excel(\"data_labs.xlsx\")\n",
    "print(\"done\")"
   ]
  },
  {
   "cell_type": "code",
   "execution_count": 24,
   "metadata": {},
   "outputs": [
    {
     "data": {
      "text/html": [
       "<div>\n",
       "<style scoped>\n",
       "    .dataframe tbody tr th:only-of-type {\n",
       "        vertical-align: middle;\n",
       "    }\n",
       "\n",
       "    .dataframe tbody tr th {\n",
       "        vertical-align: top;\n",
       "    }\n",
       "\n",
       "    .dataframe thead th {\n",
       "        text-align: right;\n",
       "    }\n",
       "</style>\n",
       "<table border=\"1\" class=\"dataframe\">\n",
       "  <thead>\n",
       "    <tr style=\"text-align: right;\">\n",
       "      <th></th>\n",
       "      <th>origin</th>\n",
       "      <th>target</th>\n",
       "      <th>edge_id</th>\n",
       "      <th>time_to_waypoint</th>\n",
       "      <th>operation_time</th>\n",
       "    </tr>\n",
       "  </thead>\n",
       "  <tbody>\n",
       "    <tr>\n",
       "      <th>0</th>\n",
       "      <td>WayPoint2</td>\n",
       "      <td>WayPoint1</td>\n",
       "      <td>WayPoint2_WayPoint1</td>\n",
       "      <td>0.124470</td>\n",
       "      <td>20.516262</td>\n",
       "    </tr>\n",
       "    <tr>\n",
       "      <th>1</th>\n",
       "      <td>WayPoint9</td>\n",
       "      <td>WayPoint1</td>\n",
       "      <td>WayPoint9_WayPoint1</td>\n",
       "      <td>4.591103</td>\n",
       "      <td>15.661669</td>\n",
       "    </tr>\n",
       "  </tbody>\n",
       "</table>\n",
       "</div>"
      ],
      "text/plain": [
       "      origin     target              edge_id  time_to_waypoint  operation_time\n",
       "0  WayPoint2  WayPoint1  WayPoint2_WayPoint1          0.124470       20.516262\n",
       "1  WayPoint9  WayPoint1  WayPoint9_WayPoint1          4.591103       15.661669"
      ]
     },
     "execution_count": 24,
     "metadata": {},
     "output_type": "execute_result"
    }
   ],
   "source": [
    "# retrieve data\n",
    "df_labs = pd.read_excel(\"data_labs.xlsx\")\n",
    "df_labs = df_labs[[\"origin\", \"target\", \"edge_id\", \"time_to_waypoint\", \"operation_time\"]]\n",
    "df_labs.head(2)"
   ]
  },
  {
   "cell_type": "markdown",
   "metadata": {},
   "source": [
    "# 5) Blenheim"
   ]
  },
  {
   "cell_type": "markdown",
   "metadata": {},
   "source": [
    "## 5a) Blenheim - Random"
   ]
  },
  {
   "cell_type": "code",
   "execution_count": 25,
   "metadata": {},
   "outputs": [
    {
     "name": "stdout",
     "output_type": "stream",
     "text": [
      "14981\n",
      "Time taken (get_adjacent): 0.10720586776733398 secs\n",
      "0 iterations in 0.0 secs\n",
      "5000 iterations in 13.223059892654419 secs\n",
      "10000 iterations in 28.168477058410645 secs\n",
      "Time taken(get_congestion): 43.200392961502075 secs\n"
     ]
    },
    {
     "data": {
      "text/plain": [
       "1    8068\n",
       "2    5016\n",
       "3    1566\n",
       "4     281\n",
       "5      50\n",
       "Name: n_robots, dtype: int64"
      ]
     },
     "execution_count": 25,
     "metadata": {},
     "output_type": "execute_result"
    }
   ],
   "source": [
    "#1) Import data from PyMongo\n",
    "df = get_data(address = \"blenheim_random\")\n",
    "print(len(df))\n",
    "adjacent = get_adjacent(\"blenheim_map.yaml\")\n",
    "df = get_congestion(df, adjacent)\n",
    "df[\"n_robots\"].value_counts()"
   ]
  },
  {
   "cell_type": "code",
   "execution_count": 26,
   "metadata": {},
   "outputs": [
    {
     "name": "stdout",
     "output_type": "stream",
     "text": [
      "Total Filtered\n",
      "14981 3856\n"
     ]
    },
    {
     "data": {
      "text/plain": [
       "1    3856\n",
       "Name: n_robots, dtype: int64"
      ]
     },
     "execution_count": 26,
     "metadata": {},
     "output_type": "execute_result"
    }
   ],
   "source": [
    "df_blenheim_random = get_valid(df, remove_multimodal = True, remove_initial = True)\n",
    "print(\"Total\", \"Filtered\")\n",
    "print(len(df), len(df_blenheim_random))\n",
    "df_blenheim_random[\"n_robots\"].value_counts()"
   ]
  },
  {
   "cell_type": "code",
   "execution_count": 27,
   "metadata": {},
   "outputs": [
    {
     "name": "stdout",
     "output_type": "stream",
     "text": [
      "done\n"
     ]
    }
   ],
   "source": [
    "#6) save to excel\n",
    "df_blenheim_random.to_excel(\"data_blenheim_random.xlsx\")\n",
    "print(\"done\")"
   ]
  },
  {
   "cell_type": "code",
   "execution_count": 28,
   "metadata": {},
   "outputs": [
    {
     "data": {
      "text/html": [
       "<div>\n",
       "<style scoped>\n",
       "    .dataframe tbody tr th:only-of-type {\n",
       "        vertical-align: middle;\n",
       "    }\n",
       "\n",
       "    .dataframe tbody tr th {\n",
       "        vertical-align: top;\n",
       "    }\n",
       "\n",
       "    .dataframe thead th {\n",
       "        text-align: right;\n",
       "    }\n",
       "</style>\n",
       "<table border=\"1\" class=\"dataframe\">\n",
       "  <thead>\n",
       "    <tr style=\"text-align: right;\">\n",
       "      <th></th>\n",
       "      <th>origin</th>\n",
       "      <th>target</th>\n",
       "      <th>edge_id</th>\n",
       "      <th>operation_time</th>\n",
       "    </tr>\n",
       "  </thead>\n",
       "  <tbody>\n",
       "    <tr>\n",
       "      <th>0</th>\n",
       "      <td>WayPoint4</td>\n",
       "      <td>WayPoint7</td>\n",
       "      <td>WayPoint4_WayPoint7</td>\n",
       "      <td>12.409</td>\n",
       "    </tr>\n",
       "    <tr>\n",
       "      <th>1</th>\n",
       "      <td>WayPoint7</td>\n",
       "      <td>WayPoint10</td>\n",
       "      <td>WayPoint7_WayPoint10</td>\n",
       "      <td>13.035</td>\n",
       "    </tr>\n",
       "  </tbody>\n",
       "</table>\n",
       "</div>"
      ],
      "text/plain": [
       "      origin      target               edge_id  operation_time\n",
       "0  WayPoint4   WayPoint7   WayPoint4_WayPoint7          12.409\n",
       "1  WayPoint7  WayPoint10  WayPoint7_WayPoint10          13.035"
      ]
     },
     "execution_count": 28,
     "metadata": {},
     "output_type": "execute_result"
    }
   ],
   "source": [
    "# retrieve data\n",
    "df_blenheim_random = pd.read_excel(\"data_blenheim_random.xlsx\")\n",
    "df_blenheim_random = df_blenheim_random[[\"origin\", \"target\", \"edge_id\", \"operation_time\"]]\n",
    "df_blenheim_random.head(2)"
   ]
  },
  {
   "cell_type": "markdown",
   "metadata": {},
   "source": [
    "## 5b) Blenheim - Targeted"
   ]
  },
  {
   "cell_type": "code",
   "execution_count": 29,
   "metadata": {},
   "outputs": [
    {
     "name": "stdout",
     "output_type": "stream",
     "text": [
      "15313\n",
      "Time taken (get_adjacent): 0.07283735275268555 secs\n",
      "0 iterations in 0.0 secs\n",
      "5000 iterations in 15.33720064163208 secs\n",
      "10000 iterations in 30.20045232772827 secs\n",
      "15000 iterations in 45.02410840988159 secs\n",
      "Time taken(get_congestion): 45.97755765914917 secs\n",
      "Total Filtered\n",
      "15313 4288\n"
     ]
    },
    {
     "data": {
      "text/plain": [
       "1    4288\n",
       "Name: n_robots, dtype: int64"
      ]
     },
     "execution_count": 29,
     "metadata": {},
     "output_type": "execute_result"
    }
   ],
   "source": [
    "#1) Import data from PyMongo\n",
    "df = get_data(address = \"blenheim_targeted\")\n",
    "print(len(df))\n",
    "adjacent = get_adjacent(\"blenheim_map.yaml\")\n",
    "df = get_congestion(df, adjacent)\n",
    "\n",
    "df_blenheim_targeted = get_valid(df, remove_multimodal = True, remove_initial = True)\n",
    "print(\"Total\", \"Filtered\")\n",
    "print(len(df), len(df_blenheim_targeted))\n",
    "df_blenheim_targeted[\"n_robots\"].value_counts()"
   ]
  },
  {
   "cell_type": "code",
   "execution_count": 30,
   "metadata": {},
   "outputs": [
    {
     "name": "stdout",
     "output_type": "stream",
     "text": [
      "done\n"
     ]
    }
   ],
   "source": [
    "#6) save to excel\n",
    "df_blenheim_targeted.to_excel(\"data_blenheim_targeted.xlsx\")\n",
    "print(\"done\")"
   ]
  },
  {
   "cell_type": "code",
   "execution_count": 31,
   "metadata": {},
   "outputs": [
    {
     "data": {
      "text/html": [
       "<div>\n",
       "<style scoped>\n",
       "    .dataframe tbody tr th:only-of-type {\n",
       "        vertical-align: middle;\n",
       "    }\n",
       "\n",
       "    .dataframe tbody tr th {\n",
       "        vertical-align: top;\n",
       "    }\n",
       "\n",
       "    .dataframe thead th {\n",
       "        text-align: right;\n",
       "    }\n",
       "</style>\n",
       "<table border=\"1\" class=\"dataframe\">\n",
       "  <thead>\n",
       "    <tr style=\"text-align: right;\">\n",
       "      <th></th>\n",
       "      <th>origin</th>\n",
       "      <th>target</th>\n",
       "      <th>edge_id</th>\n",
       "      <th>operation_time</th>\n",
       "    </tr>\n",
       "  </thead>\n",
       "  <tbody>\n",
       "    <tr>\n",
       "      <th>0</th>\n",
       "      <td>WayPoint4</td>\n",
       "      <td>WayPoint7</td>\n",
       "      <td>WayPoint4_WayPoint7</td>\n",
       "      <td>11.574</td>\n",
       "    </tr>\n",
       "    <tr>\n",
       "      <th>1</th>\n",
       "      <td>WayPoint7</td>\n",
       "      <td>WayPoint10</td>\n",
       "      <td>WayPoint7_WayPoint10</td>\n",
       "      <td>12.874</td>\n",
       "    </tr>\n",
       "  </tbody>\n",
       "</table>\n",
       "</div>"
      ],
      "text/plain": [
       "      origin      target               edge_id  operation_time\n",
       "0  WayPoint4   WayPoint7   WayPoint4_WayPoint7          11.574\n",
       "1  WayPoint7  WayPoint10  WayPoint7_WayPoint10          12.874"
      ]
     },
     "execution_count": 31,
     "metadata": {},
     "output_type": "execute_result"
    }
   ],
   "source": [
    "# retrieve data\n",
    "df_blenheim_targeted = pd.read_excel(\"data_blenheim_targeted.xlsx\")\n",
    "df_blenheim_targeted = df_blenheim_targeted[[\"origin\", \"target\", \"edge_id\", \"operation_time\"]]\n",
    "df_blenheim_targeted.head(2)"
   ]
  },
  {
   "cell_type": "markdown",
   "metadata": {},
   "source": [
    "# 6) Walmart"
   ]
  },
  {
   "cell_type": "markdown",
   "metadata": {},
   "source": [
    "## 6a) Walmart - Random"
   ]
  },
  {
   "cell_type": "code",
   "execution_count": 32,
   "metadata": {},
   "outputs": [
    {
     "name": "stdout",
     "output_type": "stream",
     "text": [
      "17205\n",
      "Time taken (get_adjacent): 0.8204793930053711 secs\n",
      "0 iterations in 0.0 secs\n",
      "5000 iterations in 15.22150731086731 secs\n",
      "10000 iterations in 29.193557024002075 secs\n",
      "15000 iterations in 43.4769389629364 secs\n",
      "Time taken(get_congestion): 50.401591777801514 secs\n",
      "Total Filtered\n",
      "17205 11210\n"
     ]
    },
    {
     "data": {
      "text/plain": [
       "1    11210\n",
       "Name: n_robots, dtype: int64"
      ]
     },
     "execution_count": 32,
     "metadata": {},
     "output_type": "execute_result"
    }
   ],
   "source": [
    "#1) Import data from PyMongo\n",
    "df = get_data(address = \"walmart_random\")\n",
    "print(len(df))\n",
    "adjacent = get_adjacent(\"walmart_map.yaml\")\n",
    "df = get_congestion(df, adjacent)\n",
    "\n",
    "df_walmart_random = get_valid(df, remove_multimodal = True, remove_initial = True)\n",
    "print(\"Total\", \"Filtered\")\n",
    "print(len(df), len(df_walmart_random))\n",
    "df_walmart_random[\"n_robots\"].value_counts()"
   ]
  },
  {
   "cell_type": "code",
   "execution_count": 33,
   "metadata": {},
   "outputs": [
    {
     "name": "stdout",
     "output_type": "stream",
     "text": [
      "done\n"
     ]
    }
   ],
   "source": [
    "#6) save to excel\n",
    "df_walmart_random.to_excel(\"data_walmart_random.xlsx\")\n",
    "print(\"done\")"
   ]
  },
  {
   "cell_type": "code",
   "execution_count": 34,
   "metadata": {},
   "outputs": [
    {
     "data": {
      "text/html": [
       "<div>\n",
       "<style scoped>\n",
       "    .dataframe tbody tr th:only-of-type {\n",
       "        vertical-align: middle;\n",
       "    }\n",
       "\n",
       "    .dataframe tbody tr th {\n",
       "        vertical-align: top;\n",
       "    }\n",
       "\n",
       "    .dataframe thead th {\n",
       "        text-align: right;\n",
       "    }\n",
       "</style>\n",
       "<table border=\"1\" class=\"dataframe\">\n",
       "  <thead>\n",
       "    <tr style=\"text-align: right;\">\n",
       "      <th></th>\n",
       "      <th>origin</th>\n",
       "      <th>target</th>\n",
       "      <th>edge_id</th>\n",
       "      <th>operation_time</th>\n",
       "    </tr>\n",
       "  </thead>\n",
       "  <tbody>\n",
       "    <tr>\n",
       "      <th>0</th>\n",
       "      <td>WayPoint110</td>\n",
       "      <td>WayPoint68</td>\n",
       "      <td>WayPoint110_WayPoint68</td>\n",
       "      <td>4.898</td>\n",
       "    </tr>\n",
       "    <tr>\n",
       "      <th>1</th>\n",
       "      <td>WayPoint61</td>\n",
       "      <td>WayPoint54</td>\n",
       "      <td>WayPoint61_WayPoint54</td>\n",
       "      <td>9.276</td>\n",
       "    </tr>\n",
       "  </tbody>\n",
       "</table>\n",
       "</div>"
      ],
      "text/plain": [
       "        origin      target                 edge_id  operation_time\n",
       "0  WayPoint110  WayPoint68  WayPoint110_WayPoint68           4.898\n",
       "1   WayPoint61  WayPoint54   WayPoint61_WayPoint54           9.276"
      ]
     },
     "execution_count": 34,
     "metadata": {},
     "output_type": "execute_result"
    }
   ],
   "source": [
    "# retrieve data\n",
    "df_walmart_random = pd.read_excel(\"data_walmart_random.xlsx\")\n",
    "df_walmart_random = df_walmart_random[[\"origin\", \"target\", \"edge_id\", \"operation_time\"]]\n",
    "df_walmart_random.head(2)"
   ]
  },
  {
   "cell_type": "markdown",
   "metadata": {},
   "source": [
    "## 6b) Walmart - Targeted"
   ]
  },
  {
   "cell_type": "code",
   "execution_count": 35,
   "metadata": {},
   "outputs": [
    {
     "name": "stdout",
     "output_type": "stream",
     "text": [
      "14173\n",
      "Time taken (get_adjacent): 0.7609646320343018 secs\n",
      "0 iterations in 0.0 secs\n",
      "5000 iterations in 14.015883445739746 secs\n",
      "10000 iterations in 28.717530488967896 secs\n",
      "Time taken(get_congestion): 40.87424373626709 secs\n",
      "Total Filtered\n",
      "14173 4967\n"
     ]
    },
    {
     "data": {
      "text/plain": [
       "1    4967\n",
       "Name: n_robots, dtype: int64"
      ]
     },
     "execution_count": 35,
     "metadata": {},
     "output_type": "execute_result"
    }
   ],
   "source": [
    "#1) Import data from PyMongo\n",
    "df = get_data(address = \"walmart_targeted\")\n",
    "print(len(df))\n",
    "adjacent = get_adjacent(\"walmart_map.yaml\")\n",
    "df = get_congestion(df, adjacent)\n",
    "\n",
    "df_walmart_targeted = get_valid(df, remove_multimodal = True, remove_initial = True)\n",
    "print(\"Total\", \"Filtered\")\n",
    "print(len(df), len(df_walmart_targeted))\n",
    "df_walmart_targeted[\"n_robots\"].value_counts()"
   ]
  },
  {
   "cell_type": "code",
   "execution_count": 36,
   "metadata": {},
   "outputs": [
    {
     "name": "stdout",
     "output_type": "stream",
     "text": [
      "done\n"
     ]
    }
   ],
   "source": [
    "#6) save to excel\n",
    "df_walmart_targeted.to_excel(\"data_walmart_targeted.xlsx\")\n",
    "print(\"done\")"
   ]
  },
  {
   "cell_type": "code",
   "execution_count": 37,
   "metadata": {},
   "outputs": [
    {
     "data": {
      "text/html": [
       "<div>\n",
       "<style scoped>\n",
       "    .dataframe tbody tr th:only-of-type {\n",
       "        vertical-align: middle;\n",
       "    }\n",
       "\n",
       "    .dataframe tbody tr th {\n",
       "        vertical-align: top;\n",
       "    }\n",
       "\n",
       "    .dataframe thead th {\n",
       "        text-align: right;\n",
       "    }\n",
       "</style>\n",
       "<table border=\"1\" class=\"dataframe\">\n",
       "  <thead>\n",
       "    <tr style=\"text-align: right;\">\n",
       "      <th></th>\n",
       "      <th>origin</th>\n",
       "      <th>target</th>\n",
       "      <th>edge_id</th>\n",
       "      <th>operation_time</th>\n",
       "    </tr>\n",
       "  </thead>\n",
       "  <tbody>\n",
       "    <tr>\n",
       "      <th>0</th>\n",
       "      <td>WayPoint110</td>\n",
       "      <td>WayPoint68</td>\n",
       "      <td>WayPoint110_WayPoint68</td>\n",
       "      <td>5.179</td>\n",
       "    </tr>\n",
       "    <tr>\n",
       "      <th>1</th>\n",
       "      <td>WayPoint68</td>\n",
       "      <td>WayPoint75</td>\n",
       "      <td>WayPoint68_WayPoint75</td>\n",
       "      <td>9.396</td>\n",
       "    </tr>\n",
       "  </tbody>\n",
       "</table>\n",
       "</div>"
      ],
      "text/plain": [
       "        origin      target                 edge_id  operation_time\n",
       "0  WayPoint110  WayPoint68  WayPoint110_WayPoint68           5.179\n",
       "1   WayPoint68  WayPoint75   WayPoint68_WayPoint75           9.396"
      ]
     },
     "execution_count": 37,
     "metadata": {},
     "output_type": "execute_result"
    }
   ],
   "source": [
    "# retrieve data\n",
    "df_walmart_targeted = pd.read_excel(\"data_walmart_targeted.xlsx\")\n",
    "df_walmart_targeted = df_walmart_targeted[[\"origin\", \"target\", \"edge_id\", \"operation_time\"]]\n",
    "df_walmart_targeted.head(2)"
   ]
  },
  {
   "cell_type": "markdown",
   "metadata": {},
   "source": [
    "# 7) Blenheim with congestion"
   ]
  },
  {
   "cell_type": "markdown",
   "metadata": {},
   "source": [
    "## 7a) Blenheim - Random"
   ]
  },
  {
   "cell_type": "code",
   "execution_count": 4,
   "metadata": {},
   "outputs": [
    {
     "name": "stdout",
     "output_type": "stream",
     "text": [
      "14981\n",
      "Time taken (get_adjacent): 0.10688233375549316 secs\n",
      "0 iterations in 0.0 secs\n",
      "5000 iterations in 16.74808955192566 secs\n",
      "10000 iterations in 33.22493124008179 secs\n",
      "Time taken(get_congestion): 49.94030475616455 secs\n"
     ]
    },
    {
     "data": {
      "text/plain": [
       "1    8068\n",
       "2    5016\n",
       "3    1566\n",
       "4     281\n",
       "5      50\n",
       "Name: n_robots, dtype: int64"
      ]
     },
     "execution_count": 4,
     "metadata": {},
     "output_type": "execute_result"
    }
   ],
   "source": [
    "#1) Import data from PyMongo\n",
    "df = get_data(address = \"blenheim_random\")\n",
    "print(len(df))\n",
    "adjacent = get_adjacent(\"blenheim_map.yaml\")\n",
    "df = get_congestion(df, adjacent)\n",
    "df[\"n_robots\"].value_counts()"
   ]
  },
  {
   "cell_type": "code",
   "execution_count": 5,
   "metadata": {},
   "outputs": [
    {
     "name": "stdout",
     "output_type": "stream",
     "text": [
      "Total Filtered\n",
      "14981 7510\n"
     ]
    },
    {
     "data": {
      "text/plain": [
       "1    3856\n",
       "2    2609\n",
       "3     843\n",
       "4     175\n",
       "5      27\n",
       "Name: n_robots, dtype: int64"
      ]
     },
     "execution_count": 5,
     "metadata": {},
     "output_type": "execute_result"
    }
   ],
   "source": [
    "df_blenheim_random = get_valid(df, remove_multimodal = False, remove_initial = True)\n",
    "print(\"Total\", \"Filtered\")\n",
    "print(len(df), len(df_blenheim_random))\n",
    "df_blenheim_random[\"n_robots\"].value_counts()"
   ]
  },
  {
   "cell_type": "code",
   "execution_count": 6,
   "metadata": {},
   "outputs": [
    {
     "name": "stdout",
     "output_type": "stream",
     "text": [
      "done\n"
     ]
    }
   ],
   "source": [
    "#6) save to excel\n",
    "df_blenheim_random.to_excel(\"data_blenheim_random_multi.xlsx\")\n",
    "print(\"done\")"
   ]
  },
  {
   "cell_type": "code",
   "execution_count": 7,
   "metadata": {},
   "outputs": [
    {
     "data": {
      "text/html": [
       "<div>\n",
       "<style scoped>\n",
       "    .dataframe tbody tr th:only-of-type {\n",
       "        vertical-align: middle;\n",
       "    }\n",
       "\n",
       "    .dataframe tbody tr th {\n",
       "        vertical-align: top;\n",
       "    }\n",
       "\n",
       "    .dataframe thead th {\n",
       "        text-align: right;\n",
       "    }\n",
       "</style>\n",
       "<table border=\"1\" class=\"dataframe\">\n",
       "  <thead>\n",
       "    <tr style=\"text-align: right;\">\n",
       "      <th></th>\n",
       "      <th>origin</th>\n",
       "      <th>target</th>\n",
       "      <th>edge_id</th>\n",
       "      <th>operation_time</th>\n",
       "    </tr>\n",
       "  </thead>\n",
       "  <tbody>\n",
       "    <tr>\n",
       "      <th>0</th>\n",
       "      <td>WayPoint4</td>\n",
       "      <td>WayPoint7</td>\n",
       "      <td>WayPoint4_WayPoint7</td>\n",
       "      <td>12.409</td>\n",
       "    </tr>\n",
       "    <tr>\n",
       "      <th>1</th>\n",
       "      <td>WayPoint7</td>\n",
       "      <td>WayPoint10</td>\n",
       "      <td>WayPoint7_WayPoint10</td>\n",
       "      <td>13.035</td>\n",
       "    </tr>\n",
       "  </tbody>\n",
       "</table>\n",
       "</div>"
      ],
      "text/plain": [
       "      origin      target               edge_id  operation_time\n",
       "0  WayPoint4   WayPoint7   WayPoint4_WayPoint7          12.409\n",
       "1  WayPoint7  WayPoint10  WayPoint7_WayPoint10          13.035"
      ]
     },
     "execution_count": 7,
     "metadata": {},
     "output_type": "execute_result"
    }
   ],
   "source": [
    "# retrieve data\n",
    "df_blenheim_random = pd.read_excel(\"data_blenheim_random_multi.xlsx\")\n",
    "df_blenheim_random = df_blenheim_random[[\"origin\", \"target\", \"edge_id\", \"operation_time\"]]\n",
    "df_blenheim_random.head(2)"
   ]
  },
  {
   "cell_type": "markdown",
   "metadata": {},
   "source": [
    "## 7b) Blenheim - Targeted"
   ]
  },
  {
   "cell_type": "code",
   "execution_count": 8,
   "metadata": {},
   "outputs": [
    {
     "name": "stdout",
     "output_type": "stream",
     "text": [
      "15313\n",
      "Time taken (get_adjacent): 0.0797874927520752 secs\n",
      "0 iterations in 0.0 secs\n",
      "5000 iterations in 17.592516660690308 secs\n",
      "10000 iterations in 34.35166120529175 secs\n",
      "15000 iterations in 50.92953562736511 secs\n",
      "Time taken(get_congestion): 51.96457266807556 secs\n",
      "Total Filtered\n",
      "15313 9652\n"
     ]
    },
    {
     "data": {
      "text/plain": [
       "1    4288\n",
       "2    3607\n",
       "3    1385\n",
       "4     301\n",
       "5      71\n",
       "Name: n_robots, dtype: int64"
      ]
     },
     "execution_count": 8,
     "metadata": {},
     "output_type": "execute_result"
    }
   ],
   "source": [
    "#1) Import data from PyMongo\n",
    "df = get_data(address = \"blenheim_targeted\")\n",
    "print(len(df))\n",
    "adjacent = get_adjacent(\"blenheim_map.yaml\")\n",
    "df = get_congestion(df, adjacent)\n",
    "\n",
    "df_blenheim_targeted = get_valid(df, remove_multimodal = False, remove_initial = True)\n",
    "print(\"Total\", \"Filtered\")\n",
    "print(len(df), len(df_blenheim_targeted))\n",
    "df_blenheim_targeted[\"n_robots\"].value_counts()"
   ]
  },
  {
   "cell_type": "code",
   "execution_count": 9,
   "metadata": {},
   "outputs": [
    {
     "name": "stdout",
     "output_type": "stream",
     "text": [
      "done\n"
     ]
    }
   ],
   "source": [
    "#6) save to excel\n",
    "df_blenheim_targeted.to_excel(\"data_blenheim_targeted_multi.xlsx\")\n",
    "print(\"done\")"
   ]
  },
  {
   "cell_type": "code",
   "execution_count": 10,
   "metadata": {},
   "outputs": [
    {
     "data": {
      "text/html": [
       "<div>\n",
       "<style scoped>\n",
       "    .dataframe tbody tr th:only-of-type {\n",
       "        vertical-align: middle;\n",
       "    }\n",
       "\n",
       "    .dataframe tbody tr th {\n",
       "        vertical-align: top;\n",
       "    }\n",
       "\n",
       "    .dataframe thead th {\n",
       "        text-align: right;\n",
       "    }\n",
       "</style>\n",
       "<table border=\"1\" class=\"dataframe\">\n",
       "  <thead>\n",
       "    <tr style=\"text-align: right;\">\n",
       "      <th></th>\n",
       "      <th>origin</th>\n",
       "      <th>target</th>\n",
       "      <th>edge_id</th>\n",
       "      <th>operation_time</th>\n",
       "    </tr>\n",
       "  </thead>\n",
       "  <tbody>\n",
       "    <tr>\n",
       "      <th>0</th>\n",
       "      <td>WayPoint4</td>\n",
       "      <td>WayPoint7</td>\n",
       "      <td>WayPoint4_WayPoint7</td>\n",
       "      <td>11.574</td>\n",
       "    </tr>\n",
       "    <tr>\n",
       "      <th>1</th>\n",
       "      <td>WayPoint7</td>\n",
       "      <td>WayPoint10</td>\n",
       "      <td>WayPoint7_WayPoint10</td>\n",
       "      <td>12.874</td>\n",
       "    </tr>\n",
       "  </tbody>\n",
       "</table>\n",
       "</div>"
      ],
      "text/plain": [
       "      origin      target               edge_id  operation_time\n",
       "0  WayPoint4   WayPoint7   WayPoint4_WayPoint7          11.574\n",
       "1  WayPoint7  WayPoint10  WayPoint7_WayPoint10          12.874"
      ]
     },
     "execution_count": 10,
     "metadata": {},
     "output_type": "execute_result"
    }
   ],
   "source": [
    "# retrieve data\n",
    "df_blenheim_targeted = pd.read_excel(\"data_blenheim_targeted_multi.xlsx\")\n",
    "df_blenheim_targeted = df_blenheim_targeted[[\"origin\", \"target\", \"edge_id\", \"operation_time\"]]\n",
    "df_blenheim_targeted.head(2)"
   ]
  },
  {
   "cell_type": "markdown",
   "metadata": {},
   "source": [
    "# 8) Walmart with congestion"
   ]
  },
  {
   "cell_type": "markdown",
   "metadata": {},
   "source": [
    "## 8a) Walmart - Random"
   ]
  },
  {
   "cell_type": "code",
   "execution_count": 11,
   "metadata": {},
   "outputs": [
    {
     "name": "stdout",
     "output_type": "stream",
     "text": [
      "17205\n",
      "Time taken (get_adjacent): 0.8861455917358398 secs\n",
      "0 iterations in 0.0 secs\n",
      "5000 iterations in 18.01119089126587 secs\n",
      "10000 iterations in 35.342005491256714 secs\n",
      "15000 iterations in 53.243735551834106 secs\n",
      "Time taken(get_congestion): 60.88036489486694 secs\n",
      "Total Filtered\n",
      "17205 12613\n"
     ]
    },
    {
     "data": {
      "text/plain": [
       "1    11210\n",
       "2     1262\n",
       "3      130\n",
       "4       11\n",
       "Name: n_robots, dtype: int64"
      ]
     },
     "execution_count": 11,
     "metadata": {},
     "output_type": "execute_result"
    }
   ],
   "source": [
    "#1) Import data from PyMongo\n",
    "df = get_data(address = \"walmart_random\")\n",
    "print(len(df))\n",
    "adjacent = get_adjacent(\"walmart_map.yaml\")\n",
    "df = get_congestion(df, adjacent)\n",
    "\n",
    "df_walmart_random = get_valid(df, remove_multimodal = False, remove_initial = True)\n",
    "print(\"Total\", \"Filtered\")\n",
    "print(len(df), len(df_walmart_random))\n",
    "df_walmart_random[\"n_robots\"].value_counts()"
   ]
  },
  {
   "cell_type": "code",
   "execution_count": 12,
   "metadata": {},
   "outputs": [
    {
     "name": "stdout",
     "output_type": "stream",
     "text": [
      "done\n"
     ]
    }
   ],
   "source": [
    "#6) save to excel\n",
    "df_walmart_random.to_excel(\"data_walmart_random_multi.xlsx\")\n",
    "print(\"done\")"
   ]
  },
  {
   "cell_type": "code",
   "execution_count": 13,
   "metadata": {},
   "outputs": [
    {
     "data": {
      "text/html": [
       "<div>\n",
       "<style scoped>\n",
       "    .dataframe tbody tr th:only-of-type {\n",
       "        vertical-align: middle;\n",
       "    }\n",
       "\n",
       "    .dataframe tbody tr th {\n",
       "        vertical-align: top;\n",
       "    }\n",
       "\n",
       "    .dataframe thead th {\n",
       "        text-align: right;\n",
       "    }\n",
       "</style>\n",
       "<table border=\"1\" class=\"dataframe\">\n",
       "  <thead>\n",
       "    <tr style=\"text-align: right;\">\n",
       "      <th></th>\n",
       "      <th>origin</th>\n",
       "      <th>target</th>\n",
       "      <th>edge_id</th>\n",
       "      <th>operation_time</th>\n",
       "    </tr>\n",
       "  </thead>\n",
       "  <tbody>\n",
       "    <tr>\n",
       "      <th>0</th>\n",
       "      <td>WayPoint110</td>\n",
       "      <td>WayPoint68</td>\n",
       "      <td>WayPoint110_WayPoint68</td>\n",
       "      <td>4.898</td>\n",
       "    </tr>\n",
       "    <tr>\n",
       "      <th>1</th>\n",
       "      <td>WayPoint68</td>\n",
       "      <td>WayPoint61</td>\n",
       "      <td>WayPoint68_WayPoint61</td>\n",
       "      <td>10.916</td>\n",
       "    </tr>\n",
       "  </tbody>\n",
       "</table>\n",
       "</div>"
      ],
      "text/plain": [
       "        origin      target                 edge_id  operation_time\n",
       "0  WayPoint110  WayPoint68  WayPoint110_WayPoint68           4.898\n",
       "1   WayPoint68  WayPoint61   WayPoint68_WayPoint61          10.916"
      ]
     },
     "execution_count": 13,
     "metadata": {},
     "output_type": "execute_result"
    }
   ],
   "source": [
    "# retrieve data\n",
    "df_walmart_random = pd.read_excel(\"data_walmart_random_multi.xlsx\")\n",
    "df_walmart_random = df_walmart_random[[\"origin\", \"target\", \"edge_id\", \"operation_time\"]]\n",
    "df_walmart_random.head(2)"
   ]
  },
  {
   "cell_type": "markdown",
   "metadata": {},
   "source": [
    "## 8b) Walmart - Targeted"
   ]
  },
  {
   "cell_type": "code",
   "execution_count": 14,
   "metadata": {},
   "outputs": [
    {
     "name": "stdout",
     "output_type": "stream",
     "text": [
      "14173\n",
      "Time taken (get_adjacent): 0.8153173923492432 secs\n",
      "0 iterations in 0.0 secs\n",
      "5000 iterations in 18.102157592773438 secs\n",
      "10000 iterations in 34.486716747283936 secs\n",
      "Time taken(get_congestion): 47.93705368041992 secs\n",
      "Total Filtered\n",
      "14173 8799\n"
     ]
    },
    {
     "data": {
      "text/plain": [
       "1    4967\n",
       "2    2649\n",
       "3     946\n",
       "4     215\n",
       "5      22\n",
       "Name: n_robots, dtype: int64"
      ]
     },
     "execution_count": 14,
     "metadata": {},
     "output_type": "execute_result"
    }
   ],
   "source": [
    "#1) Import data from PyMongo\n",
    "df = get_data(address = \"walmart_targeted\")\n",
    "print(len(df))\n",
    "adjacent = get_adjacent(\"walmart_map.yaml\")\n",
    "df = get_congestion(df, adjacent)\n",
    "\n",
    "df_walmart_targeted = get_valid(df, remove_multimodal = False, remove_initial = True)\n",
    "print(\"Total\", \"Filtered\")\n",
    "print(len(df), len(df_walmart_targeted))\n",
    "df_walmart_targeted[\"n_robots\"].value_counts()"
   ]
  },
  {
   "cell_type": "code",
   "execution_count": 15,
   "metadata": {},
   "outputs": [
    {
     "name": "stdout",
     "output_type": "stream",
     "text": [
      "done\n"
     ]
    }
   ],
   "source": [
    "#6) save to excel\n",
    "df_walmart_targeted.to_excel(\"data_walmart_targeted_multi.xlsx\")\n",
    "print(\"done\")"
   ]
  },
  {
   "cell_type": "code",
   "execution_count": 16,
   "metadata": {},
   "outputs": [
    {
     "data": {
      "text/html": [
       "<div>\n",
       "<style scoped>\n",
       "    .dataframe tbody tr th:only-of-type {\n",
       "        vertical-align: middle;\n",
       "    }\n",
       "\n",
       "    .dataframe tbody tr th {\n",
       "        vertical-align: top;\n",
       "    }\n",
       "\n",
       "    .dataframe thead th {\n",
       "        text-align: right;\n",
       "    }\n",
       "</style>\n",
       "<table border=\"1\" class=\"dataframe\">\n",
       "  <thead>\n",
       "    <tr style=\"text-align: right;\">\n",
       "      <th></th>\n",
       "      <th>origin</th>\n",
       "      <th>target</th>\n",
       "      <th>edge_id</th>\n",
       "      <th>operation_time</th>\n",
       "    </tr>\n",
       "  </thead>\n",
       "  <tbody>\n",
       "    <tr>\n",
       "      <th>0</th>\n",
       "      <td>WayPoint110</td>\n",
       "      <td>WayPoint68</td>\n",
       "      <td>WayPoint110_WayPoint68</td>\n",
       "      <td>5.179</td>\n",
       "    </tr>\n",
       "    <tr>\n",
       "      <th>1</th>\n",
       "      <td>WayPoint68</td>\n",
       "      <td>WayPoint75</td>\n",
       "      <td>WayPoint68_WayPoint75</td>\n",
       "      <td>9.396</td>\n",
       "    </tr>\n",
       "  </tbody>\n",
       "</table>\n",
       "</div>"
      ],
      "text/plain": [
       "        origin      target                 edge_id  operation_time\n",
       "0  WayPoint110  WayPoint68  WayPoint110_WayPoint68           5.179\n",
       "1   WayPoint68  WayPoint75   WayPoint68_WayPoint75           9.396"
      ]
     },
     "execution_count": 16,
     "metadata": {},
     "output_type": "execute_result"
    }
   ],
   "source": [
    "# retrieve data\n",
    "df_walmart_targeted = pd.read_excel(\"data_walmart_targeted_multi.xlsx\")\n",
    "df_walmart_targeted = df_walmart_targeted[[\"origin\", \"target\", \"edge_id\", \"operation_time\"]]\n",
    "df_walmart_targeted.head(2)"
   ]
  },
  {
   "cell_type": "code",
   "execution_count": null,
   "metadata": {},
   "outputs": [],
   "source": []
  }
 ],
 "metadata": {
  "kernelspec": {
   "display_name": "Python 3",
   "language": "python",
   "name": "python3"
  },
  "language_info": {
   "codemirror_mode": {
    "name": "ipython",
    "version": 3
   },
   "file_extension": ".py",
   "mimetype": "text/x-python",
   "name": "python",
   "nbconvert_exporter": "python",
   "pygments_lexer": "ipython3",
   "version": "3.8.3"
  }
 },
 "nbformat": 4,
 "nbformat_minor": 4
}
