{
 "cells": [
  {
   "cell_type": "markdown",
   "metadata": {},
   "source": [
    "# 1) Setup"
   ]
  },
  {
   "cell_type": "code",
   "execution_count": 2,
   "metadata": {},
   "outputs": [
    {
     "name": "stdout",
     "output_type": "stream",
     "text": [
      "done\n"
     ]
    }
   ],
   "source": [
    "#import libraries\n",
    "import pandas as pd\n",
    "import matplotlib.pyplot as plt\n",
    "from matplotlib import cm\n",
    "\n",
    "import numpy as np\n",
    "import math\n",
    "import scipy as sp\n",
    "from scipy import stats\n",
    "\n",
    "from copy import copy\n",
    "import time\n",
    "import yaml\n",
    "import pickle\n",
    "import networkx as nx\n",
    "import re\n",
    "import random\n",
    "\n",
    "import sklearn\n",
    "from sklearn.cluster import AgglomerativeClustering     #cluster edges\n",
    "from sklearn.metrics import silhouette_score            #score for clustering\n",
    "from sklearn.metrics import classification_report       #score for classification\n",
    "from sklearn.model_selection import GridSearchCV        #cross validate for KDE\n",
    "from sklearn.model_selection import cross_validate      #cross validate for classification\n",
    "from sklearn.neighbors import KernelDensity             #KDE for visualisation\n",
    "\n",
    "#classification algorithms\n",
    "from sklearn.linear_model import LogisticRegression \n",
    "from sklearn.neighbors import KNeighborsClassifier\n",
    "from sklearn import svm\n",
    "from sklearn.tree import DecisionTreeClassifier \n",
    "from sklearn.ensemble import RandomForestClassifier\n",
    "\n",
    "#visualise decision trees\n",
    "from six import StringIO  \n",
    "from IPython.display import Image  \n",
    "from sklearn.tree import export_graphviz\n",
    "import pydotplus\n",
    "\n",
    "#Pytorch libraries\n",
    "import torch \n",
    "import torchvision\n",
    "import torch.nn as nn\n",
    "import torch.nn.functional as F\n",
    "import torch.optim as optim\n",
    "import torchvision.transforms as transforms\n",
    "\n",
    "import pymongo\n",
    "from pymongo import MongoClient\n",
    "from datetime import datetime\n",
    "from datetime import timedelta\n",
    "print(\"done\")"
   ]
  },
  {
   "cell_type": "code",
   "execution_count": 3,
   "metadata": {},
   "outputs": [
    {
     "name": "stdout",
     "output_type": "stream",
     "text": [
      "done\n"
     ]
    }
   ],
   "source": [
    "#import functions from python files\n",
    "\n",
    "#1) draw maps\n",
    "from draw_graph import *\n",
    "from draw_graph_tsc import *\n",
    "\n",
    "#2) Bayesian optimisation of Lognormal model\n",
    "from Gamma import *\n",
    "from Lognormal import *\n",
    "from Gaussian import *\n",
    "from Gaussian_broadcast import *\n",
    "from Normal_Gamma import *\n",
    "\n",
    "from Normal_Gamma_bayes import *\n",
    "from Normal_Gamma_bayes_maxrange import *\n",
    "from Normal_Gamma_bayes_nothreshold import *\n",
    "from Normal_Gamma_bayes_initial import *\n",
    "from Normal_Gamma_bayes_update import *\n",
    "from Normal_Gamma_bayes_updateone import *\n",
    "from Gaussian_ml import *              # for comparison\n",
    "\n",
    "from select_data import *\n",
    "from select_data_edge import *\n",
    "\n",
    "from kde import *\n",
    "from update_mean import *\n",
    "from update_var import *\n",
    "\n",
    "#3) Clustering\n",
    "from get_context import *\n",
    "from get_adjacent import *\n",
    "from get_coords import *\n",
    "\n",
    "from distances_length import *\n",
    "from distances_length_subset import *\n",
    "from distances_connections import *\n",
    "from distances_connections2 import *\n",
    "from distances_ks import *\n",
    "from distances_ks_threshold import *\n",
    "from distances_square import *\n",
    "from distances_angle_max import *\n",
    "from distances_class import *\n",
    "\n",
    "from underscore_prefix import *\n",
    "from underscore_suffix import *\n",
    "\n",
    "from integrate import *\n",
    "from integrate_trapezium import *\n",
    "from integrate_simpson import *\n",
    "from integrate_pdf import *\n",
    "\n",
    "from calc_length import *\n",
    "from calc_angle import *\n",
    "\n",
    "from optimum_clusters import *\n",
    "from draw_clusters import *\n",
    "from draw_clusters_tsc import *\n",
    "\n",
    "from error_ks_2samples import *\n",
    "from error_square_2samples import *\n",
    "from compare_edges import *\n",
    "\n",
    "#4) Classification\n",
    "from get_length import *\n",
    "from get_connections import *\n",
    "from get_origin_target import *\n",
    "from get_angle_max import *\n",
    "from get_angle_sum import *\n",
    "\n",
    "from dataloader6 import *\n",
    "from dataloader_random import *\n",
    "from classifier_pointtest import *\n",
    "from classifier_featureimportance import *\n",
    "from classifier_comparemethods import *\n",
    "from classifier_trainonboth import *\n",
    "\n",
    "#5) regression\n",
    "from get_features import *\n",
    "\n",
    "from regression_dataloader import *\n",
    "from regression_dataloader_nofit import *\n",
    "from regression_dataloader_square import *\n",
    "from regressor_pointtest import *\n",
    "from regressor_nsimilar import *\n",
    "\n",
    "#6) Threshold-classification\n",
    "from ks_dataloader import *\n",
    "\n",
    "\n",
    "#6) Evaluation\n",
    "from evaluate_groundtruth import *\n",
    "from evaluate_offset import *\n",
    "\n",
    "from evaluate_mle import *\n",
    "from evaluate_mle_ensemble import *\n",
    "from evaluate_bayes import *\n",
    "from evaluate_bayes_ensemble import *\n",
    "\n",
    "from random_prior import *\n",
    "from specific_prior import *\n",
    "from evaluate_prior import *\n",
    "from evaluate_random import *\n",
    "from evaluate_random_obs import *\n",
    "from evaluate_random_ensemble import *\n",
    "from evaluate_random_multiedge import *\n",
    "\n",
    "from similar_length import *\n",
    "from evaluate_length import *\n",
    "from evaluate_length_ensemble import *\n",
    "from evaluate_length_ensemble_obs import *\n",
    "from compare_similar import *  #check supposedly similar distributions\n",
    "from compare_length import *\n",
    "\n",
    "from similar_classification import *\n",
    "from evaluate_classification import *\n",
    "from evaluate_classification_ensemble import *\n",
    "from evaluate_classification_multiedge import *\n",
    "from compare_classification import *\n",
    "\n",
    "from similar_regression import *\n",
    "from evaluate_regression import *\n",
    "from evaluate_regression_ensemble import *\n",
    "from evaluate_regression_multiedge import *\n",
    "from compare_regression import *\n",
    "\n",
    "from evaluate_specific_prior import *\n",
    "from similar_length_fast import *\n",
    "from start_ks_length import *\n",
    "from start_ks_random import *\n",
    "from similar_classification_fast import *\n",
    "from start_ks_classification import *\n",
    "from similar_regression_fast import *\n",
    "from start_ks_regression import *\n",
    "\n",
    "print(\"done\")"
   ]
  },
  {
   "cell_type": "code",
   "execution_count": 4,
   "metadata": {},
   "outputs": [
    {
     "name": "stdout",
     "output_type": "stream",
     "text": [
      "done\n"
     ]
    }
   ],
   "source": [
    "#AAF\n",
    "# retrieve data\n",
    "df_aaf_y4 = pd.read_excel(\"data_aaf_y4.xlsx\")\n",
    "df_aaf_y4 = df_aaf_y4[[\"origin\", \"target\", \"edge_id\", \"time_to_waypoint\", \"operation_time\"]]\n",
    "# retrieve data\n",
    "df_aaf_y3 = pd.read_excel(\"data_aaf_y3.xlsx\")\n",
    "df_aaf_y3 = df_aaf_y3[[\"origin\", \"target\", \"edge_id\", \"time_to_waypoint\", \"operation_time\"]]\n",
    "# retrieve data\n",
    "df_aaf_y2 = pd.read_excel(\"data_aaf_y2.xlsx\")\n",
    "df_aaf_y2 = df_aaf_y2[[\"origin\", \"target\", \"edge_id\", \"time_to_waypoint\", \"operation_time\"]]\n",
    "#merge data\n",
    "df_aaf_merge = pd.concat([df_aaf_y4, df_aaf_y3, df_aaf_y2])\n",
    "df_aaf_merge = df_aaf_merge.sample(frac=1).reset_index(drop = True)\n",
    "\n",
    "#TSC\n",
    "# retrieve data\n",
    "df_tsc_bob = pd.read_excel(\"data_tsc_bob.xlsx\")\n",
    "df_tsc_bob = df_tsc_bob[[\"origin\", \"target\", \"edge_id\", \"time_to_waypoint\", \"operation_time\"]]\n",
    "# retrieve data\n",
    "df_tsc_betty = pd.read_excel(\"data_tsc_betty.xlsx\")\n",
    "df_tsc_betty = df_tsc_betty[[\"origin\", \"target\", \"edge_id\", \"time_to_waypoint\", \"operation_time\"]]\n",
    "# retrieve data\n",
    "df_tsc_y3 = pd.read_excel(\"data_tsc_y3.xlsx\")\n",
    "df_tsc_y3 = df_tsc_y3[[\"origin\", \"target\", \"edge_id\", \"time_to_waypoint\", \"operation_time\"]]\n",
    "#merge data\n",
    "df_tsc_merge = pd.concat([df_tsc_betty, df_tsc_bob, df_tsc_y3])\n",
    "df_tsc_merge = df_tsc_merge.sample(frac=1).reset_index(drop = True)\n",
    "\n",
    "#LABS\n",
    "# retrieve data\n",
    "df_labs = pd.read_excel(\"data_labs.xlsx\")\n",
    "df_labs = df_labs[[\"origin\", \"target\", \"edge_id\", \"time_to_waypoint\", \"operation_time\"]]\n",
    "#randomise data\n",
    "df_labs_merge = df_labs.sample(frac=1).reset_index(drop = True)\n",
    "\n",
    "#BLENHEIM\n",
    "# retrieve data\n",
    "df_blenheim_random = pd.read_excel(\"data_blenheim_random.xlsx\")\n",
    "df_blenheim_random = df_blenheim_random[[\"origin\", \"target\", \"edge_id\", \"operation_time\"]]\n",
    "# retrieve data\n",
    "df_blenheim_targeted = pd.read_excel(\"data_blenheim_targeted.xlsx\")\n",
    "df_blenheim_targeted = df_blenheim_targeted[[\"origin\", \"target\", \"edge_id\", \"operation_time\"]]\n",
    "#merge data\n",
    "df_blenheim_merge = pd.concat([df_blenheim_random,df_blenheim_targeted])\n",
    "df_blenheim_merge = df_blenheim_merge.sample(frac=1).reset_index(drop = True)\n",
    "\n",
    "#WALMART\n",
    "# retrieve data\n",
    "df_walmart_random = pd.read_excel(\"data_walmart_random.xlsx\")\n",
    "df_walmart_random = df_walmart_random[[\"origin\", \"target\", \"edge_id\", \"operation_time\"]]\n",
    "# retrieve data\n",
    "df_walmart_targeted = pd.read_excel(\"data_walmart_targeted.xlsx\")\n",
    "df_walmart_targeted = df_walmart_targeted[[\"origin\", \"target\", \"edge_id\", \"operation_time\"]]\n",
    "#merge data\n",
    "df_walmart_merge = pd.concat([df_walmart_random,df_walmart_targeted])\n",
    "df_walmart_merge = df_walmart_merge.sample(frac=1).reset_index(drop = True)\n",
    "\n",
    "print(\"done\")"
   ]
  },
  {
   "cell_type": "code",
   "execution_count": 33,
   "metadata": {},
   "outputs": [
    {
     "name": "stdout",
     "output_type": "stream",
     "text": [
      "done\n"
     ]
    }
   ],
   "source": [
    "#BLENHEIM\n",
    "# retrieve data\n",
    "df_blenheim_random_multi = pd.read_excel(\"data_blenheim_random_multi.xlsx\")\n",
    "df_blenheim_random_multi = df_blenheim_random_multi[[\"origin\", \"target\", \"edge_id\", \"operation_time\", \"n_robots\"]]\n",
    "# retrieve data\n",
    "df_blenheim_targeted_multi = pd.read_excel(\"data_blenheim_targeted_multi.xlsx\")\n",
    "df_blenheim_targeted_multi = df_blenheim_targeted_multi[[\"origin\", \"target\", \"edge_id\", \"operation_time\", \"n_robots\"]]\n",
    "#merge data\n",
    "df_blenheim_merge_multi = pd.concat([df_blenheim_random_multi,df_blenheim_targeted_multi])\n",
    "df_blenheim_merge_multi = df_blenheim_merge_multi.sample(frac=1).reset_index(drop = True)\n",
    "\n",
    "#WALMART\n",
    "# retrieve data\n",
    "df_walmart_random_multi = pd.read_excel(\"data_walmart_random_multi.xlsx\")\n",
    "df_walmart_random_multi = df_walmart_random_multi[[\"origin\", \"target\", \"edge_id\", \"operation_time\", \"n_robots\"]]\n",
    "# retrieve data\n",
    "df_walmart_targeted_multi = pd.read_excel(\"data_walmart_targeted_multi.xlsx\")\n",
    "df_walmart_targeted_multi = df_walmart_targeted_multi[[\"origin\", \"target\", \"edge_id\", \"operation_time\", \"n_robots\"]]\n",
    "#merge data\n",
    "df_walmart_merge_multi = pd.concat([df_walmart_random_multi,df_walmart_targeted_multi])\n",
    "df_walmart_merge_multi = df_walmart_merge_multi.sample(frac=1).reset_index(drop = True)\n",
    "\n",
    "print(\"done\")"
   ]
  },
  {
   "cell_type": "code",
   "execution_count": 84,
   "metadata": {},
   "outputs": [],
   "source": [
    "# filter for congestion\n",
    "min_robots = 3\n",
    "df_blenheim_merge_multi = df_blenheim_merge_multi[df_blenheim_merge_multi[\"n_robots\"]>=min_robots]\n",
    "df_walmart_merge_multi = df_walmart_merge_multi[df_walmart_merge_multi[\"n_robots\"]>=min_robots]"
   ]
  },
  {
   "cell_type": "code",
   "execution_count": 85,
   "metadata": {},
   "outputs": [
    {
     "name": "stdout",
     "output_type": "stream",
     "text": [
      "edge is defined\n"
     ]
    }
   ],
   "source": [
    "edge = \"WayPoint76_Lift1\"\n",
    "seed = 1\n",
    "print(\"edge is defined\")"
   ]
  },
  {
   "cell_type": "code",
   "execution_count": 117,
   "metadata": {},
   "outputs": [],
   "source": [
    "df_train = df_walmart_merge_multi\n",
    "df_test = df_blenheim_merge_multi\n",
    "filename_train = \"walmart_map.yaml\"\n",
    "filename_test = \"blenheim_map.yaml\"\n",
    "metric = \"operation_time\"\n",
    "cutoff = 10"
   ]
  },
  {
   "cell_type": "markdown",
   "metadata": {},
   "source": [
    "# 2) Train Clustering-Classification"
   ]
  },
  {
   "cell_type": "markdown",
   "metadata": {},
   "source": [
    "## 2a) Clustering on Training map"
   ]
  },
  {
   "cell_type": "code",
   "execution_count": 87,
   "metadata": {},
   "outputs": [
    {
     "name": "stdout",
     "output_type": "stream",
     "text": [
      "0 edges: 0.057845115661621094 secs\n",
      "20 edges: 1.0812013149261475 secs\n",
      "40 edges: 1.1799712181091309 secs\n",
      "60 edges: 1.1909096240997314 secs\n",
      "Time taken: 1.1948974132537842 secs\n",
      "22 0\n"
     ]
    }
   ],
   "source": [
    "#train map\n",
    "threshold_matrix_train, threshold_edges_train, lone_edges_train = distances_ks_threshold(df_train, metric = metric, cutoff = 20, threshold = 0.3)\n",
    "print(len(threshold_matrix_train), len(lone_edges_train))"
   ]
  },
  {
   "cell_type": "code",
   "execution_count": 88,
   "metadata": {},
   "outputs": [
    {
     "name": "stdout",
     "output_type": "stream",
     "text": [
      "Optimum no. of clusters: 2\n",
      "Max silhouette coeff: 0.5134878070144856\n"
     ]
    },
    {
     "data": {
      "image/png": "[encoded data removed]",
      "text/plain": [
       "<Figure size 432x288 with 1 Axes>"
      ]
     },
     "metadata": {
      "needs_background": "light"
     },
     "output_type": "display_data"
    }
   ],
   "source": [
    "n_clusters, s_list = optimum_clusters(threshold_matrix_train, max_clusters = 20, method = \"ss\", linkage = \"average\")"
   ]
  },
  {
   "cell_type": "code",
   "execution_count": 89,
   "metadata": {},
   "outputs": [
    {
     "name": "stdout",
     "output_type": "stream",
     "text": [
      "[0 0 0 0 0 0 0 0 1 0 0 0 1 0 0 1 0 1 1 0 1 0]\n",
      "2 clusters\n"
     ]
    }
   ],
   "source": [
    "clustering = AgglomerativeClustering(n_clusters=n_clusters[np.argmax(s_list)], affinity='precomputed', linkage = 'average')\n",
    "labels = clustering.fit_predict( threshold_matrix_train )\n",
    "print(labels)\n",
    "threshold_clusters_train = pd.DataFrame(index = np.arange(len(threshold_edges_train)),columns = [\"edge_id\", \"cluster_id\"])\n",
    "threshold_clusters_train[\"edge_id\"] = threshold_edges_train\n",
    "threshold_clusters_train[\"cluster_id\"] = labels\n",
    "print(np.max(labels) + 1, \"clusters\")"
   ]
  },
  {
   "cell_type": "code",
   "execution_count": 90,
   "metadata": {},
   "outputs": [
    {
     "name": "stdout",
     "output_type": "stream",
     "text": [
      "no. of edges: 256\n",
      "CLuster 0 has colour code: r\n",
      "CLuster 1 has colour code: g\n",
      "Edges without enough data are black\n"
     ]
    },
    {
     "data": {
      "image/png": "[encoded data removed]",
      "text/plain": [
       "<Figure size 864x576 with 1 Axes>"
      ]
     },
     "metadata": {
      "needs_background": "light"
     },
     "output_type": "display_data"
    }
   ],
   "source": [
    "G = draw_clusters(filename_train, threshold_clusters_train, size = 2, rotate = False)"
   ]
  },
  {
   "cell_type": "markdown",
   "metadata": {},
   "source": [
    "## 2b) Clustering on Test Map (for validation in 8c)"
   ]
  },
  {
   "cell_type": "code",
   "execution_count": 91,
   "metadata": {},
   "outputs": [
    {
     "name": "stdout",
     "output_type": "stream",
     "text": [
      "0 edges: 0.008967161178588867 secs\n",
      "Time taken: 0.5859975814819336 secs\n",
      "12 1\n"
     ]
    }
   ],
   "source": [
    "#test map\n",
    "threshold_matrix_test, threshold_edges_test, lone_edges_test = distances_ks_threshold(df_test, metric = metric, cutoff = 20, threshold = 0.3)\n",
    "print(len(threshold_matrix_test), len(lone_edges_test))"
   ]
  },
  {
   "cell_type": "code",
   "execution_count": 100,
   "metadata": {},
   "outputs": [
    {
     "name": "stdout",
     "output_type": "stream",
     "text": [
      "Optimum no. of clusters: 3\n",
      "Max silhouette coeff: 0.44890076720176\n"
     ]
    },
    {
     "data": {
      "image/png": "[encoded data removed]",
      "text/plain": [
       "<Figure size 432x288 with 1 Axes>"
      ]
     },
     "metadata": {
      "needs_background": "light"
     },
     "output_type": "display_data"
    }
   ],
   "source": [
    "n_clusters, s_list = optimum_clusters(threshold_matrix_test, max_clusters = 12, method = \"ss\", linkage = \"average\")"
   ]
  },
  {
   "cell_type": "code",
   "execution_count": 101,
   "metadata": {},
   "outputs": [
    {
     "name": "stdout",
     "output_type": "stream",
     "text": [
      "[0 0 0 0 0 0 0 0 0 0 0 0]\n",
      "1 clusters\n"
     ]
    }
   ],
   "source": [
    "clustering = AgglomerativeClustering(n_clusters=1, affinity='precomputed', linkage = 'average')\n",
    "labels = clustering.fit_predict( threshold_matrix_test )\n",
    "print(labels)\n",
    "threshold_clusters_test = pd.DataFrame(index = np.arange(len(threshold_edges_test)),columns = [\"edge_id\", \"cluster_id\"])\n",
    "threshold_clusters_test[\"edge_id\"] = threshold_edges_test\n",
    "threshold_clusters_test[\"cluster_id\"] = labels\n",
    "print(np.max(labels) + 1, \"clusters\")"
   ]
  },
  {
   "cell_type": "code",
   "execution_count": 102,
   "metadata": {},
   "outputs": [
    {
     "name": "stdout",
     "output_type": "stream",
     "text": [
      "no. of edges: 22\n",
      "CLuster 0 has colour code: r\n",
      "Edges without enough data are black\n"
     ]
    },
    {
     "data": {
      "image/png": "[encoded data removed]",
      "text/plain": [
       "<Figure size 1296x864 with 1 Axes>"
      ]
     },
     "metadata": {
      "needs_background": "light"
     },
     "output_type": "display_data"
    }
   ],
   "source": [
    "G = draw_clusters(filename_test, threshold_clusters_test, size = 3, rotate = True)"
   ]
  },
  {
   "cell_type": "markdown",
   "metadata": {},
   "source": [
    "## 2c) Train Binary Classifier"
   ]
  },
  {
   "cell_type": "code",
   "execution_count": 103,
   "metadata": {},
   "outputs": [
    {
     "name": "stdout",
     "output_type": "stream",
     "text": [
      "Time taken (dataloader6): 6.272185564041138 secs\n",
      "Time taken (dataloader6): 0.6792480945587158 secs\n"
     ]
    }
   ],
   "source": [
    "#Load data into binary label format\n",
    "#training map\n",
    "df_class_diff_train = dataloader6(threshold_clusters_train, filename = filename_train)\n",
    "#testing map\n",
    "df_class_diff_test = dataloader6(threshold_clusters_test, filename = filename_test)"
   ]
  },
  {
   "cell_type": "code",
   "execution_count": 104,
   "metadata": {},
   "outputs": [
    {
     "name": "stdout",
     "output_type": "stream",
     "text": [
      "Samples drawn: 192\n",
      "Samples drawn: 66\n",
      "Classifier type: gb\n",
      "Accuracy: 0.6212121212121212\n",
      "              precision    recall  f1-score   support\n",
      "\n",
      "         0.0       0.00      0.00      0.00         0\n",
      "         1.0       1.00      0.62      0.77        66\n",
      "\n",
      "    accuracy                           0.62        66\n",
      "   macro avg       0.50      0.31      0.38        66\n",
      "weighted avg       1.00      0.62      0.77        66\n",
      "\n"
     ]
    },
    {
     "name": "stderr",
     "output_type": "stream",
     "text": [
      "C:\\Users\\pyliu\\anaconda3\\lib\\site-packages\\sklearn\\metrics\\_classification.py:1221: UndefinedMetricWarning: Recall and F-score are ill-defined and being set to 0.0 in labels with no true samples. Use `zero_division` parameter to control this behavior.\n",
      "  _warn_prf(average, modifier, msg_start, len(result))\n",
      "C:\\Users\\pyliu\\anaconda3\\lib\\site-packages\\sklearn\\metrics\\_ranking.py:803: UndefinedMetricWarning: No negative samples in y_true, false positive value should be meaningless\n",
      "  warnings.warn(\"No negative samples in y_true, \"\n",
      "C:\\Users\\pyliu\\anaconda3\\lib\\site-packages\\sklearn\\metrics\\_ranking.py:89: RuntimeWarning: invalid value encountered in less\n",
      "  if np.any(dx < 0):\n"
     ]
    },
    {
     "data": {
      "image/png": "[encoded data removed]",
      "text/plain": [
       "<Figure size 432x288 with 1 Axes>"
      ]
     },
     "metadata": {
      "needs_background": "light"
     },
     "output_type": "display_data"
    }
   ],
   "source": [
    "#point test - can choose classifier\n",
    "#from [\"rf\", \"dt\", \"knn\", \"lr\", \"svm\",  \n",
    "#      \"gb\", \"ab\", \"nb\", \"qda\"]\n",
    "classifier = \"gb\"\n",
    "clf_clcl = classifier_pointtest(df_class_diff_train, df_class_diff_test,\n",
    "                               features = [\"edge_length_diff\", \"origin_connections_diff\", \n",
    "                                \"target_connections_diff\", \"total_connections_diff\", \n",
    "                                \"max_angle_diff\", \"sum_angle_diff\"], \n",
    "                                target = \"same_cluster\",\n",
    "                               classifier = classifier,balanced_train = True, balanced_test = False)"
   ]
  },
  {
   "cell_type": "markdown",
   "metadata": {},
   "source": [
    "# 3) Train Regression"
   ]
  },
  {
   "cell_type": "markdown",
   "metadata": {},
   "source": [
    "## 3a) KS Dataloader"
   ]
  },
  {
   "cell_type": "code",
   "execution_count": 105,
   "metadata": {},
   "outputs": [
    {
     "name": "stdout",
     "output_type": "stream",
     "text": [
      "Time taken (regression_dataloader): 6.915617942810059 secs\n"
     ]
    },
    {
     "data": {
      "text/html": [
       "<div>\n",
       "<style scoped>\n",
       "    .dataframe tbody tr th:only-of-type {\n",
       "        vertical-align: middle;\n",
       "    }\n",
       "\n",
       "    .dataframe tbody tr th {\n",
       "        vertical-align: top;\n",
       "    }\n",
       "\n",
       "    .dataframe thead th {\n",
       "        text-align: right;\n",
       "    }\n",
       "</style>\n",
       "<table border=\"1\" class=\"dataframe\">\n",
       "  <thead>\n",
       "    <tr style=\"text-align: right;\">\n",
       "      <th></th>\n",
       "      <th>edge1</th>\n",
       "      <th>edge2</th>\n",
       "      <th>n_obs1</th>\n",
       "      <th>n_obs2</th>\n",
       "      <th>ks</th>\n",
       "      <th>edge_length_diff</th>\n",
       "      <th>origin_connections_diff</th>\n",
       "      <th>target_connections_diff</th>\n",
       "      <th>total_connections_diff</th>\n",
       "      <th>max_angle_diff</th>\n",
       "      <th>sum_angle_diff</th>\n",
       "    </tr>\n",
       "  </thead>\n",
       "  <tbody>\n",
       "    <tr>\n",
       "      <th>64</th>\n",
       "      <td>WayPoint109_WayPoint102</td>\n",
       "      <td>WayPoint74_WayPoint67</td>\n",
       "      <td>53</td>\n",
       "      <td>50</td>\n",
       "      <td>0.344906</td>\n",
       "      <td>0.972905</td>\n",
       "      <td>1</td>\n",
       "      <td>0</td>\n",
       "      <td>1</td>\n",
       "      <td>0.00347126</td>\n",
       "      <td>0.00905659</td>\n",
       "    </tr>\n",
       "    <tr>\n",
       "      <th>65</th>\n",
       "      <td>WayPoint70_WayPoint69</td>\n",
       "      <td>WayPoint74_WayPoint67</td>\n",
       "      <td>51</td>\n",
       "      <td>50</td>\n",
       "      <td>0.165098</td>\n",
       "      <td>0.417156</td>\n",
       "      <td>1</td>\n",
       "      <td>1</td>\n",
       "      <td>2</td>\n",
       "      <td>0.00663931</td>\n",
       "      <td>1.56148</td>\n",
       "    </tr>\n",
       "  </tbody>\n",
       "</table>\n",
       "</div>"
      ],
      "text/plain": [
       "                      edge1                  edge2 n_obs1 n_obs2        ks  \\\n",
       "64  WayPoint109_WayPoint102  WayPoint74_WayPoint67     53     50  0.344906   \n",
       "65    WayPoint70_WayPoint69  WayPoint74_WayPoint67     51     50  0.165098   \n",
       "\n",
       "   edge_length_diff origin_connections_diff target_connections_diff  \\\n",
       "64         0.972905                       1                       0   \n",
       "65         0.417156                       1                       1   \n",
       "\n",
       "   total_connections_diff max_angle_diff sum_angle_diff  \n",
       "64                      1     0.00347126     0.00905659  \n",
       "65                      2     0.00663931        1.56148  "
      ]
     },
     "execution_count": 105,
     "metadata": {},
     "output_type": "execute_result"
    }
   ],
   "source": [
    "#Train map\n",
    "df_ks_diff_train = regression_dataloader_nofit(df_train, filename = filename_train,metric = metric,\n",
    "                                             cutoff = 50, verbose = True, report_interval = 5000)\n",
    "df_ks_diff_train.tail(2)"
   ]
  },
  {
   "cell_type": "code",
   "execution_count": 106,
   "metadata": {},
   "outputs": [
    {
     "name": "stdout",
     "output_type": "stream",
     "text": [
      "Time taken (regression_dataloader): 0.9145867824554443 secs\n"
     ]
    },
    {
     "data": {
      "text/html": [
       "<div>\n",
       "<style scoped>\n",
       "    .dataframe tbody tr th:only-of-type {\n",
       "        vertical-align: middle;\n",
       "    }\n",
       "\n",
       "    .dataframe tbody tr th {\n",
       "        vertical-align: top;\n",
       "    }\n",
       "\n",
       "    .dataframe thead th {\n",
       "        text-align: right;\n",
       "    }\n",
       "</style>\n",
       "<table border=\"1\" class=\"dataframe\">\n",
       "  <thead>\n",
       "    <tr style=\"text-align: right;\">\n",
       "      <th></th>\n",
       "      <th>edge1</th>\n",
       "      <th>edge2</th>\n",
       "      <th>n_obs1</th>\n",
       "      <th>n_obs2</th>\n",
       "      <th>ks</th>\n",
       "      <th>edge_length_diff</th>\n",
       "      <th>origin_connections_diff</th>\n",
       "      <th>target_connections_diff</th>\n",
       "      <th>total_connections_diff</th>\n",
       "      <th>max_angle_diff</th>\n",
       "      <th>sum_angle_diff</th>\n",
       "    </tr>\n",
       "  </thead>\n",
       "  <tbody>\n",
       "    <tr>\n",
       "      <th>50</th>\n",
       "      <td>WayPoint7_WayPoint10</td>\n",
       "      <td>WayPoint10_WayPoint7</td>\n",
       "      <td>125</td>\n",
       "      <td>81</td>\n",
       "      <td>0.228247</td>\n",
       "      <td>0</td>\n",
       "      <td>0</td>\n",
       "      <td>0</td>\n",
       "      <td>0</td>\n",
       "      <td>0.00279618</td>\n",
       "      <td>0.00279618</td>\n",
       "    </tr>\n",
       "    <tr>\n",
       "      <th>51</th>\n",
       "      <td>WayPoint7_WayPoint10</td>\n",
       "      <td>WayPoint1_WayPoint11</td>\n",
       "      <td>125</td>\n",
       "      <td>52</td>\n",
       "      <td>0.170154</td>\n",
       "      <td>0.305676</td>\n",
       "      <td>1</td>\n",
       "      <td>0</td>\n",
       "      <td>1</td>\n",
       "      <td>0.00600017</td>\n",
       "      <td>0.00600017</td>\n",
       "    </tr>\n",
       "  </tbody>\n",
       "</table>\n",
       "</div>"
      ],
      "text/plain": [
       "                   edge1                 edge2 n_obs1 n_obs2        ks  \\\n",
       "50  WayPoint7_WayPoint10  WayPoint10_WayPoint7    125     81  0.228247   \n",
       "51  WayPoint7_WayPoint10  WayPoint1_WayPoint11    125     52  0.170154   \n",
       "\n",
       "   edge_length_diff origin_connections_diff target_connections_diff  \\\n",
       "50                0                       0                       0   \n",
       "51         0.305676                       1                       0   \n",
       "\n",
       "   total_connections_diff max_angle_diff sum_angle_diff  \n",
       "50                      0     0.00279618     0.00279618  \n",
       "51                      1     0.00600017     0.00600017  "
      ]
     },
     "execution_count": 106,
     "metadata": {},
     "output_type": "execute_result"
    }
   ],
   "source": [
    "#Test map\n",
    "df_ks_diff_test = regression_dataloader_nofit(df_test, filename = filename_test,metric = metric,cutoff = 50, verbose = True, report_interval = 5000)\n",
    "df_ks_diff_test.tail(2)"
   ]
  },
  {
   "cell_type": "markdown",
   "metadata": {},
   "source": [
    "## 3b) Train KS Regressor"
   ]
  },
  {
   "cell_type": "code",
   "execution_count": 107,
   "metadata": {},
   "outputs": [
    {
     "name": "stdout",
     "output_type": "stream",
     "text": [
      "MSE: 0.02290885480253141\n",
      "MAE: 0.12555667383948554\n",
      "Max/min y_pred: 0.43502602619391584 0.14388107248637166\n",
      "Max/min y_test: 0.6253256314418394 0.06941406699666168\n"
     ]
    }
   ],
   "source": [
    "#Valid classifiers = [\"ols\", \"rf\", \"gb, \"ab\", \"svr\"]\n",
    "clf_reg = regressor_pointtest(df_train = df_ks_diff_train, \n",
    "                              df_test = df_ks_diff_test,\n",
    "            features = [\"edge_length_diff\", \"origin_connections_diff\", \n",
    "            \"target_connections_diff\", \"total_connections_diff\", \n",
    "            \"max_angle_diff\", \"sum_angle_diff\"], \n",
    "            target = \"ks\",\n",
    "            classifier= \"rf\")"
   ]
  },
  {
   "cell_type": "markdown",
   "metadata": {},
   "source": [
    "# 4) Train Threshold-Classificaton"
   ]
  },
  {
   "cell_type": "markdown",
   "metadata": {},
   "source": [
    "## 4a) pval dataloader"
   ]
  },
  {
   "cell_type": "code",
   "execution_count": 108,
   "metadata": {},
   "outputs": [
    {
     "name": "stdout",
     "output_type": "stream",
     "text": [
      "Time taken (regression_dataloader): 6.7333457469940186 secs\n"
     ]
    },
    {
     "data": {
      "text/html": [
       "<div>\n",
       "<style scoped>\n",
       "    .dataframe tbody tr th:only-of-type {\n",
       "        vertical-align: middle;\n",
       "    }\n",
       "\n",
       "    .dataframe tbody tr th {\n",
       "        vertical-align: top;\n",
       "    }\n",
       "\n",
       "    .dataframe thead th {\n",
       "        text-align: right;\n",
       "    }\n",
       "</style>\n",
       "<table border=\"1\" class=\"dataframe\">\n",
       "  <thead>\n",
       "    <tr style=\"text-align: right;\">\n",
       "      <th></th>\n",
       "      <th>edge1</th>\n",
       "      <th>edge2</th>\n",
       "      <th>n_obs1</th>\n",
       "      <th>n_obs2</th>\n",
       "      <th>ks</th>\n",
       "      <th>pval</th>\n",
       "      <th>same_cluster</th>\n",
       "      <th>edge_length_diff</th>\n",
       "      <th>origin_connections_diff</th>\n",
       "      <th>target_connections_diff</th>\n",
       "      <th>total_connections_diff</th>\n",
       "      <th>max_angle_diff</th>\n",
       "      <th>sum_angle_diff</th>\n",
       "    </tr>\n",
       "  </thead>\n",
       "  <tbody>\n",
       "    <tr>\n",
       "      <th>64</th>\n",
       "      <td>WayPoint109_WayPoint102</td>\n",
       "      <td>WayPoint74_WayPoint67</td>\n",
       "      <td>53</td>\n",
       "      <td>50</td>\n",
       "      <td>0.344906</td>\n",
       "      <td>0.00302381</td>\n",
       "      <td>False</td>\n",
       "      <td>0.972905</td>\n",
       "      <td>1</td>\n",
       "      <td>0</td>\n",
       "      <td>1</td>\n",
       "      <td>0.00347126</td>\n",
       "      <td>0.00905659</td>\n",
       "    </tr>\n",
       "    <tr>\n",
       "      <th>65</th>\n",
       "      <td>WayPoint70_WayPoint69</td>\n",
       "      <td>WayPoint74_WayPoint67</td>\n",
       "      <td>51</td>\n",
       "      <td>50</td>\n",
       "      <td>0.165098</td>\n",
       "      <td>0.442424</td>\n",
       "      <td>True</td>\n",
       "      <td>0.417156</td>\n",
       "      <td>1</td>\n",
       "      <td>1</td>\n",
       "      <td>2</td>\n",
       "      <td>0.00663931</td>\n",
       "      <td>1.56148</td>\n",
       "    </tr>\n",
       "  </tbody>\n",
       "</table>\n",
       "</div>"
      ],
      "text/plain": [
       "                      edge1                  edge2 n_obs1 n_obs2        ks  \\\n",
       "64  WayPoint109_WayPoint102  WayPoint74_WayPoint67     53     50  0.344906   \n",
       "65    WayPoint70_WayPoint69  WayPoint74_WayPoint67     51     50  0.165098   \n",
       "\n",
       "          pval same_cluster edge_length_diff origin_connections_diff  \\\n",
       "64  0.00302381        False         0.972905                       1   \n",
       "65    0.442424         True         0.417156                       1   \n",
       "\n",
       "   target_connections_diff total_connections_diff max_angle_diff  \\\n",
       "64                       0                      1     0.00347126   \n",
       "65                       1                      2     0.00663931   \n",
       "\n",
       "   sum_angle_diff  \n",
       "64     0.00905659  \n",
       "65        1.56148  "
      ]
     },
     "execution_count": 108,
     "metadata": {},
     "output_type": "execute_result"
    }
   ],
   "source": [
    "#Train map\n",
    "df_similar_diff_train = ks_dataloader(df_train, filename = filename_train,metric = metric,\n",
    "                               threshold = 0.33,threshold_metric = \"ks\",\n",
    "                                cutoff = 50, verbose = True, report_interval = 10000)\n",
    "\n",
    "df_similar_diff_train.tail(2)"
   ]
  },
  {
   "cell_type": "code",
   "execution_count": 109,
   "metadata": {},
   "outputs": [
    {
     "name": "stdout",
     "output_type": "stream",
     "text": [
      "Time taken (regression_dataloader): 0.8875014781951904 secs\n"
     ]
    },
    {
     "data": {
      "text/html": [
       "<div>\n",
       "<style scoped>\n",
       "    .dataframe tbody tr th:only-of-type {\n",
       "        vertical-align: middle;\n",
       "    }\n",
       "\n",
       "    .dataframe tbody tr th {\n",
       "        vertical-align: top;\n",
       "    }\n",
       "\n",
       "    .dataframe thead th {\n",
       "        text-align: right;\n",
       "    }\n",
       "</style>\n",
       "<table border=\"1\" class=\"dataframe\">\n",
       "  <thead>\n",
       "    <tr style=\"text-align: right;\">\n",
       "      <th></th>\n",
       "      <th>edge1</th>\n",
       "      <th>edge2</th>\n",
       "      <th>n_obs1</th>\n",
       "      <th>n_obs2</th>\n",
       "      <th>ks</th>\n",
       "      <th>pval</th>\n",
       "      <th>same_cluster</th>\n",
       "      <th>edge_length_diff</th>\n",
       "      <th>origin_connections_diff</th>\n",
       "      <th>target_connections_diff</th>\n",
       "      <th>total_connections_diff</th>\n",
       "      <th>max_angle_diff</th>\n",
       "      <th>sum_angle_diff</th>\n",
       "    </tr>\n",
       "  </thead>\n",
       "  <tbody>\n",
       "    <tr>\n",
       "      <th>50</th>\n",
       "      <td>WayPoint7_WayPoint10</td>\n",
       "      <td>WayPoint10_WayPoint7</td>\n",
       "      <td>125</td>\n",
       "      <td>81</td>\n",
       "      <td>0.228247</td>\n",
       "      <td>0.00964514</td>\n",
       "      <td>True</td>\n",
       "      <td>0</td>\n",
       "      <td>0</td>\n",
       "      <td>0</td>\n",
       "      <td>0</td>\n",
       "      <td>0.00279618</td>\n",
       "      <td>0.00279618</td>\n",
       "    </tr>\n",
       "    <tr>\n",
       "      <th>51</th>\n",
       "      <td>WayPoint7_WayPoint10</td>\n",
       "      <td>WayPoint1_WayPoint11</td>\n",
       "      <td>125</td>\n",
       "      <td>52</td>\n",
       "      <td>0.170154</td>\n",
       "      <td>0.208995</td>\n",
       "      <td>True</td>\n",
       "      <td>0.305676</td>\n",
       "      <td>1</td>\n",
       "      <td>0</td>\n",
       "      <td>1</td>\n",
       "      <td>0.00600017</td>\n",
       "      <td>0.00600017</td>\n",
       "    </tr>\n",
       "  </tbody>\n",
       "</table>\n",
       "</div>"
      ],
      "text/plain": [
       "                   edge1                 edge2 n_obs1 n_obs2        ks  \\\n",
       "50  WayPoint7_WayPoint10  WayPoint10_WayPoint7    125     81  0.228247   \n",
       "51  WayPoint7_WayPoint10  WayPoint1_WayPoint11    125     52  0.170154   \n",
       "\n",
       "          pval same_cluster edge_length_diff origin_connections_diff  \\\n",
       "50  0.00964514         True                0                       0   \n",
       "51    0.208995         True         0.305676                       1   \n",
       "\n",
       "   target_connections_diff total_connections_diff max_angle_diff  \\\n",
       "50                       0                      0     0.00279618   \n",
       "51                       0                      1     0.00600017   \n",
       "\n",
       "   sum_angle_diff  \n",
       "50     0.00279618  \n",
       "51     0.00600017  "
      ]
     },
     "execution_count": 109,
     "metadata": {},
     "output_type": "execute_result"
    }
   ],
   "source": [
    "#Test map\n",
    "df_similar_diff_test = ks_dataloader(df_test, filename = filename_test,metric = metric,\n",
    "                               threshold = 0.33,threshold_metric = \"ks\",\n",
    "                               cutoff = 50, verbose = True, report_interval = 10000)\n",
    "\n",
    "df_similar_diff_test.tail(2)"
   ]
  },
  {
   "cell_type": "markdown",
   "metadata": {},
   "source": [
    "## 4b) Train Classifier"
   ]
  },
  {
   "cell_type": "code",
   "execution_count": 110,
   "metadata": {},
   "outputs": [
    {
     "name": "stdout",
     "output_type": "stream",
     "text": [
      "Samples drawn: 40\n",
      "Samples drawn: 52\n",
      "Classifier type: gb\n",
      "Accuracy: 0.6538461538461539\n",
      "              precision    recall  f1-score   support\n",
      "\n",
      "         0.0       0.25      0.25      0.25        12\n",
      "         1.0       0.78      0.78      0.78        40\n",
      "\n",
      "    accuracy                           0.65        52\n",
      "   macro avg       0.51      0.51      0.51        52\n",
      "weighted avg       0.65      0.65      0.65        52\n",
      "\n"
     ]
    },
    {
     "data": {
      "image/png": "[encoded data removed]",
      "text/plain": [
       "<Figure size 432x288 with 1 Axes>"
      ]
     },
     "metadata": {
      "needs_background": "light"
     },
     "output_type": "display_data"
    }
   ],
   "source": [
    "#point test - can choose classifier\n",
    "#from [\"rf\", \"dt\", \"knn\", \"lr\", \"svm\",  \n",
    "#      \"gb\", \"ab\", \"nb\", \"qda\"]\n",
    "classifier = \"gb\"\n",
    "clf_thcl = classifier_pointtest(df_similar_diff_train, df_similar_diff_test,\n",
    "                               features = [\"edge_length_diff\", \"origin_connections_diff\", \n",
    "                                \"target_connections_diff\", \"total_connections_diff\", \n",
    "                                \"max_angle_diff\", \"sum_angle_diff\"], \n",
    "                                target = \"same_cluster\",\n",
    "                               classifier = classifier,balanced_train = True, balanced_test = False)"
   ]
  },
  {
   "cell_type": "markdown",
   "metadata": {},
   "source": [
    "# 5) Initial KS"
   ]
  },
  {
   "cell_type": "code",
   "execution_count": 118,
   "metadata": {},
   "outputs": [
    {
     "name": "stdout",
     "output_type": "stream",
     "text": [
      "0 iterations: 0.9151625633239746 secs\n",
      "11.918687343597412\n",
      "0.40333140349076246 0.16299159974760039\n"
     ]
    }
   ],
   "source": [
    "#random\n",
    "initial_ks_random, edge_test_random, edge_prior_random = start_ks_random(df_train = df_train,\n",
    "                                                        df_test = df_test,\n",
    "                                                        filename_train = filename_train, \n",
    "                                                        filename_test = filename_test,\n",
    "                                                        metric = metric,\n",
    "                                                        cutoff = cutoff, verbose = True)\n",
    "print(np.mean(initial_ks_random),np.std(initial_ks_random))\n"
   ]
  },
  {
   "cell_type": "code",
   "execution_count": 119,
   "metadata": {},
   "outputs": [
    {
     "name": "stdout",
     "output_type": "stream",
     "text": [
      "0 iterations: 0.8587033748626709 secs\n",
      "16.71303963661194\n",
      "0.372047554473216 0.12493982077312961\n"
     ]
    }
   ],
   "source": [
    "#by length\n",
    "initial_ks_length, edge_test_length, edge_prior_length = start_ks_length(df_train = df_train,\n",
    "                                                        df_test = df_test,\n",
    "                                                        filename_train = filename_train, \n",
    "                                                        filename_test = filename_test,\n",
    "                                                        metric = metric,\n",
    "                                                        cutoff = cutoff, verbose = True)\n",
    "print(np.mean(initial_ks_length),np.std(initial_ks_length))"
   ]
  },
  {
   "cell_type": "code",
   "execution_count": 120,
   "metadata": {},
   "outputs": [
    {
     "name": "stdout",
     "output_type": "stream",
     "text": [
      "0 iterations: 6.809170961380005 secs\n",
      "18.96082067489624\n",
      "0.4257595028015836 0.07606826763717284\n"
     ]
    }
   ],
   "source": [
    "#Clustering-Classification\n",
    "initial_ks_clustering, edge_test_clustering, edge_prior_clustering = start_ks_classification(df_train = df_train,\n",
    "                                                        df_test = df_test,\n",
    "                                                        clf = clf_clcl,\n",
    "                                                        filename_train = filename_train, \n",
    "                                                        filename_test = filename_test,\n",
    "                                                        metric = metric,\n",
    "                                                        cutoff = cutoff, verbose = True)\n",
    "print(np.mean(initial_ks_clustering),np.std(initial_ks_clustering))"
   ]
  },
  {
   "cell_type": "code",
   "execution_count": 121,
   "metadata": {},
   "outputs": [
    {
     "name": "stdout",
     "output_type": "stream",
     "text": [
      "0 iterations: 6.777597188949585 secs\n",
      "26.160787343978882\n",
      "0.42744053687066974 0.093069518642364\n"
     ]
    }
   ],
   "source": [
    "#Regression\n",
    "initial_ks_regression, edge_test_regression, edge_prior_regression = start_ks_regression(df_train = df_train,\n",
    "                                                        df_test = df_test,\n",
    "                                                        clf = clf_reg,\n",
    "                                                        filename_train = filename_train, \n",
    "                                                        filename_test = filename_test,\n",
    "                                                        metric = metric,\n",
    "                                                                    cutoff = cutoff, verbose = True)\n",
    "print(np.mean(initial_ks_regression),np.std(initial_ks_regression))"
   ]
  },
  {
   "cell_type": "code",
   "execution_count": 122,
   "metadata": {},
   "outputs": [
    {
     "name": "stdout",
     "output_type": "stream",
     "text": [
      "0 iterations: 6.847463846206665 secs\n",
      "22.454671144485474\n",
      "0.46693265014778684 0.11706430996644608\n"
     ]
    }
   ],
   "source": [
    "#Threshold-Classification\n",
    "initial_ks_threshold, edge_test_threshold, edge_prior_threshold = start_ks_classification(df_train = df_train,\n",
    "                                                        df_test = df_test,\n",
    "                                                        clf = clf_thcl,\n",
    "                                                        filename_train = filename_train, \n",
    "                                                        filename_test = filename_test,\n",
    "                                                        metric = metric,\n",
    "                                                        cutoff = cutoff, verbose = True)\n",
    "print(np.mean(initial_ks_threshold),np.std(initial_ks_threshold))"
   ]
  },
  {
   "cell_type": "code",
   "execution_count": 123,
   "metadata": {},
   "outputs": [
    {
     "data": {
      "text/plain": [
       "<matplotlib.legend.Legend at 0x1960faab520>"
      ]
     },
     "execution_count": 123,
     "metadata": {},
     "output_type": "execute_result"
    },
    {
     "data": {
      "image/png": "[encoded data removed]",
      "text/plain": [
       "<Figure size 432x288 with 1 Axes>"
      ]
     },
     "metadata": {
      "needs_background": "light"
     },
     "output_type": "display_data"
    }
   ],
   "source": [
    "y_100 = [np.mean(initial_ks_random),np.mean(initial_ks_length),np.mean(initial_ks_clustering),np.mean(initial_ks_regression),np.mean(initial_ks_threshold)]\n",
    "yerr_100 = [np.std(initial_ks_random),np.std(initial_ks_length),np.std(initial_ks_clustering),np.std(initial_ks_regression),np.std(initial_ks_threshold)]\n",
    "\n",
    "x = [\"random\", \"length\", \"clustering\", \"regression\", \"threshold\"]\n",
    "plt.errorbar(x,y_100,yerr = yerr_100, capsize = 10, label = f\"cutoff = {cutoff}\")\n",
    "plt.xlabel(\"Method\")\n",
    "plt.ylabel(\"Initial KS\")\n",
    "plt.title(f\"Train on {filename_train[:-9]}, Test on {filename_test[:-9]} - n_robots >= {min_robots}\")\n",
    "plt.ylim([0,1])\n",
    "plt.legend()\n"
   ]
  },
  {
   "cell_type": "markdown",
   "metadata": {},
   "source": [
    "## 5b) Compare with different cutoffs"
   ]
  },
  {
   "cell_type": "code",
   "execution_count": 82,
   "metadata": {},
   "outputs": [],
   "source": [
    "def initial_ks(df_train, df_test, \n",
    "                clf_clcl, clf_reg, clf_thcl,\n",
    "                filename_train, filename_test,\n",
    "                metric = \"difference\",\n",
    "                cutoff = 50, verbose = False, plot_graph = False):\n",
    "    #random\n",
    "    initial_ks_random, edge_test_random, edge_prior_random = start_ks_random(df_train = df_train,\n",
    "                                                            df_test = df_test,\n",
    "                                                            filename_train = filename_train, \n",
    "                                                            filename_test = filename_test,\n",
    "                                                            metric = metric,\n",
    "                                                            cutoff = cutoff, verbose = verbose)\n",
    "    if verbose:\n",
    "        print(\"Random:\", np.mean(initial_ks_random),np.std(initial_ks_random))\n",
    "    \n",
    "    #by length\n",
    "    initial_ks_length, edge_test_length, edge_prior_length = start_ks_length(df_train = df_train,\n",
    "                                                            df_test = df_test,\n",
    "                                                            filename_train = filename_train, \n",
    "                                                            filename_test = filename_test,\n",
    "                                                            metric = metric,\n",
    "                                                            cutoff = cutoff, verbose = verbose)\n",
    "    if verbose:\n",
    "        print(\"Length:\", np.mean(initial_ks_length),np.std(initial_ks_length))\n",
    "    \n",
    "    #Clustering-Classification\n",
    "    initial_ks_clustering, edge_test_clustering, edge_prior_clustering = start_ks_classification(df_train = df_train,\n",
    "                                                            df_test = df_test,\n",
    "                                                            clf = clf_clcl,\n",
    "                                                            filename_train = filename_train, \n",
    "                                                            filename_test = filename_test,\n",
    "                                                            metric = metric,\n",
    "                                                            cutoff = cutoff, verbose = verbose)\n",
    "    if verbose:\n",
    "        print(\"Clustering-Classification:\", np.mean(initial_ks_clustering),np.std(initial_ks_clustering))\n",
    "    \n",
    "    #Regression\n",
    "    initial_ks_regression, edge_test_regression, edge_prior_regression = start_ks_regression(df_train = df_train,\n",
    "                                                            df_test = df_test,\n",
    "                                                            clf = clf_reg,\n",
    "                                                            filename_train = filename_train, \n",
    "                                                            filename_test = filename_test,\n",
    "                                                            metric = metric,\n",
    "                                                                        cutoff = cutoff, verbose = verbose)\n",
    "    if verbose:\n",
    "        print(\"Regression:\", np.mean(initial_ks_regression),np.std(initial_ks_regression))\n",
    "    \n",
    "    #Threshold-Classification\n",
    "    initial_ks_threshold, edge_test_threshold, edge_prior_threshold = start_ks_classification(df_train = df_train,\n",
    "                                                            df_test = df_test,\n",
    "                                                            clf = clf_thcl,\n",
    "                                                            filename_train = filename_train, \n",
    "                                                            filename_test = filename_test,\n",
    "                                                            metric = metric,\n",
    "                                                            cutoff = cutoff, verbose = verbose)\n",
    "    if verbose:\n",
    "        print(\"Threshold-Classification:\", np.mean(initial_ks_threshold),np.std(initial_ks_threshold))\n",
    "    \n",
    "    y = [np.mean(initial_ks_random),np.mean(initial_ks_length),np.mean(initial_ks_clustering),np.mean(initial_ks_regression),np.mean(initial_ks_threshold)]\n",
    "    yerr = [np.std(initial_ks_random),np.std(initial_ks_length),np.std(initial_ks_clustering),np.std(initial_ks_regression),np.std(initial_ks_threshold)]\n",
    "    \n",
    "    if plot_graph:\n",
    "        x = [\"random\", \"length\", \"clustering\", \"regression\", \"threshold\"]\n",
    "        plt.errorbar(x,y,yerr = yerr, capsize = 10, label = f\"cutoff = {cutoff}\")\n",
    "        plt.xlabel(\"Method\")\n",
    "        plt.ylabel(\"Initial KS\")\n",
    "        plt.title(f\"Train on {filename_train[:-9]}, Test on {filename_test[:-9]}\")\n",
    "        plt.ylim([0,1])\n",
    "        plt.legend()\n",
    "        \n",
    "    return x, y, y_err"
   ]
  },
  {
   "cell_type": "code",
   "execution_count": 83,
   "metadata": {},
   "outputs": [],
   "source": [
    "cutoff_list = [10,50,100,200]"
   ]
  },
  {
   "cell_type": "code",
   "execution_count": null,
   "metadata": {},
   "outputs": [],
   "source": [
    "for cutoff in cutoff_list:\n",
    "    x,y,y_err = "
   ]
  }
 ],
 "metadata": {
  "kernelspec": {
   "display_name": "Python 3",
   "language": "python",
   "name": "python3"
  },
  "language_info": {
   "codemirror_mode": {
    "name": "ipython",
    "version": 3
   },
   "file_extension": ".py",
   "mimetype": "text/x-python",
   "name": "python",
   "nbconvert_exporter": "python",
   "pygments_lexer": "ipython3",
   "version": "3.8.3"
  },
  "toc-autonumbering": false,
  "toc-showtags": false
 },
 "nbformat": 4,
 "nbformat_minor": 4
}
