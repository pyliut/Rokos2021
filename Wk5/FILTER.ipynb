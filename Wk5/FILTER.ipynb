{
 "cells": [
  {
   "cell_type": "markdown",
   "metadata": {},
   "source": [
    "# 1) Setup"
   ]
  },
  {
   "cell_type": "code",
   "execution_count": 3,
   "metadata": {},
   "outputs": [
    {
     "name": "stdout",
     "output_type": "stream",
     "text": [
      "done\n"
     ]
    }
   ],
   "source": [
    "#import libraries\n",
    "import pandas as pd\n",
    "import matplotlib.pyplot as plt\n",
    "from matplotlib import cm\n",
    "\n",
    "import numpy as np\n",
    "import math\n",
    "import scipy as sp\n",
    "from scipy import stats\n",
    "from copy import copy\n",
    "import time\n",
    "\n",
    "import pymongo\n",
    "from pymongo import MongoClient\n",
    "from datetime import datetime\n",
    "from datetime import timedelta\n",
    "print(\"done\")"
   ]
  },
  {
   "cell_type": "code",
   "execution_count": 4,
   "metadata": {},
   "outputs": [
    {
     "name": "stdout",
     "output_type": "stream",
     "text": [
      "done\n"
     ]
    }
   ],
   "source": [
    "#import functions from python files\n",
    "\n",
    "#1) data import & filtering\n",
    "from get_data import *\n",
    "from filter_data1 import *\n",
    "from filter_data2 import *\n",
    "from filter_data3 import *\n",
    "from select_data import *\n",
    "from select_data_edge import *\n",
    "\n",
    "\n",
    "print(\"done\")"
   ]
  },
  {
   "cell_type": "markdown",
   "metadata": {},
   "source": [
    "# 2) Remove edge transitions with >1 robot on an edge"
   ]
  },
  {
   "cell_type": "code",
   "execution_count": 5,
   "metadata": {},
   "outputs": [
    {
     "name": "stdout",
     "output_type": "stream",
     "text": [
      "done\n"
     ]
    }
   ],
   "source": [
    "#1) Import data from PyMongo\n",
    "df = get_data(address = \"walmart_random\")\n",
    "#2) Preliminary filtering\n",
    "df = filter_data1(df)\n",
    "print(\"done\")"
   ]
  },
  {
   "cell_type": "code",
   "execution_count": 6,
   "metadata": {},
   "outputs": [
    {
     "name": "stdout",
     "output_type": "stream",
     "text": [
      "done 121.78302955627441\n"
     ]
    }
   ],
   "source": [
    "#3a) Count n_robots\n",
    "tic = time.time()\n",
    "df = filter_data2(df)\n",
    "toc = time.time()\n",
    "print(\"done\", toc-tic)"
   ]
  },
  {
   "cell_type": "code",
   "execution_count": 7,
   "metadata": {},
   "outputs": [
    {
     "name": "stdout",
     "output_type": "stream",
     "text": [
      "done\n"
     ]
    }
   ],
   "source": [
    "#3b) save to excel\n",
    "df.to_excel(\"n_robots_random.xlsx\")\n",
    "print(\"done\")"
   ]
  },
  {
   "cell_type": "code",
   "execution_count": 8,
   "metadata": {},
   "outputs": [
    {
     "name": "stdout",
     "output_type": "stream",
     "text": [
      "done\n"
     ]
    }
   ],
   "source": [
    "#3c) load from excel\n",
    "df = pd.read_excel(\"n_robots_random.xlsx\")\n",
    "print(\"done\")"
   ]
  },
  {
   "cell_type": "code",
   "execution_count": 9,
   "metadata": {},
   "outputs": [
    {
     "data": {
      "text/html": [
       "<div>\n",
       "<style scoped>\n",
       "    .dataframe tbody tr th:only-of-type {\n",
       "        vertical-align: middle;\n",
       "    }\n",
       "\n",
       "    .dataframe tbody tr th {\n",
       "        vertical-align: top;\n",
       "    }\n",
       "\n",
       "    .dataframe thead th {\n",
       "        text-align: right;\n",
       "    }\n",
       "</style>\n",
       "<table border=\"1\" class=\"dataframe\">\n",
       "  <thead>\n",
       "    <tr style=\"text-align: right;\">\n",
       "      <th></th>\n",
       "      <th>origin</th>\n",
       "      <th>target</th>\n",
       "      <th>edge_id</th>\n",
       "      <th>operation_time</th>\n",
       "      <th>start</th>\n",
       "      <th>finish</th>\n",
       "      <th>n_robots</th>\n",
       "      <th>is_final</th>\n",
       "      <th>is_initial</th>\n",
       "    </tr>\n",
       "  </thead>\n",
       "  <tbody>\n",
       "    <tr>\n",
       "      <th>0</th>\n",
       "      <td>WayPoint110</td>\n",
       "      <td>WayPoint68</td>\n",
       "      <td>WayPoint110_WayPoint68</td>\n",
       "      <td>4.898</td>\n",
       "      <td>2021-02-23 21:18:37.108</td>\n",
       "      <td>2021-02-23 21:18:42.376</td>\n",
       "      <td>1</td>\n",
       "      <td>False</td>\n",
       "      <td>False</td>\n",
       "    </tr>\n",
       "    <tr>\n",
       "      <th>1</th>\n",
       "      <td>WayPoint68</td>\n",
       "      <td>WayPoint61</td>\n",
       "      <td>WayPoint68_WayPoint61</td>\n",
       "      <td>10.916</td>\n",
       "      <td>2021-02-23 21:19:12.520</td>\n",
       "      <td>2021-02-23 21:19:17.788</td>\n",
       "      <td>1</td>\n",
       "      <td>False</td>\n",
       "      <td>False</td>\n",
       "    </tr>\n",
       "    <tr>\n",
       "      <th>2</th>\n",
       "      <td>WayPoint61</td>\n",
       "      <td>WayPoint54</td>\n",
       "      <td>WayPoint61_WayPoint54</td>\n",
       "      <td>9.276</td>\n",
       "      <td>2021-02-23 21:19:42.080</td>\n",
       "      <td>2021-02-23 21:19:47.348</td>\n",
       "      <td>1</td>\n",
       "      <td>False</td>\n",
       "      <td>False</td>\n",
       "    </tr>\n",
       "    <tr>\n",
       "      <th>3</th>\n",
       "      <td>WayPoint54</td>\n",
       "      <td>WayPoint47</td>\n",
       "      <td>WayPoint54_WayPoint47</td>\n",
       "      <td>10.398</td>\n",
       "      <td>2021-02-23 21:20:15.528</td>\n",
       "      <td>2021-02-23 21:20:20.796</td>\n",
       "      <td>1</td>\n",
       "      <td>False</td>\n",
       "      <td>False</td>\n",
       "    </tr>\n",
       "    <tr>\n",
       "      <th>4</th>\n",
       "      <td>WayPoint47</td>\n",
       "      <td>WayPoint48</td>\n",
       "      <td>WayPoint47_WayPoint48</td>\n",
       "      <td>10.212</td>\n",
       "      <td>2021-02-23 21:20:48.740</td>\n",
       "      <td>2021-02-23 21:20:54.008</td>\n",
       "      <td>1</td>\n",
       "      <td>False</td>\n",
       "      <td>False</td>\n",
       "    </tr>\n",
       "  </tbody>\n",
       "</table>\n",
       "</div>"
      ],
      "text/plain": [
       "        origin      target                 edge_id  operation_time  \\\n",
       "0  WayPoint110  WayPoint68  WayPoint110_WayPoint68           4.898   \n",
       "1   WayPoint68  WayPoint61   WayPoint68_WayPoint61          10.916   \n",
       "2   WayPoint61  WayPoint54   WayPoint61_WayPoint54           9.276   \n",
       "3   WayPoint54  WayPoint47   WayPoint54_WayPoint47          10.398   \n",
       "4   WayPoint47  WayPoint48   WayPoint47_WayPoint48          10.212   \n",
       "\n",
       "                    start                  finish  n_robots  is_final  \\\n",
       "0 2021-02-23 21:18:37.108 2021-02-23 21:18:42.376         1     False   \n",
       "1 2021-02-23 21:19:12.520 2021-02-23 21:19:17.788         1     False   \n",
       "2 2021-02-23 21:19:42.080 2021-02-23 21:19:47.348         1     False   \n",
       "3 2021-02-23 21:20:15.528 2021-02-23 21:20:20.796         1     False   \n",
       "4 2021-02-23 21:20:48.740 2021-02-23 21:20:54.008         1     False   \n",
       "\n",
       "   is_initial  \n",
       "0       False  \n",
       "1       False  \n",
       "2       False  \n",
       "3       False  \n",
       "4       False  "
      ]
     },
     "execution_count": 9,
     "metadata": {},
     "output_type": "execute_result"
    }
   ],
   "source": [
    "#4) Get rid of is_final = True & n_robots != 1\n",
    "#create is_initial column and get rid of is_initial == True\n",
    "df = filter_data3(df)\n",
    "df.head()"
   ]
  },
  {
   "cell_type": "code",
   "execution_count": 10,
   "metadata": {},
   "outputs": [
    {
     "name": "stdout",
     "output_type": "stream",
     "text": [
      "done\n"
     ]
    }
   ],
   "source": [
    "#5a) save to excel\n",
    "df.to_excel(\"filtered_data_random.xlsx\")\n",
    "print(\"done\")"
   ]
  },
  {
   "cell_type": "code",
   "execution_count": 11,
   "metadata": {},
   "outputs": [
    {
     "name": "stdout",
     "output_type": "stream",
     "text": [
      "done\n"
     ]
    }
   ],
   "source": [
    "#5b) load from excel\n",
    "df = pd.read_excel(\"filtered_data_random.xlsx\")\n",
    "print(\"done\")"
   ]
  },
  {
   "cell_type": "markdown",
   "metadata": {},
   "source": [
    "# 3) Count"
   ]
  },
  {
   "cell_type": "code",
   "execution_count": 12,
   "metadata": {},
   "outputs": [
    {
     "data": {
      "text/plain": [
       "WayPoint68_WayPoint61    366\n",
       "WayPoint61_WayPoint54    349\n",
       "WayPoint75_WayPoint68    320\n",
       "WayPoint54_WayPoint47    303\n",
       "WayPoint47_WayPoint40    268\n",
       "                        ... \n",
       "WayPoint45_WayPoint44      7\n",
       "WayPoint37_WayPoint36      7\n",
       "WayPoint9_WayPoint10       7\n",
       "WayPoint10_WayPoint9       6\n",
       "WayPoint17_WayPoint16      5\n",
       "Name: edge_id, Length: 251, dtype: int64"
      ]
     },
     "execution_count": 12,
     "metadata": {},
     "output_type": "execute_result"
    }
   ],
   "source": [
    "count = df[\"edge_id\"].value_counts()\n",
    "count"
   ]
  },
  {
   "cell_type": "code",
   "execution_count": 13,
   "metadata": {},
   "outputs": [
    {
     "data": {
      "text/plain": [
       "<matplotlib.axes._subplots.AxesSubplot at 0x28a9a139bb0>"
      ]
     },
     "execution_count": 13,
     "metadata": {},
     "output_type": "execute_result"
    },
    {
     "data": {
      "image/png": "[encoded data removed]",
      "text/plain": [
       "<Figure size 432x288 with 1 Axes>"
      ]
     },
     "metadata": {
      "needs_background": "light"
     },
     "output_type": "display_data"
    }
   ],
   "source": [
    "count.plot()"
   ]
  },
  {
   "cell_type": "code",
   "execution_count": null,
   "metadata": {},
   "outputs": [],
   "source": []
  }
 ],
 "metadata": {
  "kernelspec": {
   "display_name": "Python 3",
   "language": "python",
   "name": "python3"
  },
  "language_info": {
   "codemirror_mode": {
    "name": "ipython",
    "version": 3
   },
   "file_extension": ".py",
   "mimetype": "text/x-python",
   "name": "python",
   "nbconvert_exporter": "python",
   "pygments_lexer": "ipython3",
   "version": "3.8.3"
  }
 },
 "nbformat": 4,
 "nbformat_minor": 4
}
