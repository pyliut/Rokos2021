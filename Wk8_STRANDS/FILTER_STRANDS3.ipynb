{
 "cells": [
  {
   "cell_type": "markdown",
   "metadata": {},
   "source": [
    "# 1) Setup"
   ]
  },
  {
   "cell_type": "code",
   "execution_count": 2,
   "metadata": {},
   "outputs": [
    {
     "name": "stdout",
     "output_type": "stream",
     "text": [
      "done\n"
     ]
    }
   ],
   "source": [
    "#import libraries\n",
    "import pandas as pd\n",
    "import matplotlib.pyplot as plt\n",
    "from matplotlib import cm\n",
    "\n",
    "import numpy as np\n",
    "import math\n",
    "import scipy as sp\n",
    "from scipy import stats\n",
    "from copy import copy\n",
    "import time\n",
    "\n",
    "import pymongo\n",
    "from pymongo import MongoClient\n",
    "from datetime import datetime\n",
    "from datetime import timedelta\n",
    "print(\"done\")"
   ]
  },
  {
   "cell_type": "code",
   "execution_count": 59,
   "metadata": {},
   "outputs": [
    {
     "name": "stdout",
     "output_type": "stream",
     "text": [
      "done\n"
     ]
    }
   ],
   "source": [
    "#import functions from python files\n",
    "\n",
    "#1) data import & filtering\n",
    "from get_data import *\n",
    "from get_adjacent import *\n",
    "from get_valid1 import *\n",
    "from get_times import *\n",
    "from get_congestion import *\n",
    "from get_valid2 import *\n",
    "from get_length import *\n",
    "\n",
    "from select_data import *\n",
    "from select_data_edge import *\n",
    "\n",
    "from underscore_prefix import *\n",
    "from underscore_suffix import *\n",
    "\n",
    "print(\"done\")"
   ]
  },
  {
   "cell_type": "markdown",
   "metadata": {},
   "source": [
    "# 2) AAF Y4"
   ]
  },
  {
   "cell_type": "code",
   "execution_count": 73,
   "metadata": {},
   "outputs": [
    {
     "name": "stdout",
     "output_type": "stream",
     "text": [
      "Time taken (get_adjacent): 0.5959110260009766 secs\n",
      "Time taken (get_length): 0.5898942947387695 secs\n",
      "23044\n",
      "Time taken (get_adjacent): 0.6024034023284912 secs\n",
      "23044\n"
     ]
    },
    {
     "data": {
      "text/html": [
       "<div>\n",
       "<style scoped>\n",
       "    .dataframe tbody tr th:only-of-type {\n",
       "        vertical-align: middle;\n",
       "    }\n",
       "\n",
       "    .dataframe tbody tr th {\n",
       "        vertical-align: top;\n",
       "    }\n",
       "\n",
       "    .dataframe thead th {\n",
       "        text-align: right;\n",
       "    }\n",
       "</style>\n",
       "<table border=\"1\" class=\"dataframe\">\n",
       "  <thead>\n",
       "    <tr style=\"text-align: right;\">\n",
       "      <th></th>\n",
       "      <th>_id</th>\n",
       "      <th>status</th>\n",
       "      <th>origin</th>\n",
       "      <th>target</th>\n",
       "      <th>edge_id</th>\n",
       "      <th>date_finished</th>\n",
       "      <th>date_at_node</th>\n",
       "      <th>date_started</th>\n",
       "      <th>_meta</th>\n",
       "      <th>time_to_waypoint</th>\n",
       "      <th>operation_time</th>\n",
       "      <th>final_node</th>\n",
       "    </tr>\n",
       "  </thead>\n",
       "  <tbody>\n",
       "    <tr>\n",
       "      <th>0</th>\n",
       "      <td>583b30dfb63c4d6eb86ff88e</td>\n",
       "      <td>success</td>\n",
       "      <td>Station</td>\n",
       "      <td>ChargingPoint</td>\n",
       "      <td>Station_ChargingPoint</td>\n",
       "      <td>Sunday, November 27 2016, at 20:15:43 hours</td>\n",
       "      <td>Sunday, November 27 2016, at 20:15:43 hours</td>\n",
       "      <td>Sunday, November 27 2016, at 20:15:24 hours</td>\n",
       "      <td>{'inserted_at': 2016-11-27 19:15:43.999000, 's...</td>\n",
       "      <td>0.624420</td>\n",
       "      <td>19.893930</td>\n",
       "      <td>ChargingPoint</td>\n",
       "    </tr>\n",
       "    <tr>\n",
       "      <th>1</th>\n",
       "      <td>583b31d7b63c4d6eb86ff88f</td>\n",
       "      <td>success</td>\n",
       "      <td>ChargingPoint</td>\n",
       "      <td>Station</td>\n",
       "      <td>ChargingPoint_Station</td>\n",
       "      <td>Sunday, November 27 2016, at 20:19:51 hours</td>\n",
       "      <td>Sunday, November 27 2016, at 20:19:34 hours</td>\n",
       "      <td>Sunday, November 27 2016, at 20:19:27 hours</td>\n",
       "      <td>{'inserted_at': 2016-11-27 19:19:51.098000, 's...</td>\n",
       "      <td>17.028488</td>\n",
       "      <td>23.572407</td>\n",
       "      <td>Station</td>\n",
       "    </tr>\n",
       "  </tbody>\n",
       "</table>\n",
       "</div>"
      ],
      "text/plain": [
       "                        _id   status         origin         target  \\\n",
       "0  583b30dfb63c4d6eb86ff88e  success        Station  ChargingPoint   \n",
       "1  583b31d7b63c4d6eb86ff88f  success  ChargingPoint        Station   \n",
       "\n",
       "                 edge_id                                date_finished  \\\n",
       "0  Station_ChargingPoint  Sunday, November 27 2016, at 20:15:43 hours   \n",
       "1  ChargingPoint_Station  Sunday, November 27 2016, at 20:19:51 hours   \n",
       "\n",
       "                                  date_at_node  \\\n",
       "0  Sunday, November 27 2016, at 20:15:43 hours   \n",
       "1  Sunday, November 27 2016, at 20:19:34 hours   \n",
       "\n",
       "                                  date_started  \\\n",
       "0  Sunday, November 27 2016, at 20:15:24 hours   \n",
       "1  Sunday, November 27 2016, at 20:19:27 hours   \n",
       "\n",
       "                                               _meta  time_to_waypoint  \\\n",
       "0  {'inserted_at': 2016-11-27 19:15:43.999000, 's...          0.624420   \n",
       "1  {'inserted_at': 2016-11-27 19:19:51.098000, 's...         17.028488   \n",
       "\n",
       "   operation_time     final_node  \n",
       "0       19.893930  ChargingPoint  \n",
       "1       23.572407        Station  "
      ]
     },
     "execution_count": 73,
     "metadata": {},
     "output_type": "execute_result"
    }
   ],
   "source": [
    "#1) Import data from PyMongo\n",
    "df = get_data(address = \"aaf_y4\")\n",
    "df = df[df[\"edge_id\"] != \"WayPoint28_Feuerloescher\"]\n",
    "adjacent = get_adjacent(\"aaf_map.yaml\")\n",
    "nodes = list(adjacent.keys())\n",
    "length = get_length(\"aaf_map.yaml\")\n",
    "edges = list(length.keys())\n",
    "df = df.loc[df[\"origin\"].isin(nodes)]\n",
    "df = df.loc[df[\"target\"].isin(nodes)]\n",
    "df = df.loc[df[\"edge_id\"].isin(edges)]\n",
    "print(len(df))\n",
    "\n",
    "#2) Remove data with invalid origin/target\n",
    "adjacent = get_adjacent(\"aaf_map.yaml\")\n",
    "df = get_valid1(df, adjacent)\n",
    "print(len(df))\n",
    "df.head(2)"
   ]
  },
  {
   "cell_type": "code",
   "execution_count": 74,
   "metadata": {},
   "outputs": [
    {
     "name": "stdout",
     "output_type": "stream",
     "text": [
      "Time taken (get_times): 20.0078706741333 secs\n",
      "done\n"
     ]
    }
   ],
   "source": [
    "#3) Change format of datetimes in dataframe to datetime.datetime object\n",
    "df = get_times(df)\n",
    "print(\"done\")"
   ]
  },
  {
   "cell_type": "code",
   "execution_count": 75,
   "metadata": {},
   "outputs": [
    {
     "name": "stdout",
     "output_type": "stream",
     "text": [
      "0 iterations in 0.0 seconds\n",
      "5000 iterations in 25.27942705154419 seconds\n",
      "10000 iterations in 56.276663064956665 seconds\n",
      "15000 iterations in 90.0684084892273 seconds\n",
      "20000 iterations in 121.18451523780823 seconds\n",
      "Time taken (get_congestion): 139.92115569114685 seconds\n",
      "Unimodal:  22581\n",
      "Multimodal:  463\n"
     ]
    },
    {
     "data": {
      "text/html": [
       "<div>\n",
       "<style scoped>\n",
       "    .dataframe tbody tr th:only-of-type {\n",
       "        vertical-align: middle;\n",
       "    }\n",
       "\n",
       "    .dataframe tbody tr th {\n",
       "        vertical-align: top;\n",
       "    }\n",
       "\n",
       "    .dataframe thead th {\n",
       "        text-align: right;\n",
       "    }\n",
       "</style>\n",
       "<table border=\"1\" class=\"dataframe\">\n",
       "  <thead>\n",
       "    <tr style=\"text-align: right;\">\n",
       "      <th></th>\n",
       "      <th>_id</th>\n",
       "      <th>status</th>\n",
       "      <th>origin</th>\n",
       "      <th>target</th>\n",
       "      <th>edge_id</th>\n",
       "      <th>date_finished</th>\n",
       "      <th>date_at_node</th>\n",
       "      <th>date_started</th>\n",
       "      <th>_meta</th>\n",
       "      <th>time_to_waypoint</th>\n",
       "      <th>operation_time</th>\n",
       "      <th>final_node</th>\n",
       "      <th>n_robots</th>\n",
       "    </tr>\n",
       "  </thead>\n",
       "  <tbody>\n",
       "    <tr>\n",
       "      <th>0</th>\n",
       "      <td>583b30dfb63c4d6eb86ff88e</td>\n",
       "      <td>success</td>\n",
       "      <td>Station</td>\n",
       "      <td>ChargingPoint</td>\n",
       "      <td>Station_ChargingPoint</td>\n",
       "      <td>2016-11-27 20:15:43</td>\n",
       "      <td>2016-11-27 20:15:43</td>\n",
       "      <td>2016-11-27 20:15:24</td>\n",
       "      <td>2016-11-27 19:15:43.999000</td>\n",
       "      <td>0.624420</td>\n",
       "      <td>19.893930</td>\n",
       "      <td>ChargingPoint</td>\n",
       "      <td>1</td>\n",
       "    </tr>\n",
       "    <tr>\n",
       "      <th>1</th>\n",
       "      <td>583b31d7b63c4d6eb86ff88f</td>\n",
       "      <td>success</td>\n",
       "      <td>ChargingPoint</td>\n",
       "      <td>Station</td>\n",
       "      <td>ChargingPoint_Station</td>\n",
       "      <td>2016-11-27 20:19:51</td>\n",
       "      <td>2016-11-27 20:19:34</td>\n",
       "      <td>2016-11-27 20:19:27</td>\n",
       "      <td>2016-11-27 19:19:51.098000</td>\n",
       "      <td>17.028488</td>\n",
       "      <td>23.572407</td>\n",
       "      <td>Station</td>\n",
       "      <td>1</td>\n",
       "    </tr>\n",
       "  </tbody>\n",
       "</table>\n",
       "</div>"
      ],
      "text/plain": [
       "                        _id   status         origin         target  \\\n",
       "0  583b30dfb63c4d6eb86ff88e  success        Station  ChargingPoint   \n",
       "1  583b31d7b63c4d6eb86ff88f  success  ChargingPoint        Station   \n",
       "\n",
       "                 edge_id        date_finished         date_at_node  \\\n",
       "0  Station_ChargingPoint  2016-11-27 20:15:43  2016-11-27 20:15:43   \n",
       "1  ChargingPoint_Station  2016-11-27 20:19:51  2016-11-27 20:19:34   \n",
       "\n",
       "          date_started                       _meta  time_to_waypoint  \\\n",
       "0  2016-11-27 20:15:24  2016-11-27 19:15:43.999000          0.624420   \n",
       "1  2016-11-27 20:19:27  2016-11-27 19:19:51.098000         17.028488   \n",
       "\n",
       "   operation_time     final_node  n_robots  \n",
       "0       19.893930  ChargingPoint         1  \n",
       "1       23.572407        Station         1  "
      ]
     },
     "execution_count": 75,
     "metadata": {},
     "output_type": "execute_result"
    }
   ],
   "source": [
    "#4) Count congestion level\n",
    "df = get_congestion(df, adjacent)\n",
    "print(\"Unimodal: \", len(df[df[\"n_robots\"] == 1]))\n",
    "print(\"Multimodal: \", len(df[df[\"n_robots\"] != 1]))\n",
    "df.head(2)"
   ]
  },
  {
   "cell_type": "code",
   "execution_count": 76,
   "metadata": {},
   "outputs": [
    {
     "data": {
      "text/html": [
       "<div>\n",
       "<style scoped>\n",
       "    .dataframe tbody tr th:only-of-type {\n",
       "        vertical-align: middle;\n",
       "    }\n",
       "\n",
       "    .dataframe tbody tr th {\n",
       "        vertical-align: top;\n",
       "    }\n",
       "\n",
       "    .dataframe thead th {\n",
       "        text-align: right;\n",
       "    }\n",
       "</style>\n",
       "<table border=\"1\" class=\"dataframe\">\n",
       "  <thead>\n",
       "    <tr style=\"text-align: right;\">\n",
       "      <th></th>\n",
       "      <th>origin</th>\n",
       "      <th>target</th>\n",
       "      <th>edge_id</th>\n",
       "      <th>time_to_waypoint</th>\n",
       "      <th>operation_time</th>\n",
       "    </tr>\n",
       "  </thead>\n",
       "  <tbody>\n",
       "    <tr>\n",
       "      <th>0</th>\n",
       "      <td>Station</td>\n",
       "      <td>ChargingPoint</td>\n",
       "      <td>Station_ChargingPoint</td>\n",
       "      <td>0.624420</td>\n",
       "      <td>19.893930</td>\n",
       "    </tr>\n",
       "    <tr>\n",
       "      <th>1</th>\n",
       "      <td>ChargingPoint</td>\n",
       "      <td>Station</td>\n",
       "      <td>ChargingPoint_Station</td>\n",
       "      <td>17.028488</td>\n",
       "      <td>23.572407</td>\n",
       "    </tr>\n",
       "  </tbody>\n",
       "</table>\n",
       "</div>"
      ],
      "text/plain": [
       "          origin         target                edge_id  time_to_waypoint  \\\n",
       "0        Station  ChargingPoint  Station_ChargingPoint          0.624420   \n",
       "1  ChargingPoint        Station  ChargingPoint_Station         17.028488   \n",
       "\n",
       "   operation_time  \n",
       "0       19.893930  \n",
       "1       23.572407  "
      ]
     },
     "execution_count": 76,
     "metadata": {},
     "output_type": "execute_result"
    }
   ],
   "source": [
    "#5) remove final, unsuccessful, multimodal runs\n",
    "df_aaf = get_valid2(df)\n",
    "df_aaf.head(2)"
   ]
  },
  {
   "cell_type": "code",
   "execution_count": 77,
   "metadata": {},
   "outputs": [
    {
     "name": "stdout",
     "output_type": "stream",
     "text": [
      "done\n"
     ]
    }
   ],
   "source": [
    "#6) save to excel\n",
    "df_aaf.to_excel(\"aaf_y4.xlsx\")\n",
    "print(\"done\")"
   ]
  },
  {
   "cell_type": "code",
   "execution_count": 78,
   "metadata": {},
   "outputs": [
    {
     "data": {
      "text/html": [
       "<div>\n",
       "<style scoped>\n",
       "    .dataframe tbody tr th:only-of-type {\n",
       "        vertical-align: middle;\n",
       "    }\n",
       "\n",
       "    .dataframe tbody tr th {\n",
       "        vertical-align: top;\n",
       "    }\n",
       "\n",
       "    .dataframe thead th {\n",
       "        text-align: right;\n",
       "    }\n",
       "</style>\n",
       "<table border=\"1\" class=\"dataframe\">\n",
       "  <thead>\n",
       "    <tr style=\"text-align: right;\">\n",
       "      <th></th>\n",
       "      <th>origin</th>\n",
       "      <th>target</th>\n",
       "      <th>edge_id</th>\n",
       "      <th>time_to_waypoint</th>\n",
       "      <th>operation_time</th>\n",
       "    </tr>\n",
       "  </thead>\n",
       "  <tbody>\n",
       "    <tr>\n",
       "      <th>0</th>\n",
       "      <td>Station</td>\n",
       "      <td>ChargingPoint</td>\n",
       "      <td>Station_ChargingPoint</td>\n",
       "      <td>0.624420</td>\n",
       "      <td>19.893930</td>\n",
       "    </tr>\n",
       "    <tr>\n",
       "      <th>1</th>\n",
       "      <td>ChargingPoint</td>\n",
       "      <td>Station</td>\n",
       "      <td>ChargingPoint_Station</td>\n",
       "      <td>17.028488</td>\n",
       "      <td>23.572407</td>\n",
       "    </tr>\n",
       "  </tbody>\n",
       "</table>\n",
       "</div>"
      ],
      "text/plain": [
       "          origin         target                edge_id  time_to_waypoint  \\\n",
       "0        Station  ChargingPoint  Station_ChargingPoint          0.624420   \n",
       "1  ChargingPoint        Station  ChargingPoint_Station         17.028488   \n",
       "\n",
       "   operation_time  \n",
       "0       19.893930  \n",
       "1       23.572407  "
      ]
     },
     "execution_count": 78,
     "metadata": {},
     "output_type": "execute_result"
    }
   ],
   "source": [
    "# retrieve data\n",
    "df_aaf = pd.read_excel(\"aaf_y4.xlsx\")\n",
    "df_aaf = df_aaf[[\"origin\", \"target\", \"edge_id\", \"time_to_waypoint\", \"operation_time\"]]\n",
    "df_aaf.head(2)"
   ]
  },
  {
   "cell_type": "markdown",
   "metadata": {},
   "source": [
    "# 3) AAF Y3"
   ]
  },
  {
   "cell_type": "code",
   "execution_count": 70,
   "metadata": {},
   "outputs": [
    {
     "name": "stdout",
     "output_type": "stream",
     "text": [
      "Time taken (get_adjacent): 0.5860164165496826 secs\n",
      "Time taken (get_length): 0.6682631969451904 secs\n",
      "18142\n",
      "18142\n",
      "Time taken (get_times): 11.171806335449219 secs\n",
      "0 iterations in 0.0 seconds\n",
      "5000 iterations in 20.611332416534424 seconds\n",
      "10000 iterations in 41.289241313934326 seconds\n",
      "15000 iterations in 62.16041111946106 seconds\n",
      "Time taken (get_congestion): 75.2370548248291 seconds\n",
      "Unimodal:  17867\n",
      "Multimodal:  275\n"
     ]
    },
    {
     "data": {
      "text/html": [
       "<div>\n",
       "<style scoped>\n",
       "    .dataframe tbody tr th:only-of-type {\n",
       "        vertical-align: middle;\n",
       "    }\n",
       "\n",
       "    .dataframe tbody tr th {\n",
       "        vertical-align: top;\n",
       "    }\n",
       "\n",
       "    .dataframe thead th {\n",
       "        text-align: right;\n",
       "    }\n",
       "</style>\n",
       "<table border=\"1\" class=\"dataframe\">\n",
       "  <thead>\n",
       "    <tr style=\"text-align: right;\">\n",
       "      <th></th>\n",
       "      <th>origin</th>\n",
       "      <th>target</th>\n",
       "      <th>edge_id</th>\n",
       "      <th>time_to_waypoint</th>\n",
       "      <th>operation_time</th>\n",
       "    </tr>\n",
       "  </thead>\n",
       "  <tbody>\n",
       "    <tr>\n",
       "      <th>1</th>\n",
       "      <td>Station</td>\n",
       "      <td>WayPoint91</td>\n",
       "      <td>Station_WayPoint91</td>\n",
       "      <td>0.071773</td>\n",
       "      <td>4.097293</td>\n",
       "    </tr>\n",
       "    <tr>\n",
       "      <th>2</th>\n",
       "      <td>WayPoint91</td>\n",
       "      <td>WayPoint8</td>\n",
       "      <td>WayPoint91_WayPoint8</td>\n",
       "      <td>5.784959</td>\n",
       "      <td>13.085477</td>\n",
       "    </tr>\n",
       "  </tbody>\n",
       "</table>\n",
       "</div>"
      ],
      "text/plain": [
       "       origin      target               edge_id  time_to_waypoint  \\\n",
       "1     Station  WayPoint91    Station_WayPoint91          0.071773   \n",
       "2  WayPoint91   WayPoint8  WayPoint91_WayPoint8          5.784959   \n",
       "\n",
       "   operation_time  \n",
       "1        4.097293  \n",
       "2       13.085477  "
      ]
     },
     "execution_count": 70,
     "metadata": {},
     "output_type": "execute_result"
    }
   ],
   "source": [
    "#1) Import data from PyMongo\n",
    "df = get_data(address = \"aaf_y3\")\n",
    "df = df[df[\"edge_id\"] != \"WayPoint28_Feuerloescher\"]\n",
    "adjacent = get_adjacent(\"aaf_map.yaml\")\n",
    "nodes = list(adjacent.keys())\n",
    "length = get_length(\"aaf_map.yaml\")\n",
    "edges = list(length.keys())\n",
    "df = df.loc[df[\"origin\"].isin(nodes)]\n",
    "df = df.loc[df[\"target\"].isin(nodes)]\n",
    "df = df.loc[df[\"edge_id\"].isin(edges)]\n",
    "print(len(df))\n",
    "\n",
    "#2) Remove data with invalid origin/target\n",
    "#adjacent = get_adjacent(\"aaf_map.yaml\")\n",
    "df = get_valid1(df, adjacent)\n",
    "print(len(df))\n",
    "\n",
    "#3) Change format of datetimes in dataframe to datetime.datetime object\n",
    "df = get_times(df)\n",
    "\n",
    "#4) Count congestion level\n",
    "df = get_congestion(df, adjacent)\n",
    "print(\"Unimodal: \", len(df[df[\"n_robots\"] == 1]))\n",
    "print(\"Multimodal: \", len(df[df[\"n_robots\"] != 1]))\n",
    "\n",
    "#5) remove final, unsuccessful, multimodal runs\n",
    "df_aaf = get_valid2(df)\n",
    "df_aaf.head(2)"
   ]
  },
  {
   "cell_type": "code",
   "execution_count": 71,
   "metadata": {},
   "outputs": [
    {
     "name": "stdout",
     "output_type": "stream",
     "text": [
      "done\n"
     ]
    }
   ],
   "source": [
    "#6) save to excel\n",
    "df_aaf.to_excel(\"aaf_y3.xlsx\")\n",
    "print(\"done\")"
   ]
  },
  {
   "cell_type": "code",
   "execution_count": 72,
   "metadata": {},
   "outputs": [
    {
     "data": {
      "text/html": [
       "<div>\n",
       "<style scoped>\n",
       "    .dataframe tbody tr th:only-of-type {\n",
       "        vertical-align: middle;\n",
       "    }\n",
       "\n",
       "    .dataframe tbody tr th {\n",
       "        vertical-align: top;\n",
       "    }\n",
       "\n",
       "    .dataframe thead th {\n",
       "        text-align: right;\n",
       "    }\n",
       "</style>\n",
       "<table border=\"1\" class=\"dataframe\">\n",
       "  <thead>\n",
       "    <tr style=\"text-align: right;\">\n",
       "      <th></th>\n",
       "      <th>origin</th>\n",
       "      <th>target</th>\n",
       "      <th>edge_id</th>\n",
       "      <th>time_to_waypoint</th>\n",
       "      <th>operation_time</th>\n",
       "    </tr>\n",
       "  </thead>\n",
       "  <tbody>\n",
       "    <tr>\n",
       "      <th>0</th>\n",
       "      <td>Station</td>\n",
       "      <td>WayPoint91</td>\n",
       "      <td>Station_WayPoint91</td>\n",
       "      <td>0.071773</td>\n",
       "      <td>4.097293</td>\n",
       "    </tr>\n",
       "    <tr>\n",
       "      <th>1</th>\n",
       "      <td>WayPoint91</td>\n",
       "      <td>WayPoint8</td>\n",
       "      <td>WayPoint91_WayPoint8</td>\n",
       "      <td>5.784959</td>\n",
       "      <td>13.085477</td>\n",
       "    </tr>\n",
       "  </tbody>\n",
       "</table>\n",
       "</div>"
      ],
      "text/plain": [
       "       origin      target               edge_id  time_to_waypoint  \\\n",
       "0     Station  WayPoint91    Station_WayPoint91          0.071773   \n",
       "1  WayPoint91   WayPoint8  WayPoint91_WayPoint8          5.784959   \n",
       "\n",
       "   operation_time  \n",
       "0        4.097293  \n",
       "1       13.085477  "
      ]
     },
     "execution_count": 72,
     "metadata": {},
     "output_type": "execute_result"
    }
   ],
   "source": [
    "# retrieve data\n",
    "df_aaf = pd.read_excel(\"aaf_y3.xlsx\")\n",
    "df_aaf = df_aaf[[\"origin\", \"target\", \"edge_id\", \"time_to_waypoint\", \"operation_time\"]]\n",
    "df_aaf.head(2)"
   ]
  },
  {
   "cell_type": "markdown",
   "metadata": {},
   "source": [
    "# 4) AAF Y2"
   ]
  },
  {
   "cell_type": "code",
   "execution_count": 67,
   "metadata": {},
   "outputs": [
    {
     "name": "stdout",
     "output_type": "stream",
     "text": [
      "Time taken (get_adjacent): 0.5645287036895752 secs\n",
      "Time taken (get_length): 0.6239008903503418 secs\n",
      "5446\n",
      "5446\n",
      "Time taken (get_times): 2.0456933975219727 secs\n",
      "0 iterations in 0.0 seconds\n",
      "5000 iterations in 9.356168270111084 seconds\n",
      "Time taken (get_congestion): 10.188511848449707 seconds\n",
      "Unimodal:  5409\n",
      "Multimodal:  37\n"
     ]
    },
    {
     "data": {
      "text/html": [
       "<div>\n",
       "<style scoped>\n",
       "    .dataframe tbody tr th:only-of-type {\n",
       "        vertical-align: middle;\n",
       "    }\n",
       "\n",
       "    .dataframe tbody tr th {\n",
       "        vertical-align: top;\n",
       "    }\n",
       "\n",
       "    .dataframe thead th {\n",
       "        text-align: right;\n",
       "    }\n",
       "</style>\n",
       "<table border=\"1\" class=\"dataframe\">\n",
       "  <thead>\n",
       "    <tr style=\"text-align: right;\">\n",
       "      <th></th>\n",
       "      <th>origin</th>\n",
       "      <th>target</th>\n",
       "      <th>edge_id</th>\n",
       "      <th>time_to_waypoint</th>\n",
       "      <th>operation_time</th>\n",
       "    </tr>\n",
       "  </thead>\n",
       "  <tbody>\n",
       "    <tr>\n",
       "      <th>1</th>\n",
       "      <td>Station</td>\n",
       "      <td>WayPoint2</td>\n",
       "      <td>Station_WayPoint2</td>\n",
       "      <td>0.328289</td>\n",
       "      <td>2.676215</td>\n",
       "    </tr>\n",
       "    <tr>\n",
       "      <th>2</th>\n",
       "      <td>WayPoint2</td>\n",
       "      <td>WayPoint86</td>\n",
       "      <td>WayPoint2_WayPoint86</td>\n",
       "      <td>0.236417</td>\n",
       "      <td>9.111409</td>\n",
       "    </tr>\n",
       "  </tbody>\n",
       "</table>\n",
       "</div>"
      ],
      "text/plain": [
       "      origin      target               edge_id  time_to_waypoint  \\\n",
       "1    Station   WayPoint2     Station_WayPoint2          0.328289   \n",
       "2  WayPoint2  WayPoint86  WayPoint2_WayPoint86          0.236417   \n",
       "\n",
       "   operation_time  \n",
       "1        2.676215  \n",
       "2        9.111409  "
      ]
     },
     "execution_count": 67,
     "metadata": {},
     "output_type": "execute_result"
    }
   ],
   "source": [
    "#1) Import data from PyMongo\n",
    "df = get_data(address = \"aaf_y2\")\n",
    "df = df[df[\"edge_id\"] != \"Wp87_WP2\"]\n",
    "df = df[df[\"edge_id\"] != \"WayPoint28_Feuerloescher\"]\n",
    "\n",
    "adjacent = get_adjacent(\"aaf_map.yaml\")\n",
    "nodes = list(adjacent.keys())\n",
    "length = get_length(\"aaf_map.yaml\")\n",
    "edges = list(length.keys())\n",
    "df = df.loc[df[\"origin\"].isin(nodes)]\n",
    "df = df.loc[df[\"target\"].isin(nodes)]\n",
    "df = df.loc[df[\"edge_id\"].isin(edges)]\n",
    "print(len(df))\n",
    "\n",
    "#2) Remove data with invalid origin/target\n",
    "#adjacent = get_adjacent(\"aaf_map.yaml\")\n",
    "df = get_valid1(df, adjacent)\n",
    "print(len(df))\n",
    "\n",
    "#3) Change format of datetimes in dataframe to datetime.datetime object\n",
    "df = get_times(df)\n",
    "\n",
    "#4) Count congestion level\n",
    "df = get_congestion(df, adjacent)\n",
    "print(\"Unimodal: \", len(df[df[\"n_robots\"] == 1]))\n",
    "print(\"Multimodal: \", len(df[df[\"n_robots\"] != 1]))\n",
    "\n",
    "#5) remove final, unsuccessful, multimodal runs\n",
    "df_aaf = get_valid2(df)\n",
    "df_aaf.head(2)"
   ]
  },
  {
   "cell_type": "code",
   "execution_count": 68,
   "metadata": {},
   "outputs": [
    {
     "name": "stdout",
     "output_type": "stream",
     "text": [
      "done\n"
     ]
    }
   ],
   "source": [
    "#6) save to excel\n",
    "df_aaf.to_excel(\"aaf_y2.xlsx\")\n",
    "print(\"done\")"
   ]
  },
  {
   "cell_type": "code",
   "execution_count": 69,
   "metadata": {},
   "outputs": [
    {
     "data": {
      "text/html": [
       "<div>\n",
       "<style scoped>\n",
       "    .dataframe tbody tr th:only-of-type {\n",
       "        vertical-align: middle;\n",
       "    }\n",
       "\n",
       "    .dataframe tbody tr th {\n",
       "        vertical-align: top;\n",
       "    }\n",
       "\n",
       "    .dataframe thead th {\n",
       "        text-align: right;\n",
       "    }\n",
       "</style>\n",
       "<table border=\"1\" class=\"dataframe\">\n",
       "  <thead>\n",
       "    <tr style=\"text-align: right;\">\n",
       "      <th></th>\n",
       "      <th>origin</th>\n",
       "      <th>target</th>\n",
       "      <th>edge_id</th>\n",
       "      <th>time_to_waypoint</th>\n",
       "      <th>operation_time</th>\n",
       "    </tr>\n",
       "  </thead>\n",
       "  <tbody>\n",
       "    <tr>\n",
       "      <th>0</th>\n",
       "      <td>Station</td>\n",
       "      <td>WayPoint2</td>\n",
       "      <td>Station_WayPoint2</td>\n",
       "      <td>0.328289</td>\n",
       "      <td>2.676215</td>\n",
       "    </tr>\n",
       "    <tr>\n",
       "      <th>1</th>\n",
       "      <td>WayPoint2</td>\n",
       "      <td>WayPoint86</td>\n",
       "      <td>WayPoint2_WayPoint86</td>\n",
       "      <td>0.236417</td>\n",
       "      <td>9.111409</td>\n",
       "    </tr>\n",
       "  </tbody>\n",
       "</table>\n",
       "</div>"
      ],
      "text/plain": [
       "      origin      target               edge_id  time_to_waypoint  \\\n",
       "0    Station   WayPoint2     Station_WayPoint2          0.328289   \n",
       "1  WayPoint2  WayPoint86  WayPoint2_WayPoint86          0.236417   \n",
       "\n",
       "   operation_time  \n",
       "0        2.676215  \n",
       "1        9.111409  "
      ]
     },
     "execution_count": 69,
     "metadata": {},
     "output_type": "execute_result"
    }
   ],
   "source": [
    "# retrieve data\n",
    "df_aaf = pd.read_excel(\"aaf_y2.xlsx\")\n",
    "df_aaf = df_aaf[[\"origin\", \"target\", \"edge_id\", \"time_to_waypoint\", \"operation_time\"]]\n",
    "df_aaf.head(2)"
   ]
  },
  {
   "cell_type": "markdown",
   "metadata": {},
   "source": [
    "# 5) TSC y3"
   ]
  },
  {
   "cell_type": "code",
   "execution_count": 82,
   "metadata": {},
   "outputs": [
    {
     "name": "stdout",
     "output_type": "stream",
     "text": [
      "Time taken (get_adjacent): 0.6584620475769043 secs\n",
      "Time taken (get_length): 0.735328197479248 secs\n",
      "6828\n",
      "6828\n",
      "Time taken (get_times): 3.2972218990325928 secs\n",
      "0 iterations in 0.0 seconds\n",
      "5000 iterations in 11.889139890670776 seconds\n",
      "Time taken (get_congestion): 16.39375376701355 seconds\n",
      "Unimodal:  6397\n",
      "Multimodal:  431\n"
     ]
    },
    {
     "data": {
      "text/html": [
       "<div>\n",
       "<style scoped>\n",
       "    .dataframe tbody tr th:only-of-type {\n",
       "        vertical-align: middle;\n",
       "    }\n",
       "\n",
       "    .dataframe tbody tr th {\n",
       "        vertical-align: top;\n",
       "    }\n",
       "\n",
       "    .dataframe thead th {\n",
       "        text-align: right;\n",
       "    }\n",
       "</style>\n",
       "<table border=\"1\" class=\"dataframe\">\n",
       "  <thead>\n",
       "    <tr style=\"text-align: right;\">\n",
       "      <th></th>\n",
       "      <th>origin</th>\n",
       "      <th>target</th>\n",
       "      <th>edge_id</th>\n",
       "      <th>time_to_waypoint</th>\n",
       "      <th>operation_time</th>\n",
       "    </tr>\n",
       "  </thead>\n",
       "  <tbody>\n",
       "    <tr>\n",
       "      <th>0</th>\n",
       "      <td>ChargingPoint</td>\n",
       "      <td>Station</td>\n",
       "      <td>ChargingPoint_Station</td>\n",
       "      <td>26.468006</td>\n",
       "      <td>38.898573</td>\n",
       "    </tr>\n",
       "    <tr>\n",
       "      <th>2</th>\n",
       "      <td>Station</td>\n",
       "      <td>ChargingPoint</td>\n",
       "      <td>Station_ChargingPoint</td>\n",
       "      <td>0.413475</td>\n",
       "      <td>68.313145</td>\n",
       "    </tr>\n",
       "  </tbody>\n",
       "</table>\n",
       "</div>"
      ],
      "text/plain": [
       "          origin         target                edge_id  time_to_waypoint  \\\n",
       "0  ChargingPoint        Station  ChargingPoint_Station         26.468006   \n",
       "2        Station  ChargingPoint  Station_ChargingPoint          0.413475   \n",
       "\n",
       "   operation_time  \n",
       "0       38.898573  \n",
       "2       68.313145  "
      ]
     },
     "execution_count": 82,
     "metadata": {},
     "output_type": "execute_result"
    }
   ],
   "source": [
    "#1) Import data from PyMongo\n",
    "df = get_data(address = \"tsc_y3\")\n",
    "\n",
    "adjacent = get_adjacent(\"tsc_map.yaml\")\n",
    "nodes = list(adjacent.keys())\n",
    "length = get_length(\"tsc_map.yaml\")\n",
    "edges = list(length.keys())\n",
    "df = df.loc[df[\"origin\"].isin(nodes)]\n",
    "df = df.loc[df[\"target\"].isin(nodes)]\n",
    "df = df.loc[df[\"edge_id\"].isin(edges)]\n",
    "print(len(df))\n",
    "\n",
    "#2) Remove data with invalid origin/target\n",
    "#adjacent = get_adjacent(\"aaf_map.yaml\")\n",
    "df = get_valid1(df, adjacent)\n",
    "print(len(df))\n",
    "\n",
    "#3) Change format of datetimes in dataframe to datetime.datetime object\n",
    "df = get_times(df)\n",
    "\n",
    "#4) Count congestion level\n",
    "df = get_congestion(df, adjacent)\n",
    "print(\"Unimodal: \", len(df[df[\"n_robots\"] == 1]))\n",
    "print(\"Multimodal: \", len(df[df[\"n_robots\"] != 1]))\n",
    "\n",
    "#5) remove final, unsuccessful, multimodal runs\n",
    "df_tsc = get_valid2(df)\n",
    "df_tsc.head(2)"
   ]
  },
  {
   "cell_type": "code",
   "execution_count": 83,
   "metadata": {},
   "outputs": [
    {
     "name": "stdout",
     "output_type": "stream",
     "text": [
      "done\n"
     ]
    }
   ],
   "source": [
    "#6) save to excel\n",
    "df_tsc.to_excel(\"tsc_y3.xlsx\")\n",
    "print(\"done\")"
   ]
  },
  {
   "cell_type": "code",
   "execution_count": 84,
   "metadata": {},
   "outputs": [
    {
     "data": {
      "text/html": [
       "<div>\n",
       "<style scoped>\n",
       "    .dataframe tbody tr th:only-of-type {\n",
       "        vertical-align: middle;\n",
       "    }\n",
       "\n",
       "    .dataframe tbody tr th {\n",
       "        vertical-align: top;\n",
       "    }\n",
       "\n",
       "    .dataframe thead th {\n",
       "        text-align: right;\n",
       "    }\n",
       "</style>\n",
       "<table border=\"1\" class=\"dataframe\">\n",
       "  <thead>\n",
       "    <tr style=\"text-align: right;\">\n",
       "      <th></th>\n",
       "      <th>origin</th>\n",
       "      <th>target</th>\n",
       "      <th>edge_id</th>\n",
       "      <th>time_to_waypoint</th>\n",
       "      <th>operation_time</th>\n",
       "    </tr>\n",
       "  </thead>\n",
       "  <tbody>\n",
       "    <tr>\n",
       "      <th>0</th>\n",
       "      <td>ChargingPoint</td>\n",
       "      <td>Station</td>\n",
       "      <td>ChargingPoint_Station</td>\n",
       "      <td>26.468006</td>\n",
       "      <td>38.898573</td>\n",
       "    </tr>\n",
       "    <tr>\n",
       "      <th>1</th>\n",
       "      <td>Station</td>\n",
       "      <td>ChargingPoint</td>\n",
       "      <td>Station_ChargingPoint</td>\n",
       "      <td>0.413475</td>\n",
       "      <td>68.313145</td>\n",
       "    </tr>\n",
       "  </tbody>\n",
       "</table>\n",
       "</div>"
      ],
      "text/plain": [
       "          origin         target                edge_id  time_to_waypoint  \\\n",
       "0  ChargingPoint        Station  ChargingPoint_Station         26.468006   \n",
       "1        Station  ChargingPoint  Station_ChargingPoint          0.413475   \n",
       "\n",
       "   operation_time  \n",
       "0       38.898573  \n",
       "1       68.313145  "
      ]
     },
     "execution_count": 84,
     "metadata": {},
     "output_type": "execute_result"
    }
   ],
   "source": [
    "# retrieve data\n",
    "df_tsc = pd.read_excel(\"tsc_y3.xlsx\")\n",
    "df_tsc = df_tsc[[\"origin\", \"target\", \"edge_id\", \"time_to_waypoint\", \"operation_time\"]]\n",
    "df_tsc.head(2)"
   ]
  },
  {
   "cell_type": "markdown",
   "metadata": {},
   "source": [
    "# 6) TSC y4 - Betty"
   ]
  },
  {
   "cell_type": "code",
   "execution_count": 85,
   "metadata": {},
   "outputs": [
    {
     "name": "stdout",
     "output_type": "stream",
     "text": [
      "Time taken (get_adjacent): 0.5814762115478516 secs\n",
      "Time taken (get_length): 0.63150954246521 secs\n",
      "3328\n",
      "3328\n",
      "Time taken (get_times): 1.1859149932861328 secs\n",
      "0 iterations in 0.0 seconds\n",
      "Time taken (get_congestion): 5.6266255378723145 seconds\n",
      "Unimodal:  3323\n",
      "Multimodal:  5\n"
     ]
    },
    {
     "data": {
      "text/html": [
       "<div>\n",
       "<style scoped>\n",
       "    .dataframe tbody tr th:only-of-type {\n",
       "        vertical-align: middle;\n",
       "    }\n",
       "\n",
       "    .dataframe tbody tr th {\n",
       "        vertical-align: top;\n",
       "    }\n",
       "\n",
       "    .dataframe thead th {\n",
       "        text-align: right;\n",
       "    }\n",
       "</style>\n",
       "<table border=\"1\" class=\"dataframe\">\n",
       "  <thead>\n",
       "    <tr style=\"text-align: right;\">\n",
       "      <th></th>\n",
       "      <th>origin</th>\n",
       "      <th>target</th>\n",
       "      <th>edge_id</th>\n",
       "      <th>time_to_waypoint</th>\n",
       "      <th>operation_time</th>\n",
       "    </tr>\n",
       "  </thead>\n",
       "  <tbody>\n",
       "    <tr>\n",
       "      <th>0</th>\n",
       "      <td>Station1</td>\n",
       "      <td>SmallKitchen</td>\n",
       "      <td>Station1_SmallKitchen</td>\n",
       "      <td>0.047758</td>\n",
       "      <td>9.263602</td>\n",
       "    </tr>\n",
       "    <tr>\n",
       "      <th>1</th>\n",
       "      <td>SmallKitchen</td>\n",
       "      <td>HospActRec4</td>\n",
       "      <td>SmallKitchen_HospActRec4</td>\n",
       "      <td>0.088824</td>\n",
       "      <td>8.628814</td>\n",
       "    </tr>\n",
       "  </tbody>\n",
       "</table>\n",
       "</div>"
      ],
      "text/plain": [
       "         origin        target                   edge_id  time_to_waypoint  \\\n",
       "0      Station1  SmallKitchen     Station1_SmallKitchen          0.047758   \n",
       "1  SmallKitchen   HospActRec4  SmallKitchen_HospActRec4          0.088824   \n",
       "\n",
       "   operation_time  \n",
       "0        9.263602  \n",
       "1        8.628814  "
      ]
     },
     "execution_count": 85,
     "metadata": {},
     "output_type": "execute_result"
    }
   ],
   "source": [
    "#1) Import data from PyMongo\n",
    "df = get_data(address = \"tsc_betty\")\n",
    "\n",
    "adjacent = get_adjacent(\"tsc_map.yaml\")\n",
    "nodes = list(adjacent.keys())\n",
    "length = get_length(\"tsc_map.yaml\")\n",
    "edges = list(length.keys())\n",
    "df = df.loc[df[\"origin\"].isin(nodes)]\n",
    "df = df.loc[df[\"target\"].isin(nodes)]\n",
    "df = df.loc[df[\"edge_id\"].isin(edges)]\n",
    "print(len(df))\n",
    "\n",
    "#2) Remove data with invalid origin/target\n",
    "#adjacent = get_adjacent(\"aaf_map.yaml\")\n",
    "df = get_valid1(df, adjacent)\n",
    "print(len(df))\n",
    "\n",
    "#3) Change format of datetimes in dataframe to datetime.datetime object\n",
    "df = get_times(df)\n",
    "\n",
    "#4) Count congestion level\n",
    "df = get_congestion(df, adjacent)\n",
    "print(\"Unimodal: \", len(df[df[\"n_robots\"] == 1]))\n",
    "print(\"Multimodal: \", len(df[df[\"n_robots\"] != 1]))\n",
    "\n",
    "#5) remove final, unsuccessful, multimodal runs\n",
    "df_tsc = get_valid2(df)\n",
    "df_tsc.head(2)"
   ]
  },
  {
   "cell_type": "code",
   "execution_count": 86,
   "metadata": {},
   "outputs": [
    {
     "name": "stdout",
     "output_type": "stream",
     "text": [
      "done\n"
     ]
    }
   ],
   "source": [
    "#6) save to excel\n",
    "df_tsc.to_excel(\"tsc_betty.xlsx\")\n",
    "print(\"done\")"
   ]
  },
  {
   "cell_type": "code",
   "execution_count": 87,
   "metadata": {},
   "outputs": [
    {
     "data": {
      "text/html": [
       "<div>\n",
       "<style scoped>\n",
       "    .dataframe tbody tr th:only-of-type {\n",
       "        vertical-align: middle;\n",
       "    }\n",
       "\n",
       "    .dataframe tbody tr th {\n",
       "        vertical-align: top;\n",
       "    }\n",
       "\n",
       "    .dataframe thead th {\n",
       "        text-align: right;\n",
       "    }\n",
       "</style>\n",
       "<table border=\"1\" class=\"dataframe\">\n",
       "  <thead>\n",
       "    <tr style=\"text-align: right;\">\n",
       "      <th></th>\n",
       "      <th>origin</th>\n",
       "      <th>target</th>\n",
       "      <th>edge_id</th>\n",
       "      <th>time_to_waypoint</th>\n",
       "      <th>operation_time</th>\n",
       "    </tr>\n",
       "  </thead>\n",
       "  <tbody>\n",
       "    <tr>\n",
       "      <th>0</th>\n",
       "      <td>Station1</td>\n",
       "      <td>SmallKitchen</td>\n",
       "      <td>Station1_SmallKitchen</td>\n",
       "      <td>0.047758</td>\n",
       "      <td>9.263602</td>\n",
       "    </tr>\n",
       "    <tr>\n",
       "      <th>1</th>\n",
       "      <td>SmallKitchen</td>\n",
       "      <td>HospActRec4</td>\n",
       "      <td>SmallKitchen_HospActRec4</td>\n",
       "      <td>0.088824</td>\n",
       "      <td>8.628814</td>\n",
       "    </tr>\n",
       "  </tbody>\n",
       "</table>\n",
       "</div>"
      ],
      "text/plain": [
       "         origin        target                   edge_id  time_to_waypoint  \\\n",
       "0      Station1  SmallKitchen     Station1_SmallKitchen          0.047758   \n",
       "1  SmallKitchen   HospActRec4  SmallKitchen_HospActRec4          0.088824   \n",
       "\n",
       "   operation_time  \n",
       "0        9.263602  \n",
       "1        8.628814  "
      ]
     },
     "execution_count": 87,
     "metadata": {},
     "output_type": "execute_result"
    }
   ],
   "source": [
    "# retrieve data\n",
    "df_tsc = pd.read_excel(\"tsc_betty.xlsx\")\n",
    "df_tsc = df_tsc[[\"origin\", \"target\", \"edge_id\", \"time_to_waypoint\", \"operation_time\"]]\n",
    "df_tsc.head(2)"
   ]
  },
  {
   "cell_type": "markdown",
   "metadata": {},
   "source": [
    "# 7) TSC y4 - Bob"
   ]
  },
  {
   "cell_type": "code",
   "execution_count": 88,
   "metadata": {},
   "outputs": [
    {
     "name": "stdout",
     "output_type": "stream",
     "text": [
      "Time taken (get_adjacent): 0.5899572372436523 secs\n",
      "Time taken (get_length): 0.6293232440948486 secs\n",
      "9012\n",
      "9012\n",
      "Time taken (get_times): 4.191533327102661 secs\n",
      "0 iterations in 0.0009975433349609375 seconds\n",
      "5000 iterations in 12.459723711013794 seconds\n",
      "Time taken (get_congestion): 22.725107431411743 seconds\n",
      "Unimodal:  8986\n",
      "Multimodal:  26\n"
     ]
    },
    {
     "data": {
      "text/html": [
       "<div>\n",
       "<style scoped>\n",
       "    .dataframe tbody tr th:only-of-type {\n",
       "        vertical-align: middle;\n",
       "    }\n",
       "\n",
       "    .dataframe tbody tr th {\n",
       "        vertical-align: top;\n",
       "    }\n",
       "\n",
       "    .dataframe thead th {\n",
       "        text-align: right;\n",
       "    }\n",
       "</style>\n",
       "<table border=\"1\" class=\"dataframe\">\n",
       "  <thead>\n",
       "    <tr style=\"text-align: right;\">\n",
       "      <th></th>\n",
       "      <th>origin</th>\n",
       "      <th>target</th>\n",
       "      <th>edge_id</th>\n",
       "      <th>time_to_waypoint</th>\n",
       "      <th>operation_time</th>\n",
       "    </tr>\n",
       "  </thead>\n",
       "  <tbody>\n",
       "    <tr>\n",
       "      <th>1</th>\n",
       "      <td>Station1</td>\n",
       "      <td>SmallKitchen</td>\n",
       "      <td>Station1_SmallKitchen</td>\n",
       "      <td>0.054096</td>\n",
       "      <td>4.340037</td>\n",
       "    </tr>\n",
       "    <tr>\n",
       "      <th>2</th>\n",
       "      <td>SmallKitchen</td>\n",
       "      <td>HospActRec4</td>\n",
       "      <td>SmallKitchen_HospActRec4</td>\n",
       "      <td>0.077031</td>\n",
       "      <td>5.906566</td>\n",
       "    </tr>\n",
       "  </tbody>\n",
       "</table>\n",
       "</div>"
      ],
      "text/plain": [
       "         origin        target                   edge_id  time_to_waypoint  \\\n",
       "1      Station1  SmallKitchen     Station1_SmallKitchen          0.054096   \n",
       "2  SmallKitchen   HospActRec4  SmallKitchen_HospActRec4          0.077031   \n",
       "\n",
       "   operation_time  \n",
       "1        4.340037  \n",
       "2        5.906566  "
      ]
     },
     "execution_count": 88,
     "metadata": {},
     "output_type": "execute_result"
    }
   ],
   "source": [
    "#1) Import data from PyMongo\n",
    "df = get_data(address = \"tsc_bob\")\n",
    "\n",
    "adjacent = get_adjacent(\"tsc_map.yaml\")\n",
    "nodes = list(adjacent.keys())\n",
    "length = get_length(\"tsc_map.yaml\")\n",
    "edges = list(length.keys())\n",
    "df = df.loc[df[\"origin\"].isin(nodes)]\n",
    "df = df.loc[df[\"target\"].isin(nodes)]\n",
    "df = df.loc[df[\"edge_id\"].isin(edges)]\n",
    "print(len(df))\n",
    "\n",
    "#2) Remove data with invalid origin/target\n",
    "#adjacent = get_adjacent(\"aaf_map.yaml\")\n",
    "df = get_valid1(df, adjacent)\n",
    "print(len(df))\n",
    "\n",
    "#3) Change format of datetimes in dataframe to datetime.datetime object\n",
    "df = get_times(df)\n",
    "\n",
    "#4) Count congestion level\n",
    "df = get_congestion(df, adjacent)\n",
    "print(\"Unimodal: \", len(df[df[\"n_robots\"] == 1]))\n",
    "print(\"Multimodal: \", len(df[df[\"n_robots\"] != 1]))\n",
    "\n",
    "#5) remove final, unsuccessful, multimodal runs\n",
    "df_tsc = get_valid2(df)\n",
    "df_tsc.head(2)"
   ]
  },
  {
   "cell_type": "code",
   "execution_count": 89,
   "metadata": {},
   "outputs": [
    {
     "name": "stdout",
     "output_type": "stream",
     "text": [
      "done\n"
     ]
    }
   ],
   "source": [
    "#6) save to excel\n",
    "df_tsc.to_excel(\"tsc_bob.xlsx\")\n",
    "print(\"done\")"
   ]
  },
  {
   "cell_type": "code",
   "execution_count": 91,
   "metadata": {},
   "outputs": [
    {
     "data": {
      "text/html": [
       "<div>\n",
       "<style scoped>\n",
       "    .dataframe tbody tr th:only-of-type {\n",
       "        vertical-align: middle;\n",
       "    }\n",
       "\n",
       "    .dataframe tbody tr th {\n",
       "        vertical-align: top;\n",
       "    }\n",
       "\n",
       "    .dataframe thead th {\n",
       "        text-align: right;\n",
       "    }\n",
       "</style>\n",
       "<table border=\"1\" class=\"dataframe\">\n",
       "  <thead>\n",
       "    <tr style=\"text-align: right;\">\n",
       "      <th></th>\n",
       "      <th>origin</th>\n",
       "      <th>target</th>\n",
       "      <th>edge_id</th>\n",
       "      <th>time_to_waypoint</th>\n",
       "      <th>operation_time</th>\n",
       "    </tr>\n",
       "  </thead>\n",
       "  <tbody>\n",
       "    <tr>\n",
       "      <th>0</th>\n",
       "      <td>Station1</td>\n",
       "      <td>SmallKitchen</td>\n",
       "      <td>Station1_SmallKitchen</td>\n",
       "      <td>0.054096</td>\n",
       "      <td>4.340037</td>\n",
       "    </tr>\n",
       "    <tr>\n",
       "      <th>1</th>\n",
       "      <td>SmallKitchen</td>\n",
       "      <td>HospActRec4</td>\n",
       "      <td>SmallKitchen_HospActRec4</td>\n",
       "      <td>0.077031</td>\n",
       "      <td>5.906566</td>\n",
       "    </tr>\n",
       "  </tbody>\n",
       "</table>\n",
       "</div>"
      ],
      "text/plain": [
       "         origin        target                   edge_id  time_to_waypoint  \\\n",
       "0      Station1  SmallKitchen     Station1_SmallKitchen          0.054096   \n",
       "1  SmallKitchen   HospActRec4  SmallKitchen_HospActRec4          0.077031   \n",
       "\n",
       "   operation_time  \n",
       "0        4.340037  \n",
       "1        5.906566  "
      ]
     },
     "execution_count": 91,
     "metadata": {},
     "output_type": "execute_result"
    }
   ],
   "source": [
    "# retrieve data\n",
    "df_tsc_bob = pd.read_excel(\"tsc_bob.xlsx\")\n",
    "df_tsc_bob = df_tsc_bob[[\"origin\", \"target\", \"edge_id\", \"time_to_waypoint\", \"operation_time\"]]\n",
    "df_tsc_bob.head(2)"
   ]
  },
  {
   "cell_type": "code",
   "execution_count": null,
   "metadata": {},
   "outputs": [],
   "source": []
  }
 ],
 "metadata": {
  "kernelspec": {
   "display_name": "Python 3",
   "language": "python",
   "name": "python3"
  },
  "language_info": {
   "codemirror_mode": {
    "name": "ipython",
    "version": 3
   },
   "file_extension": ".py",
   "mimetype": "text/x-python",
   "name": "python",
   "nbconvert_exporter": "python",
   "pygments_lexer": "ipython3",
   "version": "3.8.3"
  }
 },
 "nbformat": 4,
 "nbformat_minor": 4
}
