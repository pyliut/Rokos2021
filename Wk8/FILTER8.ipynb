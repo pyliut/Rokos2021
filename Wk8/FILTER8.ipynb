{
 "cells": [
  {
   "cell_type": "markdown",
   "metadata": {},
   "source": [
    "# 1) Setup"
   ]
  },
  {
   "cell_type": "code",
   "execution_count": 1,
   "metadata": {},
   "outputs": [
    {
     "name": "stdout",
     "output_type": "stream",
     "text": [
      "done\n"
     ]
    }
   ],
   "source": [
    "#import libraries\n",
    "import pandas as pd\n",
    "import matplotlib.pyplot as plt\n",
    "from matplotlib import cm\n",
    "\n",
    "import numpy as np\n",
    "import math\n",
    "import scipy as sp\n",
    "from scipy import stats\n",
    "from copy import copy\n",
    "import time\n",
    "import re\n",
    "import yaml\n",
    "\n",
    "import pymongo\n",
    "from pymongo import MongoClient\n",
    "from datetime import datetime\n",
    "from datetime import timedelta\n",
    "print(\"done\")"
   ]
  },
  {
   "cell_type": "code",
   "execution_count": 2,
   "metadata": {},
   "outputs": [
    {
     "name": "stdout",
     "output_type": "stream",
     "text": [
      "done\n"
     ]
    }
   ],
   "source": [
    "#import functions from python files\n",
    "\n",
    "#1) data import & filtering\n",
    "from get_data import *\n",
    "from get_adjacent import *\n",
    "from get_congestion import *\n",
    "from get_valid import *\n",
    "\n",
    "from get_data_yaml import *\n",
    "from get_context import *\n",
    "\n",
    "\n",
    "\n",
    "from select_data import *\n",
    "from select_data_edge import *\n",
    "\n",
    "from underscore_prefix import *\n",
    "from underscore_suffix import *\n",
    "\n",
    "\n",
    "print(\"done\")"
   ]
  },
  {
   "cell_type": "markdown",
   "metadata": {},
   "source": [
    "# 2) Pre-processed data (Blenheim)"
   ]
  },
  {
   "cell_type": "code",
   "execution_count": 3,
   "metadata": {},
   "outputs": [
    {
     "name": "stdout",
     "output_type": "stream",
     "text": [
      "Time taken: 4.554853677749634 secs\n",
      "Total 11412\n"
     ]
    },
    {
     "data": {
      "text/plain": [
       "1    6737\n",
       "2    3755\n",
       "3     830\n",
       "4      87\n",
       "5       3\n",
       "Name: n_robots, dtype: int64"
      ]
     },
     "execution_count": 3,
     "metadata": {},
     "output_type": "execute_result"
    }
   ],
   "source": [
    "#random\n",
    "blenheim_scalar_random_df = get_data_yaml(filename = \"blenheim_random_success.yaml\")\n",
    "print(\"Total\", len(blenheim_scalar_random_df))\n",
    "blenheim_scalar_random_df[\"n_robots\"].value_counts()\n"
   ]
  },
  {
   "cell_type": "code",
   "execution_count": 33,
   "metadata": {},
   "outputs": [
    {
     "name": "stdout",
     "output_type": "stream",
     "text": [
      "Time taken: 4.0779337882995605 secs\n",
      "Total 11550\n"
     ]
    },
    {
     "data": {
      "text/plain": [
       "1    6258\n",
       "2    4063\n",
       "3    1094\n",
       "4     129\n",
       "5       6\n",
       "Name: n_robots, dtype: int64"
      ]
     },
     "execution_count": 33,
     "metadata": {},
     "output_type": "execute_result"
    }
   ],
   "source": [
    "#targeted\n",
    "blenheim_scalar_targeted_df = get_data_yaml(filename = \"blenheim_targeted_success.yaml\")\n",
    "print(\"Total\",len(blenheim_scalar_targeted_df))\n",
    "blenheim_scalar_targeted_df[\"n_robots\"].value_counts()"
   ]
  },
  {
   "cell_type": "code",
   "execution_count": 32,
   "metadata": {},
   "outputs": [
    {
     "name": "stdout",
     "output_type": "stream",
     "text": [
      "Total 22962\n"
     ]
    },
    {
     "data": {
      "text/plain": [
       "1    12995\n",
       "2     7818\n",
       "3     1924\n",
       "4      216\n",
       "5        9\n",
       "Name: n_robots, dtype: int64"
      ]
     },
     "execution_count": 32,
     "metadata": {},
     "output_type": "execute_result"
    }
   ],
   "source": [
    "#combined\n",
    "blenheim_scalar_combined_df = pd.concat([blenheim_scalar_random_df,blenheim_scalar_targeted_df]).reset_index(drop = True)\n",
    "print(\"Total\", len(blenheim_scalar_combined_df))\n",
    "blenheim_scalar_combined_df[\"n_robots\"].value_counts()"
   ]
  },
  {
   "cell_type": "markdown",
   "metadata": {},
   "source": [
    "# 3) My congestion processing"
   ]
  },
  {
   "cell_type": "markdown",
   "metadata": {},
   "source": [
    "## 3a) Blenheim random"
   ]
  },
  {
   "cell_type": "code",
   "execution_count": 4,
   "metadata": {},
   "outputs": [
    {
     "name": "stdout",
     "output_type": "stream",
     "text": [
      "Time taken: 0.07480359077453613 secs\n",
      "0 iterations in 0.0 secs\n",
      "1000 iterations in 2.7237801551818848 secs\n",
      "2000 iterations in 5.548957824707031 secs\n",
      "3000 iterations in 8.6762056350708 secs\n",
      "4000 iterations in 11.343337297439575 secs\n",
      "5000 iterations in 14.346173286437988 secs\n",
      "6000 iterations in 16.96446132659912 secs\n",
      "7000 iterations in 19.535683155059814 secs\n",
      "8000 iterations in 22.04622530937195 secs\n",
      "9000 iterations in 24.834057092666626 secs\n",
      "10000 iterations in 27.73395872116089 secs\n",
      "11000 iterations in 30.642752408981323 secs\n",
      "12000 iterations in 33.23168063163757 secs\n",
      "13000 iterations in 35.9022901058197 secs\n",
      "14000 iterations in 39.09541583061218 secs\n",
      "Time taken(get_congestion): 42.09271216392517 secs\n"
     ]
    },
    {
     "data": {
      "text/plain": [
       "1    8068\n",
       "2    5016\n",
       "3    1566\n",
       "4     281\n",
       "5      50\n",
       "Name: n_robots, dtype: int64"
      ]
     },
     "execution_count": 4,
     "metadata": {},
     "output_type": "execute_result"
    }
   ],
   "source": [
    "#1) Import data from PyMongo\n",
    "df = get_data(address = \"blenheim_random\")\n",
    "adjacent = get_adjacent(\"blenheim_map.yaml\")\n",
    "df = get_congestion(df, adjacent)\n",
    "df[\"n_robots\"].value_counts()"
   ]
  },
  {
   "cell_type": "code",
   "execution_count": 6,
   "metadata": {},
   "outputs": [
    {
     "name": "stdout",
     "output_type": "stream",
     "text": [
      "Total Filtered\n",
      "14981 10831\n"
     ]
    },
    {
     "data": {
      "text/plain": [
       "1    5675\n",
       "2    3733\n",
       "3    1164\n",
       "4     228\n",
       "5      31\n",
       "Name: n_robots, dtype: int64"
      ]
     },
     "execution_count": 6,
     "metadata": {},
     "output_type": "execute_result"
    }
   ],
   "source": [
    "df_blenheim_random = get_valid(df, remove_multimodal = False, remove_initial = False)\n",
    "print(\"Total\", \"Filtered\")\n",
    "print(len(df), len(df_blenheim_random))\n",
    "df_blenheim_random[\"n_robots\"].value_counts()\n"
   ]
  },
  {
   "cell_type": "markdown",
   "metadata": {},
   "source": [
    "## 3b) Blenheim Targeted"
   ]
  },
  {
   "cell_type": "code",
   "execution_count": 27,
   "metadata": {},
   "outputs": [
    {
     "name": "stdout",
     "output_type": "stream",
     "text": [
      "Time taken: 0.06479430198669434 secs\n",
      "0 iterations in 0.0 secs\n",
      "1000 iterations in 2.7628860473632812 secs\n",
      "2000 iterations in 5.4021289348602295 secs\n",
      "3000 iterations in 8.047260761260986 secs\n",
      "4000 iterations in 10.579028606414795 secs\n",
      "5000 iterations in 13.061459064483643 secs\n",
      "6000 iterations in 15.611045837402344 secs\n",
      "7000 iterations in 18.13658595085144 secs\n",
      "8000 iterations in 20.611280918121338 secs\n",
      "9000 iterations in 23.276909828186035 secs\n",
      "10000 iterations in 25.776536226272583 secs\n",
      "11000 iterations in 28.27556347846985 secs\n",
      "12000 iterations in 30.78754949569702 secs\n",
      "13000 iterations in 33.26897716522217 secs\n",
      "14000 iterations in 35.777273416519165 secs\n",
      "15000 iterations in 38.31239676475525 secs\n",
      "Time taken(get_congestion): 39.155845642089844 secs\n"
     ]
    },
    {
     "data": {
      "text/plain": [
       "1     7726\n",
       "2     5115\n",
       "3     1789\n",
       "4      476\n",
       "5      138\n",
       "6       38\n",
       "7       17\n",
       "8       10\n",
       "9        3\n",
       "10       1\n",
       "Name: n_robots, dtype: int64"
      ]
     },
     "execution_count": 27,
     "metadata": {},
     "output_type": "execute_result"
    }
   ],
   "source": [
    "#1) Import data from PyMongo\n",
    "df_targeted = get_data(address = \"blenheim_targeted\")\n",
    "adjacent = get_adjacent(\"blenheim_map.yaml\")\n",
    "df_targeted = get_congestion(df_targeted, adjacent)\n",
    "df_targeted[\"n_robots\"].value_counts()"
   ]
  },
  {
   "cell_type": "code",
   "execution_count": 38,
   "metadata": {},
   "outputs": [
    {
     "name": "stdout",
     "output_type": "stream",
     "text": [
      "Total Filtered\n",
      "15313 9652\n"
     ]
    },
    {
     "data": {
      "text/plain": [
       "1     4288\n",
       "2     3534\n",
       "3     1331\n",
       "4      339\n",
       "5      108\n",
       "6       31\n",
       "7       14\n",
       "8        5\n",
       "10       1\n",
       "9        1\n",
       "Name: n_robots, dtype: int64"
      ]
     },
     "execution_count": 38,
     "metadata": {},
     "output_type": "execute_result"
    }
   ],
   "source": [
    "df_blenheim_targeted = get_valid(df_targeted, remove_multimodal = False, remove_initial = True)\n",
    "print(\"Total\", \"Filtered\")\n",
    "print(len(df_targeted), len(df_blenheim_targeted))\n",
    "df_blenheim_targeted[\"n_robots\"].value_counts()\n"
   ]
  },
  {
   "cell_type": "code",
   "execution_count": null,
   "metadata": {},
   "outputs": [],
   "source": []
  }
 ],
 "metadata": {
  "kernelspec": {
   "display_name": "Python 3",
   "language": "python",
   "name": "python3"
  },
  "language_info": {
   "codemirror_mode": {
    "name": "ipython",
    "version": 3
   },
   "file_extension": ".py",
   "mimetype": "text/x-python",
   "name": "python",
   "nbconvert_exporter": "python",
   "pygments_lexer": "ipython3",
   "version": "3.8.3"
  }
 },
 "nbformat": 4,
 "nbformat_minor": 4
}
