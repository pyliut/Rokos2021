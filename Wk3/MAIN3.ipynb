{
 "cells": [
  {
   "cell_type": "markdown",
   "metadata": {},
   "source": [
    "# 1) Setup"
   ]
  },
  {
   "cell_type": "code",
   "execution_count": 2,
   "metadata": {},
   "outputs": [
    {
     "name": "stderr",
     "output_type": "stream",
     "text": [
      "C:\\Users\\pyliu\\anaconda3\\lib\\site-packages\\sklearn\\utils\\deprecation.py:143: FutureWarning: The sklearn.datasets.samples_generator module is  deprecated in version 0.22 and will be removed in version 0.24. The corresponding classes / functions should instead be imported from sklearn.datasets. Anything that cannot be imported from sklearn.datasets is now part of the private API.\n",
      "  warnings.warn(message, FutureWarning)\n"
     ]
    },
    {
     "name": "stdout",
     "output_type": "stream",
     "text": [
      "done\n"
     ]
    }
   ],
   "source": [
    "#import libraries\n",
    "import pandas as pd\n",
    "import matplotlib.pyplot as plt\n",
    "\n",
    "import numpy as np\n",
    "import math\n",
    "import scipy as sp\n",
    "from scipy.stats import kstest\n",
    "from copy import copy\n",
    "\n",
    "import pymongo\n",
    "from pymongo import MongoClient\n",
    "from datetime import datetime\n",
    "\n",
    "from ipywidgets import interact, interactive, fixed, interact_manual\n",
    "import ipywidgets as widgets\n",
    "\n",
    "import sklearn\n",
    "from sklearn.datasets.samples_generator import make_blobs\n",
    "from sklearn.mixture import GaussianMixture\n",
    "\n",
    "print(\"done\")"
   ]
  },
  {
   "cell_type": "code",
   "execution_count": 11,
   "metadata": {},
   "outputs": [
    {
     "name": "stdout",
     "output_type": "stream",
     "text": [
      "done\n"
     ]
    }
   ],
   "source": [
    "#import functions from python files\n",
    "\n",
    "#1) data import & filtering\n",
    "from get_data import *\n",
    "from filter_data import *\n",
    "from filter_data2 import *\n",
    "from filter_data3 import *\n",
    "from select_data import *\n",
    "from select_data_edge import *\n",
    "\n",
    "\n",
    "#2) Goodness-of-fit\n",
    "from underscore_prefix import *\n",
    "from underscore_suffix import *\n",
    "\n",
    "from edge_direction import *\n",
    "from edge_plot import *\n",
    "from edge_plot_gaussian import *\n",
    "from edge_plot_lognormal import *\n",
    "\n",
    "from update_mean import *\n",
    "from goodness_of_fit import *\n",
    "from goodness_of_fit2 import *\n",
    "from gof_multiple_edge import *\n",
    "\n",
    "#3) Bayesian: multi-parameter Gaussian\n",
    "from Gamma import *\n",
    "from Lognormal import *\n",
    "\n",
    "from Gaussian import *\n",
    "from Gaussian_broadcast import *\n",
    "\n",
    "from Normal_Gamma import *\n",
    "from Normal_Gamma_bayes import *\n",
    "from Normal_Gamma_bayes_update import *\n",
    "\n",
    "#for comparison\n",
    "from Gaussian_ml import *\n",
    "\n",
    "\n",
    "print(\"done\")"
   ]
  },
  {
   "cell_type": "code",
   "execution_count": 4,
   "metadata": {},
   "outputs": [
    {
     "name": "stdout",
     "output_type": "stream",
     "text": [
      "done\n"
     ]
    }
   ],
   "source": [
    "#1) Import filtered data from Excel\n",
    "df = pd.read_excel(\"n_robots.xlsx\")\n",
    "#2) Final filtering - Get rid of is_final = TRUE & n_robots != 1\n",
    "df = filter_data3(df)\n",
    "\n",
    "print(\"done\")"
   ]
  },
  {
   "cell_type": "code",
   "execution_count": 25,
   "metadata": {},
   "outputs": [
    {
     "name": "stdout",
     "output_type": "stream",
     "text": [
      "86\n",
      "['alpha', 'anglit', 'arcsine', 'argus', 'beta', 'betaprime', 'bradford', 'burr', 'burr12', 'cauchy', 'chi', 'chi2', 'cosine', 'crystalball', 'dgamma', 'dweibull', 'expon', 'exponnorm', 'exponpow', 'exponweib', 'f', 'fatiguelife', 'fisk', 'foldcauchy', 'foldnorm', 'frechet_l', 'frechet_r', 'gamma', 'genextreme', 'gengamma', 'genhalflogistic', 'geninvgauss', 'genlogistic', 'gennorm', 'genpareto', 'gilbrat', 'gompertz', 'gumbel_l', 'gumbel_r', 'halfcauchy', 'halfgennorm', 'halflogistic', 'halfnorm', 'hypsecant', 'invgamma', 'invgauss', 'johnsonsb', 'johnsonsu', 'kappa3', 'kappa4', 'laplace', 'levy', 'levy_l', 'loggamma', 'logistic', 'loglaplace', 'lognorm', 'loguniform', 'lomax', 'maxwell', 'mielke', 'moyal', 'nakagami', 'ncx2', 'norm', 'norminvgauss', 'pareto', 'pearson3', 'powerlaw', 'powerlognorm', 'powernorm', 'rayleigh', 'rice', 'semicircular', 'skewnorm', 't', 'trapz', 'triang', 'truncexpon', 'truncnorm', 'uniform', 'vonmises', 'vonmises_line', 'wald', 'weibull_max', 'weibull_min']\n"
     ]
    }
   ],
   "source": [
    "#create an array of the distributions we would like to test\n",
    "#Did this by removing the distributions from \"possible\" that could not be fitted\n",
    "\n",
    "#dist_cont = [\"norm\", \"lognorm\", \"gamma\", \"invgauss\", \"beta\", \"betaprime\", \"burr\", \"cauchy\", \"chi2\", \"levy\"]\n",
    "\n",
    "dist_cont = ['alpha', 'anglit', 'arcsine', 'argus', 'beta', 'betaprime', \n",
    "             'bradford', 'burr', 'burr12', 'cauchy', 'chi', 'chi2', 'cosine', \n",
    "             'crystalball', 'dgamma', 'dweibull', 'expon', 'exponnorm', 'exponpow', \n",
    "             'exponweib', 'f', 'fatiguelife', 'fisk', 'foldcauchy', 'foldnorm', \n",
    "             'frechet_l', 'frechet_r', 'gamma', 'genextreme', 'gengamma', 'genhalflogistic', 'geninvgauss',\n",
    "             'genlogistic', 'gennorm', 'genpareto', 'gilbrat', 'gompertz', 'gumbel_l', \n",
    "             'gumbel_r', 'halfcauchy', 'halfgennorm', 'halflogistic', 'halfnorm', 'hypsecant', \n",
    "             'invgamma', 'invgauss', 'johnsonsb', 'johnsonsu', 'kappa3', 'kappa4',\n",
    "             'laplace', 'levy', 'levy_l', 'loggamma', 'logistic', 'loglaplace', 'lognorm', \n",
    "             'loguniform', 'lomax', 'maxwell', 'mielke', 'moyal', 'nakagami',\n",
    "             'ncx2', 'norm', 'norminvgauss', 'pareto', 'pearson3', 'powerlaw', \n",
    "             'powerlognorm', 'powernorm', 'rayleigh', 'rice', 'semicircular', 'skewnorm', 't', \n",
    "             'trapz', 'triang', 'truncexpon', 'truncnorm','uniform', 'vonmises', \n",
    "             'vonmises_line', 'wald', 'weibull_max', 'weibull_min']\n",
    "\n",
    "n_dist = len(dist_cont)\n",
    "\n",
    "print(n_dist)\n",
    "print(dist_cont)"
   ]
  },
  {
   "cell_type": "markdown",
   "metadata": {},
   "source": [
    "# 2) Multiple edges and all (valid) scipy distributions"
   ]
  },
  {
   "cell_type": "code",
   "execution_count": 123,
   "metadata": {},
   "outputs": [
    {
     "name": "stdout",
     "output_type": "stream",
     "text": [
      "done\n"
     ]
    }
   ],
   "source": [
    "# OPTIONAL\n",
    "#3) Select data of interest\n",
    "wp1 = \"WayPoint70\"\n",
    "wp2 = \"WayPoint71\"\n",
    "edge = wp1 + \"_\" + wp2\n",
    "subset = select_data_edge(df, edge)\n",
    "#independent variable to plot over\n",
    "t_op = subset[\"operation_time\"]\n",
    "print(\"done\")"
   ]
  },
  {
   "cell_type": "code",
   "execution_count": 6,
   "metadata": {},
   "outputs": [
    {
     "name": "stdout",
     "output_type": "stream",
     "text": [
      "alpha\n",
      "anglit\n",
      "arcsine\n",
      "argus"
     ]
    },
    {
     "name": "stderr",
     "output_type": "stream",
     "text": [
      "C:\\Users\\pyliu\\anaconda3\\lib\\site-packages\\scipy\\stats\\_distn_infrastructure.py:2429: RuntimeWarning: invalid value encountered in double_scalars\n",
      "  Lhat = muhat - Shat*mu\n",
      "C:\\Users\\pyliu\\anaconda3\\lib\\site-packages\\scipy\\stats\\_continuous_distns.py:496: RuntimeWarning: divide by zero encountered in true_divide\n",
      "  return 1.0/np.pi/np.sqrt(x*(1-x))\n"
     ]
    },
    {
     "name": "stdout",
     "output_type": "stream",
     "text": [
      "\n",
      "beta\n",
      "betaprime\n"
     ]
    },
    {
     "name": "stderr",
     "output_type": "stream",
     "text": [
      "C:\\Users\\pyliu\\anaconda3\\lib\\site-packages\\scipy\\stats\\_continuous_distns.py:621: RuntimeWarning: invalid value encountered in sqrt\n",
      "  sk = 2*(b-a)*np.sqrt(a + b + 1) / (a + b + 2) / np.sqrt(a*b)\n",
      "C:\\Users\\pyliu\\anaconda3\\lib\\site-packages\\scipy\\optimize\\minpack.py:175: RuntimeWarning: The iteration is not making good progress, as measured by the \n",
      "  improvement from the last ten iterations.\n",
      "  warnings.warn(msg, RuntimeWarning)\n",
      "C:\\Users\\pyliu\\anaconda3\\lib\\site-packages\\scipy\\stats\\_continuous_distns.py:781: RuntimeWarning: divide by zero encountered in true_divide\n",
      "  a/(b-1.0),\n",
      "C:\\Users\\pyliu\\anaconda3\\lib\\site-packages\\scipy\\stats\\_continuous_distns.py:785: RuntimeWarning: divide by zero encountered in true_divide\n",
      "  a*(a+1.0)/((b-2.0)*(b-1.0)),\n"
     ]
    },
    {
     "name": "stdout",
     "output_type": "stream",
     "text": [
      "bradford\n",
      "burr\n",
      "burr12\n",
      "cauchy\n",
      "chi\n",
      "chi2\n",
      "cosine\n",
      "crystalball\n",
      "dgamma\n",
      "dweibull\n",
      "expon\n",
      "exponnorm\n",
      "exponpow\n",
      "exponweib\n",
      "f\n",
      "fatiguelife\n",
      "fisk\n",
      "foldcauchy\n",
      "foldnorm\n",
      "frechet_l\n",
      "frechet_r\n",
      "gamma\n",
      "genextreme\n",
      "gengamma\n",
      "genhalflogistic\n",
      "geninvgauss\n",
      "genlogistic\n",
      "gennorm\n",
      "genpareto\n",
      "gilbrat\n",
      "gompertz\n",
      "gumbel_l\n",
      "gumbel_r\n",
      "halfcauchy\n",
      "halfgennorm\n",
      "halflogistic\n",
      "halfnorm\n",
      "hypsecant\n",
      "invgamma\n",
      "invgauss\n",
      "johnsonsb\n",
      "johnsonsu\n",
      "kappa3\n",
      "kappa4\n",
      "laplace\n",
      "levy\n",
      "levy_l\n",
      "loggamma\n",
      "logistic\n",
      "loglaplace\n",
      "lognorm\n"
     ]
    },
    {
     "name": "stderr",
     "output_type": "stream",
     "text": [
      "C:\\Users\\pyliu\\anaconda3\\lib\\site-packages\\scipy\\stats\\_distn_infrastructure.py:1722: RuntimeWarning: divide by zero encountered in log\n",
      "  return log(self._pdf(x, *args))\n",
      "C:\\Users\\pyliu\\anaconda3\\lib\\site-packages\\scipy\\stats\\_continuous_distns.py:4963: RuntimeWarning: divide by zero encountered in true_divide\n",
      "  return c**2 / (c**2 - n**2)\n"
     ]
    },
    {
     "name": "stdout",
     "output_type": "stream",
     "text": [
      "loguniform\n",
      "lomax\n",
      "maxwell\n",
      "mielke\n",
      "moyal\n",
      "nakagami\n",
      "ncx2\n"
     ]
    },
    {
     "name": "stderr",
     "output_type": "stream",
     "text": [
      "C:\\Users\\pyliu\\anaconda3\\lib\\site-packages\\scipy\\stats\\_continuous_distns.py:5711: RuntimeWarning: divide by zero encountered in power\n",
      "  return 2*nu**nu/sc.gamma(nu)*(x**(2*nu-1.0))*np.exp(-nu*x*x)\n"
     ]
    },
    {
     "name": "stdout",
     "output_type": "stream",
     "text": [
      "norm\n",
      "norminvgauss\n",
      "pareto\n",
      "pearson3\n",
      "powerlaw\n",
      "powerlognorm\n",
      "powernorm\n",
      "rayleigh\n",
      "rice\n",
      "semicircular"
     ]
    },
    {
     "name": "stderr",
     "output_type": "stream",
     "text": [
      "C:\\Users\\pyliu\\Documents\\GOALS\\Code\\Wk3\\update_mean.py:31: RuntimeWarning: invalid value encountered in double_scalars\n",
      "  return mean + (1/N)*(t_new - mean)\n"
     ]
    },
    {
     "name": "stdout",
     "output_type": "stream",
     "text": [
      "\n",
      "skewnorm\n",
      "t\n",
      "trapz\n",
      "triang\n",
      "truncexpon\n",
      "truncnorm\n",
      "uniform\n",
      "vonmises\n",
      "vonmises_line\n",
      "wald\n",
      "weibull_max\n",
      "weibull_min\n"
     ]
    },
    {
     "data": {
      "text/html": [
       "<div>\n",
       "<style scoped>\n",
       "    .dataframe tbody tr th:only-of-type {\n",
       "        vertical-align: middle;\n",
       "    }\n",
       "\n",
       "    .dataframe tbody tr th {\n",
       "        vertical-align: top;\n",
       "    }\n",
       "\n",
       "    .dataframe thead th {\n",
       "        text-align: right;\n",
       "    }\n",
       "</style>\n",
       "<table border=\"1\" class=\"dataframe\">\n",
       "  <thead>\n",
       "    <tr style=\"text-align: right;\">\n",
       "      <th></th>\n",
       "      <th>Model</th>\n",
       "      <th>KS statistic</th>\n",
       "      <th>KS p-value</th>\n",
       "      <th>MAE</th>\n",
       "      <th>MSE</th>\n",
       "    </tr>\n",
       "  </thead>\n",
       "  <tbody>\n",
       "    <tr>\n",
       "      <th>0</th>\n",
       "      <td>alpha</td>\n",
       "      <td>0.090303</td>\n",
       "      <td>0.00579254</td>\n",
       "      <td>9.47625</td>\n",
       "      <td>134433</td>\n",
       "    </tr>\n",
       "    <tr>\n",
       "      <th>1</th>\n",
       "      <td>anglit</td>\n",
       "      <td>0.466788</td>\n",
       "      <td>1.51163e-71</td>\n",
       "      <td>8.04686</td>\n",
       "      <td>97.4267</td>\n",
       "    </tr>\n",
       "    <tr>\n",
       "      <th>2</th>\n",
       "      <td>arcsine</td>\n",
       "      <td>0.577333</td>\n",
       "      <td>2.32305e-120</td>\n",
       "      <td>11.1824</td>\n",
       "      <td>195.763</td>\n",
       "    </tr>\n",
       "    <tr>\n",
       "      <th>3</th>\n",
       "      <td>argus</td>\n",
       "      <td>0.527152</td>\n",
       "      <td>6.5007e-94</td>\n",
       "      <td>9.9503</td>\n",
       "      <td>140.485</td>\n",
       "    </tr>\n",
       "    <tr>\n",
       "      <th>4</th>\n",
       "      <td>beta</td>\n",
       "      <td>0.188</td>\n",
       "      <td>1.1886e-11</td>\n",
       "      <td>2.68597</td>\n",
       "      <td>16.1185</td>\n",
       "    </tr>\n",
       "    <tr>\n",
       "      <th>5</th>\n",
       "      <td>betaprime</td>\n",
       "      <td>0.205212</td>\n",
       "      <td>6.29608e-14</td>\n",
       "      <td>2.77743</td>\n",
       "      <td>15.8716</td>\n",
       "    </tr>\n",
       "    <tr>\n",
       "      <th>6</th>\n",
       "      <td>bradford</td>\n",
       "      <td>0.599758</td>\n",
       "      <td>5.34243e-134</td>\n",
       "      <td>9.61413</td>\n",
       "      <td>141.686</td>\n",
       "    </tr>\n",
       "    <tr>\n",
       "      <th>7</th>\n",
       "      <td>burr</td>\n",
       "      <td>0.112242</td>\n",
       "      <td>0.000244634</td>\n",
       "      <td>2.78516</td>\n",
       "      <td>55.5575</td>\n",
       "    </tr>\n",
       "    <tr>\n",
       "      <th>8</th>\n",
       "      <td>burr12</td>\n",
       "      <td>0.086303</td>\n",
       "      <td>0.011315</td>\n",
       "      <td>2.87373</td>\n",
       "      <td>41.1249</td>\n",
       "    </tr>\n",
       "    <tr>\n",
       "      <th>9</th>\n",
       "      <td>cauchy</td>\n",
       "      <td>0.202182</td>\n",
       "      <td>1.37837e-13</td>\n",
       "      <td>4.44316</td>\n",
       "      <td>898.135</td>\n",
       "    </tr>\n",
       "  </tbody>\n",
       "</table>\n",
       "</div>"
      ],
      "text/plain": [
       "       Model KS statistic    KS p-value      MAE      MSE\n",
       "0      alpha     0.090303    0.00579254  9.47625   134433\n",
       "1     anglit     0.466788   1.51163e-71  8.04686  97.4267\n",
       "2    arcsine     0.577333  2.32305e-120  11.1824  195.763\n",
       "3      argus     0.527152    6.5007e-94   9.9503  140.485\n",
       "4       beta        0.188    1.1886e-11  2.68597  16.1185\n",
       "5  betaprime     0.205212   6.29608e-14  2.77743  15.8716\n",
       "6   bradford     0.599758  5.34243e-134  9.61413  141.686\n",
       "7       burr     0.112242   0.000244634  2.78516  55.5575\n",
       "8     burr12     0.086303      0.011315  2.87373  41.1249\n",
       "9     cauchy     0.202182   1.37837e-13  4.44316  898.135"
      ]
     },
     "execution_count": 6,
     "metadata": {},
     "output_type": "execute_result"
    }
   ],
   "source": [
    "#initialise empty pd df to store\n",
    "n_dist = len(dist_cont)\n",
    "errors = pd.DataFrame(index = np.arange(n_dist),columns = [\"Model\",\"KS statistic\", \"KS p-value\", \"MAE\", \"MSE\"])\n",
    "\n",
    "for i, d in enumerate(dist_cont):\n",
    "    print(d)\n",
    "    model = getattr(sp.stats, d)\n",
    "    D_mean, p_mean, mae_mean, mse_mean = goodness_of_fit2(t_op, n_iter = 10, model = model)\n",
    "    errors[\"Model\"][i] = d\n",
    "    errors[\"KS statistic\"][i] = D_mean\n",
    "    errors[\"KS p-value\"][i] = p_mean\n",
    "    errors[\"MAE\"][i] = mae_mean\n",
    "    errors[\"MSE\"][i] = mse_mean\n",
    "errors.head(10)"
   ]
  },
  {
   "cell_type": "markdown",
   "metadata": {},
   "source": [
    "## 2a) Sort by KS value"
   ]
  },
  {
   "cell_type": "code",
   "execution_count": 9,
   "metadata": {},
   "outputs": [
    {
     "data": {
      "text/html": [
       "<div>\n",
       "<style scoped>\n",
       "    .dataframe tbody tr th:only-of-type {\n",
       "        vertical-align: middle;\n",
       "    }\n",
       "\n",
       "    .dataframe tbody tr th {\n",
       "        vertical-align: top;\n",
       "    }\n",
       "\n",
       "    .dataframe thead th {\n",
       "        text-align: right;\n",
       "    }\n",
       "</style>\n",
       "<table border=\"1\" class=\"dataframe\">\n",
       "  <thead>\n",
       "    <tr style=\"text-align: right;\">\n",
       "      <th></th>\n",
       "      <th>Model</th>\n",
       "      <th>KS statistic</th>\n",
       "      <th>KS p-value</th>\n",
       "      <th>MAE</th>\n",
       "      <th>MSE</th>\n",
       "    </tr>\n",
       "  </thead>\n",
       "  <tbody>\n",
       "    <tr>\n",
       "      <th>47</th>\n",
       "      <td>johnsonsu</td>\n",
       "      <td>0.072986</td>\n",
       "      <td>0.196874</td>\n",
       "      <td>3.498645</td>\n",
       "      <td>120.574595</td>\n",
       "    </tr>\n",
       "    <tr>\n",
       "      <th>0</th>\n",
       "      <td>alpha</td>\n",
       "      <td>0.078553</td>\n",
       "      <td>0.128987</td>\n",
       "      <td>22.747002</td>\n",
       "      <td>345833.961778</td>\n",
       "    </tr>\n",
       "    <tr>\n",
       "      <th>22</th>\n",
       "      <td>fisk</td>\n",
       "      <td>0.088611</td>\n",
       "      <td>0.076214</td>\n",
       "      <td>2.463452</td>\n",
       "      <td>17.268676</td>\n",
       "    </tr>\n",
       "    <tr>\n",
       "      <th>28</th>\n",
       "      <td>genextreme</td>\n",
       "      <td>0.112048</td>\n",
       "      <td>0.063040</td>\n",
       "      <td>2.629680</td>\n",
       "      <td>42.188936</td>\n",
       "    </tr>\n",
       "    <tr>\n",
       "      <th>20</th>\n",
       "      <td>f</td>\n",
       "      <td>0.112250</td>\n",
       "      <td>0.007483</td>\n",
       "      <td>2.605925</td>\n",
       "      <td>20.992902</td>\n",
       "    </tr>\n",
       "    <tr>\n",
       "      <th>8</th>\n",
       "      <td>burr12</td>\n",
       "      <td>0.113177</td>\n",
       "      <td>0.053712</td>\n",
       "      <td>2.603883</td>\n",
       "      <td>20.032698</td>\n",
       "    </tr>\n",
       "    <tr>\n",
       "      <th>31</th>\n",
       "      <td>geninvgauss</td>\n",
       "      <td>0.115447</td>\n",
       "      <td>0.032362</td>\n",
       "      <td>2.545821</td>\n",
       "      <td>16.203611</td>\n",
       "    </tr>\n",
       "    <tr>\n",
       "      <th>69</th>\n",
       "      <td>powerlognorm</td>\n",
       "      <td>0.120037</td>\n",
       "      <td>0.004947</td>\n",
       "      <td>2.663248</td>\n",
       "      <td>17.931540</td>\n",
       "    </tr>\n",
       "    <tr>\n",
       "      <th>7</th>\n",
       "      <td>burr</td>\n",
       "      <td>0.128877</td>\n",
       "      <td>0.018628</td>\n",
       "      <td>2.669011</td>\n",
       "      <td>23.763214</td>\n",
       "    </tr>\n",
       "    <tr>\n",
       "      <th>56</th>\n",
       "      <td>lognorm</td>\n",
       "      <td>0.129217</td>\n",
       "      <td>0.008880</td>\n",
       "      <td>2.550267</td>\n",
       "      <td>17.093449</td>\n",
       "    </tr>\n",
       "    <tr>\n",
       "      <th>45</th>\n",
       "      <td>invgauss</td>\n",
       "      <td>0.134697</td>\n",
       "      <td>0.000637</td>\n",
       "      <td>2.650348</td>\n",
       "      <td>18.105473</td>\n",
       "    </tr>\n",
       "    <tr>\n",
       "      <th>60</th>\n",
       "      <td>mielke</td>\n",
       "      <td>0.135826</td>\n",
       "      <td>0.000584</td>\n",
       "      <td>2.429725</td>\n",
       "      <td>14.814622</td>\n",
       "    </tr>\n",
       "    <tr>\n",
       "      <th>21</th>\n",
       "      <td>fatiguelife</td>\n",
       "      <td>0.138222</td>\n",
       "      <td>0.005820</td>\n",
       "      <td>2.647969</td>\n",
       "      <td>17.241128</td>\n",
       "    </tr>\n",
       "    <tr>\n",
       "      <th>35</th>\n",
       "      <td>gilbrat</td>\n",
       "      <td>0.140063</td>\n",
       "      <td>0.012620</td>\n",
       "      <td>2.912857</td>\n",
       "      <td>26.282178</td>\n",
       "    </tr>\n",
       "    <tr>\n",
       "      <th>55</th>\n",
       "      <td>loglaplace</td>\n",
       "      <td>0.140177</td>\n",
       "      <td>0.001758</td>\n",
       "      <td>2.550528</td>\n",
       "      <td>23.030747</td>\n",
       "    </tr>\n",
       "  </tbody>\n",
       "</table>\n",
       "</div>"
      ],
      "text/plain": [
       "           Model  KS statistic  KS p-value        MAE            MSE\n",
       "47     johnsonsu      0.072986    0.196874   3.498645     120.574595\n",
       "0          alpha      0.078553    0.128987  22.747002  345833.961778\n",
       "22          fisk      0.088611    0.076214   2.463452      17.268676\n",
       "28    genextreme      0.112048    0.063040   2.629680      42.188936\n",
       "20             f      0.112250    0.007483   2.605925      20.992902\n",
       "8         burr12      0.113177    0.053712   2.603883      20.032698\n",
       "31   geninvgauss      0.115447    0.032362   2.545821      16.203611\n",
       "69  powerlognorm      0.120037    0.004947   2.663248      17.931540\n",
       "7           burr      0.128877    0.018628   2.669011      23.763214\n",
       "56       lognorm      0.129217    0.008880   2.550267      17.093449\n",
       "45      invgauss      0.134697    0.000637   2.650348      18.105473\n",
       "60        mielke      0.135826    0.000584   2.429725      14.814622\n",
       "21   fatiguelife      0.138222    0.005820   2.647969      17.241128\n",
       "35       gilbrat      0.140063    0.012620   2.912857      26.282178\n",
       "55    loglaplace      0.140177    0.001758   2.550528      23.030747"
      ]
     },
     "execution_count": 9,
     "metadata": {},
     "output_type": "execute_result"
    }
   ],
   "source": [
    "ks_errors = errors.sort_values(\"KS statistic\", ascending = True)\n",
    "ks_errors.head(15)"
   ]
  },
  {
   "cell_type": "markdown",
   "metadata": {},
   "source": [
    "## 2b) Sort by MAE"
   ]
  },
  {
   "cell_type": "code",
   "execution_count": 10,
   "metadata": {},
   "outputs": [
    {
     "data": {
      "text/html": [
       "<div>\n",
       "<style scoped>\n",
       "    .dataframe tbody tr th:only-of-type {\n",
       "        vertical-align: middle;\n",
       "    }\n",
       "\n",
       "    .dataframe tbody tr th {\n",
       "        vertical-align: top;\n",
       "    }\n",
       "\n",
       "    .dataframe thead th {\n",
       "        text-align: right;\n",
       "    }\n",
       "</style>\n",
       "<table border=\"1\" class=\"dataframe\">\n",
       "  <thead>\n",
       "    <tr style=\"text-align: right;\">\n",
       "      <th></th>\n",
       "      <th>Model</th>\n",
       "      <th>KS statistic</th>\n",
       "      <th>KS p-value</th>\n",
       "      <th>MAE</th>\n",
       "      <th>MSE</th>\n",
       "    </tr>\n",
       "  </thead>\n",
       "  <tbody>\n",
       "    <tr>\n",
       "      <th>61</th>\n",
       "      <td>moyal</td>\n",
       "      <td>0.173097</td>\n",
       "      <td>7.004612e-04</td>\n",
       "      <td>2.252668</td>\n",
       "      <td>12.534981</td>\n",
       "    </tr>\n",
       "    <tr>\n",
       "      <th>60</th>\n",
       "      <td>mielke</td>\n",
       "      <td>0.135826</td>\n",
       "      <td>5.836331e-04</td>\n",
       "      <td>2.429725</td>\n",
       "      <td>14.814622</td>\n",
       "    </tr>\n",
       "    <tr>\n",
       "      <th>22</th>\n",
       "      <td>fisk</td>\n",
       "      <td>0.088611</td>\n",
       "      <td>7.621397e-02</td>\n",
       "      <td>2.463452</td>\n",
       "      <td>17.268676</td>\n",
       "    </tr>\n",
       "    <tr>\n",
       "      <th>32</th>\n",
       "      <td>genlogistic</td>\n",
       "      <td>0.194164</td>\n",
       "      <td>9.353496e-08</td>\n",
       "      <td>2.485235</td>\n",
       "      <td>13.808139</td>\n",
       "    </tr>\n",
       "    <tr>\n",
       "      <th>41</th>\n",
       "      <td>halflogistic</td>\n",
       "      <td>0.185260</td>\n",
       "      <td>1.722467e-06</td>\n",
       "      <td>2.491602</td>\n",
       "      <td>14.008837</td>\n",
       "    </tr>\n",
       "    <tr>\n",
       "      <th>30</th>\n",
       "      <td>genhalflogistic</td>\n",
       "      <td>0.193048</td>\n",
       "      <td>1.136447e-07</td>\n",
       "      <td>2.500676</td>\n",
       "      <td>15.067817</td>\n",
       "    </tr>\n",
       "    <tr>\n",
       "      <th>38</th>\n",
       "      <td>gumbel_r</td>\n",
       "      <td>0.201137</td>\n",
       "      <td>1.253350e-05</td>\n",
       "      <td>2.500683</td>\n",
       "      <td>14.792222</td>\n",
       "    </tr>\n",
       "    <tr>\n",
       "      <th>17</th>\n",
       "      <td>exponnorm</td>\n",
       "      <td>0.165121</td>\n",
       "      <td>1.394191e-04</td>\n",
       "      <td>2.508555</td>\n",
       "      <td>14.909896</td>\n",
       "    </tr>\n",
       "    <tr>\n",
       "      <th>81</th>\n",
       "      <td>vonmises</td>\n",
       "      <td>0.985491</td>\n",
       "      <td>2.507257e-240</td>\n",
       "      <td>2.508617</td>\n",
       "      <td>16.082728</td>\n",
       "    </tr>\n",
       "    <tr>\n",
       "      <th>31</th>\n",
       "      <td>geninvgauss</td>\n",
       "      <td>0.115447</td>\n",
       "      <td>3.236234e-02</td>\n",
       "      <td>2.545821</td>\n",
       "      <td>16.203611</td>\n",
       "    </tr>\n",
       "    <tr>\n",
       "      <th>56</th>\n",
       "      <td>lognorm</td>\n",
       "      <td>0.129217</td>\n",
       "      <td>8.880434e-03</td>\n",
       "      <td>2.550267</td>\n",
       "      <td>17.093449</td>\n",
       "    </tr>\n",
       "    <tr>\n",
       "      <th>55</th>\n",
       "      <td>loglaplace</td>\n",
       "      <td>0.140177</td>\n",
       "      <td>1.757811e-03</td>\n",
       "      <td>2.550528</td>\n",
       "      <td>23.030747</td>\n",
       "    </tr>\n",
       "    <tr>\n",
       "      <th>8</th>\n",
       "      <td>burr12</td>\n",
       "      <td>0.113177</td>\n",
       "      <td>5.371228e-02</td>\n",
       "      <td>2.603883</td>\n",
       "      <td>20.032698</td>\n",
       "    </tr>\n",
       "    <tr>\n",
       "      <th>20</th>\n",
       "      <td>f</td>\n",
       "      <td>0.112250</td>\n",
       "      <td>7.482884e-03</td>\n",
       "      <td>2.605925</td>\n",
       "      <td>20.992902</td>\n",
       "    </tr>\n",
       "    <tr>\n",
       "      <th>28</th>\n",
       "      <td>genextreme</td>\n",
       "      <td>0.112048</td>\n",
       "      <td>6.303979e-02</td>\n",
       "      <td>2.629680</td>\n",
       "      <td>42.188936</td>\n",
       "    </tr>\n",
       "    <tr>\n",
       "      <th>43</th>\n",
       "      <td>hypsecant</td>\n",
       "      <td>0.212298</td>\n",
       "      <td>4.090903e-07</td>\n",
       "      <td>2.633354</td>\n",
       "      <td>15.437018</td>\n",
       "    </tr>\n",
       "    <tr>\n",
       "      <th>27</th>\n",
       "      <td>gamma</td>\n",
       "      <td>0.512282</td>\n",
       "      <td>1.550593e-08</td>\n",
       "      <td>2.645314</td>\n",
       "      <td>15.946462</td>\n",
       "    </tr>\n",
       "    <tr>\n",
       "      <th>21</th>\n",
       "      <td>fatiguelife</td>\n",
       "      <td>0.138222</td>\n",
       "      <td>5.819900e-03</td>\n",
       "      <td>2.647969</td>\n",
       "      <td>17.241128</td>\n",
       "    </tr>\n",
       "    <tr>\n",
       "      <th>45</th>\n",
       "      <td>invgauss</td>\n",
       "      <td>0.134697</td>\n",
       "      <td>6.374940e-04</td>\n",
       "      <td>2.650348</td>\n",
       "      <td>18.105473</td>\n",
       "    </tr>\n",
       "    <tr>\n",
       "      <th>16</th>\n",
       "      <td>expon</td>\n",
       "      <td>0.183930</td>\n",
       "      <td>1.102746e-05</td>\n",
       "      <td>2.657693</td>\n",
       "      <td>15.995483</td>\n",
       "    </tr>\n",
       "  </tbody>\n",
       "</table>\n",
       "</div>"
      ],
      "text/plain": [
       "              Model  KS statistic     KS p-value       MAE        MSE\n",
       "61            moyal      0.173097   7.004612e-04  2.252668  12.534981\n",
       "60           mielke      0.135826   5.836331e-04  2.429725  14.814622\n",
       "22             fisk      0.088611   7.621397e-02  2.463452  17.268676\n",
       "32      genlogistic      0.194164   9.353496e-08  2.485235  13.808139\n",
       "41     halflogistic      0.185260   1.722467e-06  2.491602  14.008837\n",
       "30  genhalflogistic      0.193048   1.136447e-07  2.500676  15.067817\n",
       "38         gumbel_r      0.201137   1.253350e-05  2.500683  14.792222\n",
       "17        exponnorm      0.165121   1.394191e-04  2.508555  14.909896\n",
       "81         vonmises      0.985491  2.507257e-240  2.508617  16.082728\n",
       "31      geninvgauss      0.115447   3.236234e-02  2.545821  16.203611\n",
       "56          lognorm      0.129217   8.880434e-03  2.550267  17.093449\n",
       "55       loglaplace      0.140177   1.757811e-03  2.550528  23.030747\n",
       "8            burr12      0.113177   5.371228e-02  2.603883  20.032698\n",
       "20                f      0.112250   7.482884e-03  2.605925  20.992902\n",
       "28       genextreme      0.112048   6.303979e-02  2.629680  42.188936\n",
       "43        hypsecant      0.212298   4.090903e-07  2.633354  15.437018\n",
       "27            gamma      0.512282   1.550593e-08  2.645314  15.946462\n",
       "21      fatiguelife      0.138222   5.819900e-03  2.647969  17.241128\n",
       "45         invgauss      0.134697   6.374940e-04  2.650348  18.105473\n",
       "16            expon      0.183930   1.102746e-05  2.657693  15.995483"
      ]
     },
     "execution_count": 10,
     "metadata": {},
     "output_type": "execute_result"
    }
   ],
   "source": [
    "mae_errors = errors.sort_values(\"MAE\", ascending = True)\n",
    "mae_errors.head(15)"
   ]
  },
  {
   "cell_type": "markdown",
   "metadata": {},
   "source": [
    "# 3) For multiple edges\n",
    "- start with the edges with most observations"
   ]
  },
  {
   "cell_type": "code",
   "execution_count": 17,
   "metadata": {},
   "outputs": [
    {
     "name": "stdout",
     "output_type": "stream",
     "text": [
      "WayPoint69_WayPoint70\n"
     ]
    },
    {
     "name": "stderr",
     "output_type": "stream",
     "text": [
      "C:\\Users\\pyliu\\anaconda3\\lib\\site-packages\\scipy\\stats\\_distn_infrastructure.py:2429: RuntimeWarning: invalid value encountered in double_scalars\n",
      "  Lhat = muhat - Shat*mu\n",
      "C:\\Users\\pyliu\\anaconda3\\lib\\site-packages\\scipy\\stats\\_continuous_distns.py:496: RuntimeWarning: divide by zero encountered in true_divide\n",
      "  return 1.0/np.pi/np.sqrt(x*(1-x))\n",
      "C:\\Users\\pyliu\\anaconda3\\lib\\site-packages\\scipy\\stats\\_continuous_distns.py:621: RuntimeWarning: invalid value encountered in sqrt\n",
      "  sk = 2*(b-a)*np.sqrt(a + b + 1) / (a + b + 2) / np.sqrt(a*b)\n",
      "C:\\Users\\pyliu\\anaconda3\\lib\\site-packages\\scipy\\optimize\\minpack.py:175: RuntimeWarning: The iteration is not making good progress, as measured by the \n",
      "  improvement from the last ten iterations.\n",
      "  warnings.warn(msg, RuntimeWarning)\n",
      "C:\\Users\\pyliu\\anaconda3\\lib\\site-packages\\scipy\\stats\\_continuous_distns.py:781: RuntimeWarning: divide by zero encountered in true_divide\n",
      "  a/(b-1.0),\n",
      "C:\\Users\\pyliu\\anaconda3\\lib\\site-packages\\scipy\\stats\\_continuous_distns.py:785: RuntimeWarning: divide by zero encountered in true_divide\n",
      "  a*(a+1.0)/((b-2.0)*(b-1.0)),\n",
      "C:\\Users\\pyliu\\anaconda3\\lib\\site-packages\\scipy\\stats\\_continuous_distns.py:1677: RuntimeWarning: invalid value encountered in add\n",
      "  logp = (np.log(a) + np.log(c) + sc.xlogy(a - 1.0, exm1c) +\n",
      "C:\\Users\\pyliu\\anaconda3\\lib\\site-packages\\scipy\\stats\\_distn_infrastructure.py:1722: RuntimeWarning: divide by zero encountered in log\n",
      "  return log(self._pdf(x, *args))\n",
      "C:\\Users\\pyliu\\anaconda3\\lib\\site-packages\\scipy\\stats\\_continuous_distns.py:4963: RuntimeWarning: divide by zero encountered in true_divide\n",
      "  return c**2 / (c**2 - n**2)\n",
      "C:\\Users\\pyliu\\anaconda3\\lib\\site-packages\\scipy\\stats\\_continuous_distns.py:5711: RuntimeWarning: divide by zero encountered in power\n",
      "  return 2*nu**nu/sc.gamma(nu)*(x**(2*nu-1.0))*np.exp(-nu*x*x)\n"
     ]
    },
    {
     "name": "stdout",
     "output_type": "stream",
     "text": [
      "WayPoint70_WayPoint71\n",
      "WayPoint72_WayPoint71\n",
      "WayPoint71_WayPoint70\n",
      "WayPoint68_WayPoint69\n",
      "WayPoint71_WayPoint72\n",
      "WayPoint73_WayPoint72\n"
     ]
    },
    {
     "name": "stderr",
     "output_type": "stream",
     "text": [
      "C:\\Users\\pyliu\\anaconda3\\lib\\site-packages\\scipy\\stats\\_continuous_distns.py:8434: RuntimeWarning: divide by zero encountered in double_scalars\n",
      "  A = chi**3 / (_norm_pdf_C * _argus_phi(chi))\n",
      "C:\\Users\\pyliu\\anaconda3\\lib\\site-packages\\scipy\\stats\\_distn_infrastructure.py:1722: RuntimeWarning: invalid value encountered in log\n",
      "  return log(self._pdf(x, *args))\n"
     ]
    },
    {
     "name": "stdout",
     "output_type": "stream",
     "text": [
      "WayPoint75_WayPoint68\n",
      "WayPoint69_WayPoint68\n",
      "WayPoint70_WayPoint69\n",
      "WayPoint53_WayPoint46\n",
      "WayPoint39_WayPoint46\n"
     ]
    },
    {
     "name": "stderr",
     "output_type": "stream",
     "text": [
      "C:\\Users\\pyliu\\anaconda3\\lib\\site-packages\\scipy\\stats\\_continuous_distns.py:1024: RuntimeWarning: overflow encountered in power\n",
      "  return np.log(c) + np.log(d) + sc.xlogy(c - 1, x) + sc.xlog1py(-d-1, x**c)\n"
     ]
    },
    {
     "name": "stdout",
     "output_type": "stream",
     "text": [
      "WayPoint74_WayPoint67\n",
      "WayPoint46_WayPoint53\n",
      "WayPoint60_WayPoint67\n",
      "WayPoint53_WayPoint60\n",
      "WayPoint60_WayPoint53\n",
      "WayPoint81_WayPoint74\n",
      "WayPoint82_WayPoint75\n",
      "WayPoint67_WayPoint60\n",
      "WayPoint67_WayPoint74\n",
      "WayPoint102_WayPoint109\n",
      "WayPoint108_WayPoint109\n",
      "WayPoint68_WayPoint75\n",
      "WayPoint74_WayPoint73\n",
      "done\n"
     ]
    }
   ],
   "source": [
    "errors = gof_multiple_edge(df, model_list = dist_cont, n_edge = 25,  n_iter = 1)\n",
    "print(\"done\")"
   ]
  },
  {
   "cell_type": "code",
   "execution_count": 18,
   "metadata": {},
   "outputs": [
    {
     "data": {
      "text/html": [
       "<div>\n",
       "<style scoped>\n",
       "    .dataframe tbody tr th:only-of-type {\n",
       "        vertical-align: middle;\n",
       "    }\n",
       "\n",
       "    .dataframe tbody tr th {\n",
       "        vertical-align: top;\n",
       "    }\n",
       "\n",
       "    .dataframe thead th {\n",
       "        text-align: right;\n",
       "    }\n",
       "</style>\n",
       "<table border=\"1\" class=\"dataframe\">\n",
       "  <thead>\n",
       "    <tr style=\"text-align: right;\">\n",
       "      <th></th>\n",
       "      <th>Model</th>\n",
       "      <th>KS statistic</th>\n",
       "      <th>KS p-value</th>\n",
       "      <th>MAE</th>\n",
       "      <th>MSE</th>\n",
       "    </tr>\n",
       "  </thead>\n",
       "  <tbody>\n",
       "    <tr>\n",
       "      <th>0</th>\n",
       "      <td>alpha</td>\n",
       "      <td>0.106849</td>\n",
       "      <td>2.414233e-01</td>\n",
       "      <td>3.219662</td>\n",
       "      <td>509.227708</td>\n",
       "    </tr>\n",
       "    <tr>\n",
       "      <th>1</th>\n",
       "      <td>anglit</td>\n",
       "      <td>0.390774</td>\n",
       "      <td>1.403506e-04</td>\n",
       "      <td>3.626175</td>\n",
       "      <td>23.663245</td>\n",
       "    </tr>\n",
       "    <tr>\n",
       "      <th>2</th>\n",
       "      <td>arcsine</td>\n",
       "      <td>0.558461</td>\n",
       "      <td>5.753524e-11</td>\n",
       "      <td>8.344739</td>\n",
       "      <td>138.507267</td>\n",
       "    </tr>\n",
       "    <tr>\n",
       "      <th>3</th>\n",
       "      <td>argus</td>\n",
       "      <td>0.512041</td>\n",
       "      <td>1.755352e-15</td>\n",
       "      <td>7.174714</td>\n",
       "      <td>92.383662</td>\n",
       "    </tr>\n",
       "    <tr>\n",
       "      <th>4</th>\n",
       "      <td>beta</td>\n",
       "      <td>0.164941</td>\n",
       "      <td>8.712679e-02</td>\n",
       "      <td>2.222543</td>\n",
       "      <td>12.597654</td>\n",
       "    </tr>\n",
       "  </tbody>\n",
       "</table>\n",
       "</div>"
      ],
      "text/plain": [
       "     Model  KS statistic    KS p-value       MAE         MSE\n",
       "0    alpha      0.106849  2.414233e-01  3.219662  509.227708\n",
       "1   anglit      0.390774  1.403506e-04  3.626175   23.663245\n",
       "2  arcsine      0.558461  5.753524e-11  8.344739  138.507267\n",
       "3    argus      0.512041  1.755352e-15  7.174714   92.383662\n",
       "4     beta      0.164941  8.712679e-02  2.222543   12.597654"
      ]
     },
     "execution_count": 18,
     "metadata": {},
     "output_type": "execute_result"
    }
   ],
   "source": [
    "errors.head(5)"
   ]
  },
  {
   "cell_type": "code",
   "execution_count": 21,
   "metadata": {},
   "outputs": [
    {
     "name": "stdout",
     "output_type": "stream",
     "text": [
      "done\n"
     ]
    }
   ],
   "source": [
    "#save to excel\n",
    "errors.to_excel(\"Distributions_GOF_multiple_edge.xlsx\")\n",
    "print(\"done\")"
   ]
  },
  {
   "cell_type": "markdown",
   "metadata": {},
   "source": [
    "## 3a) Sort by KS value"
   ]
  },
  {
   "cell_type": "code",
   "execution_count": 19,
   "metadata": {},
   "outputs": [
    {
     "data": {
      "text/html": [
       "<div>\n",
       "<style scoped>\n",
       "    .dataframe tbody tr th:only-of-type {\n",
       "        vertical-align: middle;\n",
       "    }\n",
       "\n",
       "    .dataframe tbody tr th {\n",
       "        vertical-align: top;\n",
       "    }\n",
       "\n",
       "    .dataframe thead th {\n",
       "        text-align: right;\n",
       "    }\n",
       "</style>\n",
       "<table border=\"1\" class=\"dataframe\">\n",
       "  <thead>\n",
       "    <tr style=\"text-align: right;\">\n",
       "      <th></th>\n",
       "      <th>Model</th>\n",
       "      <th>KS statistic</th>\n",
       "      <th>KS p-value</th>\n",
       "      <th>MAE</th>\n",
       "      <th>MSE</th>\n",
       "    </tr>\n",
       "  </thead>\n",
       "  <tbody>\n",
       "    <tr>\n",
       "      <th>47</th>\n",
       "      <td>johnsonsu</td>\n",
       "      <td>0.096040</td>\n",
       "      <td>0.323206</td>\n",
       "      <td>2.293856</td>\n",
       "      <td>20.210756</td>\n",
       "    </tr>\n",
       "    <tr>\n",
       "      <th>8</th>\n",
       "      <td>burr12</td>\n",
       "      <td>0.101061</td>\n",
       "      <td>0.262342</td>\n",
       "      <td>2.335877</td>\n",
       "      <td>22.780522</td>\n",
       "    </tr>\n",
       "    <tr>\n",
       "      <th>0</th>\n",
       "      <td>alpha</td>\n",
       "      <td>0.106849</td>\n",
       "      <td>0.241423</td>\n",
       "      <td>3.219662</td>\n",
       "      <td>509.227708</td>\n",
       "    </tr>\n",
       "    <tr>\n",
       "      <th>22</th>\n",
       "      <td>fisk</td>\n",
       "      <td>0.107009</td>\n",
       "      <td>0.255450</td>\n",
       "      <td>2.307992</td>\n",
       "      <td>23.518805</td>\n",
       "    </tr>\n",
       "    <tr>\n",
       "      <th>31</th>\n",
       "      <td>geninvgauss</td>\n",
       "      <td>0.111516</td>\n",
       "      <td>0.242839</td>\n",
       "      <td>2.138135</td>\n",
       "      <td>14.062396</td>\n",
       "    </tr>\n",
       "    <tr>\n",
       "      <th>28</th>\n",
       "      <td>genextreme</td>\n",
       "      <td>0.111677</td>\n",
       "      <td>0.253670</td>\n",
       "      <td>2.358191</td>\n",
       "      <td>29.587588</td>\n",
       "    </tr>\n",
       "    <tr>\n",
       "      <th>69</th>\n",
       "      <td>powerlognorm</td>\n",
       "      <td>0.114563</td>\n",
       "      <td>0.251923</td>\n",
       "      <td>2.170095</td>\n",
       "      <td>13.533590</td>\n",
       "    </tr>\n",
       "    <tr>\n",
       "      <th>44</th>\n",
       "      <td>invgamma</td>\n",
       "      <td>0.119613</td>\n",
       "      <td>0.177418</td>\n",
       "      <td>2.244578</td>\n",
       "      <td>20.352944</td>\n",
       "    </tr>\n",
       "    <tr>\n",
       "      <th>60</th>\n",
       "      <td>mielke</td>\n",
       "      <td>0.119838</td>\n",
       "      <td>0.170599</td>\n",
       "      <td>2.144841</td>\n",
       "      <td>16.354475</td>\n",
       "    </tr>\n",
       "    <tr>\n",
       "      <th>7</th>\n",
       "      <td>burr</td>\n",
       "      <td>0.123502</td>\n",
       "      <td>0.138641</td>\n",
       "      <td>2.175774</td>\n",
       "      <td>16.250214</td>\n",
       "    </tr>\n",
       "    <tr>\n",
       "      <th>56</th>\n",
       "      <td>lognorm</td>\n",
       "      <td>0.123960</td>\n",
       "      <td>0.209416</td>\n",
       "      <td>2.179945</td>\n",
       "      <td>13.511248</td>\n",
       "    </tr>\n",
       "    <tr>\n",
       "      <th>20</th>\n",
       "      <td>f</td>\n",
       "      <td>0.124500</td>\n",
       "      <td>0.146834</td>\n",
       "      <td>2.247864</td>\n",
       "      <td>20.900387</td>\n",
       "    </tr>\n",
       "    <tr>\n",
       "      <th>23</th>\n",
       "      <td>foldcauchy</td>\n",
       "      <td>0.126617</td>\n",
       "      <td>0.149462</td>\n",
       "      <td>6.244449</td>\n",
       "      <td>18769.776827</td>\n",
       "    </tr>\n",
       "    <tr>\n",
       "      <th>45</th>\n",
       "      <td>invgauss</td>\n",
       "      <td>0.127411</td>\n",
       "      <td>0.183701</td>\n",
       "      <td>2.150793</td>\n",
       "      <td>13.494754</td>\n",
       "    </tr>\n",
       "    <tr>\n",
       "      <th>21</th>\n",
       "      <td>fatiguelife</td>\n",
       "      <td>0.131110</td>\n",
       "      <td>0.214092</td>\n",
       "      <td>2.164558</td>\n",
       "      <td>12.314766</td>\n",
       "    </tr>\n",
       "  </tbody>\n",
       "</table>\n",
       "</div>"
      ],
      "text/plain": [
       "           Model  KS statistic  KS p-value       MAE           MSE\n",
       "47     johnsonsu      0.096040    0.323206  2.293856     20.210756\n",
       "8         burr12      0.101061    0.262342  2.335877     22.780522\n",
       "0          alpha      0.106849    0.241423  3.219662    509.227708\n",
       "22          fisk      0.107009    0.255450  2.307992     23.518805\n",
       "31   geninvgauss      0.111516    0.242839  2.138135     14.062396\n",
       "28    genextreme      0.111677    0.253670  2.358191     29.587588\n",
       "69  powerlognorm      0.114563    0.251923  2.170095     13.533590\n",
       "44      invgamma      0.119613    0.177418  2.244578     20.352944\n",
       "60        mielke      0.119838    0.170599  2.144841     16.354475\n",
       "7           burr      0.123502    0.138641  2.175774     16.250214\n",
       "56       lognorm      0.123960    0.209416  2.179945     13.511248\n",
       "20             f      0.124500    0.146834  2.247864     20.900387\n",
       "23    foldcauchy      0.126617    0.149462  6.244449  18769.776827\n",
       "45      invgauss      0.127411    0.183701  2.150793     13.494754\n",
       "21   fatiguelife      0.131110    0.214092  2.164558     12.314766"
      ]
     },
     "execution_count": 19,
     "metadata": {},
     "output_type": "execute_result"
    }
   ],
   "source": [
    "ks_errors = errors.sort_values(\"KS statistic\", ascending = True)\n",
    "ks_errors.head(15)"
   ]
  },
  {
   "cell_type": "markdown",
   "metadata": {},
   "source": [
    "## 3b) Sort by MAE value"
   ]
  },
  {
   "cell_type": "code",
   "execution_count": 20,
   "metadata": {},
   "outputs": [
    {
     "data": {
      "text/html": [
       "<div>\n",
       "<style scoped>\n",
       "    .dataframe tbody tr th:only-of-type {\n",
       "        vertical-align: middle;\n",
       "    }\n",
       "\n",
       "    .dataframe tbody tr th {\n",
       "        vertical-align: top;\n",
       "    }\n",
       "\n",
       "    .dataframe thead th {\n",
       "        text-align: right;\n",
       "    }\n",
       "</style>\n",
       "<table border=\"1\" class=\"dataframe\">\n",
       "  <thead>\n",
       "    <tr style=\"text-align: right;\">\n",
       "      <th></th>\n",
       "      <th>Model</th>\n",
       "      <th>KS statistic</th>\n",
       "      <th>KS p-value</th>\n",
       "      <th>MAE</th>\n",
       "      <th>MSE</th>\n",
       "    </tr>\n",
       "  </thead>\n",
       "  <tbody>\n",
       "    <tr>\n",
       "      <th>81</th>\n",
       "      <td>vonmises</td>\n",
       "      <td>0.786816</td>\n",
       "      <td>1.300407e-28</td>\n",
       "      <td>1.739126</td>\n",
       "      <td>10.126286</td>\n",
       "    </tr>\n",
       "    <tr>\n",
       "      <th>61</th>\n",
       "      <td>moyal</td>\n",
       "      <td>0.165229</td>\n",
       "      <td>5.511550e-02</td>\n",
       "      <td>1.988952</td>\n",
       "      <td>10.125254</td>\n",
       "    </tr>\n",
       "    <tr>\n",
       "      <th>32</th>\n",
       "      <td>genlogistic</td>\n",
       "      <td>0.178911</td>\n",
       "      <td>5.687665e-02</td>\n",
       "      <td>2.025214</td>\n",
       "      <td>10.225353</td>\n",
       "    </tr>\n",
       "    <tr>\n",
       "      <th>38</th>\n",
       "      <td>gumbel_r</td>\n",
       "      <td>0.180706</td>\n",
       "      <td>4.547149e-02</td>\n",
       "      <td>2.034912</td>\n",
       "      <td>10.250883</td>\n",
       "    </tr>\n",
       "    <tr>\n",
       "      <th>17</th>\n",
       "      <td>exponnorm</td>\n",
       "      <td>0.149699</td>\n",
       "      <td>1.592613e-01</td>\n",
       "      <td>2.104849</td>\n",
       "      <td>11.673634</td>\n",
       "    </tr>\n",
       "    <tr>\n",
       "      <th>31</th>\n",
       "      <td>geninvgauss</td>\n",
       "      <td>0.111516</td>\n",
       "      <td>2.428389e-01</td>\n",
       "      <td>2.138135</td>\n",
       "      <td>14.062396</td>\n",
       "    </tr>\n",
       "    <tr>\n",
       "      <th>60</th>\n",
       "      <td>mielke</td>\n",
       "      <td>0.119838</td>\n",
       "      <td>1.705990e-01</td>\n",
       "      <td>2.144841</td>\n",
       "      <td>16.354475</td>\n",
       "    </tr>\n",
       "    <tr>\n",
       "      <th>45</th>\n",
       "      <td>invgauss</td>\n",
       "      <td>0.127411</td>\n",
       "      <td>1.837009e-01</td>\n",
       "      <td>2.150793</td>\n",
       "      <td>13.494754</td>\n",
       "    </tr>\n",
       "    <tr>\n",
       "      <th>67</th>\n",
       "      <td>pearson3</td>\n",
       "      <td>0.159007</td>\n",
       "      <td>8.700161e-02</td>\n",
       "      <td>2.161500</td>\n",
       "      <td>11.845519</td>\n",
       "    </tr>\n",
       "    <tr>\n",
       "      <th>21</th>\n",
       "      <td>fatiguelife</td>\n",
       "      <td>0.131110</td>\n",
       "      <td>2.140921e-01</td>\n",
       "      <td>2.164558</td>\n",
       "      <td>12.314766</td>\n",
       "    </tr>\n",
       "    <tr>\n",
       "      <th>69</th>\n",
       "      <td>powerlognorm</td>\n",
       "      <td>0.114563</td>\n",
       "      <td>2.519233e-01</td>\n",
       "      <td>2.170095</td>\n",
       "      <td>13.533590</td>\n",
       "    </tr>\n",
       "    <tr>\n",
       "      <th>19</th>\n",
       "      <td>exponweib</td>\n",
       "      <td>0.173395</td>\n",
       "      <td>1.510893e-01</td>\n",
       "      <td>2.172986</td>\n",
       "      <td>13.545996</td>\n",
       "    </tr>\n",
       "    <tr>\n",
       "      <th>7</th>\n",
       "      <td>burr</td>\n",
       "      <td>0.123502</td>\n",
       "      <td>1.386411e-01</td>\n",
       "      <td>2.175774</td>\n",
       "      <td>16.250214</td>\n",
       "    </tr>\n",
       "    <tr>\n",
       "      <th>41</th>\n",
       "      <td>halflogistic</td>\n",
       "      <td>0.192073</td>\n",
       "      <td>4.380731e-02</td>\n",
       "      <td>2.176632</td>\n",
       "      <td>11.406335</td>\n",
       "    </tr>\n",
       "    <tr>\n",
       "      <th>56</th>\n",
       "      <td>lognorm</td>\n",
       "      <td>0.123960</td>\n",
       "      <td>2.094159e-01</td>\n",
       "      <td>2.179945</td>\n",
       "      <td>13.511248</td>\n",
       "    </tr>\n",
       "  </tbody>\n",
       "</table>\n",
       "</div>"
      ],
      "text/plain": [
       "           Model  KS statistic    KS p-value       MAE        MSE\n",
       "81      vonmises      0.786816  1.300407e-28  1.739126  10.126286\n",
       "61         moyal      0.165229  5.511550e-02  1.988952  10.125254\n",
       "32   genlogistic      0.178911  5.687665e-02  2.025214  10.225353\n",
       "38      gumbel_r      0.180706  4.547149e-02  2.034912  10.250883\n",
       "17     exponnorm      0.149699  1.592613e-01  2.104849  11.673634\n",
       "31   geninvgauss      0.111516  2.428389e-01  2.138135  14.062396\n",
       "60        mielke      0.119838  1.705990e-01  2.144841  16.354475\n",
       "45      invgauss      0.127411  1.837009e-01  2.150793  13.494754\n",
       "67      pearson3      0.159007  8.700161e-02  2.161500  11.845519\n",
       "21   fatiguelife      0.131110  2.140921e-01  2.164558  12.314766\n",
       "69  powerlognorm      0.114563  2.519233e-01  2.170095  13.533590\n",
       "19     exponweib      0.173395  1.510893e-01  2.172986  13.545996\n",
       "7           burr      0.123502  1.386411e-01  2.175774  16.250214\n",
       "41  halflogistic      0.192073  4.380731e-02  2.176632  11.406335\n",
       "56       lognorm      0.123960  2.094159e-01  2.179945  13.511248"
      ]
     },
     "execution_count": 20,
     "metadata": {},
     "output_type": "execute_result"
    }
   ],
   "source": [
    "mae_errors = errors.sort_values(\"MAE\", ascending = True)\n",
    "mae_errors.head(15)"
   ]
  },
  {
   "cell_type": "markdown",
   "metadata": {},
   "source": [
    "# 4) Lognormal\n",
    "- Lognorm, invgauss, invgamma are the most promising by KS & MAE GOF statistics"
   ]
  },
  {
   "cell_type": "code",
   "execution_count": 5,
   "metadata": {},
   "outputs": [
    {
     "name": "stdout",
     "output_type": "stream",
     "text": [
      "done\n"
     ]
    }
   ],
   "source": [
    "# Select data of interest\n",
    "wp1 = \"WayPoint70\"\n",
    "wp2 = \"WayPoint71\"\n",
    "edge = wp1 + \"_\" + wp2\n",
    "subset = select_data_edge(df, edge)\n",
    "#independent variable to plot over\n",
    "t_op = subset[\"operation_time\"]\n",
    "print(\"done\")"
   ]
  },
  {
   "cell_type": "code",
   "execution_count": 6,
   "metadata": {},
   "outputs": [
    {
     "name": "stdout",
     "output_type": "stream",
     "text": [
      "657     9.797\n",
      "664    10.286\n",
      "668     9.820\n",
      "Name: operation_time, dtype: float64\n",
      "657    2.282076\n",
      "664    2.330784\n",
      "668    2.284421\n",
      "Name: operation_time, dtype: float64 2.4361569811260555 0.04064589235412179\n"
     ]
    }
   ],
   "source": [
    "print(t_op[0:3])\n",
    "t_log = np.log(t_op)\n",
    "print(t_log[0:3], np.mean(t_log), np.std(t_log)**2)"
   ]
  },
  {
   "cell_type": "code",
   "execution_count": 16,
   "metadata": {},
   "outputs": [
    {
     "data": {
      "image/png": "[encoded data removed]",
      "text/plain": [
       "<Figure size 432x288 with 1 Axes>"
      ]
     },
     "metadata": {
      "needs_background": "light"
     },
     "output_type": "display_data"
    }
   ],
   "source": [
    "plt.hist(t_log, bins = 50);"
   ]
  },
  {
   "cell_type": "code",
   "execution_count": 10,
   "metadata": {},
   "outputs": [
    {
     "name": "stdout",
     "output_type": "stream",
     "text": [
      "MAP probability above threshold\n",
      "MAP mean: 2.453     MAP var: 0.04\n"
     ]
    },
    {
     "data": {
      "image/png": "[encoded data removed]",
      "text/plain": [
       "<Figure size 432x288 with 1 Axes>"
      ]
     },
     "metadata": {
      "needs_background": "light"
     },
     "output_type": "display_data"
    }
   ],
   "source": [
    "#n_terms = 1 if you want just the initial estimates\n",
    "n_terms = len(t_log)//5     \n",
    "t_obs = t_log[0:n_terms]\n",
    "\n",
    "\n",
    "#set parameters\n",
    "mu_0 = 1\n",
    "beta = 0.1\n",
    "a = 1\n",
    "b = 1\n",
    "\n",
    "#Bayesian MAP estimate of mean & variance of Gaussian distribution\n",
    "mean_test, var_test, posterior, mean_map, var_map = Normal_Gamma_bayes(t_obs, mu_0, beta, a, b)\n",
    "print(\"MAP mean:\", mean_map, \"    MAP var:\", var_map)\n",
    "\n",
    "#store mean_map & mean_var for comparison\n",
    "mean_map_old = mean_map\n",
    "var_map_old = var_map"
   ]
  },
  {
   "cell_type": "code",
   "execution_count": 12,
   "metadata": {},
   "outputs": [
    {
     "name": "stdout",
     "output_type": "stream",
     "text": [
      "MLE mean: 2.436156981126054     MLE var 0.04064589235412177\n"
     ]
    }
   ],
   "source": [
    "#compare to MLE mean & var\n",
    "mean_ml, var_ml = Gaussian_ml(t_log)\n",
    "print(\"MLE mean:\", mean_ml, \"    MLE var\", var_ml)"
   ]
  },
  {
   "cell_type": "code",
   "execution_count": 13,
   "metadata": {},
   "outputs": [
    {
     "name": "stdout",
     "output_type": "stream",
     "text": [
      "11.857967446453067 5.738459766203501\n"
     ]
    }
   ],
   "source": [
    "#convert to lognormal parameters (not needed)\n",
    "mean_lognorm = np.exp(mean_map + 0.5* var_map)\n",
    "var_lognorm = np.exp(2*mean_map + var_map) *( np.exp(var_map) - 1)\n",
    "print(mean_lognorm, var_lognorm)\n"
   ]
  },
  {
   "cell_type": "code",
   "execution_count": null,
   "metadata": {},
   "outputs": [],
   "source": []
  },
  {
   "cell_type": "code",
   "execution_count": 24,
   "metadata": {},
   "outputs": [
    {
     "data": {
      "text/plain": [
       "Text(0.5, 1.0, 'WayPoint39_WayPoint46')"
      ]
     },
     "execution_count": 24,
     "metadata": {},
     "output_type": "execute_result"
    },
    {
     "data": {
      "image/png": "[encoded data removed]",
      "text/plain": [
       "<Figure size 432x288 with 1 Axes>"
      ]
     },
     "metadata": {
      "needs_background": "light"
     },
     "output_type": "display_data"
    }
   ],
   "source": [
    "#Plot against actual data\n",
    "\n",
    "t_start= 0.01\n",
    "t_stop = (np.max(t_op)//5)*5 + 10    #round up to nearest 5 secs\n",
    "t_step = 0.01\n",
    "t_test = np.arange(t_start,t_stop,t_step)\n",
    "\n",
    "#Duration distribution using MAP parameters from Bayesian method\n",
    "#p_bayes = Gaussian(t_test,mean_map,var_map)\n",
    "p_bayes2 = Lognormal(t_test,mean_map,var_map)\n",
    "\n",
    "#plot\n",
    "#plt.plot(t_test,p_bayes)\n",
    "plt.plot(t_test,p_bayes2)\n",
    "\n",
    "plt.hist(t_op, density = True, bins = 50)\n",
    "#plt.legend([\"Bayesian\", \"Actual\"])\n",
    "plt.xlabel(\"operation_time (s)\")\n",
    "plt.ylabel(\"probability\")\n",
    "plt.title(edge)"
   ]
  },
  {
   "cell_type": "markdown",
   "metadata": {},
   "source": [
    "# 5) Manual fit"
   ]
  },
  {
   "cell_type": "markdown",
   "metadata": {},
   "source": [
    "## 5a) fit lognormal"
   ]
  },
  {
   "cell_type": "code",
   "execution_count": 25,
   "metadata": {},
   "outputs": [
    {
     "name": "stdout",
     "output_type": "stream",
     "text": [
      "done\n"
     ]
    }
   ],
   "source": [
    "# OPTIONAL\n",
    "#3) Select data of interest\n",
    "wp1 = \"WayPoint70\"\n",
    "wp2 = \"WayPoint71\"\n",
    "edge = wp1 + \"_\" + wp2\n",
    "subset = select_data_edge(df, edge)\n",
    "#independent variable to plot over\n",
    "t_op = subset[\"operation_time\"]\n",
    "print(\"done\")"
   ]
  },
  {
   "cell_type": "code",
   "execution_count": 26,
   "metadata": {},
   "outputs": [
    {
     "data": {
      "image/png": "[encoded data removed]",
      "text/plain": [
       "<Figure size 432x288 with 1 Axes>"
      ]
     },
     "metadata": {
      "needs_background": "light"
     },
     "output_type": "display_data"
    }
   ],
   "source": [
    "\n",
    "\n",
    "\n",
    "\n",
    "\n",
    "\n",
    "t_start= 0.01\n",
    "t_stop = (np.max(t_op)//5)*5 + 10    #round up to nearest 5 secs\n",
    "t_step = 0.01\n",
    "t_test = np.arange(t_start,t_stop,t_step)\n",
    "p = Lognormal(t_test, 0.2, 3)\n",
    "plt.plot(t_test,p)\n",
    "plt.hist(t_op, density=True,bins = 100);"
   ]
  },
  {
   "cell_type": "code",
   "execution_count": 27,
   "metadata": {},
   "outputs": [
    {
     "data": {
      "application/vnd.jupyter.widget-view+json": {
       "model_id": "bf3137e0466741a6836dfc9ce4c3342b",
       "version_major": 2,
       "version_minor": 0
      },
      "text/plain": [
       "interactive(children=(FloatSlider(value=7.5, description='mean', max=15.0, min=0.1), FloatSlider(value=7.5, de…"
      ]
     },
     "metadata": {},
     "output_type": "display_data"
    },
    {
     "data": {
      "text/plain": [
       "<function __main__.lognormal_widget(mean, var)>"
      ]
     },
     "execution_count": 27,
     "metadata": {},
     "output_type": "execute_result"
    }
   ],
   "source": [
    "def lognormal_widget(mean, var):\n",
    "    t_start= 0.01\n",
    "    t_stop = (np.max(t_op)//5)*5 + 10    #round up to nearest 5 secs\n",
    "    t_step = 0.01\n",
    "    t_test = np.arange(t_start,t_stop,t_step)\n",
    "    p = Lognormal(t_test,mean,var)\n",
    "    plt.plot(t_test,p)\n",
    "    \n",
    "    #t_2 = t_op - np.min(t_op)\n",
    "    #plt.hist(t_2, density = True,bins = 100);   \n",
    "    \n",
    "   \n",
    "interact(lognormal_widget, mean=(0.1,15,0.1), var = (0.1,15,0.1))"
   ]
  },
  {
   "cell_type": "code",
   "execution_count": 28,
   "metadata": {},
   "outputs": [
    {
     "data": {
      "application/vnd.jupyter.widget-view+json": {
       "model_id": "4882f835266a4e44b772d8d915a0403a",
       "version_major": 2,
       "version_minor": 0
      },
      "text/plain": [
       "interactive(children=(FloatSlider(value=1.0, description='mean', max=2.0, min=0.05, step=0.05), FloatSlider(va…"
      ]
     },
     "metadata": {},
     "output_type": "display_data"
    },
    {
     "data": {
      "text/plain": [
       "<function __main__.lognormal_widget_offset(mean, var, offset)>"
      ]
     },
     "execution_count": 28,
     "metadata": {},
     "output_type": "execute_result"
    }
   ],
   "source": [
    "def lognormal_widget_offset(mean, var, offset):\n",
    "    t_start= 0.01\n",
    "    t_stop = (np.max(t_op)//5)*5 + 10    #round up to nearest 5 secs\n",
    "    t_step = 0.01\n",
    "    t_test = np.arange(t_start,t_stop,t_step)\n",
    "    p = Lognormal(t_test,mean,var)\n",
    "    plt.plot(t_test+offset,p)\n",
    "    \n",
    "    plt.hist(t_op, density = True,bins = 100);   \n",
    "    \n",
    "   \n",
    "interact(lognormal_widget_offset, mean=(0.05,2,0.05), var = (0.05,2,0.05), offset = (5,15,0.1))"
   ]
  },
  {
   "cell_type": "markdown",
   "metadata": {},
   "source": [
    "## 5b) Fit Invgauss"
   ]
  },
  {
   "cell_type": "code",
   "execution_count": 131,
   "metadata": {},
   "outputs": [
    {
     "name": "stdout",
     "output_type": "stream",
     "text": [
      "done\n"
     ]
    }
   ],
   "source": [
    "# OPTIONAL\n",
    "#3) Select data of interest\n",
    "wp1 = \"WayPoint72\"\n",
    "wp2 = \"WayPoint71\"\n",
    "edge = wp1 + \"_\" + wp2\n",
    "subset = select_data_edge(df, edge)\n",
    "#independent variable to plot over\n",
    "t_op = subset[\"operation_time\"]\n",
    "print(\"done\")"
   ]
  },
  {
   "cell_type": "code",
   "execution_count": 132,
   "metadata": {},
   "outputs": [
    {
     "data": {
      "image/png": "[encoded data removed]",
      "text/plain": [
       "<Figure size 432x288 with 1 Axes>"
      ]
     },
     "metadata": {
      "needs_background": "light"
     },
     "output_type": "display_data"
    }
   ],
   "source": [
    "def Inverse_Gaussian(x, mu, L):\n",
    "    norm_const = np.sqrt(L/ (2*np.pi*x**3))\n",
    "    exponent = -(1 / (2* (mu**2) *x)) * L * np.square(x-mu)\n",
    "    return norm_const * np.exp(exponent)\n",
    "\n",
    "t_start= 0.01\n",
    "t_stop = (np.max(t_op)//5)*5 + 10    #round up to nearest 5 secs\n",
    "t_step = 0.01\n",
    "t_test = np.arange(t_start,t_stop,t_step)\n",
    "p = Inverse_Gaussian(t_test, 10, 3000)\n",
    "plt.plot(t_test,p)\n",
    "plt.hist(t_op, density=True,bins = 100);"
   ]
  },
  {
   "cell_type": "code",
   "execution_count": 133,
   "metadata": {},
   "outputs": [
    {
     "data": {
      "application/vnd.jupyter.widget-view+json": {
       "model_id": "7cb21bee49b348da9c11645e8165f663",
       "version_major": 2,
       "version_minor": 0
      },
      "text/plain": [
       "interactive(children=(FloatSlider(value=5.0, description='mu', max=10.0, min=0.1), FloatSlider(value=5.0, desc…"
      ]
     },
     "metadata": {},
     "output_type": "display_data"
    },
    {
     "data": {
      "text/plain": [
       "<function __main__.invgauss_widget(mu, L)>"
      ]
     },
     "execution_count": 133,
     "metadata": {},
     "output_type": "execute_result"
    }
   ],
   "source": [
    "def invgauss_widget(mu, L):\n",
    "    t_start= 0.01\n",
    "    t_stop = (np.max(t_op)//5)*5 + 10    #round up to nearest 5 secs\n",
    "    t_step = 0.01\n",
    "    t_test = np.arange(t_start,t_stop,t_step)\n",
    "    p = Inverse_Gaussian(t_test,mu,L)\n",
    "    plt.plot(t_test,p)\n",
    "    \n",
    "    t_2 = t_op - np.min(t_op)\n",
    "    plt.hist(t_2, density = True,bins = 100);   \n",
    "    \n",
    "   \n",
    "interact(invgauss_widget, mu=(0.1,10,0.1), L = (0.1,10,0.1))"
   ]
  },
  {
   "cell_type": "code",
   "execution_count": 134,
   "metadata": {},
   "outputs": [
    {
     "data": {
      "application/vnd.jupyter.widget-view+json": {
       "model_id": "7a50a1d7e2344ae2b738a24421cc995d",
       "version_major": 2,
       "version_minor": 0
      },
      "text/plain": [
       "interactive(children=(FloatSlider(value=5.0, description='mu', max=10.0, min=0.1), FloatSlider(value=5.0, desc…"
      ]
     },
     "metadata": {},
     "output_type": "display_data"
    },
    {
     "data": {
      "text/plain": [
       "<function __main__.invgauss_widget_offset(mu, L, offset)>"
      ]
     },
     "execution_count": 134,
     "metadata": {},
     "output_type": "execute_result"
    }
   ],
   "source": [
    "def invgauss_widget_offset(mu, L, offset):\n",
    "    t_start= 0.01\n",
    "    t_stop = (np.max(t_op)//5)*5 + 10    #round up to nearest 5 secs\n",
    "    t_step = 0.01\n",
    "    t_test = np.arange(t_start,t_stop,t_step)\n",
    "    p = Inverse_Gaussian(t_test,mu,L)\n",
    "    plt.plot(t_test+offset, p)\n",
    "    \n",
    "    plt.hist(t_op, density = True,bins = 100);   \n",
    "    \n",
    "   \n",
    "interact(invgauss_widget_offset, mu=(0.1,10,0.1), L = (0.1,10,0.1), offset = (5,15,0.1))"
   ]
  },
  {
   "cell_type": "markdown",
   "metadata": {},
   "source": [
    "## 5c) Invgamma"
   ]
  },
  {
   "cell_type": "code",
   "execution_count": 18,
   "metadata": {},
   "outputs": [
    {
     "name": "stdout",
     "output_type": "stream",
     "text": [
      "done\n"
     ]
    }
   ],
   "source": [
    "# OPTIONAL\n",
    "#3) Select data of interest\n",
    "wp1 = \"WayPoint39\"\n",
    "wp2 = \"WayPoint46\"\n",
    "edge = wp1 + \"_\" + wp2\n",
    "subset = select_data_edge(df, edge)\n",
    "#independent variable to plot over\n",
    "t_op = subset[\"operation_time\"]\n",
    "print(\"done\")"
   ]
  },
  {
   "cell_type": "code",
   "execution_count": 20,
   "metadata": {},
   "outputs": [
    {
     "data": {
      "image/png": "[encoded data removed]",
      "text/plain": [
       "<Figure size 432x288 with 1 Axes>"
      ]
     },
     "metadata": {
      "needs_background": "light"
     },
     "output_type": "display_data"
    }
   ],
   "source": [
    "def Inverse_Gamma(x,a,b):\n",
    "    denominator = sp.special.gamma(a)\n",
    "    norm_const = (b**a) / denominator\n",
    "    exponent = -b/x\n",
    "    return norm_const * np.multiply(x**(-(a+1)), np.exp(exponent))\n",
    "\n",
    "t_start= 0.01\n",
    "t_stop = (np.max(t_op)//5)*5 + 10    #round up to nearest 5 secs\n",
    "t_step = 0.01\n",
    "t_test = np.arange(t_start,t_stop,t_step)\n",
    "p = Inverse_Gamma(t_test, 100, 1000)\n",
    "plt.plot(t_test,p)\n",
    "plt.hist(t_op, density=True,bins = 100);"
   ]
  },
  {
   "cell_type": "code",
   "execution_count": 137,
   "metadata": {},
   "outputs": [
    {
     "data": {
      "application/vnd.jupyter.widget-view+json": {
       "model_id": "d57b29a327c24b1aafc4cf8f24711375",
       "version_major": 2,
       "version_minor": 0
      },
      "text/plain": [
       "interactive(children=(FloatSlider(value=5.0, description='a', max=10.0, min=0.1), FloatSlider(value=5.0, descr…"
      ]
     },
     "metadata": {},
     "output_type": "display_data"
    },
    {
     "data": {
      "text/plain": [
       "<function __main__.invgamma_widget(a, b)>"
      ]
     },
     "execution_count": 137,
     "metadata": {},
     "output_type": "execute_result"
    }
   ],
   "source": [
    "def invgamma_widget(a, b):\n",
    "    t_start= 0.01\n",
    "    t_stop = (np.max(t_op)//5)*5 + 10    #round up to nearest 5 secs\n",
    "    t_step = 0.01\n",
    "    t_test = np.arange(t_start,t_stop,t_step)\n",
    "    p = Inverse_Gamma(t_test,a,b)\n",
    "    plt.plot(t_test,p)\n",
    "    \n",
    "    t_2 = t_op - np.min(t_op)\n",
    "    plt.hist(t_2, density = True,bins = 100);   \n",
    "    \n",
    "   \n",
    "interact(invgamma_widget, a=(0.1,10,0.1), b = (0.1,10,0.1))"
   ]
  },
  {
   "cell_type": "code",
   "execution_count": 21,
   "metadata": {
    "scrolled": true
   },
   "outputs": [
    {
     "data": {
      "application/vnd.jupyter.widget-view+json": {
       "model_id": "d781fa92f6e44dd290971db3578d9d0f",
       "version_major": 2,
       "version_minor": 0
      },
      "text/plain": [
       "interactive(children=(FloatSlider(value=5.0, description='a', max=10.0, min=0.1), FloatSlider(value=7.5, descr…"
      ]
     },
     "metadata": {},
     "output_type": "display_data"
    },
    {
     "data": {
      "text/plain": [
       "<function __main__.invgamma_widget_offset(a, b, offset)>"
      ]
     },
     "execution_count": 21,
     "metadata": {},
     "output_type": "execute_result"
    }
   ],
   "source": [
    "def invgamma_widget_offset(a, b, offset):\n",
    "    t_start= 0.01\n",
    "    t_stop = (np.max(t_op)//5)*5 + 10    #round up to nearest 5 secs\n",
    "    t_step = 0.01\n",
    "    t_test = np.arange(t_start,t_stop,t_step)\n",
    "    p = Inverse_Gamma(t_test,a,b)\n",
    "    plt.plot(t_test+offset,p)\n",
    "    \n",
    "    plt.hist(t_op, density = True,bins = 100);   \n",
    "    \n",
    "   \n",
    "interact(invgamma_widget_offset, a=(0.1,10,0.1), b = (0.1,15,0.1), offset = (5,15,0.1))"
   ]
  },
  {
   "cell_type": "markdown",
   "metadata": {},
   "source": [
    "# 6) Test for mixtures"
   ]
  },
  {
   "cell_type": "markdown",
   "metadata": {},
   "source": [
    "## 6a) Gaussian mixture models"
   ]
  },
  {
   "cell_type": "code",
   "execution_count": 141,
   "metadata": {},
   "outputs": [
    {
     "name": "stdout",
     "output_type": "stream",
     "text": [
      "done\n"
     ]
    }
   ],
   "source": [
    "# OPTIONAL\n",
    "#3) Select data of interest\n",
    "wp1 = \"WayPoint69\"\n",
    "wp2 = \"WayPoint70\"\n",
    "edge = wp1 + \"_\" + wp2\n",
    "subset = select_data_edge(df, edge)\n",
    "#independent variable to plot over\n",
    "t_op = subset[\"operation_time\"]\n",
    "print(\"done\")"
   ]
  },
  {
   "cell_type": "code",
   "execution_count": 201,
   "metadata": {},
   "outputs": [
    {
     "name": "stdout",
     "output_type": "stream",
     "text": [
      "(448, 1)\n"
     ]
    }
   ],
   "source": [
    "print( t_op[:,np.newaxis].shape )"
   ]
  },
  {
   "cell_type": "code",
   "execution_count": 218,
   "metadata": {},
   "outputs": [
    {
     "name": "stdout",
     "output_type": "stream",
     "text": [
      "Converged  True\n"
     ]
    },
    {
     "data": {
      "image/png": "[encoded data removed]",
      "text/plain": [
       "<Figure size 432x288 with 1 Axes>"
      ]
     },
     "metadata": {
      "needs_background": "light"
     },
     "output_type": "display_data"
    }
   ],
   "source": [
    "# Fit our 1D data using a Gaussian Mixture Model, performs soft clustering\n",
    "gmm = GaussianMixture(n_components=2).fit(t_op[:,np.newaxis])\n",
    "# Predict the labels\n",
    "labels = gmm.predict(t_op[:,np.newaxis])\n",
    "print(\"Converged \",gmm.converged_)\n",
    "\n",
    "plt.hist(t_op[labels == 0], bins = 10, color='steelblue', alpha = 0.5);\n",
    "plt.hist(t_op[labels == 1], bins = 70, color='salmon', alpha = 0.5);"
   ]
  },
  {
   "cell_type": "code",
   "execution_count": 246,
   "metadata": {},
   "outputs": [
    {
     "name": "stdout",
     "output_type": "stream",
     "text": [
      "Converged  True\n",
      "324 17 107\n"
     ]
    },
    {
     "data": {
      "image/png": "[encoded data removed]",
      "text/plain": [
       "<Figure size 432x288 with 1 Axes>"
      ]
     },
     "metadata": {
      "needs_background": "light"
     },
     "output_type": "display_data"
    }
   ],
   "source": [
    "# Fit our 1D data using a Gaussian Mixture Model, performs soft clustering\n",
    "gmm = GaussianMixture(n_components=3).fit(t_op[:,np.newaxis])\n",
    "# Predict the labels\n",
    "labels = gmm.predict(t_op[:,np.newaxis])\n",
    "print(\"Converged \",gmm.converged_)\n",
    "\n",
    "plt.hist(t_op[labels == 0], bins = 10, color='steelblue', alpha = 0.5);\n",
    "plt.hist(t_op[labels == 1], bins = 20, color='salmon', alpha = 0.5);\n",
    "plt.hist(t_op[labels == 2], bins = 20, color='orange', alpha = 0.5);\n",
    "print( np.sum(labels == 0),np.sum(labels == 1),np.sum(labels == 2) )"
   ]
  },
  {
   "cell_type": "code",
   "execution_count": 209,
   "metadata": {},
   "outputs": [
    {
     "data": {
      "image/png": "[encoded data removed]",
      "text/plain": [
       "<Figure size 432x288 with 1 Axes>"
      ]
     },
     "metadata": {
      "needs_background": "light"
     },
     "output_type": "display_data"
    }
   ],
   "source": [
    "plt.hist(t_op, density = True, bins = 100);"
   ]
  },
  {
   "cell_type": "code",
   "execution_count": 182,
   "metadata": {},
   "outputs": [
    {
     "data": {
      "text/plain": [
       "Text(0, 0.5, 'Log of BIC scores')"
      ]
     },
     "execution_count": 182,
     "metadata": {},
     "output_type": "execute_result"
    },
    {
     "data": {
      "image/png": "[encoded data removed]",
      "text/plain": [
       "<Figure size 432x288 with 1 Axes>"
      ]
     },
     "metadata": {
      "needs_background": "light"
     },
     "output_type": "display_data"
    },
    {
     "data": {
      "image/png": "[encoded data removed]",
      "text/plain": [
       "<Figure size 432x288 with 1 Axes>"
      ]
     },
     "metadata": {
      "needs_background": "light"
     },
     "output_type": "display_data"
    }
   ],
   "source": [
    "#try mixtures from 1 to n\n",
    "n = 7\n",
    "gmm_models = [GaussianMixture(n_components=i).fit(t_op[:,np.newaxis]) for i in range(1,n)]\n",
    "\n",
    "aic_vals = [model.aic(t_op[:,np.newaxis]) for model in gmm_models]\n",
    "bic_vals = [model.bic(t_op[:,np.newaxis]) for model in gmm_models]\n",
    "plt.plot(range(1,n), aic_vals, color='steelblue')\n",
    "plt.title('AIC scores vs. n_components')\n",
    "plt.yscale('log')\n",
    "plt.ylabel('Log of AIC scores')\n",
    "plt.xlabel('n_components')\n",
    "plt.figure()\n",
    "plt.plot(range(1,n),bic_vals, color='salmon')\n",
    "plt.title('BIC scores vs. n_components')\n",
    "plt.xlabel('n_components')\n",
    "plt.ylabel('Log of BIC scores')\n",
    "\n"
   ]
  },
  {
   "cell_type": "markdown",
   "metadata": {},
   "source": [
    "# 7) Kernel Density Estimation"
   ]
  },
  {
   "cell_type": "markdown",
   "metadata": {},
   "source": [
    "## 7a) Gaussian kernel\n",
    "- Not really amenable to bayesian updates?\n",
    "- but could be a better alternative to the histograms"
   ]
  },
  {
   "cell_type": "code",
   "execution_count": 247,
   "metadata": {},
   "outputs": [
    {
     "name": "stdout",
     "output_type": "stream",
     "text": [
      "done\n"
     ]
    }
   ],
   "source": [
    "# OPTIONAL\n",
    "#3) Select data of interest\n",
    "wp1 = \"WayPoint69\"\n",
    "wp2 = \"WayPoint70\"\n",
    "edge = wp1 + \"_\" + wp2\n",
    "subset = select_data_edge(df, edge)\n",
    "#independent variable to plot over\n",
    "t_op = subset[\"operation_time\"]\n",
    "print(\"done\")"
   ]
  },
  {
   "cell_type": "code",
   "execution_count": 261,
   "metadata": {},
   "outputs": [
    {
     "data": {
      "text/plain": [
       "Text(0.5, 1.0, 'KDE in log scale vs. x')"
      ]
     },
     "execution_count": 261,
     "metadata": {},
     "output_type": "execute_result"
    },
    {
     "data": {
      "image/png": "[encoded data removed]",
      "text/plain": [
       "<Figure size 432x288 with 1 Axes>"
      ]
     },
     "metadata": {
      "needs_background": "light"
     },
     "output_type": "display_data"
    }
   ],
   "source": [
    "from scipy.stats import norm\n",
    "t_start= 0.01\n",
    "t_stop = (np.max(t_op)//5)*5 + 10    #round up to nearest 5 secs\n",
    "t_step = 0.01\n",
    "t_test = np.arange(t_start,t_stop,t_step)\n",
    "\n",
    "density_estimate = sum(norm(elem, scale=0.2).pdf(t_test) for elem in t_op)\n",
    "plt.plot(t_test, density_estimate)\n",
    "plt.hist(t_op, bins = 50)\n",
    "plt.yscale('linear') # try linear and log scale\n",
    "plt.title('KDE in log scale vs. x')"
   ]
  },
  {
   "cell_type": "markdown",
   "metadata": {},
   "source": [
    "## 7b) Using sklearn"
   ]
  },
  {
   "cell_type": "code",
   "execution_count": 268,
   "metadata": {},
   "outputs": [
    {
     "data": {
      "text/plain": [
       "Text(0.5, 1.0, 'Log probability of KDE vs. x')"
      ]
     },
     "execution_count": 268,
     "metadata": {},
     "output_type": "execute_result"
    },
    {
     "data": {
      "image/png": "[encoded data removed]",
      "text/plain": [
       "<Figure size 432x288 with 1 Axes>"
      ]
     },
     "metadata": {
      "needs_background": "light"
     },
     "output_type": "display_data"
    }
   ],
   "source": [
    "from sklearn.neighbors import KernelDensity\n",
    "#kernel{‘gaussian’, ‘tophat’, ‘epanechnikov’, ‘exponential’, ‘linear’, ‘cosine’}, default=’gaussian’\n",
    "kde = KernelDensity(bandwidth=0.2, kernel='cosine')\n",
    "kde.fit(t_op[:, np.newaxis])\n",
    "logprob = kde.score_samples(t_test[:,None])\n",
    "plt.plot(t_test, np.exp(logprob))\n",
    "plt.title('Log probability of KDE vs. x')"
   ]
  },
  {
   "cell_type": "code",
   "execution_count": 269,
   "metadata": {},
   "outputs": [
    {
     "data": {
      "text/plain": [
       "{'algorithm': 'auto',\n",
       " 'atol': 0,\n",
       " 'bandwidth': 0.2,\n",
       " 'breadth_first': True,\n",
       " 'kernel': 'cosine',\n",
       " 'leaf_size': 40,\n",
       " 'metric': 'euclidean',\n",
       " 'metric_params': None,\n",
       " 'rtol': 0}"
      ]
     },
     "execution_count": 269,
     "metadata": {},
     "output_type": "execute_result"
    }
   ],
   "source": [
    "kde.get_params()"
   ]
  },
  {
   "cell_type": "code",
   "execution_count": null,
   "metadata": {},
   "outputs": [],
   "source": []
  }
 ],
 "metadata": {
  "kernelspec": {
   "display_name": "Python 3",
   "language": "python",
   "name": "python3"
  },
  "language_info": {
   "codemirror_mode": {
    "name": "ipython",
    "version": 3
   },
   "file_extension": ".py",
   "mimetype": "text/x-python",
   "name": "python",
   "nbconvert_exporter": "python",
   "pygments_lexer": "ipython3",
   "version": "3.8.3"
  }
 },
 "nbformat": 4,
 "nbformat_minor": 4
}
