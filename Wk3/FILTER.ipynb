{
 "cells": [
  {
   "cell_type": "markdown",
   "metadata": {},
   "source": [
    "# 1) Setup"
   ]
  },
  {
   "cell_type": "code",
   "execution_count": 1,
   "metadata": {},
   "outputs": [
    {
     "name": "stdout",
     "output_type": "stream",
     "text": [
      "done\n"
     ]
    }
   ],
   "source": [
    "#import libraries\n",
    "import pandas as pd\n",
    "import matplotlib.pyplot as plt\n",
    "from matplotlib import cm\n",
    "\n",
    "import numpy as np\n",
    "import math\n",
    "import scipy as sp\n",
    "from scipy import stats\n",
    "from copy import copy\n",
    "\n",
    "import pymongo\n",
    "from pymongo import MongoClient\n",
    "from datetime import datetime\n",
    "from datetime import timedelta\n",
    "print(\"done\")"
   ]
  },
  {
   "cell_type": "code",
   "execution_count": 2,
   "metadata": {},
   "outputs": [
    {
     "name": "stdout",
     "output_type": "stream",
     "text": [
      "done\n"
     ]
    }
   ],
   "source": [
    "#import functions from python files\n",
    "\n",
    "#1) data import & filtering\n",
    "from get_data import *\n",
    "from filter_data import *\n",
    "from filter_data2 import *\n",
    "from filter_data3 import *\n",
    "from select_data import *\n",
    "from select_data_edge import *\n",
    "\n",
    "\n",
    "print(\"done\")"
   ]
  },
  {
   "cell_type": "markdown",
   "metadata": {},
   "source": [
    "# 2) Remove edge transitions with >1 robot on an edge"
   ]
  },
  {
   "cell_type": "code",
   "execution_count": 3,
   "metadata": {},
   "outputs": [
    {
     "name": "stdout",
     "output_type": "stream",
     "text": [
      "done\n"
     ]
    }
   ],
   "source": [
    "#1) Import data from PyMongo\n",
    "df = get_data()\n",
    "#2) Preliminary filtering\n",
    "df = filter_data(df)\n",
    "print(\"done\")"
   ]
  },
  {
   "cell_type": "code",
   "execution_count": 4,
   "metadata": {},
   "outputs": [
    {
     "name": "stdout",
     "output_type": "stream",
     "text": [
      "done\n"
     ]
    }
   ],
   "source": [
    "#3a) Count n_robots\n",
    "df = filter_data2(df)\n",
    "print(\"done\")"
   ]
  },
  {
   "cell_type": "code",
   "execution_count": 5,
   "metadata": {},
   "outputs": [
    {
     "name": "stdout",
     "output_type": "stream",
     "text": [
      "done\n"
     ]
    }
   ],
   "source": [
    "#3b) save to csv\n",
    "df.to_excel(\"n_robots.xlsx\")\n",
    "print(\"done\")"
   ]
  },
  {
   "cell_type": "code",
   "execution_count": 6,
   "metadata": {},
   "outputs": [
    {
     "data": {
      "text/html": [
       "<div>\n",
       "<style scoped>\n",
       "    .dataframe tbody tr th:only-of-type {\n",
       "        vertical-align: middle;\n",
       "    }\n",
       "\n",
       "    .dataframe tbody tr th {\n",
       "        vertical-align: top;\n",
       "    }\n",
       "\n",
       "    .dataframe thead th {\n",
       "        text-align: right;\n",
       "    }\n",
       "</style>\n",
       "<table border=\"1\" class=\"dataframe\">\n",
       "  <thead>\n",
       "    <tr style=\"text-align: right;\">\n",
       "      <th></th>\n",
       "      <th>origin</th>\n",
       "      <th>target</th>\n",
       "      <th>edge_id</th>\n",
       "      <th>is_final</th>\n",
       "      <th>operation_time</th>\n",
       "      <th>start</th>\n",
       "      <th>finish</th>\n",
       "      <th>n_robots</th>\n",
       "    </tr>\n",
       "  </thead>\n",
       "  <tbody>\n",
       "    <tr>\n",
       "      <th>0</th>\n",
       "      <td>WayPoint112</td>\n",
       "      <td>WayPoint82</td>\n",
       "      <td>WayPoint112_WayPoint82</td>\n",
       "      <td>False</td>\n",
       "      <td>5.192</td>\n",
       "      <td>2021-02-23 20:02:28.981</td>\n",
       "      <td>2021-02-23 20:02:34.101</td>\n",
       "      <td>1</td>\n",
       "    </tr>\n",
       "    <tr>\n",
       "      <th>1</th>\n",
       "      <td>WayPoint113</td>\n",
       "      <td>WayPoint89</td>\n",
       "      <td>WayPoint113_WayPoint89</td>\n",
       "      <td>False</td>\n",
       "      <td>5.120</td>\n",
       "      <td>2021-02-23 20:02:29.328</td>\n",
       "      <td>2021-02-23 20:02:34.448</td>\n",
       "      <td>1</td>\n",
       "    </tr>\n",
       "    <tr>\n",
       "      <th>2</th>\n",
       "      <td>WayPoint114</td>\n",
       "      <td>WayPoint96</td>\n",
       "      <td>WayPoint114_WayPoint96</td>\n",
       "      <td>False</td>\n",
       "      <td>5.183</td>\n",
       "      <td>2021-02-23 20:02:30.098</td>\n",
       "      <td>2021-02-23 20:02:35.218</td>\n",
       "      <td>1</td>\n",
       "    </tr>\n",
       "    <tr>\n",
       "      <th>3</th>\n",
       "      <td>WayPoint110</td>\n",
       "      <td>WayPoint68</td>\n",
       "      <td>WayPoint110_WayPoint68</td>\n",
       "      <td>False</td>\n",
       "      <td>5.301</td>\n",
       "      <td>2021-02-23 20:02:30.986</td>\n",
       "      <td>2021-02-23 20:02:36.106</td>\n",
       "      <td>1</td>\n",
       "    </tr>\n",
       "    <tr>\n",
       "      <th>4</th>\n",
       "      <td>WayPoint111</td>\n",
       "      <td>WayPoint75</td>\n",
       "      <td>WayPoint111_WayPoint75</td>\n",
       "      <td>False</td>\n",
       "      <td>5.201</td>\n",
       "      <td>2021-02-23 20:02:31.033</td>\n",
       "      <td>2021-02-23 20:02:36.153</td>\n",
       "      <td>1</td>\n",
       "    </tr>\n",
       "  </tbody>\n",
       "</table>\n",
       "</div>"
      ],
      "text/plain": [
       "        origin      target                 edge_id  is_final  operation_time  \\\n",
       "0  WayPoint112  WayPoint82  WayPoint112_WayPoint82     False           5.192   \n",
       "1  WayPoint113  WayPoint89  WayPoint113_WayPoint89     False           5.120   \n",
       "2  WayPoint114  WayPoint96  WayPoint114_WayPoint96     False           5.183   \n",
       "3  WayPoint110  WayPoint68  WayPoint110_WayPoint68     False           5.301   \n",
       "4  WayPoint111  WayPoint75  WayPoint111_WayPoint75     False           5.201   \n",
       "\n",
       "                    start                  finish  n_robots  \n",
       "0 2021-02-23 20:02:28.981 2021-02-23 20:02:34.101         1  \n",
       "1 2021-02-23 20:02:29.328 2021-02-23 20:02:34.448         1  \n",
       "2 2021-02-23 20:02:30.098 2021-02-23 20:02:35.218         1  \n",
       "3 2021-02-23 20:02:30.986 2021-02-23 20:02:36.106         1  \n",
       "4 2021-02-23 20:02:31.033 2021-02-23 20:02:36.153         1  "
      ]
     },
     "execution_count": 6,
     "metadata": {},
     "output_type": "execute_result"
    }
   ],
   "source": [
    "#4) Final filtering\n",
    "#Get rid of is_final = TRUE & n_robots != 1\n",
    "df = filter_data3(df)\n",
    "df.head()"
   ]
  },
  {
   "cell_type": "markdown",
   "metadata": {},
   "source": [
    "# 3) Check against YAML output"
   ]
  },
  {
   "cell_type": "markdown",
   "metadata": {},
   "source": [
    "Charlie mentioned that his context was more complex (looking at other edges that might also influence a certain edge)."
   ]
  },
  {
   "cell_type": "code",
   "execution_count": 35,
   "metadata": {},
   "outputs": [
    {
     "name": "stdout",
     "output_type": "stream",
     "text": [
      "1 robot on the edge: 11438\n",
      "2 robots on the edge: 1002\n",
      "3 robots on the edge: 39\n",
      "total observations: 12479\n"
     ]
    }
   ],
   "source": [
    "# YAML file\n",
    "\n",
    "import yaml\n",
    "\n",
    "count_yaml = [0,0,0]\n",
    "\n",
    "with open('walmart_random_success.yaml') as file:\n",
    "    documents = yaml.full_load(file)\n",
    "\n",
    "    for item, doc in documents.items():\n",
    "        if len(doc) == 3:\n",
    "            count_yaml[2] += len(doc[2])\n",
    "            count_yaml[1] += len(doc[1])\n",
    "            count_yaml[0] += len(doc[0])\n",
    "        elif len(doc) == 2:\n",
    "            count_yaml[1] += len(doc[1])\n",
    "            count_yaml[0] += len(doc[0])\n",
    "        elif len(doc) == 1:\n",
    "            count_yaml[0] += len(doc[0])\n",
    "\n",
    "\n",
    "print(\"1 robot on the edge:\", count_yaml[0])\n",
    "print(\"2 robots on the edge:\", count_yaml[1])\n",
    "print(\"3 robots on the edge:\", count_yaml[2])\n",
    "print(\"total observations:\", np.sum(count_yaml))\n"
   ]
  },
  {
   "cell_type": "code",
   "execution_count": 36,
   "metadata": {},
   "outputs": [
    {
     "name": "stdout",
     "output_type": "stream",
     "text": [
      "1    12044\n",
      "2      316\n",
      "Name: n_robots, dtype: int64\n",
      "total observations: 12360\n"
     ]
    }
   ],
   "source": [
    "# My filtered data\n",
    "my_data = pd.read_excel(\"n_robots.xlsx\")\n",
    "count_filtered = my_data['n_robots'].value_counts()\n",
    "print(count_filtered)\n",
    "print(\"total observations:\", np.sum(count_filtered))"
   ]
  },
  {
   "cell_type": "code",
   "execution_count": null,
   "metadata": {},
   "outputs": [],
   "source": []
  }
 ],
 "metadata": {
  "kernelspec": {
   "display_name": "Python 3",
   "language": "python",
   "name": "python3"
  },
  "language_info": {
   "codemirror_mode": {
    "name": "ipython",
    "version": 3
   },
   "file_extension": ".py",
   "mimetype": "text/x-python",
   "name": "python",
   "nbconvert_exporter": "python",
   "pygments_lexer": "ipython3",
   "version": "3.8.3"
  }
 },
 "nbformat": 4,
 "nbformat_minor": 4
}
