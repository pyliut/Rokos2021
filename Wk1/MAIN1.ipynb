{
 "cells": [
  {
   "cell_type": "markdown",
   "metadata": {},
   "source": [
    "# 1) Setup"
   ]
  },
  {
   "cell_type": "code",
   "execution_count": 7,
   "metadata": {},
   "outputs": [
    {
     "name": "stdout",
     "output_type": "stream",
     "text": [
      "Python 3.8.3\n"
     ]
    }
   ],
   "source": [
    "!python -V"
   ]
  },
  {
   "cell_type": "code",
   "execution_count": 8,
   "metadata": {},
   "outputs": [
    {
     "name": "stdout",
     "output_type": "stream",
     "text": [
      "Requirement already satisfied: pymongo in c:\\users\\pyliu\\anaconda3\\lib\\site-packages (3.11.4)\n",
      "Note: you may need to restart the kernel to use updated packages.\n"
     ]
    }
   ],
   "source": [
    "pip install pymongo"
   ]
  },
  {
   "cell_type": "code",
   "execution_count": 9,
   "metadata": {},
   "outputs": [
    {
     "name": "stdout",
     "output_type": "stream",
     "text": [
      "Requirement already satisfied: pymongo[srv] in c:\\users\\pyliu\\anaconda3\\lib\\site-packages (3.11.4)\n",
      "Requirement already satisfied: dnspython<2.0.0,>=1.16.0; extra == \"srv\" in c:\\users\\pyliu\\anaconda3\\lib\\site-packages (from pymongo[srv]) (1.16.0)\n",
      "Note: you may need to restart the kernel to use updated packages.\n"
     ]
    }
   ],
   "source": [
    "pip install pymongo[srv]"
   ]
  },
  {
   "cell_type": "markdown",
   "metadata": {},
   "source": [
    "## 1a) Modules"
   ]
  },
  {
   "cell_type": "code",
   "execution_count": 3,
   "metadata": {},
   "outputs": [
    {
     "name": "stdout",
     "output_type": "stream",
     "text": [
      "done\n"
     ]
    }
   ],
   "source": [
    "import pandas as pd\n",
    "import matplotlib.pyplot as plt\n",
    "import scipy as sp\n",
    "import numpy as np\n",
    "\n",
    "import pymongo\n",
    "from pymongo import MongoClient\n",
    "from datetime import datetime\n",
    "print(\"done\")"
   ]
  },
  {
   "cell_type": "markdown",
   "metadata": {},
   "source": [
    "## 1b) Retrieve Data from MongoDB"
   ]
  },
  {
   "cell_type": "code",
   "execution_count": 4,
   "metadata": {},
   "outputs": [
    {
     "name": "stdout",
     "output_type": "stream",
     "text": [
      "done\n"
     ]
    }
   ],
   "source": [
    "#define my database and collection\n",
    "cluster = MongoClient(\"mongodb://127.0.0.1:27017/?readPreference=primary&appname=MongoDB%20Compass&ssl=false\")\n",
    "db = cluster[\"Rokos2021\"]\n",
    "collection = db[\"walmart_targeted\"]\n",
    "print(\"done\")"
   ]
  },
  {
   "cell_type": "code",
   "execution_count": 5,
   "metadata": {},
   "outputs": [
    {
     "name": "stdout",
     "output_type": "stream",
     "text": [
      "done\n"
     ]
    }
   ],
   "source": [
    "#filter & store as pandas dataframe\n",
    "results = collection.find({\"_meta.inserted_at\": {\"$gte\": datetime(2021,2,20,9,0,0),\n",
    "                                \"$lte\":datetime(2021,2,28,9,0,0)}, \n",
    "                                \"origin\": {\"$ne\": None}, \n",
    "                                \"edge_id\": {\"$ne\": None}, \n",
    "                                \"target\":{\"$ne\":None},\n",
    "                                \"succeeded\":True})\n",
    "\n",
    "#convert to dataframe format\n",
    "df = pd.DataFrame(list(results))\n",
    "print(\"done\")\n"
   ]
  },
  {
   "cell_type": "code",
   "execution_count": 6,
   "metadata": {},
   "outputs": [
    {
     "data": {
      "text/html": [
       "<div>\n",
       "<style scoped>\n",
       "    .dataframe tbody tr th:only-of-type {\n",
       "        vertical-align: middle;\n",
       "    }\n",
       "\n",
       "    .dataframe tbody tr th {\n",
       "        vertical-align: top;\n",
       "    }\n",
       "\n",
       "    .dataframe thead th {\n",
       "        text-align: right;\n",
       "    }\n",
       "</style>\n",
       "<table border=\"1\" class=\"dataframe\">\n",
       "  <thead>\n",
       "    <tr style=\"text-align: right;\">\n",
       "      <th></th>\n",
       "      <th>_id</th>\n",
       "      <th>origin</th>\n",
       "      <th>target</th>\n",
       "      <th>succeeded</th>\n",
       "      <th>run_id</th>\n",
       "      <th>date_finished</th>\n",
       "      <th>policy_goal</th>\n",
       "      <th>agent</th>\n",
       "      <th>_meta</th>\n",
       "      <th>is_final</th>\n",
       "      <th>edge_id</th>\n",
       "      <th>action</th>\n",
       "      <th>date_started</th>\n",
       "      <th>operation_time</th>\n",
       "      <th>topological_map</th>\n",
       "      <th>final_node</th>\n",
       "    </tr>\n",
       "  </thead>\n",
       "  <tbody>\n",
       "    <tr>\n",
       "      <th>0</th>\n",
       "      <td>60355f5ae58b9f729ea1d688</td>\n",
       "      <td>WayPoint112</td>\n",
       "      <td>WayPoint82</td>\n",
       "      <td>True</td>\n",
       "      <td>b09bd134-ea6f-44bc-80fe-53d3dd41f62e</td>\n",
       "      <td>1970-01-01 00:00:12.801</td>\n",
       "      <td>WayPoint60</td>\n",
       "      <td>/robot_2/rapport_navigation</td>\n",
       "      <td>{'inserted_at': 2021-02-23 20:02:34.101000}</td>\n",
       "      <td>False</td>\n",
       "      <td>WayPoint112_WayPoint82</td>\n",
       "      <td>move_base</td>\n",
       "      <td>1970-01-01 00:00:07.609</td>\n",
       "      <td>5.192</td>\n",
       "      <td>walmart</td>\n",
       "      <td>WayPoint82</td>\n",
       "    </tr>\n",
       "    <tr>\n",
       "      <th>1</th>\n",
       "      <td>60355f5a0c5936f239914148</td>\n",
       "      <td>WayPoint113</td>\n",
       "      <td>WayPoint89</td>\n",
       "      <td>True</td>\n",
       "      <td>b09bd134-ea6f-44bc-80fe-53d3dd41f62e</td>\n",
       "      <td>1970-01-01 00:00:12.921</td>\n",
       "      <td>WayPoint95</td>\n",
       "      <td>/robot_3/rapport_navigation</td>\n",
       "      <td>{'inserted_at': 2021-02-23 20:02:34.448000}</td>\n",
       "      <td>False</td>\n",
       "      <td>WayPoint113_WayPoint89</td>\n",
       "      <td>move_base</td>\n",
       "      <td>1970-01-01 00:00:07.801</td>\n",
       "      <td>5.120</td>\n",
       "      <td>walmart</td>\n",
       "      <td>WayPoint89</td>\n",
       "    </tr>\n",
       "  </tbody>\n",
       "</table>\n",
       "</div>"
      ],
      "text/plain": [
       "                        _id       origin      target  succeeded  \\\n",
       "0  60355f5ae58b9f729ea1d688  WayPoint112  WayPoint82       True   \n",
       "1  60355f5a0c5936f239914148  WayPoint113  WayPoint89       True   \n",
       "\n",
       "                                 run_id           date_finished policy_goal  \\\n",
       "0  b09bd134-ea6f-44bc-80fe-53d3dd41f62e 1970-01-01 00:00:12.801  WayPoint60   \n",
       "1  b09bd134-ea6f-44bc-80fe-53d3dd41f62e 1970-01-01 00:00:12.921  WayPoint95   \n",
       "\n",
       "                         agent                                        _meta  \\\n",
       "0  /robot_2/rapport_navigation  {'inserted_at': 2021-02-23 20:02:34.101000}   \n",
       "1  /robot_3/rapport_navigation  {'inserted_at': 2021-02-23 20:02:34.448000}   \n",
       "\n",
       "   is_final                 edge_id     action            date_started  \\\n",
       "0     False  WayPoint112_WayPoint82  move_base 1970-01-01 00:00:07.609   \n",
       "1     False  WayPoint113_WayPoint89  move_base 1970-01-01 00:00:07.801   \n",
       "\n",
       "   operation_time topological_map  final_node  \n",
       "0           5.192         walmart  WayPoint82  \n",
       "1           5.120         walmart  WayPoint89  "
      ]
     },
     "execution_count": 6,
     "metadata": {},
     "output_type": "execute_result"
    }
   ],
   "source": [
    "#show dataframe\n",
    "df.head(2)"
   ]
  },
  {
   "cell_type": "markdown",
   "metadata": {},
   "source": [
    "# 1c) Select data"
   ]
  },
  {
   "cell_type": "code",
   "execution_count": 7,
   "metadata": {},
   "outputs": [
    {
     "data": {
      "text/html": [
       "<div>\n",
       "<style scoped>\n",
       "    .dataframe tbody tr th:only-of-type {\n",
       "        vertical-align: middle;\n",
       "    }\n",
       "\n",
       "    .dataframe tbody tr th {\n",
       "        vertical-align: top;\n",
       "    }\n",
       "\n",
       "    .dataframe thead th {\n",
       "        text-align: right;\n",
       "    }\n",
       "</style>\n",
       "<table border=\"1\" class=\"dataframe\">\n",
       "  <thead>\n",
       "    <tr style=\"text-align: right;\">\n",
       "      <th></th>\n",
       "      <th>_id</th>\n",
       "      <th>origin</th>\n",
       "      <th>target</th>\n",
       "      <th>succeeded</th>\n",
       "      <th>run_id</th>\n",
       "      <th>date_finished</th>\n",
       "      <th>policy_goal</th>\n",
       "      <th>agent</th>\n",
       "      <th>_meta</th>\n",
       "      <th>is_final</th>\n",
       "      <th>edge_id</th>\n",
       "      <th>action</th>\n",
       "      <th>date_started</th>\n",
       "      <th>operation_time</th>\n",
       "      <th>topological_map</th>\n",
       "      <th>final_node</th>\n",
       "    </tr>\n",
       "  </thead>\n",
       "  <tbody>\n",
       "    <tr>\n",
       "      <th>0</th>\n",
       "      <td>60355f5ae58b9f729ea1d688</td>\n",
       "      <td>WayPoint112</td>\n",
       "      <td>WayPoint82</td>\n",
       "      <td>True</td>\n",
       "      <td>b09bd134-ea6f-44bc-80fe-53d3dd41f62e</td>\n",
       "      <td>1970-01-01 00:00:12.801</td>\n",
       "      <td>WayPoint60</td>\n",
       "      <td>/robot_2/rapport_navigation</td>\n",
       "      <td>{'inserted_at': 2021-02-23 20:02:34.101000}</td>\n",
       "      <td>False</td>\n",
       "      <td>WayPoint112_WayPoint82</td>\n",
       "      <td>move_base</td>\n",
       "      <td>1970-01-01 00:00:07.609</td>\n",
       "      <td>5.192</td>\n",
       "      <td>walmart</td>\n",
       "      <td>WayPoint82</td>\n",
       "    </tr>\n",
       "    <tr>\n",
       "      <th>1</th>\n",
       "      <td>60355f5a0c5936f239914148</td>\n",
       "      <td>WayPoint113</td>\n",
       "      <td>WayPoint89</td>\n",
       "      <td>True</td>\n",
       "      <td>b09bd134-ea6f-44bc-80fe-53d3dd41f62e</td>\n",
       "      <td>1970-01-01 00:00:12.921</td>\n",
       "      <td>WayPoint95</td>\n",
       "      <td>/robot_3/rapport_navigation</td>\n",
       "      <td>{'inserted_at': 2021-02-23 20:02:34.448000}</td>\n",
       "      <td>False</td>\n",
       "      <td>WayPoint113_WayPoint89</td>\n",
       "      <td>move_base</td>\n",
       "      <td>1970-01-01 00:00:07.801</td>\n",
       "      <td>5.120</td>\n",
       "      <td>walmart</td>\n",
       "      <td>WayPoint89</td>\n",
       "    </tr>\n",
       "  </tbody>\n",
       "</table>\n",
       "</div>"
      ],
      "text/plain": [
       "                        _id       origin      target  succeeded  \\\n",
       "0  60355f5ae58b9f729ea1d688  WayPoint112  WayPoint82       True   \n",
       "1  60355f5a0c5936f239914148  WayPoint113  WayPoint89       True   \n",
       "\n",
       "                                 run_id           date_finished policy_goal  \\\n",
       "0  b09bd134-ea6f-44bc-80fe-53d3dd41f62e 1970-01-01 00:00:12.801  WayPoint60   \n",
       "1  b09bd134-ea6f-44bc-80fe-53d3dd41f62e 1970-01-01 00:00:12.921  WayPoint95   \n",
       "\n",
       "                         agent                                        _meta  \\\n",
       "0  /robot_2/rapport_navigation  {'inserted_at': 2021-02-23 20:02:34.101000}   \n",
       "1  /robot_3/rapport_navigation  {'inserted_at': 2021-02-23 20:02:34.448000}   \n",
       "\n",
       "   is_final                 edge_id     action            date_started  \\\n",
       "0     False  WayPoint112_WayPoint82  move_base 1970-01-01 00:00:07.609   \n",
       "1     False  WayPoint113_WayPoint89  move_base 1970-01-01 00:00:07.801   \n",
       "\n",
       "   operation_time topological_map  final_node  \n",
       "0           5.192         walmart  WayPoint82  \n",
       "1           5.120         walmart  WayPoint89  "
      ]
     },
     "execution_count": 7,
     "metadata": {},
     "output_type": "execute_result"
    }
   ],
   "source": [
    "#remove data where policy_goal = target\n",
    "#we previously removed null & unsuccessful entries\n",
    "df = df[ df[\"policy_goal\"] != df[\"target\"] ]\n",
    "df.head(2)"
   ]
  },
  {
   "cell_type": "code",
   "execution_count": 8,
   "metadata": {},
   "outputs": [
    {
     "data": {
      "text/html": [
       "<div>\n",
       "<style scoped>\n",
       "    .dataframe tbody tr th:only-of-type {\n",
       "        vertical-align: middle;\n",
       "    }\n",
       "\n",
       "    .dataframe tbody tr th {\n",
       "        vertical-align: top;\n",
       "    }\n",
       "\n",
       "    .dataframe thead th {\n",
       "        text-align: right;\n",
       "    }\n",
       "</style>\n",
       "<table border=\"1\" class=\"dataframe\">\n",
       "  <thead>\n",
       "    <tr style=\"text-align: right;\">\n",
       "      <th></th>\n",
       "      <th>origin</th>\n",
       "      <th>target</th>\n",
       "      <th>edge_id</th>\n",
       "      <th>operation_time</th>\n",
       "    </tr>\n",
       "  </thead>\n",
       "  <tbody>\n",
       "    <tr>\n",
       "      <th>0</th>\n",
       "      <td>WayPoint112</td>\n",
       "      <td>WayPoint82</td>\n",
       "      <td>WayPoint112_WayPoint82</td>\n",
       "      <td>5.192</td>\n",
       "    </tr>\n",
       "    <tr>\n",
       "      <th>1</th>\n",
       "      <td>WayPoint113</td>\n",
       "      <td>WayPoint89</td>\n",
       "      <td>WayPoint113_WayPoint89</td>\n",
       "      <td>5.120</td>\n",
       "    </tr>\n",
       "  </tbody>\n",
       "</table>\n",
       "</div>"
      ],
      "text/plain": [
       "        origin      target                 edge_id  operation_time\n",
       "0  WayPoint112  WayPoint82  WayPoint112_WayPoint82           5.192\n",
       "1  WayPoint113  WayPoint89  WayPoint113_WayPoint89           5.120"
      ]
     },
     "execution_count": 8,
     "metadata": {},
     "output_type": "execute_result"
    }
   ],
   "source": [
    "# remove every column except: origin, target, edge_id, operation_time\n",
    "df = df.loc[:,[\"origin\", \"target\", \"edge_id\", \"operation_time\"]]\n",
    "df.head(2)"
   ]
  },
  {
   "cell_type": "code",
   "execution_count": 9,
   "metadata": {},
   "outputs": [
    {
     "name": "stdout",
     "output_type": "stream",
     "text": [
      "(751, 2)\n"
     ]
    },
    {
     "data": {
      "text/html": [
       "<div>\n",
       "<style scoped>\n",
       "    .dataframe tbody tr th:only-of-type {\n",
       "        vertical-align: middle;\n",
       "    }\n",
       "\n",
       "    .dataframe tbody tr th {\n",
       "        vertical-align: top;\n",
       "    }\n",
       "\n",
       "    .dataframe thead th {\n",
       "        text-align: right;\n",
       "    }\n",
       "</style>\n",
       "<table border=\"1\" class=\"dataframe\">\n",
       "  <thead>\n",
       "    <tr style=\"text-align: right;\">\n",
       "      <th></th>\n",
       "      <th>edge_id</th>\n",
       "      <th>operation_time</th>\n",
       "    </tr>\n",
       "  </thead>\n",
       "  <tbody>\n",
       "    <tr>\n",
       "      <th>345</th>\n",
       "      <td>WayPoint69_WayPoint70</td>\n",
       "      <td>10.328</td>\n",
       "    </tr>\n",
       "    <tr>\n",
       "      <th>353</th>\n",
       "      <td>WayPoint69_WayPoint70</td>\n",
       "      <td>12.461</td>\n",
       "    </tr>\n",
       "    <tr>\n",
       "      <th>356</th>\n",
       "      <td>WayPoint69_WayPoint70</td>\n",
       "      <td>10.403</td>\n",
       "    </tr>\n",
       "    <tr>\n",
       "      <th>363</th>\n",
       "      <td>WayPoint69_WayPoint70</td>\n",
       "      <td>8.602</td>\n",
       "    </tr>\n",
       "    <tr>\n",
       "      <th>380</th>\n",
       "      <td>WayPoint69_WayPoint70</td>\n",
       "      <td>13.989</td>\n",
       "    </tr>\n",
       "  </tbody>\n",
       "</table>\n",
       "</div>"
      ],
      "text/plain": [
       "                   edge_id  operation_time\n",
       "345  WayPoint69_WayPoint70          10.328\n",
       "353  WayPoint69_WayPoint70          12.461\n",
       "356  WayPoint69_WayPoint70          10.403\n",
       "363  WayPoint69_WayPoint70           8.602\n",
       "380  WayPoint69_WayPoint70          13.989"
      ]
     },
     "execution_count": 9,
     "metadata": {},
     "output_type": "execute_result"
    }
   ],
   "source": [
    "#select all entries between the same origin-target pair\n",
    "waypoint_1 = \"WayPoint69\"\n",
    "waypoint_2 = \"WayPoint70\"\n",
    "subset = df.loc[df[\"origin\"].isin([waypoint_1, waypoint_2]) & df[\"target\"].isin([waypoint_1, waypoint_2]), [\"edge_id\", \"operation_time\"]]\n",
    "print(subset.shape)\n",
    "subset.head()"
   ]
  },
  {
   "cell_type": "markdown",
   "metadata": {},
   "source": [
    "## 1d) Visualisation"
   ]
  },
  {
   "cell_type": "code",
   "execution_count": 10,
   "metadata": {},
   "outputs": [
    {
     "data": {
      "text/html": [
       "<div>\n",
       "<style scoped>\n",
       "    .dataframe tbody tr th:only-of-type {\n",
       "        vertical-align: middle;\n",
       "    }\n",
       "\n",
       "    .dataframe tbody tr th {\n",
       "        vertical-align: top;\n",
       "    }\n",
       "\n",
       "    .dataframe thead th {\n",
       "        text-align: right;\n",
       "    }\n",
       "</style>\n",
       "<table border=\"1\" class=\"dataframe\">\n",
       "  <thead>\n",
       "    <tr style=\"text-align: right;\">\n",
       "      <th></th>\n",
       "      <th>operation_time</th>\n",
       "    </tr>\n",
       "  </thead>\n",
       "  <tbody>\n",
       "    <tr>\n",
       "      <th>count</th>\n",
       "      <td>751.000000</td>\n",
       "    </tr>\n",
       "    <tr>\n",
       "      <th>mean</th>\n",
       "      <td>12.154848</td>\n",
       "    </tr>\n",
       "    <tr>\n",
       "      <th>std</th>\n",
       "      <td>3.381275</td>\n",
       "    </tr>\n",
       "    <tr>\n",
       "      <th>min</th>\n",
       "      <td>8.559000</td>\n",
       "    </tr>\n",
       "    <tr>\n",
       "      <th>25%</th>\n",
       "      <td>10.153000</td>\n",
       "    </tr>\n",
       "    <tr>\n",
       "      <th>50%</th>\n",
       "      <td>10.891000</td>\n",
       "    </tr>\n",
       "    <tr>\n",
       "      <th>75%</th>\n",
       "      <td>13.132500</td>\n",
       "    </tr>\n",
       "    <tr>\n",
       "      <th>max</th>\n",
       "      <td>38.456000</td>\n",
       "    </tr>\n",
       "  </tbody>\n",
       "</table>\n",
       "</div>"
      ],
      "text/plain": [
       "       operation_time\n",
       "count      751.000000\n",
       "mean        12.154848\n",
       "std          3.381275\n",
       "min          8.559000\n",
       "25%         10.153000\n",
       "50%         10.891000\n",
       "75%         13.132500\n",
       "max         38.456000"
      ]
     },
     "execution_count": 10,
     "metadata": {},
     "output_type": "execute_result"
    }
   ],
   "source": [
    "subset.describe()"
   ]
  },
  {
   "cell_type": "code",
   "execution_count": 11,
   "metadata": {},
   "outputs": [
    {
     "data": {
      "text/plain": [
       "<matplotlib.axes._subplots.AxesSubplot at 0x1d0983cf4f0>"
      ]
     },
     "execution_count": 11,
     "metadata": {},
     "output_type": "execute_result"
    },
    {
     "data": {
      "image/png": "[encoded data removed]",
      "text/plain": [
       "<Figure size 432x288 with 1 Axes>"
      ]
     },
     "metadata": {
      "needs_background": "light"
     },
     "output_type": "display_data"
    }
   ],
   "source": [
    "subset.boxplot(column = \"operation_time\", by = \"edge_id\")"
   ]
  },
  {
   "cell_type": "code",
   "execution_count": 12,
   "metadata": {},
   "outputs": [
    {
     "data": {
      "text/plain": [
       "<matplotlib.axes._subplots.AxesSubplot at 0x1d098516820>"
      ]
     },
     "execution_count": 12,
     "metadata": {},
     "output_type": "execute_result"
    },
    {
     "data": {
      "image/png": "[encoded data removed]",
      "text/plain": [
       "<Figure size 432x288 with 1 Axes>"
      ]
     },
     "metadata": {
      "needs_background": "light"
     },
     "output_type": "display_data"
    }
   ],
   "source": [
    "subset.plot()"
   ]
  },
  {
   "cell_type": "markdown",
   "metadata": {},
   "source": [
    "# 2) Gaussian\n",
    "- Bad: Gives non-zero probability to impossible events"
   ]
  },
  {
   "cell_type": "markdown",
   "metadata": {},
   "source": [
    "## 2ai) Frequentist approach\n",
    "- on a subset of the full dataset (so that we can use the sequential updates in 2aii)"
   ]
  },
  {
   "cell_type": "code",
   "execution_count": 13,
   "metadata": {},
   "outputs": [],
   "source": [
    "def Gaussian_ml(t):\n",
    "    \"Calculate max. likelihood estimators of Gaussian\"\n",
    "    N = len(t)\n",
    "    mean_ml = (1/N) * np.sum(t)\n",
    "    var_ml = (1/N) * np.sum(np.square(t - mean_ml))\n",
    "    return mean_ml, var_ml"
   ]
  },
  {
   "cell_type": "code",
   "execution_count": 14,
   "metadata": {},
   "outputs": [],
   "source": [
    "def Gaussian(x,mean,var):\n",
    "    \"Calculate gaussian distribution\"\n",
    "    return ( 1/ ((2*np.pi*var)**0.5) )*np.exp( (-1/(2*var)) * np.square(x-mean) )"
   ]
  },
  {
   "cell_type": "code",
   "execution_count": 15,
   "metadata": {},
   "outputs": [
    {
     "name": "stdout",
     "output_type": "stream",
     "text": [
      "12.232456 10.208620984064002\n"
     ]
    }
   ],
   "source": [
    "#find mean & variance\n",
    "t_op = subset[\"operation_time\"]\n",
    "mean_ml, var_ml = Gaussian_ml(t_op[0:len(t_op)//3])\n",
    "print(mean_ml, var_ml)"
   ]
  },
  {
   "cell_type": "code",
   "execution_count": 16,
   "metadata": {},
   "outputs": [],
   "source": [
    "# calculate distribution\n",
    "t_start= 0\n",
    "t_stop = (np.max(t_op)//5)*5 + 5    #round up to nearest 5 secs\n",
    "t_step = 0.01\n",
    "t = np.arange(t_start,t_stop,t_step)\n",
    "p = Gaussian(t,mean_ml,var_ml)"
   ]
  },
  {
   "cell_type": "code",
   "execution_count": 17,
   "metadata": {},
   "outputs": [
    {
     "data": {
      "text/plain": [
       "Text(0.5, 1.0, 'WayPoint69_WayPoint70')"
      ]
     },
     "execution_count": 17,
     "metadata": {},
     "output_type": "execute_result"
    },
    {
     "data": {
      "image/png": "[encoded data removed]",
      "text/plain": [
       "<Figure size 432x288 with 1 Axes>"
      ]
     },
     "metadata": {
      "needs_background": "light"
     },
     "output_type": "display_data"
    }
   ],
   "source": [
    "plt.plot(t,p)\n",
    "plt.hist(t_op, density = True, bins = 50)\n",
    "plt.legend([\"predicted\",\"actual\"])\n",
    "plt.xlabel(\"operation_time (s)\")\n",
    "plt.ylabel(\"probability\")\n",
    "plt.title(subset.iloc[0,0])"
   ]
  },
  {
   "cell_type": "markdown",
   "metadata": {},
   "source": [
    "## 2aii) Frequentist - sequential updates\n",
    "- Online updates\n",
    "- We are using SAMPLE mean & variance, which is why the algorithms are slightly different from wikipedia"
   ]
  },
  {
   "cell_type": "code",
   "execution_count": 18,
   "metadata": {},
   "outputs": [],
   "source": [
    "def update_mean(mean, n, t_new):\n",
    "    \"\"\"Sequential update of Gaussian MLE for mean (Bishop 2.3.5)\n",
    "    The input mean has been previously calculated for n = N-1 terms\n",
    "    n is the number of terms considered in the calculation of the previous mean\n",
    "    We update using the new observation t_new\n",
    "    Key weakness: new data gets progressively less powerful in changing the mean\n",
    "    \"\"\"\n",
    "    N = n+1\n",
    "    return mean + (1/N)*(t_new - mean)"
   ]
  },
  {
   "cell_type": "code",
   "execution_count": 19,
   "metadata": {},
   "outputs": [],
   "source": [
    "def update_var(mean, var, n, t_new):\n",
    "    \"\"\"Sequential update of Gaussian MLE for sample variance \n",
    "    mean & var are the MLE mean & variance for n = N-1 samples\n",
    "    n is the number of terms considered in the calculation of the previous mean\n",
    "    We update using the new observation t_new\n",
    "    Key weakness: new data gets progressively less powerful in changing the var\n",
    "    \"\"\"\n",
    "    N = n+1\n",
    "    return ( (N-1)/N ) * var + ( (t_new - mean)**2 )/N"
   ]
  },
  {
   "cell_type": "code",
   "execution_count": 20,
   "metadata": {},
   "outputs": [
    {
     "name": "stdout",
     "output_type": "stream",
     "text": [
      "12.232456 10.208620984064002\n"
     ]
    }
   ],
   "source": [
    "#We calculate mean & variance of a subset of the data as in 2ai)\n",
    "#find mean & variance\n",
    "t_op = subset[\"operation_time\"]\n",
    "n_terms = len(t_op)//3\n",
    "mean_ml, var_ml = Gaussian_ml(t_op[0:n_terms])\n",
    "print(mean_ml, var_ml)"
   ]
  },
  {
   "cell_type": "code",
   "execution_count": 21,
   "metadata": {},
   "outputs": [
    {
     "name": "stdout",
     "output_type": "stream",
     "text": [
      "mean: 12.154848202396817     var: 11.400758137907605\n"
     ]
    }
   ],
   "source": [
    "# now update with the other values\n",
    "for n in range(n_terms, len(t_op)):\n",
    "    t_new = float(t_op[n:n+1])      #new value\n",
    "    \n",
    "    mean_ml = update_mean(mean_ml, n, t_new)\n",
    "    var_ml = update_var(mean_ml, var_ml, n, t_new)\n",
    "\n",
    "print(\"mean:\", mean_ml, \"    var:\", var_ml)"
   ]
  },
  {
   "cell_type": "code",
   "execution_count": 100,
   "metadata": {},
   "outputs": [
    {
     "name": "stdout",
     "output_type": "stream",
     "text": [
      "Check: 12.154848202396805 11.417793641404893\n"
     ]
    }
   ],
   "source": [
    "#check with non_sequential method\n",
    "t_op = subset[\"operation_time\"]\n",
    "mean_check, var_check = Gaussian_ml(t_op)\n",
    "print(\"Check:\",mean_check, var_check)"
   ]
  },
  {
   "cell_type": "markdown",
   "metadata": {},
   "source": [
    "Mathematically, both methods should be equivalent. <br>\n",
    "We find that the mean is the same, but the variance has a slight difference between the all-at-once and sequential methods. <br>\n",
    "I assume this is due to accumulation of rounding error between sequential updates"
   ]
  },
  {
   "cell_type": "markdown",
   "metadata": {},
   "source": [
    "## 2bi) Bayesian Approach - simple\n",
    "- Assume var known, mean unknown\n",
    "- estimate var using MLE"
   ]
  },
  {
   "cell_type": "code",
   "execution_count": 84,
   "metadata": {},
   "outputs": [],
   "source": [
    "#prior\n",
    "def prior_1(mean, mean_0, var_0):\n",
    "    \"mean is a guess. mean_0 & var_0 are parameters\"\n",
    "    return Gaussian(mean,mean_0,var_0)\n",
    "\n"
   ]
  },
  {
   "cell_type": "code",
   "execution_count": 85,
   "metadata": {},
   "outputs": [
    {
     "name": "stdout",
     "output_type": "stream",
     "text": [
      "5.99 µs ± 380 ns per loop (mean ± std. dev. of 7 runs, 100000 loops each)\n",
      "11.4 ms ± 516 µs per loop (mean ± std. dev. of 7 runs, 100 loops each)\n"
     ]
    },
    {
     "data": {
      "text/plain": [
       "0.0"
      ]
     },
     "execution_count": 85,
     "metadata": {},
     "output_type": "execute_result"
    }
   ],
   "source": [
    "def likelihood_1(t,mean):\n",
    "    N = len(t)\n",
    "    var = (1/N) * np.sum((t - mean)**2)\n",
    "    log_likelihood = 0\n",
    "    for n in range(len(t)):\n",
    "        likelihood = Gaussian(t.iloc[n],mean,var)\n",
    "        log_likelihood += np.log(likelihood)\n",
    "    return log_likelihood\n",
    "\n",
    "\n",
    "%timeit prior_1(13,12,12)\n",
    "%timeit likelihood_1(t_op,13)\n",
    "np.exp(likelihood_1(t_op,13))*prior_1(13,12,12)"
   ]
  },
  {
   "cell_type": "code",
   "execution_count": 86,
   "metadata": {},
   "outputs": [
    {
     "name": "stdout",
     "output_type": "stream",
     "text": [
      "[0.000e+00 1.000e-02 2.000e-02 ... 3.997e+01 3.998e+01 3.999e+01] 4000\n"
     ]
    }
   ],
   "source": [
    "t_start= 0\n",
    "t_stop = (np.max(t_op)//5)*5 + 5    #round up to nearest 5 secs\n",
    "t_step = 0.01\n",
    "mu = np.arange(t_start,t_stop,t_step)\n",
    "print(mu, len(mu))\n"
   ]
  },
  {
   "cell_type": "code",
   "execution_count": 87,
   "metadata": {},
   "outputs": [
    {
     "name": "stdout",
     "output_type": "stream",
     "text": [
      "done\n"
     ]
    }
   ],
   "source": [
    "mean_0 = 3\n",
    "var_0 = 4\n",
    "prior_list = []\n",
    "likelihood_list = []\n",
    "for m in mu:\n",
    "    prior_list.append(prior_1(m,mean_0,var_0))\n",
    "    likelihood_list.append(likelihood_1(t_op,m))\n",
    "print(\"done\")"
   ]
  },
  {
   "cell_type": "code",
   "execution_count": 35,
   "metadata": {},
   "outputs": [
    {
     "data": {
      "text/plain": [
       "[<matplotlib.lines.Line2D at 0x1d09921ae20>]"
      ]
     },
     "execution_count": 35,
     "metadata": {},
     "output_type": "execute_result"
    },
    {
     "data": {
      "image/png": "[encoded data removed]",
      "text/plain": [
       "<Figure size 432x288 with 1 Axes>"
      ]
     },
     "metadata": {
      "needs_background": "light"
     },
     "output_type": "display_data"
    }
   ],
   "source": [
    "plt.plot(mu,prior_list)"
   ]
  },
  {
   "cell_type": "code",
   "execution_count": 36,
   "metadata": {},
   "outputs": [
    {
     "data": {
      "text/plain": [
       "[<matplotlib.lines.Line2D at 0x1d09933a2e0>]"
      ]
     },
     "execution_count": 36,
     "metadata": {},
     "output_type": "execute_result"
    },
    {
     "data": {
      "image/png": "[encoded data removed]",
      "text/plain": [
       "<Figure size 432x288 with 1 Axes>"
      ]
     },
     "metadata": {
      "needs_background": "light"
     },
     "output_type": "display_data"
    }
   ],
   "source": [
    "plt.plot(mu,likelihood_list)"
   ]
  },
  {
   "cell_type": "code",
   "execution_count": 37,
   "metadata": {},
   "outputs": [
    {
     "data": {
      "text/plain": [
       "[<matplotlib.lines.Line2D at 0x1d09871d490>]"
      ]
     },
     "execution_count": 37,
     "metadata": {},
     "output_type": "execute_result"
    },
    {
     "data": {
      "image/png": "[encoded data removed]",
      "text/plain": [
       "<Figure size 432x288 with 1 Axes>"
      ]
     },
     "metadata": {
      "needs_background": "light"
     },
     "output_type": "display_data"
    }
   ],
   "source": [
    "#WRONG posterior\n",
    "#posterior = log(normal) likelihood * normal prior\n",
    "posterior_list = np.multiply(prior_list,np.abs(likelihood_list))\n",
    "plt.plot(mu,posterior_list)"
   ]
  },
  {
   "cell_type": "code",
   "execution_count": 38,
   "metadata": {},
   "outputs": [
    {
     "name": "stdout",
     "output_type": "stream",
     "text": [
      "0.01 2186.3103789104634\n"
     ]
    },
    {
     "data": {
      "text/plain": [
       "Text(0.5, 1.0, 'WayPoint69_WayPoint70')"
      ]
     },
     "execution_count": 38,
     "metadata": {},
     "output_type": "execute_result"
    },
    {
     "data": {
      "image/png": "[encoded data removed]",
      "text/plain": [
       "<Figure size 432x288 with 1 Axes>"
      ]
     },
     "metadata": {
      "needs_background": "light"
     },
     "output_type": "display_data"
    }
   ],
   "source": [
    "#normalise a distribution\n",
    "spacing = mu[1]-mu[0]\n",
    "norm_const = spacing * np.sum(posterior_list)\n",
    "print(spacing, norm_const)\n",
    "plt.plot(mu,posterior_list/norm_const)\n",
    "plt.plot(t,p)\n",
    "plt.hist(t_op, density = True, bins = 50)\n",
    "plt.legend([\"Bayesian\", \"Frequentist\",\"Actual\"])\n",
    "plt.xlabel(\"operation_time (s)\")\n",
    "plt.ylabel(\"probability\")\n",
    "plt.title(subset.iloc[0,0])"
   ]
  },
  {
   "cell_type": "code",
   "execution_count": null,
   "metadata": {},
   "outputs": [],
   "source": []
  },
  {
   "cell_type": "markdown",
   "metadata": {},
   "source": [
    "## 2bii) Bayesian - sequential updates\n",
    "- Assume var known (estimate using MLE), mean unknown"
   ]
  },
  {
   "cell_type": "code",
   "execution_count": 39,
   "metadata": {},
   "outputs": [],
   "source": [
    "#prior\n",
    "def prior_2(mean, mean_0, var_0):\n",
    "    \"\"\"mean is a guess. mean_0 & var_0 are parameters of Gaussian prior\"\"\"\n",
    "    return Gaussian(mean,mean_0,var_0)"
   ]
  },
  {
   "cell_type": "code",
   "execution_count": 40,
   "metadata": {},
   "outputs": [],
   "source": [
    "def likelihood_2(t,mean,var):\n",
    "    \"\"\" Sequential update to likelihood (i.e. t is a single value)\"\"\"\n",
    "    return Gaussian(t,mean,var)"
   ]
  },
  {
   "cell_type": "code",
   "execution_count": 41,
   "metadata": {},
   "outputs": [
    {
     "name": "stdout",
     "output_type": "stream",
     "text": [
      "[0.0000e+00 1.0000e-03 2.0000e-03 ... 3.9997e+01 3.9998e+01 3.9999e+01] [0.0000e+00 1.0000e-03 2.0000e-03 ... 3.9997e+01 3.9998e+01 3.9999e+01]\n"
     ]
    }
   ],
   "source": [
    "#define a range of means to test\n",
    "t_start= 0\n",
    "t_stop = (np.max(t_op)//5)*5 + 5    #round up to nearest 5 secs\n",
    "t_step = 0.001\n",
    "mean_test = np.arange(t_start,t_stop,t_step)\n",
    "print(mean_test, mean_test)"
   ]
  },
  {
   "cell_type": "code",
   "execution_count": 102,
   "metadata": {},
   "outputs": [
    {
     "name": "stdout",
     "output_type": "stream",
     "text": [
      "[1.09812838e-03 1.09912365e-03 1.10011973e-03 ... 2.02050924e-18\n",
      " 2.01525752e-18 2.01001928e-18]\n",
      "0.1649969130622838 11143 11.143\n"
     ]
    },
    {
     "data": {
      "image/png": "[encoded data removed]",
      "text/plain": [
       "<Figure size 432x288 with 1 Axes>"
      ]
     },
     "metadata": {
      "needs_background": "light"
     },
     "output_type": "display_data"
    }
   ],
   "source": [
    "#create Gaussian prior\n",
    "mean_0 = 12\n",
    "var_0 = 12\n",
    "prior = prior_2(mean_test,mean_0,var_0)\n",
    "\n",
    "#calculate likelihood from known variance\n",
    "var = 11.4\n",
    "t_new = float(t_op[0:1])\n",
    "likelihood = likelihood_2(t_new,mean_test,var)\n",
    "print(likelihood)\n",
    "#Bayes rule\n",
    "posterior = prior*likelihood\n",
    "#normalise the distribution\n",
    "spacing = mean_test[1]-mean_test[0]\n",
    "norm_const = spacing * np.sum(posterior)\n",
    "posterior /= norm_const\n",
    "\n",
    "#plot\n",
    "plt.plot(mean_test,posterior)\n",
    "plt.plot(mean_test,likelihood)\n",
    "plt.plot(mean_test,prior)\n",
    "plt.legend([\"posterior\",\"likelihood\",\"prior\"])\n",
    "plt.xlabel(\"mean\")\n",
    "plt.ylabel(\"probability\")\n",
    "plt.title(subset.iloc[0,0])\n",
    "\n",
    "print(np.max(posterior), np.argmax(posterior), mean_test[np.argmax(posterior)])"
   ]
  },
  {
   "cell_type": "code",
   "execution_count": 103,
   "metadata": {},
   "outputs": [
    {
     "name": "stdout",
     "output_type": "stream",
     "text": [
      "0.44315487612663257\n"
     ]
    },
    {
     "data": {
      "image/png": "[encoded data removed]",
      "text/plain": [
       "<Figure size 432x288 with 1 Axes>"
      ]
     },
     "metadata": {
      "needs_background": "light"
     },
     "output_type": "display_data"
    }
   ],
   "source": [
    "#find max value of a histogram - no longer useful\n",
    "y, x, _ = plt.hist(t_op, density = True, bins = 50)\n",
    "p_max = max(y)\n",
    "print(p_max)"
   ]
  },
  {
   "cell_type": "code",
   "execution_count": 104,
   "metadata": {},
   "outputs": [
    {
     "name": "stdout",
     "output_type": "stream",
     "text": [
      "57\n",
      "done 0.09758161176442175 0.001 0.9071926906907711 999.9999999999999\n"
     ]
    }
   ],
   "source": [
    "#successive updates\n",
    "for n in range(1, len(t_op)//5):\n",
    "    #test\n",
    "    if np.max(posterior) > 0.9:\n",
    "        print(n-1)\n",
    "        break\n",
    "    \n",
    "    t_new = float(t_op[n:n+1])      #new value\n",
    "    likelihood = likelihood_2(t_new,mean_test,var)\n",
    "    #Bayes rule\n",
    "    posterior = posterior*likelihood\n",
    "    #normalise the distribution\n",
    "    spacing = mean_test[1]-mean_test[0]\n",
    "    norm_const = spacing * np.sum(posterior)\n",
    "    posterior /= norm_const\n",
    "print(\"done\", norm_const, spacing, np.max(posterior), np.sum(posterior))"
   ]
  },
  {
   "cell_type": "code",
   "execution_count": 105,
   "metadata": {},
   "outputs": [
    {
     "name": "stdout",
     "output_type": "stream",
     "text": [
      "0.9071926906907711 12395 12.395\n"
     ]
    },
    {
     "data": {
      "image/png": "[encoded data removed]",
      "text/plain": [
       "<Figure size 432x288 with 1 Axes>"
      ]
     },
     "metadata": {
      "needs_background": "light"
     },
     "output_type": "display_data"
    }
   ],
   "source": [
    "#plot\n",
    "plt.plot(mean_test,posterior)\n",
    "\n",
    "plt.xlabel(\"mean\")\n",
    "plt.ylabel(\"probability\")\n",
    "plt.title(subset.iloc[0,0])\n",
    "\n",
    "print(np.max(posterior), np.argmax(posterior), mean_test[np.argmax(posterior)])"
   ]
  },
  {
   "cell_type": "markdown",
   "metadata": {},
   "source": [
    "Issue resolved: This finds the MAP estimate of the MEAN, from which we can plot the Gaussian that describes the distribution"
   ]
  },
  {
   "cell_type": "code",
   "execution_count": 106,
   "metadata": {},
   "outputs": [
    {
     "data": {
      "text/plain": [
       "count    751.000000\n",
       "mean      12.154848\n",
       "std        3.381275\n",
       "min        8.559000\n",
       "25%       10.153000\n",
       "50%       10.891000\n",
       "75%       13.132500\n",
       "max       38.456000\n",
       "Name: operation_time, dtype: float64"
      ]
     },
     "execution_count": 106,
     "metadata": {},
     "output_type": "execute_result"
    }
   ],
   "source": [
    "t_op.describe()"
   ]
  },
  {
   "cell_type": "code",
   "execution_count": 107,
   "metadata": {},
   "outputs": [
    {
     "name": "stdout",
     "output_type": "stream",
     "text": [
      "0.9071926906907711 12395 12.395\n"
     ]
    },
    {
     "data": {
      "text/plain": [
       "Text(0.5, 1.0, 'WayPoint69_WayPoint70')"
      ]
     },
     "execution_count": 107,
     "metadata": {},
     "output_type": "execute_result"
    },
    {
     "data": {
      "image/png": "[encoded data removed]",
      "text/plain": [
       "<Figure size 432x288 with 1 Axes>"
      ]
     },
     "metadata": {
      "needs_background": "light"
     },
     "output_type": "display_data"
    }
   ],
   "source": [
    "posterior_max = np.max(posterior)\n",
    "posterior_index = np.argmax(posterior)\n",
    "mean_map = mean_test[posterior_index]\n",
    "print(posterior_max, posterior_index,mean_map)\n",
    "posterior_likelihood = Gaussian(t,mean_map,var)\n",
    "#Frequentist\n",
    "t_freq = Gaussian(t,mean_check, var_check)\n",
    "#plot\n",
    "plt.plot(t,posterior_likelihood)\n",
    "plt.plot(t,t_freq)\n",
    "plt.hist(t_op, density = True, bins = 50)\n",
    "plt.legend([\"Bayesian\",\"Frequentist\", \"Actual\"])\n",
    "plt.xlabel(\"operation_time (s)\")\n",
    "plt.ylabel(\"probability\")\n",
    "plt.title(subset.iloc[0,0])"
   ]
  },
  {
   "cell_type": "code",
   "execution_count": null,
   "metadata": {},
   "outputs": [],
   "source": []
  }
 ],
 "metadata": {
  "kernelspec": {
   "display_name": "Python 3",
   "language": "python",
   "name": "python3"
  },
  "language_info": {
   "codemirror_mode": {
    "name": "ipython",
    "version": 3
   },
   "file_extension": ".py",
   "mimetype": "text/x-python",
   "name": "python",
   "nbconvert_exporter": "python",
   "pygments_lexer": "ipython3",
   "version": "3.8.3"
  }
 },
 "nbformat": 4,
 "nbformat_minor": 4
}
