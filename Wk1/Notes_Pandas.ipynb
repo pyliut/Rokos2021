{
 "cells": [
  {
   "cell_type": "markdown",
   "metadata": {},
   "source": [
    "# Setup"
   ]
  },
  {
   "cell_type": "code",
   "execution_count": 73,
   "metadata": {},
   "outputs": [
    {
     "name": "stdout",
     "output_type": "stream",
     "text": [
      "done\n"
     ]
    }
   ],
   "source": [
    "import pandas as pd\n",
    "import matplotlib.pyplot as plt\n",
    "import pymongo\n",
    "from pymongo import MongoClient\n",
    "from datetime import datetime\n",
    "print(\"done\")"
   ]
  },
  {
   "cell_type": "code",
   "execution_count": 71,
   "metadata": {},
   "outputs": [
    {
     "name": "stdout",
     "output_type": "stream",
     "text": [
      "done\n"
     ]
    }
   ],
   "source": [
    "#define my database and collection\n",
    "cluster = MongoClient(\"mongodb://127.0.0.1:27017/?readPreference=primary&appname=MongoDB%20Compass&ssl=false\")\n",
    "db = cluster[\"Rokos2021\"]\n",
    "collection = db[\"walmart_targeted\"]\n",
    "print(\"done\")"
   ]
  },
  {
   "cell_type": "code",
   "execution_count": 72,
   "metadata": {},
   "outputs": [
    {
     "name": "stdout",
     "output_type": "stream",
     "text": [
      "done\n"
     ]
    }
   ],
   "source": [
    "#filter & store data in pandas DataFrame\n",
    "results = collection.find({\"_meta.inserted_at\": {\"$gte\": datetime(2021,2,20,9,0,0),\n",
    "                                \"$lte\":datetime(2021,2,28,9,0,0)}, \n",
    "                                \"origin\": {\"$ne\": None}, \n",
    "                                \"edge_id\": {\"$ne\": None}, \n",
    "                                \"target\":{\"$ne\":None},\n",
    "                                \"succeeded\":True})\n",
    "\n",
    "#convert to dataframe format\n",
    "df = pd.DataFrame(list(results))\n",
    "print(\"done\")"
   ]
  },
  {
   "cell_type": "markdown",
   "metadata": {},
   "source": [
    "# 1) Basics\n",
    "A DataFrame is a table with rows & columns (pandas Series)"
   ]
  },
  {
   "cell_type": "code",
   "execution_count": 27,
   "metadata": {},
   "outputs": [
    {
     "data": {
      "text/html": [
       "<div>\n",
       "<style scoped>\n",
       "    .dataframe tbody tr th:only-of-type {\n",
       "        vertical-align: middle;\n",
       "    }\n",
       "\n",
       "    .dataframe tbody tr th {\n",
       "        vertical-align: top;\n",
       "    }\n",
       "\n",
       "    .dataframe thead th {\n",
       "        text-align: right;\n",
       "    }\n",
       "</style>\n",
       "<table border=\"1\" class=\"dataframe\">\n",
       "  <thead>\n",
       "    <tr style=\"text-align: right;\">\n",
       "      <th></th>\n",
       "      <th>_id</th>\n",
       "      <th>origin</th>\n",
       "      <th>target</th>\n",
       "      <th>succeeded</th>\n",
       "      <th>run_id</th>\n",
       "      <th>date_finished</th>\n",
       "      <th>policy_goal</th>\n",
       "      <th>agent</th>\n",
       "      <th>_meta</th>\n",
       "      <th>is_final</th>\n",
       "      <th>edge_id</th>\n",
       "      <th>action</th>\n",
       "      <th>date_started</th>\n",
       "      <th>operation_time</th>\n",
       "      <th>topological_map</th>\n",
       "      <th>final_node</th>\n",
       "    </tr>\n",
       "  </thead>\n",
       "  <tbody>\n",
       "    <tr>\n",
       "      <th>0</th>\n",
       "      <td>60355f5ae58b9f729ea1d688</td>\n",
       "      <td>WayPoint112</td>\n",
       "      <td>WayPoint82</td>\n",
       "      <td>True</td>\n",
       "      <td>b09bd134-ea6f-44bc-80fe-53d3dd41f62e</td>\n",
       "      <td>1970-01-01 00:00:12.801</td>\n",
       "      <td>WayPoint60</td>\n",
       "      <td>/robot_2/rapport_navigation</td>\n",
       "      <td>{'inserted_at': 2021-02-23 20:02:34.101000}</td>\n",
       "      <td>False</td>\n",
       "      <td>WayPoint112_WayPoint82</td>\n",
       "      <td>move_base</td>\n",
       "      <td>1970-01-01 00:00:07.609</td>\n",
       "      <td>5.192</td>\n",
       "      <td>walmart</td>\n",
       "      <td>WayPoint82</td>\n",
       "    </tr>\n",
       "    <tr>\n",
       "      <th>1</th>\n",
       "      <td>60355f5a0c5936f239914148</td>\n",
       "      <td>WayPoint113</td>\n",
       "      <td>WayPoint89</td>\n",
       "      <td>True</td>\n",
       "      <td>b09bd134-ea6f-44bc-80fe-53d3dd41f62e</td>\n",
       "      <td>1970-01-01 00:00:12.921</td>\n",
       "      <td>WayPoint95</td>\n",
       "      <td>/robot_3/rapport_navigation</td>\n",
       "      <td>{'inserted_at': 2021-02-23 20:02:34.448000}</td>\n",
       "      <td>False</td>\n",
       "      <td>WayPoint113_WayPoint89</td>\n",
       "      <td>move_base</td>\n",
       "      <td>1970-01-01 00:00:07.801</td>\n",
       "      <td>5.120</td>\n",
       "      <td>walmart</td>\n",
       "      <td>WayPoint89</td>\n",
       "    </tr>\n",
       "    <tr>\n",
       "      <th>2</th>\n",
       "      <td>60355f5b2dbb79e986b0b474</td>\n",
       "      <td>WayPoint114</td>\n",
       "      <td>WayPoint96</td>\n",
       "      <td>True</td>\n",
       "      <td>b09bd134-ea6f-44bc-80fe-53d3dd41f62e</td>\n",
       "      <td>1970-01-01 00:00:13.193</td>\n",
       "      <td>WayPoint25</td>\n",
       "      <td>/robot_4/rapport_navigation</td>\n",
       "      <td>{'inserted_at': 2021-02-23 20:02:35.218000}</td>\n",
       "      <td>False</td>\n",
       "      <td>WayPoint114_WayPoint96</td>\n",
       "      <td>move_base</td>\n",
       "      <td>1970-01-01 00:00:08.010</td>\n",
       "      <td>5.183</td>\n",
       "      <td>walmart</td>\n",
       "      <td>WayPoint96</td>\n",
       "    </tr>\n",
       "  </tbody>\n",
       "</table>\n",
       "</div>"
      ],
      "text/plain": [
       "                        _id       origin      target  succeeded  \\\n",
       "0  60355f5ae58b9f729ea1d688  WayPoint112  WayPoint82       True   \n",
       "1  60355f5a0c5936f239914148  WayPoint113  WayPoint89       True   \n",
       "2  60355f5b2dbb79e986b0b474  WayPoint114  WayPoint96       True   \n",
       "\n",
       "                                 run_id           date_finished policy_goal  \\\n",
       "0  b09bd134-ea6f-44bc-80fe-53d3dd41f62e 1970-01-01 00:00:12.801  WayPoint60   \n",
       "1  b09bd134-ea6f-44bc-80fe-53d3dd41f62e 1970-01-01 00:00:12.921  WayPoint95   \n",
       "2  b09bd134-ea6f-44bc-80fe-53d3dd41f62e 1970-01-01 00:00:13.193  WayPoint25   \n",
       "\n",
       "                         agent                                        _meta  \\\n",
       "0  /robot_2/rapport_navigation  {'inserted_at': 2021-02-23 20:02:34.101000}   \n",
       "1  /robot_3/rapport_navigation  {'inserted_at': 2021-02-23 20:02:34.448000}   \n",
       "2  /robot_4/rapport_navigation  {'inserted_at': 2021-02-23 20:02:35.218000}   \n",
       "\n",
       "   is_final                 edge_id     action            date_started  \\\n",
       "0     False  WayPoint112_WayPoint82  move_base 1970-01-01 00:00:07.609   \n",
       "1     False  WayPoint113_WayPoint89  move_base 1970-01-01 00:00:07.801   \n",
       "2     False  WayPoint114_WayPoint96  move_base 1970-01-01 00:00:08.010   \n",
       "\n",
       "   operation_time topological_map  final_node  \n",
       "0           5.192         walmart  WayPoint82  \n",
       "1           5.120         walmart  WayPoint89  \n",
       "2           5.183         walmart  WayPoint96  "
      ]
     },
     "execution_count": 27,
     "metadata": {},
     "output_type": "execute_result"
    }
   ],
   "source": [
    "#show head / tail\n",
    "df.head(3)\n",
    "#df.tail()"
   ]
  },
  {
   "cell_type": "markdown",
   "metadata": {},
   "source": [
    "## 1a) Subsets - Series & DataFrames"
   ]
  },
  {
   "cell_type": "code",
   "execution_count": 7,
   "metadata": {},
   "outputs": [
    {
     "data": {
      "text/plain": [
       "0        WayPoint112\n",
       "1        WayPoint113\n",
       "2        WayPoint114\n",
       "3        WayPoint110\n",
       "4        WayPoint111\n",
       "            ...     \n",
       "12355     WayPoint72\n",
       "12356     WayPoint69\n",
       "12357     WayPoint71\n",
       "12358     WayPoint72\n",
       "12359     WayPoint70\n",
       "Name: origin, Length: 12360, dtype: object"
      ]
     },
     "execution_count": 7,
     "metadata": {},
     "output_type": "execute_result"
    }
   ],
   "source": [
    "#select column (Series) from DataFrame\n",
    "df[\"origin\"]"
   ]
  },
  {
   "cell_type": "code",
   "execution_count": 9,
   "metadata": {},
   "outputs": [
    {
     "data": {
      "text/plain": [
       "0      This\n",
       "1        is\n",
       "2         a\n",
       "3    pandas\n",
       "4    Series\n",
       "Name: phrase, dtype: object"
      ]
     },
     "execution_count": 9,
     "metadata": {},
     "output_type": "execute_result"
    }
   ],
   "source": [
    "#create series\n",
    "my_series = pd.Series([\"This\", \"is\", \"a\", \"pandas\", \"Series\"], name = \"phrase\")\n",
    "my_series"
   ]
  },
  {
   "cell_type": "code",
   "execution_count": 39,
   "metadata": {},
   "outputs": [
    {
     "data": {
      "text/html": [
       "<div>\n",
       "<style scoped>\n",
       "    .dataframe tbody tr th:only-of-type {\n",
       "        vertical-align: middle;\n",
       "    }\n",
       "\n",
       "    .dataframe tbody tr th {\n",
       "        vertical-align: top;\n",
       "    }\n",
       "\n",
       "    .dataframe thead th {\n",
       "        text-align: right;\n",
       "    }\n",
       "</style>\n",
       "<table border=\"1\" class=\"dataframe\">\n",
       "  <thead>\n",
       "    <tr style=\"text-align: right;\">\n",
       "      <th></th>\n",
       "      <th>edge_id</th>\n",
       "      <th>operation_time</th>\n",
       "    </tr>\n",
       "  </thead>\n",
       "  <tbody>\n",
       "    <tr>\n",
       "      <th>0</th>\n",
       "      <td>WayPoint112_WayPoint82</td>\n",
       "      <td>5.192</td>\n",
       "    </tr>\n",
       "    <tr>\n",
       "      <th>1</th>\n",
       "      <td>WayPoint113_WayPoint89</td>\n",
       "      <td>5.120</td>\n",
       "    </tr>\n",
       "    <tr>\n",
       "      <th>2</th>\n",
       "      <td>WayPoint114_WayPoint96</td>\n",
       "      <td>5.183</td>\n",
       "    </tr>\n",
       "  </tbody>\n",
       "</table>\n",
       "</div>"
      ],
      "text/plain": [
       "                  edge_id  operation_time\n",
       "0  WayPoint112_WayPoint82           5.192\n",
       "1  WayPoint113_WayPoint89           5.120\n",
       "2  WayPoint114_WayPoint96           5.183"
      ]
     },
     "execution_count": 39,
     "metadata": {},
     "output_type": "execute_result"
    }
   ],
   "source": [
    "#create DataFrame subset\n",
    "my_subset = df[[\"edge_id\",\"operation_time\"]]\n",
    "my_subset.head(3)"
   ]
  },
  {
   "cell_type": "markdown",
   "metadata": {},
   "source": [
    "## 1b) Methods - require brackets"
   ]
  },
  {
   "cell_type": "code",
   "execution_count": 24,
   "metadata": {},
   "outputs": [
    {
     "name": "stdout",
     "output_type": "stream",
     "text": [
      "max: 86.516     min: 4.644\n"
     ]
    }
   ],
   "source": [
    "#max & min\n",
    "t_max = df[\"operation_time\"].max()\n",
    "t_min = df[\"operation_time\"].min()\n",
    "print(\"max:\",t_max, \"    min:\",t_min)"
   ]
  },
  {
   "cell_type": "code",
   "execution_count": 13,
   "metadata": {},
   "outputs": [
    {
     "data": {
      "text/html": [
       "<div>\n",
       "<style scoped>\n",
       "    .dataframe tbody tr th:only-of-type {\n",
       "        vertical-align: middle;\n",
       "    }\n",
       "\n",
       "    .dataframe tbody tr th {\n",
       "        vertical-align: top;\n",
       "    }\n",
       "\n",
       "    .dataframe thead th {\n",
       "        text-align: right;\n",
       "    }\n",
       "</style>\n",
       "<table border=\"1\" class=\"dataframe\">\n",
       "  <thead>\n",
       "    <tr style=\"text-align: right;\">\n",
       "      <th></th>\n",
       "      <th>operation_time</th>\n",
       "    </tr>\n",
       "  </thead>\n",
       "  <tbody>\n",
       "    <tr>\n",
       "      <th>count</th>\n",
       "      <td>12360.000000</td>\n",
       "    </tr>\n",
       "    <tr>\n",
       "      <th>mean</th>\n",
       "      <td>11.218859</td>\n",
       "    </tr>\n",
       "    <tr>\n",
       "      <th>std</th>\n",
       "      <td>3.405797</td>\n",
       "    </tr>\n",
       "    <tr>\n",
       "      <th>min</th>\n",
       "      <td>4.644000</td>\n",
       "    </tr>\n",
       "    <tr>\n",
       "      <th>25%</th>\n",
       "      <td>9.621750</td>\n",
       "    </tr>\n",
       "    <tr>\n",
       "      <th>50%</th>\n",
       "      <td>10.600000</td>\n",
       "    </tr>\n",
       "    <tr>\n",
       "      <th>75%</th>\n",
       "      <td>12.404000</td>\n",
       "    </tr>\n",
       "    <tr>\n",
       "      <th>max</th>\n",
       "      <td>86.516000</td>\n",
       "    </tr>\n",
       "  </tbody>\n",
       "</table>\n",
       "</div>"
      ],
      "text/plain": [
       "       operation_time\n",
       "count    12360.000000\n",
       "mean        11.218859\n",
       "std          3.405797\n",
       "min          4.644000\n",
       "25%          9.621750\n",
       "50%         10.600000\n",
       "75%         12.404000\n",
       "max         86.516000"
      ]
     },
     "execution_count": 13,
     "metadata": {},
     "output_type": "execute_result"
    }
   ],
   "source": [
    "# quick stats - by default, this only operates on the numerical Series\n",
    "df.describe()"
   ]
  },
  {
   "cell_type": "code",
   "execution_count": 22,
   "metadata": {},
   "outputs": [
    {
     "name": "stdout",
     "output_type": "stream",
     "text": [
      "48 greater than 28.247842023542326\n"
     ]
    }
   ],
   "source": [
    "n_outliers = 0\n",
    "t_mean = df[\"operation_time\"].mean()\n",
    "t_std = df[\"operation_time\"].std()\n",
    "boundary = t_mean + 5*t_std\n",
    "for op_t in df[\"operation_time\"]:\n",
    "    if op_t > boundary:\n",
    "        n_outliers += 1\n",
    "print(n_outliers,\"greater than\", boundary)"
   ]
  },
  {
   "cell_type": "code",
   "execution_count": 30,
   "metadata": {},
   "outputs": [
    {
     "name": "stdout",
     "output_type": "stream",
     "text": [
      "<class 'pandas.core.frame.DataFrame'>\n",
      "RangeIndex: 12360 entries, 0 to 12359\n",
      "Data columns (total 16 columns):\n",
      " #   Column           Non-Null Count  Dtype         \n",
      "---  ------           --------------  -----         \n",
      " 0   _id              12360 non-null  object        \n",
      " 1   origin           12360 non-null  object        \n",
      " 2   target           12360 non-null  object        \n",
      " 3   succeeded        12360 non-null  bool          \n",
      " 4   run_id           12360 non-null  object        \n",
      " 5   date_finished    12360 non-null  datetime64[ns]\n",
      " 6   policy_goal      12360 non-null  object        \n",
      " 7   agent            12360 non-null  object        \n",
      " 8   _meta            12360 non-null  object        \n",
      " 9   is_final         12360 non-null  bool          \n",
      " 10  edge_id          12360 non-null  object        \n",
      " 11  action           12360 non-null  object        \n",
      " 12  date_started     12360 non-null  datetime64[ns]\n",
      " 13  operation_time   12360 non-null  float64       \n",
      " 14  topological_map  12360 non-null  object        \n",
      " 15  final_node       12360 non-null  object        \n",
      "dtypes: bool(2), datetime64[ns](2), float64(1), object(11)\n",
      "memory usage: 1.3+ MB\n"
     ]
    }
   ],
   "source": [
    "#technical summary\n",
    "df.info()"
   ]
  },
  {
   "cell_type": "code",
   "execution_count": 41,
   "metadata": {},
   "outputs": [
    {
     "data": {
      "text/plain": [
       "pandas.core.frame.DataFrame"
      ]
     },
     "execution_count": 41,
     "metadata": {},
     "output_type": "execute_result"
    }
   ],
   "source": [
    "#type of data structure\n",
    "my_subset = df[[\"edge_id\",\"operation_time\"]]\n",
    "type(my_subset)"
   ]
  },
  {
   "cell_type": "markdown",
   "metadata": {},
   "source": [
    "## 1c) Attributes - no brackets"
   ]
  },
  {
   "cell_type": "code",
   "execution_count": 35,
   "metadata": {},
   "outputs": [
    {
     "data": {
      "text/plain": [
       "_id                        object\n",
       "origin                     object\n",
       "target                     object\n",
       "succeeded                    bool\n",
       "run_id                     object\n",
       "date_finished      datetime64[ns]\n",
       "policy_goal                object\n",
       "agent                      object\n",
       "_meta                      object\n",
       "is_final                     bool\n",
       "edge_id                    object\n",
       "action                     object\n",
       "date_started       datetime64[ns]\n",
       "operation_time            float64\n",
       "topological_map            object\n",
       "final_node                 object\n",
       "dtype: object"
      ]
     },
     "execution_count": 35,
     "metadata": {},
     "output_type": "execute_result"
    }
   ],
   "source": [
    "#datatypes\n",
    "#e.g integers (int64), floats (float64), strings (object)\n",
    "df.dtypes"
   ]
  },
  {
   "cell_type": "code",
   "execution_count": 33,
   "metadata": {},
   "outputs": [
    {
     "name": "stdout",
     "output_type": "stream",
     "text": [
      "(12360, 16)\n",
      "(12360,)\n"
     ]
    }
   ],
   "source": [
    "print(df.shape)\n",
    "print(df[\"is_final\"].shape)"
   ]
  },
  {
   "cell_type": "markdown",
   "metadata": {},
   "source": [
    "# 2) Filtering"
   ]
  },
  {
   "cell_type": "markdown",
   "metadata": {},
   "source": [
    "## 2a) By row"
   ]
  },
  {
   "cell_type": "code",
   "execution_count": 45,
   "metadata": {},
   "outputs": [
    {
     "name": "stdout",
     "output_type": "stream",
     "text": [
      "(8193, 16)\n"
     ]
    },
    {
     "data": {
      "text/html": [
       "<div>\n",
       "<style scoped>\n",
       "    .dataframe tbody tr th:only-of-type {\n",
       "        vertical-align: middle;\n",
       "    }\n",
       "\n",
       "    .dataframe tbody tr th {\n",
       "        vertical-align: top;\n",
       "    }\n",
       "\n",
       "    .dataframe thead th {\n",
       "        text-align: right;\n",
       "    }\n",
       "</style>\n",
       "<table border=\"1\" class=\"dataframe\">\n",
       "  <thead>\n",
       "    <tr style=\"text-align: right;\">\n",
       "      <th></th>\n",
       "      <th>_id</th>\n",
       "      <th>origin</th>\n",
       "      <th>target</th>\n",
       "      <th>succeeded</th>\n",
       "      <th>run_id</th>\n",
       "      <th>date_finished</th>\n",
       "      <th>policy_goal</th>\n",
       "      <th>agent</th>\n",
       "      <th>_meta</th>\n",
       "      <th>is_final</th>\n",
       "      <th>edge_id</th>\n",
       "      <th>action</th>\n",
       "      <th>date_started</th>\n",
       "      <th>operation_time</th>\n",
       "      <th>topological_map</th>\n",
       "      <th>final_node</th>\n",
       "    </tr>\n",
       "  </thead>\n",
       "  <tbody>\n",
       "    <tr>\n",
       "      <th>5</th>\n",
       "      <td>60355f7a0c5936f239914149</td>\n",
       "      <td>WayPoint89</td>\n",
       "      <td>WayPoint90</td>\n",
       "      <td>True</td>\n",
       "      <td>b09bd134-ea6f-44bc-80fe-53d3dd41f62e</td>\n",
       "      <td>1970-01-01 00:00:23.108</td>\n",
       "      <td>WayPoint95</td>\n",
       "      <td>/robot_3/rapport_navigation</td>\n",
       "      <td>{'inserted_at': 2021-02-23 20:03:06.981000}</td>\n",
       "      <td>False</td>\n",
       "      <td>WayPoint89_WayPoint90</td>\n",
       "      <td>move_base</td>\n",
       "      <td>1970-01-01 00:00:12.801</td>\n",
       "      <td>10.307</td>\n",
       "      <td>walmart</td>\n",
       "      <td>WayPoint90</td>\n",
       "    </tr>\n",
       "    <tr>\n",
       "      <th>7</th>\n",
       "      <td>60355f7ce58b9f729ea1d689</td>\n",
       "      <td>WayPoint82</td>\n",
       "      <td>WayPoint75</td>\n",
       "      <td>True</td>\n",
       "      <td>b09bd134-ea6f-44bc-80fe-53d3dd41f62e</td>\n",
       "      <td>1970-01-01 00:00:23.534</td>\n",
       "      <td>WayPoint60</td>\n",
       "      <td>/robot_2/rapport_navigation</td>\n",
       "      <td>{'inserted_at': 2021-02-23 20:03:08.377000}</td>\n",
       "      <td>False</td>\n",
       "      <td>WayPoint82_WayPoint75</td>\n",
       "      <td>move_base</td>\n",
       "      <td>1970-01-01 00:00:12.712</td>\n",
       "      <td>10.822</td>\n",
       "      <td>walmart</td>\n",
       "      <td>WayPoint75</td>\n",
       "    </tr>\n",
       "    <tr>\n",
       "      <th>8</th>\n",
       "      <td>60355f7e82434d00acf1b77a</td>\n",
       "      <td>WayPoint68</td>\n",
       "      <td>WayPoint61</td>\n",
       "      <td>True</td>\n",
       "      <td>b09bd134-ea6f-44bc-80fe-53d3dd41f62e</td>\n",
       "      <td>1970-01-01 00:00:24.118</td>\n",
       "      <td>WayPoint39</td>\n",
       "      <td>/robot_0/rapport_navigation</td>\n",
       "      <td>{'inserted_at': 2021-02-23 20:03:10.269000}</td>\n",
       "      <td>False</td>\n",
       "      <td>WayPoint68_WayPoint61</td>\n",
       "      <td>move_base</td>\n",
       "      <td>1970-01-01 00:00:13.402</td>\n",
       "      <td>10.716</td>\n",
       "      <td>walmart</td>\n",
       "      <td>WayPoint61</td>\n",
       "    </tr>\n",
       "  </tbody>\n",
       "</table>\n",
       "</div>"
      ],
      "text/plain": [
       "                        _id      origin      target  succeeded  \\\n",
       "5  60355f7a0c5936f239914149  WayPoint89  WayPoint90       True   \n",
       "7  60355f7ce58b9f729ea1d689  WayPoint82  WayPoint75       True   \n",
       "8  60355f7e82434d00acf1b77a  WayPoint68  WayPoint61       True   \n",
       "\n",
       "                                 run_id           date_finished policy_goal  \\\n",
       "5  b09bd134-ea6f-44bc-80fe-53d3dd41f62e 1970-01-01 00:00:23.108  WayPoint95   \n",
       "7  b09bd134-ea6f-44bc-80fe-53d3dd41f62e 1970-01-01 00:00:23.534  WayPoint60   \n",
       "8  b09bd134-ea6f-44bc-80fe-53d3dd41f62e 1970-01-01 00:00:24.118  WayPoint39   \n",
       "\n",
       "                         agent                                        _meta  \\\n",
       "5  /robot_3/rapport_navigation  {'inserted_at': 2021-02-23 20:03:06.981000}   \n",
       "7  /robot_2/rapport_navigation  {'inserted_at': 2021-02-23 20:03:08.377000}   \n",
       "8  /robot_0/rapport_navigation  {'inserted_at': 2021-02-23 20:03:10.269000}   \n",
       "\n",
       "   is_final                edge_id     action            date_started  \\\n",
       "5     False  WayPoint89_WayPoint90  move_base 1970-01-01 00:00:12.801   \n",
       "7     False  WayPoint82_WayPoint75  move_base 1970-01-01 00:00:12.712   \n",
       "8     False  WayPoint68_WayPoint61  move_base 1970-01-01 00:00:13.402   \n",
       "\n",
       "   operation_time topological_map  final_node  \n",
       "5          10.307         walmart  WayPoint90  \n",
       "7          10.822         walmart  WayPoint75  \n",
       "8          10.716         walmart  WayPoint61  "
      ]
     },
     "execution_count": 45,
     "metadata": {},
     "output_type": "execute_result"
    }
   ],
   "source": [
    "#conditions\n",
    "above_10 = df[df[\"operation_time\"] > 10]\n",
    "print(above_10.shape)\n",
    "above_10.head(3)"
   ]
  },
  {
   "cell_type": "code",
   "execution_count": 55,
   "metadata": {},
   "outputs": [
    {
     "name": "stdout",
     "output_type": "stream",
     "text": [
      "(46, 16)\n"
     ]
    },
    {
     "data": {
      "text/html": [
       "<div>\n",
       "<style scoped>\n",
       "    .dataframe tbody tr th:only-of-type {\n",
       "        vertical-align: middle;\n",
       "    }\n",
       "\n",
       "    .dataframe tbody tr th {\n",
       "        vertical-align: top;\n",
       "    }\n",
       "\n",
       "    .dataframe thead th {\n",
       "        text-align: right;\n",
       "    }\n",
       "</style>\n",
       "<table border=\"1\" class=\"dataframe\">\n",
       "  <thead>\n",
       "    <tr style=\"text-align: right;\">\n",
       "      <th></th>\n",
       "      <th>_id</th>\n",
       "      <th>origin</th>\n",
       "      <th>target</th>\n",
       "      <th>succeeded</th>\n",
       "      <th>run_id</th>\n",
       "      <th>date_finished</th>\n",
       "      <th>policy_goal</th>\n",
       "      <th>agent</th>\n",
       "      <th>_meta</th>\n",
       "      <th>is_final</th>\n",
       "      <th>edge_id</th>\n",
       "      <th>action</th>\n",
       "      <th>date_started</th>\n",
       "      <th>operation_time</th>\n",
       "      <th>topological_map</th>\n",
       "      <th>final_node</th>\n",
       "    </tr>\n",
       "  </thead>\n",
       "  <tbody>\n",
       "    <tr>\n",
       "      <th>5</th>\n",
       "      <td>60355f7a0c5936f239914149</td>\n",
       "      <td>WayPoint89</td>\n",
       "      <td>WayPoint90</td>\n",
       "      <td>True</td>\n",
       "      <td>b09bd134-ea6f-44bc-80fe-53d3dd41f62e</td>\n",
       "      <td>1970-01-01 00:00:23.108</td>\n",
       "      <td>WayPoint95</td>\n",
       "      <td>/robot_3/rapport_navigation</td>\n",
       "      <td>{'inserted_at': 2021-02-23 20:03:06.981000}</td>\n",
       "      <td>False</td>\n",
       "      <td>WayPoint89_WayPoint90</td>\n",
       "      <td>move_base</td>\n",
       "      <td>1970-01-01 00:00:12.801</td>\n",
       "      <td>10.307</td>\n",
       "      <td>walmart</td>\n",
       "      <td>WayPoint90</td>\n",
       "    </tr>\n",
       "    <tr>\n",
       "      <th>232</th>\n",
       "      <td>603571711a8190816a312741</td>\n",
       "      <td>WayPoint89</td>\n",
       "      <td>WayPoint90</td>\n",
       "      <td>True</td>\n",
       "      <td>11fe6db9-2cd3-4cf3-960e-b5972bc34361</td>\n",
       "      <td>1970-01-01 00:00:31.800</td>\n",
       "      <td>WayPoint95</td>\n",
       "      <td>/robot_3/rapport_navigation</td>\n",
       "      <td>{'inserted_at': 2021-02-23 21:19:45.794000}</td>\n",
       "      <td>False</td>\n",
       "      <td>WayPoint89_WayPoint90</td>\n",
       "      <td>move_base</td>\n",
       "      <td>1970-01-01 00:00:21.799</td>\n",
       "      <td>10.001</td>\n",
       "      <td>walmart</td>\n",
       "      <td>WayPoint90</td>\n",
       "    </tr>\n",
       "    <tr>\n",
       "      <th>1479</th>\n",
       "      <td>60367df85371305c634324a8</td>\n",
       "      <td>WayPoint89</td>\n",
       "      <td>WayPoint90</td>\n",
       "      <td>True</td>\n",
       "      <td>e7759cb2-983c-4642-b8bd-defc17cc720b</td>\n",
       "      <td>1970-01-01 00:00:19.951</td>\n",
       "      <td>WayPoint95</td>\n",
       "      <td>/robot_3/rapport_navigation</td>\n",
       "      <td>{'inserted_at': 2021-02-24 16:25:28.170000}</td>\n",
       "      <td>False</td>\n",
       "      <td>WayPoint89_WayPoint90</td>\n",
       "      <td>move_base</td>\n",
       "      <td>1970-01-01 00:00:10.029</td>\n",
       "      <td>9.922</td>\n",
       "      <td>walmart</td>\n",
       "      <td>WayPoint90</td>\n",
       "    </tr>\n",
       "  </tbody>\n",
       "</table>\n",
       "</div>"
      ],
      "text/plain": [
       "                           _id      origin      target  succeeded  \\\n",
       "5     60355f7a0c5936f239914149  WayPoint89  WayPoint90       True   \n",
       "232   603571711a8190816a312741  WayPoint89  WayPoint90       True   \n",
       "1479  60367df85371305c634324a8  WayPoint89  WayPoint90       True   \n",
       "\n",
       "                                    run_id           date_finished  \\\n",
       "5     b09bd134-ea6f-44bc-80fe-53d3dd41f62e 1970-01-01 00:00:23.108   \n",
       "232   11fe6db9-2cd3-4cf3-960e-b5972bc34361 1970-01-01 00:00:31.800   \n",
       "1479  e7759cb2-983c-4642-b8bd-defc17cc720b 1970-01-01 00:00:19.951   \n",
       "\n",
       "     policy_goal                        agent  \\\n",
       "5     WayPoint95  /robot_3/rapport_navigation   \n",
       "232   WayPoint95  /robot_3/rapport_navigation   \n",
       "1479  WayPoint95  /robot_3/rapport_navigation   \n",
       "\n",
       "                                            _meta  is_final  \\\n",
       "5     {'inserted_at': 2021-02-23 20:03:06.981000}     False   \n",
       "232   {'inserted_at': 2021-02-23 21:19:45.794000}     False   \n",
       "1479  {'inserted_at': 2021-02-24 16:25:28.170000}     False   \n",
       "\n",
       "                    edge_id     action            date_started  \\\n",
       "5     WayPoint89_WayPoint90  move_base 1970-01-01 00:00:12.801   \n",
       "232   WayPoint89_WayPoint90  move_base 1970-01-01 00:00:21.799   \n",
       "1479  WayPoint89_WayPoint90  move_base 1970-01-01 00:00:10.029   \n",
       "\n",
       "      operation_time topological_map  final_node  \n",
       "5             10.307         walmart  WayPoint90  \n",
       "232           10.001         walmart  WayPoint90  \n",
       "1479           9.922         walmart  WayPoint90  "
      ]
     },
     "execution_count": 55,
     "metadata": {},
     "output_type": "execute_result"
    }
   ],
   "source": [
    "#Is equal to a specific value\n",
    "twoway_89_90 = df[df[\"origin\"].isin([\"WayPoint89\",\"WayPoint90\"]) & df[\"target\"].isin([\"WayPoint89\",\"WayPoint90\"])]\n",
    "print(twoway_89_90.shape)\n",
    "twoway_89_90.head(3)"
   ]
  },
  {
   "cell_type": "code",
   "execution_count": 57,
   "metadata": {},
   "outputs": [
    {
     "name": "stdout",
     "output_type": "stream",
     "text": [
      "(189, 16)\n"
     ]
    },
    {
     "data": {
      "text/html": [
       "<div>\n",
       "<style scoped>\n",
       "    .dataframe tbody tr th:only-of-type {\n",
       "        vertical-align: middle;\n",
       "    }\n",
       "\n",
       "    .dataframe tbody tr th {\n",
       "        vertical-align: top;\n",
       "    }\n",
       "\n",
       "    .dataframe thead th {\n",
       "        text-align: right;\n",
       "    }\n",
       "</style>\n",
       "<table border=\"1\" class=\"dataframe\">\n",
       "  <thead>\n",
       "    <tr style=\"text-align: right;\">\n",
       "      <th></th>\n",
       "      <th>_id</th>\n",
       "      <th>origin</th>\n",
       "      <th>target</th>\n",
       "      <th>succeeded</th>\n",
       "      <th>run_id</th>\n",
       "      <th>date_finished</th>\n",
       "      <th>policy_goal</th>\n",
       "      <th>agent</th>\n",
       "      <th>_meta</th>\n",
       "      <th>is_final</th>\n",
       "      <th>edge_id</th>\n",
       "      <th>action</th>\n",
       "      <th>date_started</th>\n",
       "      <th>operation_time</th>\n",
       "      <th>topological_map</th>\n",
       "      <th>final_node</th>\n",
       "    </tr>\n",
       "  </thead>\n",
       "  <tbody>\n",
       "    <tr>\n",
       "      <th>7</th>\n",
       "      <td>60355f7ce58b9f729ea1d689</td>\n",
       "      <td>WayPoint82</td>\n",
       "      <td>WayPoint75</td>\n",
       "      <td>True</td>\n",
       "      <td>b09bd134-ea6f-44bc-80fe-53d3dd41f62e</td>\n",
       "      <td>1970-01-01 00:00:23.534</td>\n",
       "      <td>WayPoint60</td>\n",
       "      <td>/robot_2/rapport_navigation</td>\n",
       "      <td>{'inserted_at': 2021-02-23 20:03:08.377000}</td>\n",
       "      <td>False</td>\n",
       "      <td>WayPoint82_WayPoint75</td>\n",
       "      <td>move_base</td>\n",
       "      <td>1970-01-01 00:00:12.712</td>\n",
       "      <td>10.822</td>\n",
       "      <td>walmart</td>\n",
       "      <td>WayPoint75</td>\n",
       "    </tr>\n",
       "    <tr>\n",
       "      <th>19</th>\n",
       "      <td>60355fd52dbb79e986b0b477</td>\n",
       "      <td>WayPoint82</td>\n",
       "      <td>WayPoint75</td>\n",
       "      <td>True</td>\n",
       "      <td>b09bd134-ea6f-44bc-80fe-53d3dd41f62e</td>\n",
       "      <td>1970-01-01 00:00:51.833</td>\n",
       "      <td>WayPoint25</td>\n",
       "      <td>/robot_4/rapport_navigation</td>\n",
       "      <td>{'inserted_at': 2021-02-23 20:04:37.143000}</td>\n",
       "      <td>False</td>\n",
       "      <td>WayPoint82_WayPoint75</td>\n",
       "      <td>move_base</td>\n",
       "      <td>1970-01-01 00:00:41.109</td>\n",
       "      <td>10.724</td>\n",
       "      <td>walmart</td>\n",
       "      <td>WayPoint75</td>\n",
       "    </tr>\n",
       "    <tr>\n",
       "      <th>233</th>\n",
       "      <td>6035717417dd9d86f45467f1</td>\n",
       "      <td>WayPoint82</td>\n",
       "      <td>WayPoint75</td>\n",
       "      <td>True</td>\n",
       "      <td>11fe6db9-2cd3-4cf3-960e-b5972bc34361</td>\n",
       "      <td>1970-01-01 00:00:32.650</td>\n",
       "      <td>WayPoint60</td>\n",
       "      <td>/robot_2/rapport_navigation</td>\n",
       "      <td>{'inserted_at': 2021-02-23 21:19:48.772000}</td>\n",
       "      <td>False</td>\n",
       "      <td>WayPoint82_WayPoint75</td>\n",
       "      <td>move_base</td>\n",
       "      <td>1970-01-01 00:00:21.468</td>\n",
       "      <td>11.182</td>\n",
       "      <td>walmart</td>\n",
       "      <td>WayPoint75</td>\n",
       "    </tr>\n",
       "  </tbody>\n",
       "</table>\n",
       "</div>"
      ],
      "text/plain": [
       "                          _id      origin      target  succeeded  \\\n",
       "7    60355f7ce58b9f729ea1d689  WayPoint82  WayPoint75       True   \n",
       "19   60355fd52dbb79e986b0b477  WayPoint82  WayPoint75       True   \n",
       "233  6035717417dd9d86f45467f1  WayPoint82  WayPoint75       True   \n",
       "\n",
       "                                   run_id           date_finished policy_goal  \\\n",
       "7    b09bd134-ea6f-44bc-80fe-53d3dd41f62e 1970-01-01 00:00:23.534  WayPoint60   \n",
       "19   b09bd134-ea6f-44bc-80fe-53d3dd41f62e 1970-01-01 00:00:51.833  WayPoint25   \n",
       "233  11fe6db9-2cd3-4cf3-960e-b5972bc34361 1970-01-01 00:00:32.650  WayPoint60   \n",
       "\n",
       "                           agent                                        _meta  \\\n",
       "7    /robot_2/rapport_navigation  {'inserted_at': 2021-02-23 20:03:08.377000}   \n",
       "19   /robot_4/rapport_navigation  {'inserted_at': 2021-02-23 20:04:37.143000}   \n",
       "233  /robot_2/rapport_navigation  {'inserted_at': 2021-02-23 21:19:48.772000}   \n",
       "\n",
       "     is_final                edge_id     action            date_started  \\\n",
       "7       False  WayPoint82_WayPoint75  move_base 1970-01-01 00:00:12.712   \n",
       "19      False  WayPoint82_WayPoint75  move_base 1970-01-01 00:00:41.109   \n",
       "233     False  WayPoint82_WayPoint75  move_base 1970-01-01 00:00:21.468   \n",
       "\n",
       "     operation_time topological_map  final_node  \n",
       "7            10.822         walmart  WayPoint75  \n",
       "19           10.724         walmart  WayPoint75  \n",
       "233          11.182         walmart  WayPoint75  "
      ]
     },
     "execution_count": 57,
     "metadata": {},
     "output_type": "execute_result"
    }
   ],
   "source": [
    "#Combining conditions\n",
    "#each condition must be surrounded by parentheses ()\n",
    "#OR operator | \n",
    "#AND operator &\n",
    "oneway_60_61 = df[ (df[\"origin\"] == \"WayPoint82\") & (df[\"target\"] == \"WayPoint75\") ]\n",
    "print(oneway_60_61.shape)\n",
    "oneway_60_61.head(3)"
   ]
  },
  {
   "cell_type": "code",
   "execution_count": 59,
   "metadata": {},
   "outputs": [
    {
     "name": "stdout",
     "output_type": "stream",
     "text": [
      "(12360, 16)\n"
     ]
    },
    {
     "data": {
      "text/html": [
       "<div>\n",
       "<style scoped>\n",
       "    .dataframe tbody tr th:only-of-type {\n",
       "        vertical-align: middle;\n",
       "    }\n",
       "\n",
       "    .dataframe tbody tr th {\n",
       "        vertical-align: top;\n",
       "    }\n",
       "\n",
       "    .dataframe thead th {\n",
       "        text-align: right;\n",
       "    }\n",
       "</style>\n",
       "<table border=\"1\" class=\"dataframe\">\n",
       "  <thead>\n",
       "    <tr style=\"text-align: right;\">\n",
       "      <th></th>\n",
       "      <th>_id</th>\n",
       "      <th>origin</th>\n",
       "      <th>target</th>\n",
       "      <th>succeeded</th>\n",
       "      <th>run_id</th>\n",
       "      <th>date_finished</th>\n",
       "      <th>policy_goal</th>\n",
       "      <th>agent</th>\n",
       "      <th>_meta</th>\n",
       "      <th>is_final</th>\n",
       "      <th>edge_id</th>\n",
       "      <th>action</th>\n",
       "      <th>date_started</th>\n",
       "      <th>operation_time</th>\n",
       "      <th>topological_map</th>\n",
       "      <th>final_node</th>\n",
       "    </tr>\n",
       "  </thead>\n",
       "  <tbody>\n",
       "    <tr>\n",
       "      <th>0</th>\n",
       "      <td>60355f5ae58b9f729ea1d688</td>\n",
       "      <td>WayPoint112</td>\n",
       "      <td>WayPoint82</td>\n",
       "      <td>True</td>\n",
       "      <td>b09bd134-ea6f-44bc-80fe-53d3dd41f62e</td>\n",
       "      <td>1970-01-01 00:00:12.801</td>\n",
       "      <td>WayPoint60</td>\n",
       "      <td>/robot_2/rapport_navigation</td>\n",
       "      <td>{'inserted_at': 2021-02-23 20:02:34.101000}</td>\n",
       "      <td>False</td>\n",
       "      <td>WayPoint112_WayPoint82</td>\n",
       "      <td>move_base</td>\n",
       "      <td>1970-01-01 00:00:07.609</td>\n",
       "      <td>5.192</td>\n",
       "      <td>walmart</td>\n",
       "      <td>WayPoint82</td>\n",
       "    </tr>\n",
       "    <tr>\n",
       "      <th>1</th>\n",
       "      <td>60355f5a0c5936f239914148</td>\n",
       "      <td>WayPoint113</td>\n",
       "      <td>WayPoint89</td>\n",
       "      <td>True</td>\n",
       "      <td>b09bd134-ea6f-44bc-80fe-53d3dd41f62e</td>\n",
       "      <td>1970-01-01 00:00:12.921</td>\n",
       "      <td>WayPoint95</td>\n",
       "      <td>/robot_3/rapport_navigation</td>\n",
       "      <td>{'inserted_at': 2021-02-23 20:02:34.448000}</td>\n",
       "      <td>False</td>\n",
       "      <td>WayPoint113_WayPoint89</td>\n",
       "      <td>move_base</td>\n",
       "      <td>1970-01-01 00:00:07.801</td>\n",
       "      <td>5.120</td>\n",
       "      <td>walmart</td>\n",
       "      <td>WayPoint89</td>\n",
       "    </tr>\n",
       "    <tr>\n",
       "      <th>2</th>\n",
       "      <td>60355f5b2dbb79e986b0b474</td>\n",
       "      <td>WayPoint114</td>\n",
       "      <td>WayPoint96</td>\n",
       "      <td>True</td>\n",
       "      <td>b09bd134-ea6f-44bc-80fe-53d3dd41f62e</td>\n",
       "      <td>1970-01-01 00:00:13.193</td>\n",
       "      <td>WayPoint25</td>\n",
       "      <td>/robot_4/rapport_navigation</td>\n",
       "      <td>{'inserted_at': 2021-02-23 20:02:35.218000}</td>\n",
       "      <td>False</td>\n",
       "      <td>WayPoint114_WayPoint96</td>\n",
       "      <td>move_base</td>\n",
       "      <td>1970-01-01 00:00:08.010</td>\n",
       "      <td>5.183</td>\n",
       "      <td>walmart</td>\n",
       "      <td>WayPoint96</td>\n",
       "    </tr>\n",
       "  </tbody>\n",
       "</table>\n",
       "</div>"
      ],
      "text/plain": [
       "                        _id       origin      target  succeeded  \\\n",
       "0  60355f5ae58b9f729ea1d688  WayPoint112  WayPoint82       True   \n",
       "1  60355f5a0c5936f239914148  WayPoint113  WayPoint89       True   \n",
       "2  60355f5b2dbb79e986b0b474  WayPoint114  WayPoint96       True   \n",
       "\n",
       "                                 run_id           date_finished policy_goal  \\\n",
       "0  b09bd134-ea6f-44bc-80fe-53d3dd41f62e 1970-01-01 00:00:12.801  WayPoint60   \n",
       "1  b09bd134-ea6f-44bc-80fe-53d3dd41f62e 1970-01-01 00:00:12.921  WayPoint95   \n",
       "2  b09bd134-ea6f-44bc-80fe-53d3dd41f62e 1970-01-01 00:00:13.193  WayPoint25   \n",
       "\n",
       "                         agent                                        _meta  \\\n",
       "0  /robot_2/rapport_navigation  {'inserted_at': 2021-02-23 20:02:34.101000}   \n",
       "1  /robot_3/rapport_navigation  {'inserted_at': 2021-02-23 20:02:34.448000}   \n",
       "2  /robot_4/rapport_navigation  {'inserted_at': 2021-02-23 20:02:35.218000}   \n",
       "\n",
       "   is_final                 edge_id     action            date_started  \\\n",
       "0     False  WayPoint112_WayPoint82  move_base 1970-01-01 00:00:07.609   \n",
       "1     False  WayPoint113_WayPoint89  move_base 1970-01-01 00:00:07.801   \n",
       "2     False  WayPoint114_WayPoint96  move_base 1970-01-01 00:00:08.010   \n",
       "\n",
       "   operation_time topological_map  final_node  \n",
       "0           5.192         walmart  WayPoint82  \n",
       "1           5.120         walmart  WayPoint89  \n",
       "2           5.183         walmart  WayPoint96  "
      ]
     },
     "execution_count": 59,
     "metadata": {},
     "output_type": "execute_result"
    }
   ],
   "source": [
    "# not null\n",
    "origin_not_na = df[ df[\"origin\"].notna() ]\n",
    "print(origin_not_na.shape)\n",
    "origin_not_na.head(3)"
   ]
  },
  {
   "cell_type": "markdown",
   "metadata": {},
   "source": [
    "## 2b) By Row & Column - loc/iloc\n",
    " - loc is label-based so specify by row/col labels <br>\n",
    " - iloc is integer-based so specify indices <br>\n",
    " - before comma is row, after comma is column\n",
    " - loc/iloc can be used for reassigning values"
   ]
  },
  {
   "cell_type": "code",
   "execution_count": 64,
   "metadata": {},
   "outputs": [
    {
     "name": "stdout",
     "output_type": "stream",
     "text": [
      "(46, 2)\n"
     ]
    },
    {
     "data": {
      "text/html": [
       "<div>\n",
       "<style scoped>\n",
       "    .dataframe tbody tr th:only-of-type {\n",
       "        vertical-align: middle;\n",
       "    }\n",
       "\n",
       "    .dataframe tbody tr th {\n",
       "        vertical-align: top;\n",
       "    }\n",
       "\n",
       "    .dataframe thead th {\n",
       "        text-align: right;\n",
       "    }\n",
       "</style>\n",
       "<table border=\"1\" class=\"dataframe\">\n",
       "  <thead>\n",
       "    <tr style=\"text-align: right;\">\n",
       "      <th></th>\n",
       "      <th>action</th>\n",
       "      <th>operation_time</th>\n",
       "    </tr>\n",
       "  </thead>\n",
       "  <tbody>\n",
       "    <tr>\n",
       "      <th>5</th>\n",
       "      <td>move_base</td>\n",
       "      <td>10.307</td>\n",
       "    </tr>\n",
       "    <tr>\n",
       "      <th>232</th>\n",
       "      <td>move_base</td>\n",
       "      <td>10.001</td>\n",
       "    </tr>\n",
       "    <tr>\n",
       "      <th>1479</th>\n",
       "      <td>move_base</td>\n",
       "      <td>9.922</td>\n",
       "    </tr>\n",
       "  </tbody>\n",
       "</table>\n",
       "</div>"
      ],
      "text/plain": [
       "         action  operation_time\n",
       "5     move_base          10.307\n",
       "232   move_base          10.001\n",
       "1479  move_base           9.922"
      ]
     },
     "execution_count": 64,
     "metadata": {},
     "output_type": "execute_result"
    }
   ],
   "source": [
    "#loc\n",
    "twoway_89_90 = df.loc[df[\"origin\"].isin([\"WayPoint89\",\"WayPoint90\"]) & df[\"target\"].isin([\"WayPoint89\",\"WayPoint90\"]), [\"action\", \"operation_time\"]]\n",
    "print(twoway_89_90.shape)\n",
    "twoway_89_90.head(3)"
   ]
  },
  {
   "cell_type": "code",
   "execution_count": 66,
   "metadata": {},
   "outputs": [
    {
     "name": "stdout",
     "output_type": "stream",
     "text": [
      "(2, 5)\n"
     ]
    },
    {
     "data": {
      "text/html": [
       "<div>\n",
       "<style scoped>\n",
       "    .dataframe tbody tr th:only-of-type {\n",
       "        vertical-align: middle;\n",
       "    }\n",
       "\n",
       "    .dataframe tbody tr th {\n",
       "        vertical-align: top;\n",
       "    }\n",
       "\n",
       "    .dataframe thead th {\n",
       "        text-align: right;\n",
       "    }\n",
       "</style>\n",
       "<table border=\"1\" class=\"dataframe\">\n",
       "  <thead>\n",
       "    <tr style=\"text-align: right;\">\n",
       "      <th></th>\n",
       "      <th>date_finished</th>\n",
       "      <th>policy_goal</th>\n",
       "      <th>agent</th>\n",
       "      <th>_meta</th>\n",
       "      <th>is_final</th>\n",
       "    </tr>\n",
       "  </thead>\n",
       "  <tbody>\n",
       "    <tr>\n",
       "      <th>1</th>\n",
       "      <td>1970-01-01 00:00:12.921</td>\n",
       "      <td>WayPoint95</td>\n",
       "      <td>/robot_3/rapport_navigation</td>\n",
       "      <td>{'inserted_at': 2021-02-23 20:02:34.448000}</td>\n",
       "      <td>False</td>\n",
       "    </tr>\n",
       "    <tr>\n",
       "      <th>2</th>\n",
       "      <td>1970-01-01 00:00:13.193</td>\n",
       "      <td>WayPoint25</td>\n",
       "      <td>/robot_4/rapport_navigation</td>\n",
       "      <td>{'inserted_at': 2021-02-23 20:02:35.218000}</td>\n",
       "      <td>False</td>\n",
       "    </tr>\n",
       "  </tbody>\n",
       "</table>\n",
       "</div>"
      ],
      "text/plain": [
       "            date_finished policy_goal                        agent  \\\n",
       "1 1970-01-01 00:00:12.921  WayPoint95  /robot_3/rapport_navigation   \n",
       "2 1970-01-01 00:00:13.193  WayPoint25  /robot_4/rapport_navigation   \n",
       "\n",
       "                                         _meta  is_final  \n",
       "1  {'inserted_at': 2021-02-23 20:02:34.448000}     False  \n",
       "2  {'inserted_at': 2021-02-23 20:02:35.218000}     False  "
      ]
     },
     "execution_count": 66,
     "metadata": {},
     "output_type": "execute_result"
    }
   ],
   "source": [
    "#iloc\n",
    "subset = df.iloc[1:3, 5:10]\n",
    "print(subset.shape)\n",
    "subset.head(3)"
   ]
  },
  {
   "cell_type": "code",
   "execution_count": 69,
   "metadata": {},
   "outputs": [
    {
     "name": "stdout",
     "output_type": "stream",
     "text": [
      "(2, 5)\n"
     ]
    },
    {
     "data": {
      "text/html": [
       "<div>\n",
       "<style scoped>\n",
       "    .dataframe tbody tr th:only-of-type {\n",
       "        vertical-align: middle;\n",
       "    }\n",
       "\n",
       "    .dataframe tbody tr th {\n",
       "        vertical-align: top;\n",
       "    }\n",
       "\n",
       "    .dataframe thead th {\n",
       "        text-align: right;\n",
       "    }\n",
       "</style>\n",
       "<table border=\"1\" class=\"dataframe\">\n",
       "  <thead>\n",
       "    <tr style=\"text-align: right;\">\n",
       "      <th></th>\n",
       "      <th>date_finished</th>\n",
       "      <th>policy_goal</th>\n",
       "      <th>agent</th>\n",
       "      <th>_meta</th>\n",
       "      <th>is_final</th>\n",
       "    </tr>\n",
       "  </thead>\n",
       "  <tbody>\n",
       "    <tr>\n",
       "      <th>1</th>\n",
       "      <td>hi</td>\n",
       "      <td>hi</td>\n",
       "      <td>hi</td>\n",
       "      <td>hi</td>\n",
       "      <td>hi</td>\n",
       "    </tr>\n",
       "    <tr>\n",
       "      <th>2</th>\n",
       "      <td>hi</td>\n",
       "      <td>hi</td>\n",
       "      <td>hi</td>\n",
       "      <td>hi</td>\n",
       "      <td>hi</td>\n",
       "    </tr>\n",
       "  </tbody>\n",
       "</table>\n",
       "</div>"
      ],
      "text/plain": [
       "  date_finished policy_goal agent _meta is_final\n",
       "1            hi          hi    hi    hi       hi\n",
       "2            hi          hi    hi    hi       hi"
      ]
     },
     "execution_count": 69,
     "metadata": {},
     "output_type": "execute_result"
    }
   ],
   "source": [
    "#replace values\n",
    "df.iloc[1:3, 5:10] = \"hi\"\n",
    "print(subset.shape)\n",
    "subset.head(3) # unchanged\n",
    "df.iloc[1:3, 5:10].head(3) # changed"
   ]
  },
  {
   "cell_type": "markdown",
   "metadata": {},
   "source": [
    "# 3) Create plots"
   ]
  },
  {
   "cell_type": "code",
   "execution_count": 91,
   "metadata": {},
   "outputs": [
    {
     "data": {
      "text/plain": [
       "['area',\n",
       " 'bar',\n",
       " 'barh',\n",
       " 'box',\n",
       " 'density',\n",
       " 'hexbin',\n",
       " 'hist',\n",
       " 'kde',\n",
       " 'line',\n",
       " 'pie',\n",
       " 'scatter']"
      ]
     },
     "execution_count": 91,
     "metadata": {},
     "output_type": "execute_result"
    }
   ],
   "source": [
    "#available plots\n",
    "[method_name \n",
    " for method_name in dir(df.plot) \n",
    " if not method_name.startswith(\"_\")]"
   ]
  },
  {
   "cell_type": "markdown",
   "metadata": {},
   "source": [
    "## 3a) Default - line plot for numeric data"
   ]
  },
  {
   "cell_type": "code",
   "execution_count": 79,
   "metadata": {},
   "outputs": [
    {
     "data": {
      "text/plain": [
       "<matplotlib.axes._subplots.AxesSubplot at 0x288b9d4adf0>"
      ]
     },
     "execution_count": 79,
     "metadata": {},
     "output_type": "execute_result"
    },
    {
     "data": {
      "image/png": "[encoded data removed]",
      "text/plain": [
       "<Figure size 432x288 with 1 Axes>"
      ]
     },
     "metadata": {
      "needs_background": "light"
     },
     "output_type": "display_data"
    }
   ],
   "source": [
    "df.loc[1:1000,\"operation_time\"].plot()"
   ]
  },
  {
   "cell_type": "code",
   "execution_count": 81,
   "metadata": {},
   "outputs": [
    {
     "data": {
      "text/plain": [
       "<matplotlib.axes._subplots.AxesSubplot at 0x288b9eca760>"
      ]
     },
     "execution_count": 81,
     "metadata": {},
     "output_type": "execute_result"
    },
    {
     "data": {
      "image/png": "[encoded data removed]",
      "text/plain": [
       "<Figure size 432x288 with 1 Axes>"
      ]
     },
     "metadata": {
      "needs_background": "light"
     },
     "output_type": "display_data"
    }
   ],
   "source": [
    "df.loc[1:1000,\"date_started\"].plot()"
   ]
  },
  {
   "cell_type": "markdown",
   "metadata": {},
   "source": [
    "## 3b) Scatter"
   ]
  },
  {
   "cell_type": "code",
   "execution_count": 89,
   "metadata": {},
   "outputs": [
    {
     "data": {
      "text/plain": [
       "<matplotlib.axes._subplots.AxesSubplot at 0x288bc345bb0>"
      ]
     },
     "execution_count": 89,
     "metadata": {},
     "output_type": "execute_result"
    },
    {
     "data": {
      "image/png": "[encoded data removed]",
      "text/plain": [
       "<Figure size 432x288 with 1 Axes>"
      ]
     },
     "metadata": {
      "needs_background": "light"
     },
     "output_type": "display_data"
    }
   ],
   "source": [
    "df[0:25].plot.scatter(x=\"operation_time\", y = \"origin\", alpha = 0.5)"
   ]
  },
  {
   "cell_type": "markdown",
   "metadata": {},
   "source": [
    "## 3c) Boxplot"
   ]
  },
  {
   "cell_type": "code",
   "execution_count": 112,
   "metadata": {},
   "outputs": [
    {
     "name": "stdout",
     "output_type": "stream",
     "text": [
      "(472, 16)\n"
     ]
    },
    {
     "data": {
      "text/plain": [
       "<matplotlib.axes._subplots.AxesSubplot at 0x288bdd80a00>"
      ]
     },
     "execution_count": 112,
     "metadata": {},
     "output_type": "execute_result"
    },
    {
     "data": {
      "image/png": "[encoded data removed]",
      "text/plain": [
       "<Figure size 432x288 with 1 Axes>"
      ]
     },
     "metadata": {
      "needs_background": "light"
     },
     "output_type": "display_data"
    }
   ],
   "source": [
    "#outliers plotted as individual points\n",
    "origin_60 = df[df[\"origin\"] == \"WayPoint60\"]\n",
    "print(origin_60.shape)\n",
    "origin_60.boxplot(column = \"operation_time\", by = \"target\")"
   ]
  },
  {
   "cell_type": "markdown",
   "metadata": {},
   "source": [
    "## 3d) Customise plots"
   ]
  },
  {
   "cell_type": "code",
   "execution_count": 115,
   "metadata": {},
   "outputs": [
    {
     "data": {
      "text/html": [
       "<div>\n",
       "<style scoped>\n",
       "    .dataframe tbody tr th:only-of-type {\n",
       "        vertical-align: middle;\n",
       "    }\n",
       "\n",
       "    .dataframe tbody tr th {\n",
       "        vertical-align: top;\n",
       "    }\n",
       "\n",
       "    .dataframe thead th {\n",
       "        text-align: right;\n",
       "    }\n",
       "</style>\n",
       "<table border=\"1\" class=\"dataframe\">\n",
       "  <thead>\n",
       "    <tr style=\"text-align: right;\">\n",
       "      <th></th>\n",
       "      <th>_id</th>\n",
       "      <th>origin</th>\n",
       "      <th>target</th>\n",
       "      <th>succeeded</th>\n",
       "      <th>run_id</th>\n",
       "      <th>date_finished</th>\n",
       "      <th>policy_goal</th>\n",
       "      <th>agent</th>\n",
       "      <th>_meta</th>\n",
       "      <th>is_final</th>\n",
       "      <th>edge_id</th>\n",
       "      <th>action</th>\n",
       "      <th>date_started</th>\n",
       "      <th>operation_time</th>\n",
       "      <th>topological_map</th>\n",
       "      <th>final_node</th>\n",
       "    </tr>\n",
       "  </thead>\n",
       "  <tbody>\n",
       "    <tr>\n",
       "      <th>0</th>\n",
       "      <td>60355f5ae58b9f729ea1d688</td>\n",
       "      <td>WayPoint112</td>\n",
       "      <td>WayPoint82</td>\n",
       "      <td>True</td>\n",
       "      <td>b09bd134-ea6f-44bc-80fe-53d3dd41f62e</td>\n",
       "      <td>1970-01-01 00:00:12.801</td>\n",
       "      <td>WayPoint60</td>\n",
       "      <td>/robot_2/rapport_navigation</td>\n",
       "      <td>{'inserted_at': 2021-02-23 20:02:34.101000}</td>\n",
       "      <td>False</td>\n",
       "      <td>WayPoint112_WayPoint82</td>\n",
       "      <td>move_base</td>\n",
       "      <td>1970-01-01 00:00:07.609</td>\n",
       "      <td>5.192</td>\n",
       "      <td>walmart</td>\n",
       "      <td>WayPoint82</td>\n",
       "    </tr>\n",
       "    <tr>\n",
       "      <th>1</th>\n",
       "      <td>60355f5a0c5936f239914148</td>\n",
       "      <td>WayPoint113</td>\n",
       "      <td>WayPoint89</td>\n",
       "      <td>True</td>\n",
       "      <td>b09bd134-ea6f-44bc-80fe-53d3dd41f62e</td>\n",
       "      <td>1970-01-01 00:00:12.921</td>\n",
       "      <td>WayPoint95</td>\n",
       "      <td>/robot_3/rapport_navigation</td>\n",
       "      <td>{'inserted_at': 2021-02-23 20:02:34.448000}</td>\n",
       "      <td>False</td>\n",
       "      <td>WayPoint113_WayPoint89</td>\n",
       "      <td>move_base</td>\n",
       "      <td>1970-01-01 00:00:07.801</td>\n",
       "      <td>5.120</td>\n",
       "      <td>walmart</td>\n",
       "      <td>WayPoint89</td>\n",
       "    </tr>\n",
       "  </tbody>\n",
       "</table>\n",
       "</div>"
      ],
      "text/plain": [
       "                        _id       origin      target  succeeded  \\\n",
       "0  60355f5ae58b9f729ea1d688  WayPoint112  WayPoint82       True   \n",
       "1  60355f5a0c5936f239914148  WayPoint113  WayPoint89       True   \n",
       "\n",
       "                                 run_id           date_finished policy_goal  \\\n",
       "0  b09bd134-ea6f-44bc-80fe-53d3dd41f62e 1970-01-01 00:00:12.801  WayPoint60   \n",
       "1  b09bd134-ea6f-44bc-80fe-53d3dd41f62e 1970-01-01 00:00:12.921  WayPoint95   \n",
       "\n",
       "                         agent                                        _meta  \\\n",
       "0  /robot_2/rapport_navigation  {'inserted_at': 2021-02-23 20:02:34.101000}   \n",
       "1  /robot_3/rapport_navigation  {'inserted_at': 2021-02-23 20:02:34.448000}   \n",
       "\n",
       "   is_final                 edge_id     action            date_started  \\\n",
       "0     False  WayPoint112_WayPoint82  move_base 1970-01-01 00:00:07.609   \n",
       "1     False  WayPoint113_WayPoint89  move_base 1970-01-01 00:00:07.801   \n",
       "\n",
       "   operation_time topological_map  final_node  \n",
       "0           5.192         walmart  WayPoint82  \n",
       "1           5.120         walmart  WayPoint89  "
      ]
     },
     "execution_count": 115,
     "metadata": {},
     "output_type": "execute_result"
    }
   ],
   "source": [
    "df.head(2)"
   ]
  },
  {
   "cell_type": "code",
   "execution_count": 126,
   "metadata": {},
   "outputs": [
    {
     "data": {
      "text/html": [
       "<div>\n",
       "<style scoped>\n",
       "    .dataframe tbody tr th:only-of-type {\n",
       "        vertical-align: middle;\n",
       "    }\n",
       "\n",
       "    .dataframe tbody tr th {\n",
       "        vertical-align: top;\n",
       "    }\n",
       "\n",
       "    .dataframe thead th {\n",
       "        text-align: right;\n",
       "    }\n",
       "</style>\n",
       "<table border=\"1\" class=\"dataframe\">\n",
       "  <thead>\n",
       "    <tr style=\"text-align: right;\">\n",
       "      <th></th>\n",
       "      <th>edge_id</th>\n",
       "      <th>date_started</th>\n",
       "      <th>date_finished</th>\n",
       "    </tr>\n",
       "  </thead>\n",
       "  <tbody>\n",
       "    <tr>\n",
       "      <th>0</th>\n",
       "      <td>WayPoint112_WayPoint82</td>\n",
       "      <td>1970-01-01 00:00:07.609</td>\n",
       "      <td>1970-01-01 00:00:12.801</td>\n",
       "    </tr>\n",
       "    <tr>\n",
       "      <th>1</th>\n",
       "      <td>WayPoint113_WayPoint89</td>\n",
       "      <td>1970-01-01 00:00:07.801</td>\n",
       "      <td>1970-01-01 00:00:12.921</td>\n",
       "    </tr>\n",
       "  </tbody>\n",
       "</table>\n",
       "</div>"
      ],
      "text/plain": [
       "                  edge_id            date_started           date_finished\n",
       "0  WayPoint112_WayPoint82 1970-01-01 00:00:07.609 1970-01-01 00:00:12.801\n",
       "1  WayPoint113_WayPoint89 1970-01-01 00:00:07.801 1970-01-01 00:00:12.921"
      ]
     },
     "execution_count": 126,
     "metadata": {},
     "output_type": "execute_result"
    }
   ],
   "source": [
    "subset = df.loc[0:, [\"edge_id\",\"date_started\", \"date_finished\"]]\n",
    "subset.head(2)"
   ]
  },
  {
   "cell_type": "code",
   "execution_count": 134,
   "metadata": {},
   "outputs": [
    {
     "data": {
      "image/png": "[encoded data removed]",
      "text/plain": [
       "<Figure size 864x288 with 2 Axes>"
      ]
     },
     "metadata": {
      "needs_background": "light"
     },
     "output_type": "display_data"
    }
   ],
   "source": [
    "#subplots\n",
    "axs = subset.plot(figsize=(12,4), subplots = True)"
   ]
  },
  {
   "cell_type": "code",
   "execution_count": 138,
   "metadata": {},
   "outputs": [
    {
     "data": {
      "image/png": "[encoded data removed]",
      "text/plain": [
       "<Figure size 864x288 with 1 Axes>"
      ]
     },
     "metadata": {
      "needs_background": "light"
     },
     "output_type": "display_data"
    }
   ],
   "source": [
    "#further customisation\n",
    "fig, axs = plt.subplots(figsize=(12,4))   #create empty fig & axes\n",
    "subset.plot(ax = axs)\n",
    "axs.set_ylabel(\"DateTime\")\n",
    "axs.set_xlabel(\"Trial\")\n",
    "fig.savefig(\"test.png\")"
   ]
  },
  {
   "cell_type": "code",
   "execution_count": null,
   "metadata": {},
   "outputs": [],
   "source": []
  }
 ],
 "metadata": {
  "kernelspec": {
   "display_name": "Python 3",
   "language": "python",
   "name": "python3"
  },
  "language_info": {
   "codemirror_mode": {
    "name": "ipython",
    "version": 3
   },
   "file_extension": ".py",
   "mimetype": "text/x-python",
   "name": "python",
   "nbconvert_exporter": "python",
   "pygments_lexer": "ipython3",
   "version": "3.8.3"
  }
 },
 "nbformat": 4,
 "nbformat_minor": 4
}
