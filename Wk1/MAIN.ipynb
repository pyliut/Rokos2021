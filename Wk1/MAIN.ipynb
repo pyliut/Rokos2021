{
 "cells": [
  {
   "cell_type": "markdown",
   "metadata": {},
   "source": [
    "# 1) Setup"
   ]
  },
  {
   "cell_type": "code",
   "execution_count": 7,
   "metadata": {},
   "outputs": [
    {
     "name": "stdout",
     "output_type": "stream",
     "text": [
      "Python 3.8.3\n"
     ]
    }
   ],
   "source": [
    "!python -V"
   ]
  },
  {
   "cell_type": "code",
   "execution_count": 8,
   "metadata": {},
   "outputs": [
    {
     "name": "stdout",
     "output_type": "stream",
     "text": [
      "Requirement already satisfied: pymongo in c:\\users\\pyliu\\anaconda3\\lib\\site-packages (3.11.4)\n",
      "Note: you may need to restart the kernel to use updated packages.\n"
     ]
    }
   ],
   "source": [
    "pip install pymongo"
   ]
  },
  {
   "cell_type": "code",
   "execution_count": 9,
   "metadata": {},
   "outputs": [
    {
     "name": "stdout",
     "output_type": "stream",
     "text": [
      "Requirement already satisfied: pymongo[srv] in c:\\users\\pyliu\\anaconda3\\lib\\site-packages (3.11.4)\n",
      "Requirement already satisfied: dnspython<2.0.0,>=1.16.0; extra == \"srv\" in c:\\users\\pyliu\\anaconda3\\lib\\site-packages (from pymongo[srv]) (1.16.0)\n",
      "Note: you may need to restart the kernel to use updated packages.\n"
     ]
    }
   ],
   "source": [
    "pip install pymongo[srv]"
   ]
  },
  {
   "cell_type": "markdown",
   "metadata": {},
   "source": [
    "## 1a) Modules"
   ]
  },
  {
   "cell_type": "code",
   "execution_count": 82,
   "metadata": {},
   "outputs": [
    {
     "name": "stdout",
     "output_type": "stream",
     "text": [
      "done\n"
     ]
    }
   ],
   "source": [
    "import pandas as pd\n",
    "import matplotlib.pyplot as plt\n",
    "import scipy as sp\n",
    "import numpy as np\n",
    "\n",
    "import pymongo\n",
    "from pymongo import MongoClient\n",
    "from datetime import datetime\n",
    "print(\"done\")"
   ]
  },
  {
   "cell_type": "markdown",
   "metadata": {},
   "source": [
    "## 1b) Retrieve Data from MongoDB"
   ]
  },
  {
   "cell_type": "code",
   "execution_count": 69,
   "metadata": {},
   "outputs": [
    {
     "name": "stdout",
     "output_type": "stream",
     "text": [
      "done\n"
     ]
    }
   ],
   "source": [
    "#define my database and collection\n",
    "cluster = MongoClient(\"mongodb://127.0.0.1:27017/?readPreference=primary&appname=MongoDB%20Compass&ssl=false\")\n",
    "db = cluster[\"Rokos2021\"]\n",
    "collection = db[\"walmart_targeted\"]\n",
    "print(\"done\")"
   ]
  },
  {
   "cell_type": "code",
   "execution_count": 70,
   "metadata": {},
   "outputs": [
    {
     "name": "stdout",
     "output_type": "stream",
     "text": [
      "done\n"
     ]
    }
   ],
   "source": [
    "#filter & store as pandas dataframe\n",
    "results = collection.find({\"_meta.inserted_at\": {\"$gte\": datetime(2021,2,20,9,0,0),\n",
    "                                \"$lte\":datetime(2021,2,28,9,0,0)}, \n",
    "                                \"origin\": {\"$ne\": None}, \n",
    "                                \"edge_id\": {\"$ne\": None}, \n",
    "                                \"target\":{\"$ne\":None},\n",
    "                                \"succeeded\":True})\n",
    "\n",
    "#convert to dataframe format\n",
    "df = pd.DataFrame(list(results))\n",
    "print(\"done\")\n"
   ]
  },
  {
   "cell_type": "code",
   "execution_count": 71,
   "metadata": {},
   "outputs": [
    {
     "data": {
      "text/html": [
       "<div>\n",
       "<style scoped>\n",
       "    .dataframe tbody tr th:only-of-type {\n",
       "        vertical-align: middle;\n",
       "    }\n",
       "\n",
       "    .dataframe tbody tr th {\n",
       "        vertical-align: top;\n",
       "    }\n",
       "\n",
       "    .dataframe thead th {\n",
       "        text-align: right;\n",
       "    }\n",
       "</style>\n",
       "<table border=\"1\" class=\"dataframe\">\n",
       "  <thead>\n",
       "    <tr style=\"text-align: right;\">\n",
       "      <th></th>\n",
       "      <th>_id</th>\n",
       "      <th>origin</th>\n",
       "      <th>target</th>\n",
       "      <th>succeeded</th>\n",
       "      <th>run_id</th>\n",
       "      <th>date_finished</th>\n",
       "      <th>policy_goal</th>\n",
       "      <th>agent</th>\n",
       "      <th>_meta</th>\n",
       "      <th>is_final</th>\n",
       "      <th>edge_id</th>\n",
       "      <th>action</th>\n",
       "      <th>date_started</th>\n",
       "      <th>operation_time</th>\n",
       "      <th>topological_map</th>\n",
       "      <th>final_node</th>\n",
       "    </tr>\n",
       "  </thead>\n",
       "  <tbody>\n",
       "    <tr>\n",
       "      <th>0</th>\n",
       "      <td>60355f5ae58b9f729ea1d688</td>\n",
       "      <td>WayPoint112</td>\n",
       "      <td>WayPoint82</td>\n",
       "      <td>True</td>\n",
       "      <td>b09bd134-ea6f-44bc-80fe-53d3dd41f62e</td>\n",
       "      <td>1970-01-01 00:00:12.801</td>\n",
       "      <td>WayPoint60</td>\n",
       "      <td>/robot_2/rapport_navigation</td>\n",
       "      <td>{'inserted_at': 2021-02-23 20:02:34.101000}</td>\n",
       "      <td>False</td>\n",
       "      <td>WayPoint112_WayPoint82</td>\n",
       "      <td>move_base</td>\n",
       "      <td>1970-01-01 00:00:07.609</td>\n",
       "      <td>5.192</td>\n",
       "      <td>walmart</td>\n",
       "      <td>WayPoint82</td>\n",
       "    </tr>\n",
       "    <tr>\n",
       "      <th>1</th>\n",
       "      <td>60355f5a0c5936f239914148</td>\n",
       "      <td>WayPoint113</td>\n",
       "      <td>WayPoint89</td>\n",
       "      <td>True</td>\n",
       "      <td>b09bd134-ea6f-44bc-80fe-53d3dd41f62e</td>\n",
       "      <td>1970-01-01 00:00:12.921</td>\n",
       "      <td>WayPoint95</td>\n",
       "      <td>/robot_3/rapport_navigation</td>\n",
       "      <td>{'inserted_at': 2021-02-23 20:02:34.448000}</td>\n",
       "      <td>False</td>\n",
       "      <td>WayPoint113_WayPoint89</td>\n",
       "      <td>move_base</td>\n",
       "      <td>1970-01-01 00:00:07.801</td>\n",
       "      <td>5.120</td>\n",
       "      <td>walmart</td>\n",
       "      <td>WayPoint89</td>\n",
       "    </tr>\n",
       "  </tbody>\n",
       "</table>\n",
       "</div>"
      ],
      "text/plain": [
       "                        _id       origin      target  succeeded  \\\n",
       "0  60355f5ae58b9f729ea1d688  WayPoint112  WayPoint82       True   \n",
       "1  60355f5a0c5936f239914148  WayPoint113  WayPoint89       True   \n",
       "\n",
       "                                 run_id           date_finished policy_goal  \\\n",
       "0  b09bd134-ea6f-44bc-80fe-53d3dd41f62e 1970-01-01 00:00:12.801  WayPoint60   \n",
       "1  b09bd134-ea6f-44bc-80fe-53d3dd41f62e 1970-01-01 00:00:12.921  WayPoint95   \n",
       "\n",
       "                         agent                                        _meta  \\\n",
       "0  /robot_2/rapport_navigation  {'inserted_at': 2021-02-23 20:02:34.101000}   \n",
       "1  /robot_3/rapport_navigation  {'inserted_at': 2021-02-23 20:02:34.448000}   \n",
       "\n",
       "   is_final                 edge_id     action            date_started  \\\n",
       "0     False  WayPoint112_WayPoint82  move_base 1970-01-01 00:00:07.609   \n",
       "1     False  WayPoint113_WayPoint89  move_base 1970-01-01 00:00:07.801   \n",
       "\n",
       "   operation_time topological_map  final_node  \n",
       "0           5.192         walmart  WayPoint82  \n",
       "1           5.120         walmart  WayPoint89  "
      ]
     },
     "execution_count": 71,
     "metadata": {},
     "output_type": "execute_result"
    }
   ],
   "source": [
    "#show dataframe\n",
    "df.head(2)"
   ]
  },
  {
   "cell_type": "markdown",
   "metadata": {},
   "source": [
    "# 1c) Select data"
   ]
  },
  {
   "cell_type": "code",
   "execution_count": 72,
   "metadata": {},
   "outputs": [
    {
     "data": {
      "text/html": [
       "<div>\n",
       "<style scoped>\n",
       "    .dataframe tbody tr th:only-of-type {\n",
       "        vertical-align: middle;\n",
       "    }\n",
       "\n",
       "    .dataframe tbody tr th {\n",
       "        vertical-align: top;\n",
       "    }\n",
       "\n",
       "    .dataframe thead th {\n",
       "        text-align: right;\n",
       "    }\n",
       "</style>\n",
       "<table border=\"1\" class=\"dataframe\">\n",
       "  <thead>\n",
       "    <tr style=\"text-align: right;\">\n",
       "      <th></th>\n",
       "      <th>_id</th>\n",
       "      <th>origin</th>\n",
       "      <th>target</th>\n",
       "      <th>succeeded</th>\n",
       "      <th>run_id</th>\n",
       "      <th>date_finished</th>\n",
       "      <th>policy_goal</th>\n",
       "      <th>agent</th>\n",
       "      <th>_meta</th>\n",
       "      <th>is_final</th>\n",
       "      <th>edge_id</th>\n",
       "      <th>action</th>\n",
       "      <th>date_started</th>\n",
       "      <th>operation_time</th>\n",
       "      <th>topological_map</th>\n",
       "      <th>final_node</th>\n",
       "    </tr>\n",
       "  </thead>\n",
       "  <tbody>\n",
       "    <tr>\n",
       "      <th>0</th>\n",
       "      <td>60355f5ae58b9f729ea1d688</td>\n",
       "      <td>WayPoint112</td>\n",
       "      <td>WayPoint82</td>\n",
       "      <td>True</td>\n",
       "      <td>b09bd134-ea6f-44bc-80fe-53d3dd41f62e</td>\n",
       "      <td>1970-01-01 00:00:12.801</td>\n",
       "      <td>WayPoint60</td>\n",
       "      <td>/robot_2/rapport_navigation</td>\n",
       "      <td>{'inserted_at': 2021-02-23 20:02:34.101000}</td>\n",
       "      <td>False</td>\n",
       "      <td>WayPoint112_WayPoint82</td>\n",
       "      <td>move_base</td>\n",
       "      <td>1970-01-01 00:00:07.609</td>\n",
       "      <td>5.192</td>\n",
       "      <td>walmart</td>\n",
       "      <td>WayPoint82</td>\n",
       "    </tr>\n",
       "    <tr>\n",
       "      <th>1</th>\n",
       "      <td>60355f5a0c5936f239914148</td>\n",
       "      <td>WayPoint113</td>\n",
       "      <td>WayPoint89</td>\n",
       "      <td>True</td>\n",
       "      <td>b09bd134-ea6f-44bc-80fe-53d3dd41f62e</td>\n",
       "      <td>1970-01-01 00:00:12.921</td>\n",
       "      <td>WayPoint95</td>\n",
       "      <td>/robot_3/rapport_navigation</td>\n",
       "      <td>{'inserted_at': 2021-02-23 20:02:34.448000}</td>\n",
       "      <td>False</td>\n",
       "      <td>WayPoint113_WayPoint89</td>\n",
       "      <td>move_base</td>\n",
       "      <td>1970-01-01 00:00:07.801</td>\n",
       "      <td>5.120</td>\n",
       "      <td>walmart</td>\n",
       "      <td>WayPoint89</td>\n",
       "    </tr>\n",
       "  </tbody>\n",
       "</table>\n",
       "</div>"
      ],
      "text/plain": [
       "                        _id       origin      target  succeeded  \\\n",
       "0  60355f5ae58b9f729ea1d688  WayPoint112  WayPoint82       True   \n",
       "1  60355f5a0c5936f239914148  WayPoint113  WayPoint89       True   \n",
       "\n",
       "                                 run_id           date_finished policy_goal  \\\n",
       "0  b09bd134-ea6f-44bc-80fe-53d3dd41f62e 1970-01-01 00:00:12.801  WayPoint60   \n",
       "1  b09bd134-ea6f-44bc-80fe-53d3dd41f62e 1970-01-01 00:00:12.921  WayPoint95   \n",
       "\n",
       "                         agent                                        _meta  \\\n",
       "0  /robot_2/rapport_navigation  {'inserted_at': 2021-02-23 20:02:34.101000}   \n",
       "1  /robot_3/rapport_navigation  {'inserted_at': 2021-02-23 20:02:34.448000}   \n",
       "\n",
       "   is_final                 edge_id     action            date_started  \\\n",
       "0     False  WayPoint112_WayPoint82  move_base 1970-01-01 00:00:07.609   \n",
       "1     False  WayPoint113_WayPoint89  move_base 1970-01-01 00:00:07.801   \n",
       "\n",
       "   operation_time topological_map  final_node  \n",
       "0           5.192         walmart  WayPoint82  \n",
       "1           5.120         walmart  WayPoint89  "
      ]
     },
     "execution_count": 72,
     "metadata": {},
     "output_type": "execute_result"
    }
   ],
   "source": [
    "#remove data where policy_goal = target\n",
    "#we previously removed null & unsuccessful entries\n",
    "df = df[ df[\"policy_goal\"] != df[\"target\"] ]\n",
    "df.head(2)"
   ]
  },
  {
   "cell_type": "code",
   "execution_count": 73,
   "metadata": {},
   "outputs": [
    {
     "data": {
      "text/html": [
       "<div>\n",
       "<style scoped>\n",
       "    .dataframe tbody tr th:only-of-type {\n",
       "        vertical-align: middle;\n",
       "    }\n",
       "\n",
       "    .dataframe tbody tr th {\n",
       "        vertical-align: top;\n",
       "    }\n",
       "\n",
       "    .dataframe thead th {\n",
       "        text-align: right;\n",
       "    }\n",
       "</style>\n",
       "<table border=\"1\" class=\"dataframe\">\n",
       "  <thead>\n",
       "    <tr style=\"text-align: right;\">\n",
       "      <th></th>\n",
       "      <th>origin</th>\n",
       "      <th>target</th>\n",
       "      <th>edge_id</th>\n",
       "      <th>operation_time</th>\n",
       "    </tr>\n",
       "  </thead>\n",
       "  <tbody>\n",
       "    <tr>\n",
       "      <th>0</th>\n",
       "      <td>WayPoint112</td>\n",
       "      <td>WayPoint82</td>\n",
       "      <td>WayPoint112_WayPoint82</td>\n",
       "      <td>5.192</td>\n",
       "    </tr>\n",
       "    <tr>\n",
       "      <th>1</th>\n",
       "      <td>WayPoint113</td>\n",
       "      <td>WayPoint89</td>\n",
       "      <td>WayPoint113_WayPoint89</td>\n",
       "      <td>5.120</td>\n",
       "    </tr>\n",
       "  </tbody>\n",
       "</table>\n",
       "</div>"
      ],
      "text/plain": [
       "        origin      target                 edge_id  operation_time\n",
       "0  WayPoint112  WayPoint82  WayPoint112_WayPoint82           5.192\n",
       "1  WayPoint113  WayPoint89  WayPoint113_WayPoint89           5.120"
      ]
     },
     "execution_count": 73,
     "metadata": {},
     "output_type": "execute_result"
    }
   ],
   "source": [
    "# remove every column except: origin, target, edge_id, operation_time\n",
    "df = df.loc[:,[\"origin\", \"target\", \"edge_id\", \"operation_time\"]]\n",
    "df.head(2)"
   ]
  },
  {
   "cell_type": "code",
   "execution_count": 157,
   "metadata": {},
   "outputs": [
    {
     "name": "stdout",
     "output_type": "stream",
     "text": [
      "(751, 2)\n"
     ]
    },
    {
     "data": {
      "text/html": [
       "<div>\n",
       "<style scoped>\n",
       "    .dataframe tbody tr th:only-of-type {\n",
       "        vertical-align: middle;\n",
       "    }\n",
       "\n",
       "    .dataframe tbody tr th {\n",
       "        vertical-align: top;\n",
       "    }\n",
       "\n",
       "    .dataframe thead th {\n",
       "        text-align: right;\n",
       "    }\n",
       "</style>\n",
       "<table border=\"1\" class=\"dataframe\">\n",
       "  <thead>\n",
       "    <tr style=\"text-align: right;\">\n",
       "      <th></th>\n",
       "      <th>edge_id</th>\n",
       "      <th>operation_time</th>\n",
       "    </tr>\n",
       "  </thead>\n",
       "  <tbody>\n",
       "    <tr>\n",
       "      <th>345</th>\n",
       "      <td>WayPoint69_WayPoint70</td>\n",
       "      <td>10.328</td>\n",
       "    </tr>\n",
       "    <tr>\n",
       "      <th>353</th>\n",
       "      <td>WayPoint69_WayPoint70</td>\n",
       "      <td>12.461</td>\n",
       "    </tr>\n",
       "    <tr>\n",
       "      <th>356</th>\n",
       "      <td>WayPoint69_WayPoint70</td>\n",
       "      <td>10.403</td>\n",
       "    </tr>\n",
       "    <tr>\n",
       "      <th>363</th>\n",
       "      <td>WayPoint69_WayPoint70</td>\n",
       "      <td>8.602</td>\n",
       "    </tr>\n",
       "    <tr>\n",
       "      <th>380</th>\n",
       "      <td>WayPoint69_WayPoint70</td>\n",
       "      <td>13.989</td>\n",
       "    </tr>\n",
       "  </tbody>\n",
       "</table>\n",
       "</div>"
      ],
      "text/plain": [
       "                   edge_id  operation_time\n",
       "345  WayPoint69_WayPoint70          10.328\n",
       "353  WayPoint69_WayPoint70          12.461\n",
       "356  WayPoint69_WayPoint70          10.403\n",
       "363  WayPoint69_WayPoint70           8.602\n",
       "380  WayPoint69_WayPoint70          13.989"
      ]
     },
     "execution_count": 157,
     "metadata": {},
     "output_type": "execute_result"
    }
   ],
   "source": [
    "#select all entries between the same origin-target pair\n",
    "waypoint_1 = \"WayPoint69\"\n",
    "waypoint_2 = \"WayPoint70\"\n",
    "subset = df.loc[df[\"origin\"].isin([waypoint_1, waypoint_2]) & df[\"target\"].isin([waypoint_1, waypoint_2]), [\"edge_id\", \"operation_time\"]]\n",
    "print(subset.shape)\n",
    "subset.head()"
   ]
  },
  {
   "cell_type": "markdown",
   "metadata": {},
   "source": [
    "## 1d) Visualisation"
   ]
  },
  {
   "cell_type": "code",
   "execution_count": 158,
   "metadata": {},
   "outputs": [
    {
     "data": {
      "text/html": [
       "<div>\n",
       "<style scoped>\n",
       "    .dataframe tbody tr th:only-of-type {\n",
       "        vertical-align: middle;\n",
       "    }\n",
       "\n",
       "    .dataframe tbody tr th {\n",
       "        vertical-align: top;\n",
       "    }\n",
       "\n",
       "    .dataframe thead th {\n",
       "        text-align: right;\n",
       "    }\n",
       "</style>\n",
       "<table border=\"1\" class=\"dataframe\">\n",
       "  <thead>\n",
       "    <tr style=\"text-align: right;\">\n",
       "      <th></th>\n",
       "      <th>operation_time</th>\n",
       "    </tr>\n",
       "  </thead>\n",
       "  <tbody>\n",
       "    <tr>\n",
       "      <th>count</th>\n",
       "      <td>751.000000</td>\n",
       "    </tr>\n",
       "    <tr>\n",
       "      <th>mean</th>\n",
       "      <td>12.154848</td>\n",
       "    </tr>\n",
       "    <tr>\n",
       "      <th>std</th>\n",
       "      <td>3.381275</td>\n",
       "    </tr>\n",
       "    <tr>\n",
       "      <th>min</th>\n",
       "      <td>8.559000</td>\n",
       "    </tr>\n",
       "    <tr>\n",
       "      <th>25%</th>\n",
       "      <td>10.153000</td>\n",
       "    </tr>\n",
       "    <tr>\n",
       "      <th>50%</th>\n",
       "      <td>10.891000</td>\n",
       "    </tr>\n",
       "    <tr>\n",
       "      <th>75%</th>\n",
       "      <td>13.132500</td>\n",
       "    </tr>\n",
       "    <tr>\n",
       "      <th>max</th>\n",
       "      <td>38.456000</td>\n",
       "    </tr>\n",
       "  </tbody>\n",
       "</table>\n",
       "</div>"
      ],
      "text/plain": [
       "       operation_time\n",
       "count      751.000000\n",
       "mean        12.154848\n",
       "std          3.381275\n",
       "min          8.559000\n",
       "25%         10.153000\n",
       "50%         10.891000\n",
       "75%         13.132500\n",
       "max         38.456000"
      ]
     },
     "execution_count": 158,
     "metadata": {},
     "output_type": "execute_result"
    }
   ],
   "source": [
    "subset.describe()"
   ]
  },
  {
   "cell_type": "code",
   "execution_count": 159,
   "metadata": {},
   "outputs": [
    {
     "data": {
      "text/plain": [
       "<matplotlib.axes._subplots.AxesSubplot at 0x1201b629970>"
      ]
     },
     "execution_count": 159,
     "metadata": {},
     "output_type": "execute_result"
    },
    {
     "data": {
      "image/png": "[encoded data removed]",
      "text/plain": [
       "<Figure size 432x288 with 1 Axes>"
      ]
     },
     "metadata": {
      "needs_background": "light"
     },
     "output_type": "display_data"
    }
   ],
   "source": [
    "subset.boxplot(column = \"operation_time\", by = \"edge_id\")"
   ]
  },
  {
   "cell_type": "code",
   "execution_count": 160,
   "metadata": {},
   "outputs": [
    {
     "data": {
      "text/plain": [
       "<matplotlib.axes._subplots.AxesSubplot at 0x1201c7507c0>"
      ]
     },
     "execution_count": 160,
     "metadata": {},
     "output_type": "execute_result"
    },
    {
     "data": {
      "image/png": "[encoded data removed]",
      "text/plain": [
       "<Figure size 432x288 with 1 Axes>"
      ]
     },
     "metadata": {
      "needs_background": "light"
     },
     "output_type": "display_data"
    }
   ],
   "source": [
    "subset.plot()"
   ]
  },
  {
   "cell_type": "markdown",
   "metadata": {},
   "source": [
    "# 2 Duration Distributions"
   ]
  },
  {
   "cell_type": "markdown",
   "metadata": {},
   "source": [
    "## 2a) Gaussian\n",
    "- Gives non-zero probability to impossible events"
   ]
  },
  {
   "cell_type": "markdown",
   "metadata": {},
   "source": [
    "### 2ai) Frequentist approach"
   ]
  },
  {
   "cell_type": "code",
   "execution_count": 161,
   "metadata": {},
   "outputs": [],
   "source": [
    "def Gaussian_ml(t):\n",
    "    \"Calculate max. likelihood estimators\"\n",
    "    N = len(t)\n",
    "    mean_ml = (1/N) * sum(t)\n",
    "    var_ml = (1/N) * sum((t - mean_ml)**2)\n",
    "    return mean_ml, var_ml"
   ]
  },
  {
   "cell_type": "code",
   "execution_count": 162,
   "metadata": {},
   "outputs": [],
   "source": [
    "def Gaussian_freq(x,mean,var):\n",
    "    \"Calculate gaussian distribution - frequentist approach\"\n",
    "    return ( 1/ ((2*np.pi*var)**0.5) )*np.exp( (-1/(2*var)) * np.square(x-mean) )"
   ]
  },
  {
   "cell_type": "code",
   "execution_count": 163,
   "metadata": {},
   "outputs": [
    {
     "name": "stdout",
     "output_type": "stream",
     "text": [
      "12.154848202396785 11.41779364140491\n"
     ]
    }
   ],
   "source": [
    "#find mean & variance\n",
    "t_op = subset[\"operation_time\"]\n",
    "mean_ml, var_ml = Gaussian_ml(t_op)\n",
    "print(mean_ml, var_ml)"
   ]
  },
  {
   "cell_type": "code",
   "execution_count": 164,
   "metadata": {},
   "outputs": [],
   "source": [
    "# calculate distribution\n",
    "t_start= 0\n",
    "t_stop = (np.max(t_op)//5)*5 + 5    #round up to nearest 5 secs\n",
    "t_step = 0.01\n",
    "t = np.arange(t_start,t_stop,t_step)\n",
    "p = Gaussian_freq(t,mean_ml,var_ml)"
   ]
  },
  {
   "cell_type": "code",
   "execution_count": 169,
   "metadata": {},
   "outputs": [
    {
     "data": {
      "text/plain": [
       "Text(0.5, 1.0, 'WayPoint69_WayPoint70')"
      ]
     },
     "execution_count": 169,
     "metadata": {},
     "output_type": "execute_result"
    },
    {
     "data": {
      "image/png": "[encoded data removed]",
      "text/plain": [
       "<Figure size 432x288 with 1 Axes>"
      ]
     },
     "metadata": {
      "needs_background": "light"
     },
     "output_type": "display_data"
    }
   ],
   "source": [
    "plt.plot(t,p)\n",
    "plt.hist(t_op, density = True)\n",
    "plt.legend([\"predicted\",\"actual\"])\n",
    "plt.xlabel(\"operation_time (s)\")\n",
    "plt.ylabel(\"probability\")\n",
    "plt.title(subset.iloc[0,0])"
   ]
  },
  {
   "cell_type": "markdown",
   "metadata": {},
   "source": [
    "### 2aii) Frequentist Approach - sequential???"
   ]
  },
  {
   "cell_type": "markdown",
   "metadata": {},
   "source": [
    "### 2aiii) Bayesian Approach - simple\n",
    "- Assume var known, mean unknown\n",
    "- estimate var using MLE"
   ]
  },
  {
   "cell_type": "code",
   "execution_count": 209,
   "metadata": {},
   "outputs": [],
   "source": [
    "#prior\n",
    "def prior_1(mean, mean_0, var_0):\n",
    "    \"mean is a guess. mean_0 & var_0 are parameters\"\n",
    "    return Gaussian_freq(mean,mean_0,var_0)\n",
    "\n"
   ]
  },
  {
   "cell_type": "code",
   "execution_count": 219,
   "metadata": {},
   "outputs": [
    {
     "name": "stdout",
     "output_type": "stream",
     "text": [
      "4.63 µs ± 439 ns per loop (mean ± std. dev. of 7 runs, 100000 loops each)\n",
      "8.86 ms ± 88.8 µs per loop (mean ± std. dev. of 7 runs, 100 loops each)\n"
     ]
    },
    {
     "data": {
      "text/plain": [
       "0.0"
      ]
     },
     "execution_count": 219,
     "metadata": {},
     "output_type": "execute_result"
    }
   ],
   "source": [
    "def likelihood_1(t,mean):\n",
    "    var = (1/N) * np.sum((t - mean)**2)\n",
    "    log_likelihood = 0\n",
    "    for n in range(len(t)):\n",
    "        likelihood = Gaussian_freq(t.iloc[n],mean,var)\n",
    "        log_likelihood += np.log(likelihood)\n",
    "    return log_likelihood\n",
    "\n",
    "\n",
    "%timeit prior_1(13,12,12)\n",
    "%timeit likelihood_1(t_op,13)\n",
    "np.exp(likelihood_1(t_op,13))*prior_1(13,12,12)"
   ]
  },
  {
   "cell_type": "code",
   "execution_count": 216,
   "metadata": {},
   "outputs": [
    {
     "name": "stdout",
     "output_type": "stream",
     "text": [
      "[0.000e+00 1.000e-02 2.000e-02 ... 3.997e+01 3.998e+01 3.999e+01] 4000\n"
     ]
    }
   ],
   "source": [
    "t_start= 0\n",
    "t_stop = (np.max(t_op)//5)*5 + 5    #round up to nearest 5 secs\n",
    "t_step = 0.01\n",
    "mu = np.arange(t_start,t_stop,t_step)\n",
    "print(mu, len(mu))\n"
   ]
  },
  {
   "cell_type": "code",
   "execution_count": 222,
   "metadata": {},
   "outputs": [
    {
     "name": "stdout",
     "output_type": "stream",
     "text": [
      "done\n"
     ]
    }
   ],
   "source": [
    "mean_0 = 12\n",
    "var_0 = 12\n",
    "prior_list = []\n",
    "likelihood_list = []\n",
    "for m in mu:\n",
    "    prior_list.append(prior_1(m,mean_0,var_0))\n",
    "    likelihood_list.append(likelihood_1(t_op,m))\n",
    "print(\"done\")"
   ]
  },
  {
   "cell_type": "code",
   "execution_count": 225,
   "metadata": {},
   "outputs": [
    {
     "data": {
      "text/plain": [
       "[<matplotlib.lines.Line2D at 0x1201c7858e0>]"
      ]
     },
     "execution_count": 225,
     "metadata": {},
     "output_type": "execute_result"
    },
    {
     "data": {
      "image/png": "[encoded data removed]",
      "text/plain": [
       "<Figure size 432x288 with 1 Axes>"
      ]
     },
     "metadata": {
      "needs_background": "light"
     },
     "output_type": "display_data"
    }
   ],
   "source": [
    "plt.plot(mu,prior_list)"
   ]
  },
  {
   "cell_type": "code",
   "execution_count": 226,
   "metadata": {},
   "outputs": [
    {
     "data": {
      "text/plain": [
       "[<matplotlib.lines.Line2D at 0x1201b5d21f0>]"
      ]
     },
     "execution_count": 226,
     "metadata": {},
     "output_type": "execute_result"
    },
    {
     "data": {
      "image/png": "[encoded data removed]",
      "text/plain": [
       "<Figure size 432x288 with 1 Axes>"
      ]
     },
     "metadata": {
      "needs_background": "light"
     },
     "output_type": "display_data"
    }
   ],
   "source": [
    "plt.plot(mu,likelihood_list)"
   ]
  },
  {
   "cell_type": "code",
   "execution_count": 234,
   "metadata": {},
   "outputs": [
    {
     "data": {
      "text/plain": [
       "[<matplotlib.lines.Line2D at 0x1201ca73280>]"
      ]
     },
     "execution_count": 234,
     "metadata": {},
     "output_type": "execute_result"
    },
    {
     "data": {
      "image/png": "[encoded data removed]",
      "text/plain": [
       "<Figure size 432x288 with 1 Axes>"
      ]
     },
     "metadata": {
      "needs_background": "light"
     },
     "output_type": "display_data"
    }
   ],
   "source": [
    "#WRONG posterior\n",
    "#posterior = log(normal) likelihood * normal prior\n",
    "posterior_list = np.multiply(prior_list,np.abs(likelihood_list))\n",
    "plt.plot(mu,posterior_list)"
   ]
  },
  {
   "cell_type": "code",
   "execution_count": 248,
   "metadata": {},
   "outputs": [
    {
     "name": "stdout",
     "output_type": "stream",
     "text": [
      "0.01 2186.3103789104634\n"
     ]
    },
    {
     "data": {
      "text/plain": [
       "Text(0.5, 1.0, 'WayPoint69_WayPoint70')"
      ]
     },
     "execution_count": 248,
     "metadata": {},
     "output_type": "execute_result"
    },
    {
     "data": {
      "image/png": "[encoded data removed]",
      "text/plain": [
       "<Figure size 432x288 with 1 Axes>"
      ]
     },
     "metadata": {
      "needs_background": "light"
     },
     "output_type": "display_data"
    }
   ],
   "source": [
    "#normalise a distribution\n",
    "spacing = mu[1]-mu[0]\n",
    "norm_const = spacing * np.sum(posterior_list)\n",
    "print(spacing, norm_const)\n",
    "plt.plot(mu,posterior_list/norm_const)\n",
    "plt.plot(t,p)\n",
    "plt.hist(t_op, density = True, bins = 50)\n",
    "plt.legend([\"Bayesian\", \"Frequentist\",\"Actual\"])\n",
    "plt.xlabel(\"operation_time (s)\")\n",
    "plt.ylabel(\"probability\")\n",
    "plt.title(subset.iloc[0,0])"
   ]
  },
  {
   "cell_type": "code",
   "execution_count": 262,
   "metadata": {},
   "outputs": [
    {
     "data": {
      "text/plain": [
       "(array([0.17724195, 0.26586292, 0.48741535, 0.70896779, 3.72208088,\n",
       "        4.03225428, 4.9627745 , 2.21552433, 2.17121384, 1.28500411,\n",
       "        1.68379849, 1.24069363, 0.93052022, 0.97483071, 0.93052022,\n",
       "        1.01914119, 0.53172584, 0.84189925, 0.84189925, 0.62034681,\n",
       "        0.6646573 , 0.26586292, 0.35448389, 0.22155243, 0.31017341,\n",
       "        0.31017341, 0.08862097, 0.17724195, 0.31017341, 0.        ,\n",
       "        0.13293146, 0.08862097, 0.08862097, 0.08862097, 0.        ,\n",
       "        0.08862097, 0.08862097, 0.04431049, 0.08862097, 0.04431049,\n",
       "        0.        , 0.        , 0.04431049, 0.        , 0.        ,\n",
       "        0.08862097, 0.        , 0.        , 0.        , 0.04431049]),\n",
       " array([2.14698336, 2.17703399, 2.20708462, 2.23713524, 2.26718587,\n",
       "        2.2972365 , 2.32728713, 2.35733775, 2.38738838, 2.41743901,\n",
       "        2.44748963, 2.47754026, 2.50759089, 2.53764152, 2.56769214,\n",
       "        2.59774277, 2.6277934 , 2.65784403, 2.68789465, 2.71794528,\n",
       "        2.74799591, 2.77804654, 2.80809716, 2.83814779, 2.86819842,\n",
       "        2.89824905, 2.92829967, 2.9583503 , 2.98840093, 3.01845156,\n",
       "        3.04850218, 3.07855281, 3.10860344, 3.13865406, 3.16870469,\n",
       "        3.19875532, 3.22880595, 3.25885657, 3.2889072 , 3.31895783,\n",
       "        3.34900846, 3.37905908, 3.40910971, 3.43916034, 3.46921097,\n",
       "        3.49926159, 3.52931222, 3.55936285, 3.58941348, 3.6194641 ,\n",
       "        3.64951473]),\n",
       " <a list of 50 Patch objects>)"
      ]
     },
     "execution_count": 262,
     "metadata": {},
     "output_type": "execute_result"
    },
    {
     "data": {
      "image/png": "[encoded data removed]",
      "text/plain": [
       "<Figure size 432x288 with 1 Axes>"
      ]
     },
     "metadata": {
      "needs_background": "light"
     },
     "output_type": "display_data"
    }
   ],
   "source": [
    "t_log = np.log(t_op)\n",
    "\n",
    "plt.hist(t_log, density = True, bins = 50)"
   ]
  },
  {
   "cell_type": "code",
   "execution_count": null,
   "metadata": {},
   "outputs": [],
   "source": []
  }
 ],
 "metadata": {
  "kernelspec": {
   "display_name": "Python 3",
   "language": "python",
   "name": "python3"
  },
  "language_info": {
   "codemirror_mode": {
    "name": "ipython",
    "version": 3
   },
   "file_extension": ".py",
   "mimetype": "text/x-python",
   "name": "python",
   "nbconvert_exporter": "python",
   "pygments_lexer": "ipython3",
   "version": "3.8.3"
  }
 },
 "nbformat": 4,
 "nbformat_minor": 4
}
