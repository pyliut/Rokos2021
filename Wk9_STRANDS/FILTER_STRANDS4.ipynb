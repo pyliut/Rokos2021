{
 "cells": [
  {
   "cell_type": "markdown",
   "metadata": {},
   "source": [
    "# 1) Setup"
   ]
  },
  {
   "cell_type": "code",
   "execution_count": 1,
   "metadata": {},
   "outputs": [
    {
     "name": "stdout",
     "output_type": "stream",
     "text": [
      "done\n"
     ]
    }
   ],
   "source": [
    "#import libraries\n",
    "import pandas as pd\n",
    "import matplotlib.pyplot as plt\n",
    "from matplotlib import cm\n",
    "\n",
    "import numpy as np\n",
    "import math\n",
    "import scipy as sp\n",
    "from scipy import stats\n",
    "from copy import copy\n",
    "import time\n",
    "\n",
    "import pymongo\n",
    "from pymongo import MongoClient\n",
    "from datetime import datetime\n",
    "from datetime import timedelta\n",
    "print(\"done\")"
   ]
  },
  {
   "cell_type": "code",
   "execution_count": 2,
   "metadata": {},
   "outputs": [
    {
     "name": "stdout",
     "output_type": "stream",
     "text": [
      "done\n"
     ]
    }
   ],
   "source": [
    "#import functions from python files\n",
    "\n",
    "#1) data import & filtering (AAF, TSC, LABS)\n",
    "from get_data_strands import *\n",
    "from get_adjacent import *\n",
    "from get_valid1 import *\n",
    "from get_times import *\n",
    "from get_congestion_strands import *\n",
    "from get_valid2 import *\n",
    "from get_length import *\n",
    "\n",
    "from select_data import *\n",
    "from select_data_edge import *\n",
    "\n",
    "from underscore_prefix import *\n",
    "from underscore_suffix import *\n",
    "\n",
    "# 2) Walmart & Blenheim\n",
    "from get_data import *\n",
    "from get_data_yaml import *\n",
    "from get_congestion import *\n",
    "from get_valid import *\n",
    "from get_context import *\n",
    "\n",
    "print(\"done\")"
   ]
  },
  {
   "cell_type": "markdown",
   "metadata": {},
   "source": [
    "# 2) AAF"
   ]
  },
  {
   "cell_type": "markdown",
   "metadata": {},
   "source": [
    "## 2a) AAF Y4"
   ]
  },
  {
   "cell_type": "code",
   "execution_count": 3,
   "metadata": {},
   "outputs": [
    {
     "name": "stdout",
     "output_type": "stream",
     "text": [
      "Time taken (get_adjacent): 0.6732985973358154 secs\n",
      "Time taken (get_length): 0.7192492485046387 secs\n",
      "23044\n",
      "Time taken (get_adjacent): 0.5924949645996094 secs\n",
      "23044\n",
      "Time taken (get_times): 19.729634761810303 secs\n",
      "0 iterations in 0.0010094642639160156 seconds\n",
      "5000 iterations in 26.51066493988037 seconds\n",
      "10000 iterations in 53.20173478126526 seconds\n",
      "15000 iterations in 80.07828307151794 seconds\n",
      "20000 iterations in 106.665048122406 seconds\n",
      "Time taken (get_congestion): 123.16270399093628 seconds\n",
      "Unimodal:  22581\n",
      "Multimodal:  463\n"
     ]
    },
    {
     "data": {
      "text/html": [
       "<div>\n",
       "<style scoped>\n",
       "    .dataframe tbody tr th:only-of-type {\n",
       "        vertical-align: middle;\n",
       "    }\n",
       "\n",
       "    .dataframe tbody tr th {\n",
       "        vertical-align: top;\n",
       "    }\n",
       "\n",
       "    .dataframe thead th {\n",
       "        text-align: right;\n",
       "    }\n",
       "</style>\n",
       "<table border=\"1\" class=\"dataframe\">\n",
       "  <thead>\n",
       "    <tr style=\"text-align: right;\">\n",
       "      <th></th>\n",
       "      <th>origin</th>\n",
       "      <th>target</th>\n",
       "      <th>edge_id</th>\n",
       "      <th>time_to_waypoint</th>\n",
       "      <th>operation_time</th>\n",
       "    </tr>\n",
       "  </thead>\n",
       "  <tbody>\n",
       "    <tr>\n",
       "      <th>0</th>\n",
       "      <td>Station</td>\n",
       "      <td>ChargingPoint</td>\n",
       "      <td>Station_ChargingPoint</td>\n",
       "      <td>0.624420</td>\n",
       "      <td>19.893930</td>\n",
       "    </tr>\n",
       "    <tr>\n",
       "      <th>1</th>\n",
       "      <td>ChargingPoint</td>\n",
       "      <td>Station</td>\n",
       "      <td>ChargingPoint_Station</td>\n",
       "      <td>17.028488</td>\n",
       "      <td>23.572407</td>\n",
       "    </tr>\n",
       "  </tbody>\n",
       "</table>\n",
       "</div>"
      ],
      "text/plain": [
       "          origin         target                edge_id  time_to_waypoint  \\\n",
       "0        Station  ChargingPoint  Station_ChargingPoint          0.624420   \n",
       "1  ChargingPoint        Station  ChargingPoint_Station         17.028488   \n",
       "\n",
       "   operation_time  \n",
       "0       19.893930  \n",
       "1       23.572407  "
      ]
     },
     "execution_count": 3,
     "metadata": {},
     "output_type": "execute_result"
    }
   ],
   "source": [
    "#1) Import data from PyMongo\n",
    "df = get_data_strands(address = \"aaf_y4\")\n",
    "df = df[df[\"edge_id\"] != \"WayPoint28_Feuerloescher\"]\n",
    "adjacent = get_adjacent(\"aaf_map.yaml\")\n",
    "nodes = list(adjacent.keys())\n",
    "length = get_length(\"aaf_map.yaml\")\n",
    "edges = list(length.keys())\n",
    "df = df.loc[df[\"origin\"].isin(nodes)]\n",
    "df = df.loc[df[\"target\"].isin(nodes)]\n",
    "df = df.loc[df[\"edge_id\"].isin(edges)]\n",
    "print(len(df))\n",
    "\n",
    "#2) Remove data with invalid origin/target\n",
    "adjacent = get_adjacent(\"aaf_map.yaml\")\n",
    "df = get_valid1(df, adjacent)\n",
    "print(len(df))\n",
    "\n",
    "#3) Change format of datetimes in dataframe to datetime.datetime object\n",
    "df = get_times(df)\n",
    "\n",
    "#4) Count congestion level\n",
    "df = get_congestion_strands(df, adjacent)\n",
    "print(\"Unimodal: \", len(df[df[\"n_robots\"] == 1]))\n",
    "print(\"Multimodal: \", len(df[df[\"n_robots\"] != 1]))\n",
    "\n",
    "#5) remove final, unsuccessful, multimodal runs\n",
    "df_aaf = get_valid2(df)\n",
    "df_aaf.head(2)"
   ]
  },
  {
   "cell_type": "code",
   "execution_count": 6,
   "metadata": {},
   "outputs": [
    {
     "name": "stdout",
     "output_type": "stream",
     "text": [
      "done\n"
     ]
    }
   ],
   "source": [
    "#6) save to excel\n",
    "df_aaf.to_excel(\"data_aaf_y4.xlsx\")\n",
    "print(\"done\")"
   ]
  },
  {
   "cell_type": "code",
   "execution_count": 7,
   "metadata": {},
   "outputs": [
    {
     "data": {
      "text/html": [
       "<div>\n",
       "<style scoped>\n",
       "    .dataframe tbody tr th:only-of-type {\n",
       "        vertical-align: middle;\n",
       "    }\n",
       "\n",
       "    .dataframe tbody tr th {\n",
       "        vertical-align: top;\n",
       "    }\n",
       "\n",
       "    .dataframe thead th {\n",
       "        text-align: right;\n",
       "    }\n",
       "</style>\n",
       "<table border=\"1\" class=\"dataframe\">\n",
       "  <thead>\n",
       "    <tr style=\"text-align: right;\">\n",
       "      <th></th>\n",
       "      <th>origin</th>\n",
       "      <th>target</th>\n",
       "      <th>edge_id</th>\n",
       "      <th>time_to_waypoint</th>\n",
       "      <th>operation_time</th>\n",
       "    </tr>\n",
       "  </thead>\n",
       "  <tbody>\n",
       "    <tr>\n",
       "      <th>0</th>\n",
       "      <td>Station</td>\n",
       "      <td>ChargingPoint</td>\n",
       "      <td>Station_ChargingPoint</td>\n",
       "      <td>0.624420</td>\n",
       "      <td>19.893930</td>\n",
       "    </tr>\n",
       "    <tr>\n",
       "      <th>1</th>\n",
       "      <td>ChargingPoint</td>\n",
       "      <td>Station</td>\n",
       "      <td>ChargingPoint_Station</td>\n",
       "      <td>17.028488</td>\n",
       "      <td>23.572407</td>\n",
       "    </tr>\n",
       "  </tbody>\n",
       "</table>\n",
       "</div>"
      ],
      "text/plain": [
       "          origin         target                edge_id  time_to_waypoint  \\\n",
       "0        Station  ChargingPoint  Station_ChargingPoint          0.624420   \n",
       "1  ChargingPoint        Station  ChargingPoint_Station         17.028488   \n",
       "\n",
       "   operation_time  \n",
       "0       19.893930  \n",
       "1       23.572407  "
      ]
     },
     "execution_count": 7,
     "metadata": {},
     "output_type": "execute_result"
    }
   ],
   "source": [
    "# retrieve data\n",
    "df_aaf = pd.read_excel(\"data_aaf_y4.xlsx\")\n",
    "df_aaf = df_aaf[[\"origin\", \"target\", \"edge_id\", \"time_to_waypoint\", \"operation_time\"]]\n",
    "df_aaf.head(2)"
   ]
  },
  {
   "cell_type": "markdown",
   "metadata": {},
   "source": [
    "## 2b) AAF Y3"
   ]
  },
  {
   "cell_type": "code",
   "execution_count": 8,
   "metadata": {},
   "outputs": [
    {
     "name": "stdout",
     "output_type": "stream",
     "text": [
      "Time taken (get_adjacent): 0.6757824420928955 secs\n",
      "Time taken (get_length): 0.7395381927490234 secs\n",
      "18142\n",
      "18142\n",
      "Time taken (get_times): 13.076265573501587 secs\n",
      "0 iterations in 0.0 seconds\n",
      "5000 iterations in 24.662707090377808 seconds\n",
      "10000 iterations in 49.29795598983765 seconds\n",
      "15000 iterations in 73.81325125694275 seconds\n",
      "Time taken (get_congestion): 89.31986474990845 seconds\n",
      "Unimodal:  17867\n",
      "Multimodal:  275\n"
     ]
    },
    {
     "data": {
      "text/html": [
       "<div>\n",
       "<style scoped>\n",
       "    .dataframe tbody tr th:only-of-type {\n",
       "        vertical-align: middle;\n",
       "    }\n",
       "\n",
       "    .dataframe tbody tr th {\n",
       "        vertical-align: top;\n",
       "    }\n",
       "\n",
       "    .dataframe thead th {\n",
       "        text-align: right;\n",
       "    }\n",
       "</style>\n",
       "<table border=\"1\" class=\"dataframe\">\n",
       "  <thead>\n",
       "    <tr style=\"text-align: right;\">\n",
       "      <th></th>\n",
       "      <th>origin</th>\n",
       "      <th>target</th>\n",
       "      <th>edge_id</th>\n",
       "      <th>time_to_waypoint</th>\n",
       "      <th>operation_time</th>\n",
       "    </tr>\n",
       "  </thead>\n",
       "  <tbody>\n",
       "    <tr>\n",
       "      <th>1</th>\n",
       "      <td>Station</td>\n",
       "      <td>WayPoint91</td>\n",
       "      <td>Station_WayPoint91</td>\n",
       "      <td>0.071773</td>\n",
       "      <td>4.097293</td>\n",
       "    </tr>\n",
       "    <tr>\n",
       "      <th>2</th>\n",
       "      <td>WayPoint91</td>\n",
       "      <td>WayPoint8</td>\n",
       "      <td>WayPoint91_WayPoint8</td>\n",
       "      <td>5.784959</td>\n",
       "      <td>13.085477</td>\n",
       "    </tr>\n",
       "  </tbody>\n",
       "</table>\n",
       "</div>"
      ],
      "text/plain": [
       "       origin      target               edge_id  time_to_waypoint  \\\n",
       "1     Station  WayPoint91    Station_WayPoint91          0.071773   \n",
       "2  WayPoint91   WayPoint8  WayPoint91_WayPoint8          5.784959   \n",
       "\n",
       "   operation_time  \n",
       "1        4.097293  \n",
       "2       13.085477  "
      ]
     },
     "execution_count": 8,
     "metadata": {},
     "output_type": "execute_result"
    }
   ],
   "source": [
    "#1) Import data from PyMongo\n",
    "df = get_data_strands(address = \"aaf_y3\")\n",
    "df = df[df[\"edge_id\"] != \"WayPoint28_Feuerloescher\"]\n",
    "adjacent = get_adjacent(\"aaf_map.yaml\")\n",
    "nodes = list(adjacent.keys())\n",
    "length = get_length(\"aaf_map.yaml\")\n",
    "edges = list(length.keys())\n",
    "df = df.loc[df[\"origin\"].isin(nodes)]\n",
    "df = df.loc[df[\"target\"].isin(nodes)]\n",
    "df = df.loc[df[\"edge_id\"].isin(edges)]\n",
    "print(len(df))\n",
    "\n",
    "#2) Remove data with invalid origin/target\n",
    "#adjacent = get_adjacent(\"aaf_map.yaml\")\n",
    "df = get_valid1(df, adjacent)\n",
    "print(len(df))\n",
    "\n",
    "#3) Change format of datetimes in dataframe to datetime.datetime object\n",
    "df = get_times(df)\n",
    "\n",
    "#4) Count congestion level\n",
    "df = get_congestion_strands(df, adjacent)\n",
    "print(\"Unimodal: \", len(df[df[\"n_robots\"] == 1]))\n",
    "print(\"Multimodal: \", len(df[df[\"n_robots\"] != 1]))\n",
    "\n",
    "#5) remove final, unsuccessful, multimodal runs\n",
    "df_aaf = get_valid2(df)\n",
    "df_aaf.head(2)"
   ]
  },
  {
   "cell_type": "code",
   "execution_count": 9,
   "metadata": {},
   "outputs": [
    {
     "name": "stdout",
     "output_type": "stream",
     "text": [
      "done\n"
     ]
    }
   ],
   "source": [
    "#6) save to excel\n",
    "df_aaf.to_excel(\"data_aaf_y3.xlsx\")\n",
    "print(\"done\")"
   ]
  },
  {
   "cell_type": "code",
   "execution_count": 10,
   "metadata": {},
   "outputs": [
    {
     "data": {
      "text/html": [
       "<div>\n",
       "<style scoped>\n",
       "    .dataframe tbody tr th:only-of-type {\n",
       "        vertical-align: middle;\n",
       "    }\n",
       "\n",
       "    .dataframe tbody tr th {\n",
       "        vertical-align: top;\n",
       "    }\n",
       "\n",
       "    .dataframe thead th {\n",
       "        text-align: right;\n",
       "    }\n",
       "</style>\n",
       "<table border=\"1\" class=\"dataframe\">\n",
       "  <thead>\n",
       "    <tr style=\"text-align: right;\">\n",
       "      <th></th>\n",
       "      <th>origin</th>\n",
       "      <th>target</th>\n",
       "      <th>edge_id</th>\n",
       "      <th>time_to_waypoint</th>\n",
       "      <th>operation_time</th>\n",
       "    </tr>\n",
       "  </thead>\n",
       "  <tbody>\n",
       "    <tr>\n",
       "      <th>0</th>\n",
       "      <td>Station</td>\n",
       "      <td>WayPoint91</td>\n",
       "      <td>Station_WayPoint91</td>\n",
       "      <td>0.071773</td>\n",
       "      <td>4.097293</td>\n",
       "    </tr>\n",
       "    <tr>\n",
       "      <th>1</th>\n",
       "      <td>WayPoint91</td>\n",
       "      <td>WayPoint8</td>\n",
       "      <td>WayPoint91_WayPoint8</td>\n",
       "      <td>5.784959</td>\n",
       "      <td>13.085477</td>\n",
       "    </tr>\n",
       "  </tbody>\n",
       "</table>\n",
       "</div>"
      ],
      "text/plain": [
       "       origin      target               edge_id  time_to_waypoint  \\\n",
       "0     Station  WayPoint91    Station_WayPoint91          0.071773   \n",
       "1  WayPoint91   WayPoint8  WayPoint91_WayPoint8          5.784959   \n",
       "\n",
       "   operation_time  \n",
       "0        4.097293  \n",
       "1       13.085477  "
      ]
     },
     "execution_count": 10,
     "metadata": {},
     "output_type": "execute_result"
    }
   ],
   "source": [
    "# retrieve data\n",
    "df_aaf = pd.read_excel(\"data_aaf_y3.xlsx\")\n",
    "df_aaf = df_aaf[[\"origin\", \"target\", \"edge_id\", \"time_to_waypoint\", \"operation_time\"]]\n",
    "df_aaf.head(2)"
   ]
  },
  {
   "cell_type": "markdown",
   "metadata": {},
   "source": [
    "## 2c) AAF Y2"
   ]
  },
  {
   "cell_type": "code",
   "execution_count": 11,
   "metadata": {},
   "outputs": [
    {
     "name": "stdout",
     "output_type": "stream",
     "text": [
      "Time taken (get_adjacent): 0.6633694171905518 secs\n",
      "Time taken (get_length): 0.7286641597747803 secs\n",
      "5446\n",
      "5446\n",
      "Time taken (get_times): 2.277477502822876 secs\n",
      "0 iterations in 0.0 seconds\n",
      "5000 iterations in 10.083387613296509 seconds\n",
      "Time taken (get_congestion): 11.08835482597351 seconds\n",
      "Unimodal:  5409\n",
      "Multimodal:  37\n"
     ]
    },
    {
     "data": {
      "text/html": [
       "<div>\n",
       "<style scoped>\n",
       "    .dataframe tbody tr th:only-of-type {\n",
       "        vertical-align: middle;\n",
       "    }\n",
       "\n",
       "    .dataframe tbody tr th {\n",
       "        vertical-align: top;\n",
       "    }\n",
       "\n",
       "    .dataframe thead th {\n",
       "        text-align: right;\n",
       "    }\n",
       "</style>\n",
       "<table border=\"1\" class=\"dataframe\">\n",
       "  <thead>\n",
       "    <tr style=\"text-align: right;\">\n",
       "      <th></th>\n",
       "      <th>origin</th>\n",
       "      <th>target</th>\n",
       "      <th>edge_id</th>\n",
       "      <th>time_to_waypoint</th>\n",
       "      <th>operation_time</th>\n",
       "    </tr>\n",
       "  </thead>\n",
       "  <tbody>\n",
       "    <tr>\n",
       "      <th>1</th>\n",
       "      <td>Station</td>\n",
       "      <td>WayPoint2</td>\n",
       "      <td>Station_WayPoint2</td>\n",
       "      <td>0.328289</td>\n",
       "      <td>2.676215</td>\n",
       "    </tr>\n",
       "    <tr>\n",
       "      <th>2</th>\n",
       "      <td>WayPoint2</td>\n",
       "      <td>WayPoint86</td>\n",
       "      <td>WayPoint2_WayPoint86</td>\n",
       "      <td>0.236417</td>\n",
       "      <td>9.111409</td>\n",
       "    </tr>\n",
       "  </tbody>\n",
       "</table>\n",
       "</div>"
      ],
      "text/plain": [
       "      origin      target               edge_id  time_to_waypoint  \\\n",
       "1    Station   WayPoint2     Station_WayPoint2          0.328289   \n",
       "2  WayPoint2  WayPoint86  WayPoint2_WayPoint86          0.236417   \n",
       "\n",
       "   operation_time  \n",
       "1        2.676215  \n",
       "2        9.111409  "
      ]
     },
     "execution_count": 11,
     "metadata": {},
     "output_type": "execute_result"
    }
   ],
   "source": [
    "#1) Import data from PyMongo\n",
    "df = get_data_strands(address = \"aaf_y2\")\n",
    "df = df[df[\"edge_id\"] != \"Wp87_WP2\"]\n",
    "df = df[df[\"edge_id\"] != \"WayPoint28_Feuerloescher\"]\n",
    "\n",
    "adjacent = get_adjacent(\"aaf_map.yaml\")\n",
    "nodes = list(adjacent.keys())\n",
    "length = get_length(\"aaf_map.yaml\")\n",
    "edges = list(length.keys())\n",
    "df = df.loc[df[\"origin\"].isin(nodes)]\n",
    "df = df.loc[df[\"target\"].isin(nodes)]\n",
    "df = df.loc[df[\"edge_id\"].isin(edges)]\n",
    "print(len(df))\n",
    "\n",
    "#2) Remove data with invalid origin/target\n",
    "#adjacent = get_adjacent(\"aaf_map.yaml\")\n",
    "df = get_valid1(df, adjacent)\n",
    "print(len(df))\n",
    "\n",
    "#3) Change format of datetimes in dataframe to datetime.datetime object\n",
    "df = get_times(df)\n",
    "\n",
    "#4) Count congestion level\n",
    "df = get_congestion_strands(df, adjacent)\n",
    "print(\"Unimodal: \", len(df[df[\"n_robots\"] == 1]))\n",
    "print(\"Multimodal: \", len(df[df[\"n_robots\"] != 1]))\n",
    "\n",
    "#5) remove final, unsuccessful, multimodal runs\n",
    "df_aaf = get_valid2(df)\n",
    "df_aaf.head(2)"
   ]
  },
  {
   "cell_type": "code",
   "execution_count": 12,
   "metadata": {},
   "outputs": [
    {
     "name": "stdout",
     "output_type": "stream",
     "text": [
      "done\n"
     ]
    }
   ],
   "source": [
    "#6) save to excel\n",
    "df_aaf.to_excel(\"data_aaf_y2.xlsx\")\n",
    "print(\"done\")"
   ]
  },
  {
   "cell_type": "code",
   "execution_count": 13,
   "metadata": {},
   "outputs": [
    {
     "data": {
      "text/html": [
       "<div>\n",
       "<style scoped>\n",
       "    .dataframe tbody tr th:only-of-type {\n",
       "        vertical-align: middle;\n",
       "    }\n",
       "\n",
       "    .dataframe tbody tr th {\n",
       "        vertical-align: top;\n",
       "    }\n",
       "\n",
       "    .dataframe thead th {\n",
       "        text-align: right;\n",
       "    }\n",
       "</style>\n",
       "<table border=\"1\" class=\"dataframe\">\n",
       "  <thead>\n",
       "    <tr style=\"text-align: right;\">\n",
       "      <th></th>\n",
       "      <th>origin</th>\n",
       "      <th>target</th>\n",
       "      <th>edge_id</th>\n",
       "      <th>time_to_waypoint</th>\n",
       "      <th>operation_time</th>\n",
       "    </tr>\n",
       "  </thead>\n",
       "  <tbody>\n",
       "    <tr>\n",
       "      <th>0</th>\n",
       "      <td>Station</td>\n",
       "      <td>WayPoint2</td>\n",
       "      <td>Station_WayPoint2</td>\n",
       "      <td>0.328289</td>\n",
       "      <td>2.676215</td>\n",
       "    </tr>\n",
       "    <tr>\n",
       "      <th>1</th>\n",
       "      <td>WayPoint2</td>\n",
       "      <td>WayPoint86</td>\n",
       "      <td>WayPoint2_WayPoint86</td>\n",
       "      <td>0.236417</td>\n",
       "      <td>9.111409</td>\n",
       "    </tr>\n",
       "  </tbody>\n",
       "</table>\n",
       "</div>"
      ],
      "text/plain": [
       "      origin      target               edge_id  time_to_waypoint  \\\n",
       "0    Station   WayPoint2     Station_WayPoint2          0.328289   \n",
       "1  WayPoint2  WayPoint86  WayPoint2_WayPoint86          0.236417   \n",
       "\n",
       "   operation_time  \n",
       "0        2.676215  \n",
       "1        9.111409  "
      ]
     },
     "execution_count": 13,
     "metadata": {},
     "output_type": "execute_result"
    }
   ],
   "source": [
    "# retrieve data\n",
    "df_aaf = pd.read_excel(\"data_aaf_y2.xlsx\")\n",
    "df_aaf = df_aaf[[\"origin\", \"target\", \"edge_id\", \"time_to_waypoint\", \"operation_time\"]]\n",
    "df_aaf.head(2)"
   ]
  },
  {
   "cell_type": "markdown",
   "metadata": {},
   "source": [
    "# 3) TSC"
   ]
  },
  {
   "cell_type": "markdown",
   "metadata": {},
   "source": [
    "## 3a) TSC y3"
   ]
  },
  {
   "cell_type": "code",
   "execution_count": 14,
   "metadata": {},
   "outputs": [
    {
     "name": "stdout",
     "output_type": "stream",
     "text": [
      "Time taken (get_adjacent): 0.6329014301300049 secs\n",
      "Time taken (get_length): 0.7156157493591309 secs\n",
      "6828\n",
      "6828\n",
      "Time taken (get_times): 3.0244247913360596 secs\n",
      "0 iterations in 0.000997304916381836 seconds\n",
      "5000 iterations in 11.393438339233398 seconds\n",
      "Time taken (get_congestion): 15.682222127914429 seconds\n",
      "Unimodal:  6397\n",
      "Multimodal:  431\n"
     ]
    },
    {
     "data": {
      "text/html": [
       "<div>\n",
       "<style scoped>\n",
       "    .dataframe tbody tr th:only-of-type {\n",
       "        vertical-align: middle;\n",
       "    }\n",
       "\n",
       "    .dataframe tbody tr th {\n",
       "        vertical-align: top;\n",
       "    }\n",
       "\n",
       "    .dataframe thead th {\n",
       "        text-align: right;\n",
       "    }\n",
       "</style>\n",
       "<table border=\"1\" class=\"dataframe\">\n",
       "  <thead>\n",
       "    <tr style=\"text-align: right;\">\n",
       "      <th></th>\n",
       "      <th>origin</th>\n",
       "      <th>target</th>\n",
       "      <th>edge_id</th>\n",
       "      <th>time_to_waypoint</th>\n",
       "      <th>operation_time</th>\n",
       "    </tr>\n",
       "  </thead>\n",
       "  <tbody>\n",
       "    <tr>\n",
       "      <th>0</th>\n",
       "      <td>ChargingPoint</td>\n",
       "      <td>Station</td>\n",
       "      <td>ChargingPoint_Station</td>\n",
       "      <td>26.468006</td>\n",
       "      <td>38.898573</td>\n",
       "    </tr>\n",
       "    <tr>\n",
       "      <th>2</th>\n",
       "      <td>Station</td>\n",
       "      <td>ChargingPoint</td>\n",
       "      <td>Station_ChargingPoint</td>\n",
       "      <td>0.413475</td>\n",
       "      <td>68.313145</td>\n",
       "    </tr>\n",
       "  </tbody>\n",
       "</table>\n",
       "</div>"
      ],
      "text/plain": [
       "          origin         target                edge_id  time_to_waypoint  \\\n",
       "0  ChargingPoint        Station  ChargingPoint_Station         26.468006   \n",
       "2        Station  ChargingPoint  Station_ChargingPoint          0.413475   \n",
       "\n",
       "   operation_time  \n",
       "0       38.898573  \n",
       "2       68.313145  "
      ]
     },
     "execution_count": 14,
     "metadata": {},
     "output_type": "execute_result"
    }
   ],
   "source": [
    "#1) Import data from PyMongo\n",
    "df = get_data_strands(address = \"tsc_y3\")\n",
    "\n",
    "adjacent = get_adjacent(\"tsc_map.yaml\")\n",
    "nodes = list(adjacent.keys())\n",
    "length = get_length(\"tsc_map.yaml\")\n",
    "edges = list(length.keys())\n",
    "df = df.loc[df[\"origin\"].isin(nodes)]\n",
    "df = df.loc[df[\"target\"].isin(nodes)]\n",
    "df = df.loc[df[\"edge_id\"].isin(edges)]\n",
    "print(len(df))\n",
    "\n",
    "#2) Remove data with invalid origin/target\n",
    "#adjacent = get_adjacent(\"aaf_map.yaml\")\n",
    "df = get_valid1(df, adjacent)\n",
    "print(len(df))\n",
    "\n",
    "#3) Change format of datetimes in dataframe to datetime.datetime object\n",
    "df = get_times(df)\n",
    "\n",
    "#4) Count congestion level\n",
    "df = get_congestion_strands(df, adjacent)\n",
    "print(\"Unimodal: \", len(df[df[\"n_robots\"] == 1]))\n",
    "print(\"Multimodal: \", len(df[df[\"n_robots\"] != 1]))\n",
    "\n",
    "#5) remove final, unsuccessful, multimodal runs\n",
    "df_tsc = get_valid2(df)\n",
    "df_tsc.head(2)"
   ]
  },
  {
   "cell_type": "code",
   "execution_count": 15,
   "metadata": {},
   "outputs": [
    {
     "name": "stdout",
     "output_type": "stream",
     "text": [
      "done\n"
     ]
    }
   ],
   "source": [
    "#6) save to excel\n",
    "df_tsc.to_excel(\"data_tsc_y3.xlsx\")\n",
    "print(\"done\")"
   ]
  },
  {
   "cell_type": "code",
   "execution_count": 16,
   "metadata": {},
   "outputs": [
    {
     "data": {
      "text/html": [
       "<div>\n",
       "<style scoped>\n",
       "    .dataframe tbody tr th:only-of-type {\n",
       "        vertical-align: middle;\n",
       "    }\n",
       "\n",
       "    .dataframe tbody tr th {\n",
       "        vertical-align: top;\n",
       "    }\n",
       "\n",
       "    .dataframe thead th {\n",
       "        text-align: right;\n",
       "    }\n",
       "</style>\n",
       "<table border=\"1\" class=\"dataframe\">\n",
       "  <thead>\n",
       "    <tr style=\"text-align: right;\">\n",
       "      <th></th>\n",
       "      <th>origin</th>\n",
       "      <th>target</th>\n",
       "      <th>edge_id</th>\n",
       "      <th>time_to_waypoint</th>\n",
       "      <th>operation_time</th>\n",
       "    </tr>\n",
       "  </thead>\n",
       "  <tbody>\n",
       "    <tr>\n",
       "      <th>0</th>\n",
       "      <td>ChargingPoint</td>\n",
       "      <td>Station</td>\n",
       "      <td>ChargingPoint_Station</td>\n",
       "      <td>26.468006</td>\n",
       "      <td>38.898573</td>\n",
       "    </tr>\n",
       "    <tr>\n",
       "      <th>1</th>\n",
       "      <td>Station</td>\n",
       "      <td>ChargingPoint</td>\n",
       "      <td>Station_ChargingPoint</td>\n",
       "      <td>0.413475</td>\n",
       "      <td>68.313145</td>\n",
       "    </tr>\n",
       "  </tbody>\n",
       "</table>\n",
       "</div>"
      ],
      "text/plain": [
       "          origin         target                edge_id  time_to_waypoint  \\\n",
       "0  ChargingPoint        Station  ChargingPoint_Station         26.468006   \n",
       "1        Station  ChargingPoint  Station_ChargingPoint          0.413475   \n",
       "\n",
       "   operation_time  \n",
       "0       38.898573  \n",
       "1       68.313145  "
      ]
     },
     "execution_count": 16,
     "metadata": {},
     "output_type": "execute_result"
    }
   ],
   "source": [
    "# retrieve data\n",
    "df_tsc = pd.read_excel(\"data_tsc_y3.xlsx\")\n",
    "df_tsc = df_tsc[[\"origin\", \"target\", \"edge_id\", \"time_to_waypoint\", \"operation_time\"]]\n",
    "df_tsc.head(2)"
   ]
  },
  {
   "cell_type": "markdown",
   "metadata": {},
   "source": [
    "## 3b) TSC y4 - Betty"
   ]
  },
  {
   "cell_type": "code",
   "execution_count": 17,
   "metadata": {},
   "outputs": [
    {
     "name": "stdout",
     "output_type": "stream",
     "text": [
      "Time taken (get_adjacent): 0.6253266334533691 secs\n",
      "Time taken (get_length): 0.6882495880126953 secs\n",
      "3328\n",
      "3328\n",
      "Time taken (get_times): 1.249307632446289 secs\n",
      "0 iterations in 0.0 seconds\n",
      "Time taken (get_congestion): 5.345008373260498 seconds\n",
      "Unimodal:  3323\n",
      "Multimodal:  5\n"
     ]
    },
    {
     "data": {
      "text/html": [
       "<div>\n",
       "<style scoped>\n",
       "    .dataframe tbody tr th:only-of-type {\n",
       "        vertical-align: middle;\n",
       "    }\n",
       "\n",
       "    .dataframe tbody tr th {\n",
       "        vertical-align: top;\n",
       "    }\n",
       "\n",
       "    .dataframe thead th {\n",
       "        text-align: right;\n",
       "    }\n",
       "</style>\n",
       "<table border=\"1\" class=\"dataframe\">\n",
       "  <thead>\n",
       "    <tr style=\"text-align: right;\">\n",
       "      <th></th>\n",
       "      <th>origin</th>\n",
       "      <th>target</th>\n",
       "      <th>edge_id</th>\n",
       "      <th>time_to_waypoint</th>\n",
       "      <th>operation_time</th>\n",
       "    </tr>\n",
       "  </thead>\n",
       "  <tbody>\n",
       "    <tr>\n",
       "      <th>0</th>\n",
       "      <td>Station1</td>\n",
       "      <td>SmallKitchen</td>\n",
       "      <td>Station1_SmallKitchen</td>\n",
       "      <td>0.047758</td>\n",
       "      <td>9.263602</td>\n",
       "    </tr>\n",
       "    <tr>\n",
       "      <th>1</th>\n",
       "      <td>SmallKitchen</td>\n",
       "      <td>HospActRec4</td>\n",
       "      <td>SmallKitchen_HospActRec4</td>\n",
       "      <td>0.088824</td>\n",
       "      <td>8.628814</td>\n",
       "    </tr>\n",
       "  </tbody>\n",
       "</table>\n",
       "</div>"
      ],
      "text/plain": [
       "         origin        target                   edge_id  time_to_waypoint  \\\n",
       "0      Station1  SmallKitchen     Station1_SmallKitchen          0.047758   \n",
       "1  SmallKitchen   HospActRec4  SmallKitchen_HospActRec4          0.088824   \n",
       "\n",
       "   operation_time  \n",
       "0        9.263602  \n",
       "1        8.628814  "
      ]
     },
     "execution_count": 17,
     "metadata": {},
     "output_type": "execute_result"
    }
   ],
   "source": [
    "#1) Import data from PyMongo\n",
    "df = get_data_strands(address = \"tsc_betty\")\n",
    "\n",
    "adjacent = get_adjacent(\"tsc_map.yaml\")\n",
    "nodes = list(adjacent.keys())\n",
    "length = get_length(\"tsc_map.yaml\")\n",
    "edges = list(length.keys())\n",
    "df = df.loc[df[\"origin\"].isin(nodes)]\n",
    "df = df.loc[df[\"target\"].isin(nodes)]\n",
    "df = df.loc[df[\"edge_id\"].isin(edges)]\n",
    "print(len(df))\n",
    "\n",
    "#2) Remove data with invalid origin/target\n",
    "#adjacent = get_adjacent(\"aaf_map.yaml\")\n",
    "df = get_valid1(df, adjacent)\n",
    "print(len(df))\n",
    "\n",
    "#3) Change format of datetimes in dataframe to datetime.datetime object\n",
    "df = get_times(df)\n",
    "\n",
    "#4) Count congestion level\n",
    "df = get_congestion_strands(df, adjacent)\n",
    "print(\"Unimodal: \", len(df[df[\"n_robots\"] == 1]))\n",
    "print(\"Multimodal: \", len(df[df[\"n_robots\"] != 1]))\n",
    "\n",
    "#5) remove final, unsuccessful, multimodal runs\n",
    "df_tsc = get_valid2(df)\n",
    "df_tsc.head(2)"
   ]
  },
  {
   "cell_type": "code",
   "execution_count": 18,
   "metadata": {},
   "outputs": [
    {
     "name": "stdout",
     "output_type": "stream",
     "text": [
      "done\n"
     ]
    }
   ],
   "source": [
    "#6) save to excel\n",
    "df_tsc.to_excel(\"data_tsc_betty.xlsx\")\n",
    "print(\"done\")"
   ]
  },
  {
   "cell_type": "code",
   "execution_count": 19,
   "metadata": {},
   "outputs": [
    {
     "data": {
      "text/html": [
       "<div>\n",
       "<style scoped>\n",
       "    .dataframe tbody tr th:only-of-type {\n",
       "        vertical-align: middle;\n",
       "    }\n",
       "\n",
       "    .dataframe tbody tr th {\n",
       "        vertical-align: top;\n",
       "    }\n",
       "\n",
       "    .dataframe thead th {\n",
       "        text-align: right;\n",
       "    }\n",
       "</style>\n",
       "<table border=\"1\" class=\"dataframe\">\n",
       "  <thead>\n",
       "    <tr style=\"text-align: right;\">\n",
       "      <th></th>\n",
       "      <th>origin</th>\n",
       "      <th>target</th>\n",
       "      <th>edge_id</th>\n",
       "      <th>time_to_waypoint</th>\n",
       "      <th>operation_time</th>\n",
       "    </tr>\n",
       "  </thead>\n",
       "  <tbody>\n",
       "    <tr>\n",
       "      <th>0</th>\n",
       "      <td>Station1</td>\n",
       "      <td>SmallKitchen</td>\n",
       "      <td>Station1_SmallKitchen</td>\n",
       "      <td>0.047758</td>\n",
       "      <td>9.263602</td>\n",
       "    </tr>\n",
       "    <tr>\n",
       "      <th>1</th>\n",
       "      <td>SmallKitchen</td>\n",
       "      <td>HospActRec4</td>\n",
       "      <td>SmallKitchen_HospActRec4</td>\n",
       "      <td>0.088824</td>\n",
       "      <td>8.628814</td>\n",
       "    </tr>\n",
       "  </tbody>\n",
       "</table>\n",
       "</div>"
      ],
      "text/plain": [
       "         origin        target                   edge_id  time_to_waypoint  \\\n",
       "0      Station1  SmallKitchen     Station1_SmallKitchen          0.047758   \n",
       "1  SmallKitchen   HospActRec4  SmallKitchen_HospActRec4          0.088824   \n",
       "\n",
       "   operation_time  \n",
       "0        9.263602  \n",
       "1        8.628814  "
      ]
     },
     "execution_count": 19,
     "metadata": {},
     "output_type": "execute_result"
    }
   ],
   "source": [
    "# retrieve data\n",
    "df_tsc = pd.read_excel(\"data_tsc_betty.xlsx\")\n",
    "df_tsc = df_tsc[[\"origin\", \"target\", \"edge_id\", \"time_to_waypoint\", \"operation_time\"]]\n",
    "df_tsc.head(2)"
   ]
  },
  {
   "cell_type": "markdown",
   "metadata": {},
   "source": [
    "## 3c) TSC y4 - Bob"
   ]
  },
  {
   "cell_type": "code",
   "execution_count": 20,
   "metadata": {},
   "outputs": [
    {
     "name": "stdout",
     "output_type": "stream",
     "text": [
      "Time taken (get_adjacent): 0.6218209266662598 secs\n",
      "Time taken (get_length): 0.7084434032440186 secs\n",
      "9012\n",
      "9012\n",
      "Time taken (get_times): 4.291471719741821 secs\n",
      "0 iterations in 0.0009970664978027344 seconds\n",
      "5000 iterations in 12.75844407081604 seconds\n",
      "Time taken (get_congestion): 23.258085250854492 seconds\n",
      "Unimodal:  8986\n",
      "Multimodal:  26\n"
     ]
    },
    {
     "data": {
      "text/html": [
       "<div>\n",
       "<style scoped>\n",
       "    .dataframe tbody tr th:only-of-type {\n",
       "        vertical-align: middle;\n",
       "    }\n",
       "\n",
       "    .dataframe tbody tr th {\n",
       "        vertical-align: top;\n",
       "    }\n",
       "\n",
       "    .dataframe thead th {\n",
       "        text-align: right;\n",
       "    }\n",
       "</style>\n",
       "<table border=\"1\" class=\"dataframe\">\n",
       "  <thead>\n",
       "    <tr style=\"text-align: right;\">\n",
       "      <th></th>\n",
       "      <th>origin</th>\n",
       "      <th>target</th>\n",
       "      <th>edge_id</th>\n",
       "      <th>time_to_waypoint</th>\n",
       "      <th>operation_time</th>\n",
       "    </tr>\n",
       "  </thead>\n",
       "  <tbody>\n",
       "    <tr>\n",
       "      <th>1</th>\n",
       "      <td>Station1</td>\n",
       "      <td>SmallKitchen</td>\n",
       "      <td>Station1_SmallKitchen</td>\n",
       "      <td>0.054096</td>\n",
       "      <td>4.340037</td>\n",
       "    </tr>\n",
       "    <tr>\n",
       "      <th>2</th>\n",
       "      <td>SmallKitchen</td>\n",
       "      <td>HospActRec4</td>\n",
       "      <td>SmallKitchen_HospActRec4</td>\n",
       "      <td>0.077031</td>\n",
       "      <td>5.906566</td>\n",
       "    </tr>\n",
       "  </tbody>\n",
       "</table>\n",
       "</div>"
      ],
      "text/plain": [
       "         origin        target                   edge_id  time_to_waypoint  \\\n",
       "1      Station1  SmallKitchen     Station1_SmallKitchen          0.054096   \n",
       "2  SmallKitchen   HospActRec4  SmallKitchen_HospActRec4          0.077031   \n",
       "\n",
       "   operation_time  \n",
       "1        4.340037  \n",
       "2        5.906566  "
      ]
     },
     "execution_count": 20,
     "metadata": {},
     "output_type": "execute_result"
    }
   ],
   "source": [
    "#1) Import data from PyMongo\n",
    "df = get_data_strands(address = \"tsc_bob\")\n",
    "\n",
    "adjacent = get_adjacent(\"tsc_map.yaml\")\n",
    "nodes = list(adjacent.keys())\n",
    "length = get_length(\"tsc_map.yaml\")\n",
    "edges = list(length.keys())\n",
    "df = df.loc[df[\"origin\"].isin(nodes)]\n",
    "df = df.loc[df[\"target\"].isin(nodes)]\n",
    "df = df.loc[df[\"edge_id\"].isin(edges)]\n",
    "print(len(df))\n",
    "\n",
    "#2) Remove data with invalid origin/target\n",
    "#adjacent = get_adjacent(\"aaf_map.yaml\")\n",
    "df = get_valid1(df, adjacent)\n",
    "print(len(df))\n",
    "\n",
    "#3) Change format of datetimes in dataframe to datetime.datetime object\n",
    "df = get_times(df)\n",
    "\n",
    "#4) Count congestion level\n",
    "df = get_congestion_strands(df, adjacent)\n",
    "print(\"Unimodal: \", len(df[df[\"n_robots\"] == 1]))\n",
    "print(\"Multimodal: \", len(df[df[\"n_robots\"] != 1]))\n",
    "\n",
    "#5) remove final, unsuccessful, multimodal runs\n",
    "df_tsc = get_valid2(df)\n",
    "df_tsc.head(2)"
   ]
  },
  {
   "cell_type": "code",
   "execution_count": 21,
   "metadata": {},
   "outputs": [
    {
     "name": "stdout",
     "output_type": "stream",
     "text": [
      "done\n"
     ]
    }
   ],
   "source": [
    "#6) save to excel\n",
    "df_tsc.to_excel(\"data_tsc_bob.xlsx\")\n",
    "print(\"done\")"
   ]
  },
  {
   "cell_type": "code",
   "execution_count": 22,
   "metadata": {},
   "outputs": [
    {
     "data": {
      "text/html": [
       "<div>\n",
       "<style scoped>\n",
       "    .dataframe tbody tr th:only-of-type {\n",
       "        vertical-align: middle;\n",
       "    }\n",
       "\n",
       "    .dataframe tbody tr th {\n",
       "        vertical-align: top;\n",
       "    }\n",
       "\n",
       "    .dataframe thead th {\n",
       "        text-align: right;\n",
       "    }\n",
       "</style>\n",
       "<table border=\"1\" class=\"dataframe\">\n",
       "  <thead>\n",
       "    <tr style=\"text-align: right;\">\n",
       "      <th></th>\n",
       "      <th>origin</th>\n",
       "      <th>target</th>\n",
       "      <th>edge_id</th>\n",
       "      <th>time_to_waypoint</th>\n",
       "      <th>operation_time</th>\n",
       "    </tr>\n",
       "  </thead>\n",
       "  <tbody>\n",
       "    <tr>\n",
       "      <th>0</th>\n",
       "      <td>Station1</td>\n",
       "      <td>SmallKitchen</td>\n",
       "      <td>Station1_SmallKitchen</td>\n",
       "      <td>0.054096</td>\n",
       "      <td>4.340037</td>\n",
       "    </tr>\n",
       "    <tr>\n",
       "      <th>1</th>\n",
       "      <td>SmallKitchen</td>\n",
       "      <td>HospActRec4</td>\n",
       "      <td>SmallKitchen_HospActRec4</td>\n",
       "      <td>0.077031</td>\n",
       "      <td>5.906566</td>\n",
       "    </tr>\n",
       "  </tbody>\n",
       "</table>\n",
       "</div>"
      ],
      "text/plain": [
       "         origin        target                   edge_id  time_to_waypoint  \\\n",
       "0      Station1  SmallKitchen     Station1_SmallKitchen          0.054096   \n",
       "1  SmallKitchen   HospActRec4  SmallKitchen_HospActRec4          0.077031   \n",
       "\n",
       "   operation_time  \n",
       "0        4.340037  \n",
       "1        5.906566  "
      ]
     },
     "execution_count": 22,
     "metadata": {},
     "output_type": "execute_result"
    }
   ],
   "source": [
    "# retrieve data\n",
    "df_tsc_bob = pd.read_excel(\"data_tsc_bob.xlsx\")\n",
    "df_tsc_bob = df_tsc_bob[[\"origin\", \"target\", \"edge_id\", \"time_to_waypoint\", \"operation_time\"]]\n",
    "df_tsc_bob.head(2)"
   ]
  },
  {
   "cell_type": "markdown",
   "metadata": {},
   "source": [
    "# 4) LABS"
   ]
  },
  {
   "cell_type": "code",
   "execution_count": 24,
   "metadata": {},
   "outputs": [
    {
     "name": "stdout",
     "output_type": "stream",
     "text": [
      "Time taken (get_adjacent): 0.0687873363494873 secs\n",
      "Time taken (get_length): 0.07582998275756836 secs\n",
      "2135\n",
      "2135\n",
      "Time taken (get_times): 0.7789156436920166 secs\n",
      "0 iterations in 0.0 seconds\n",
      "Time taken (get_congestion): 2.9336893558502197 seconds\n",
      "Unimodal:  1877\n",
      "Multimodal:  258\n"
     ]
    },
    {
     "data": {
      "text/html": [
       "<div>\n",
       "<style scoped>\n",
       "    .dataframe tbody tr th:only-of-type {\n",
       "        vertical-align: middle;\n",
       "    }\n",
       "\n",
       "    .dataframe tbody tr th {\n",
       "        vertical-align: top;\n",
       "    }\n",
       "\n",
       "    .dataframe thead th {\n",
       "        text-align: right;\n",
       "    }\n",
       "</style>\n",
       "<table border=\"1\" class=\"dataframe\">\n",
       "  <thead>\n",
       "    <tr style=\"text-align: right;\">\n",
       "      <th></th>\n",
       "      <th>origin</th>\n",
       "      <th>target</th>\n",
       "      <th>edge_id</th>\n",
       "      <th>time_to_waypoint</th>\n",
       "      <th>operation_time</th>\n",
       "    </tr>\n",
       "  </thead>\n",
       "  <tbody>\n",
       "    <tr>\n",
       "      <th>1</th>\n",
       "      <td>WayPoint2</td>\n",
       "      <td>WayPoint1</td>\n",
       "      <td>WayPoint2_WayPoint1</td>\n",
       "      <td>0.124470</td>\n",
       "      <td>20.516262</td>\n",
       "    </tr>\n",
       "    <tr>\n",
       "      <th>2</th>\n",
       "      <td>WayPoint9</td>\n",
       "      <td>WayPoint1</td>\n",
       "      <td>WayPoint9_WayPoint1</td>\n",
       "      <td>4.591103</td>\n",
       "      <td>15.661669</td>\n",
       "    </tr>\n",
       "  </tbody>\n",
       "</table>\n",
       "</div>"
      ],
      "text/plain": [
       "      origin     target              edge_id  time_to_waypoint  operation_time\n",
       "1  WayPoint2  WayPoint1  WayPoint2_WayPoint1          0.124470       20.516262\n",
       "2  WayPoint9  WayPoint1  WayPoint9_WayPoint1          4.591103       15.661669"
      ]
     },
     "execution_count": 24,
     "metadata": {},
     "output_type": "execute_result"
    }
   ],
   "source": [
    "#1) Import data from PyMongo\n",
    "df = get_data_strands(address = \"labs\")\n",
    "\n",
    "adjacent = get_adjacent(\"labs_map.yaml\")\n",
    "nodes = list(adjacent.keys())\n",
    "length = get_length(\"labs_map.yaml\")\n",
    "edges = list(length.keys())\n",
    "df = df.loc[df[\"origin\"].isin(nodes)]\n",
    "df = df.loc[df[\"target\"].isin(nodes)]\n",
    "df = df.loc[df[\"edge_id\"].isin(edges)]\n",
    "print(len(df))\n",
    "\n",
    "#2) Remove data with invalid origin/target\n",
    "df = get_valid1(df, adjacent)\n",
    "print(len(df))\n",
    "\n",
    "#3) Change format of datetimes in dataframe to datetime.datetime object\n",
    "df = get_times(df)\n",
    "\n",
    "#4) Count congestion level\n",
    "df = get_congestion_strands(df, adjacent)\n",
    "print(\"Unimodal: \", len(df[df[\"n_robots\"] == 1]))\n",
    "print(\"Multimodal: \", len(df[df[\"n_robots\"] != 1]))\n",
    "\n",
    "#5) remove final, unsuccessful, multimodal runs\n",
    "df_labs = get_valid2(df)\n",
    "df_labs.head(2)"
   ]
  },
  {
   "cell_type": "code",
   "execution_count": 28,
   "metadata": {},
   "outputs": [
    {
     "name": "stdout",
     "output_type": "stream",
     "text": [
      "done\n"
     ]
    }
   ],
   "source": [
    "#6) save to excel\n",
    "df_labs.to_excel(\"data_labs.xlsx\")\n",
    "print(\"done\")"
   ]
  },
  {
   "cell_type": "code",
   "execution_count": 29,
   "metadata": {},
   "outputs": [
    {
     "data": {
      "text/html": [
       "<div>\n",
       "<style scoped>\n",
       "    .dataframe tbody tr th:only-of-type {\n",
       "        vertical-align: middle;\n",
       "    }\n",
       "\n",
       "    .dataframe tbody tr th {\n",
       "        vertical-align: top;\n",
       "    }\n",
       "\n",
       "    .dataframe thead th {\n",
       "        text-align: right;\n",
       "    }\n",
       "</style>\n",
       "<table border=\"1\" class=\"dataframe\">\n",
       "  <thead>\n",
       "    <tr style=\"text-align: right;\">\n",
       "      <th></th>\n",
       "      <th>origin</th>\n",
       "      <th>target</th>\n",
       "      <th>edge_id</th>\n",
       "      <th>time_to_waypoint</th>\n",
       "      <th>operation_time</th>\n",
       "    </tr>\n",
       "  </thead>\n",
       "  <tbody>\n",
       "    <tr>\n",
       "      <th>0</th>\n",
       "      <td>WayPoint2</td>\n",
       "      <td>WayPoint1</td>\n",
       "      <td>WayPoint2_WayPoint1</td>\n",
       "      <td>0.124470</td>\n",
       "      <td>20.516262</td>\n",
       "    </tr>\n",
       "    <tr>\n",
       "      <th>1</th>\n",
       "      <td>WayPoint9</td>\n",
       "      <td>WayPoint1</td>\n",
       "      <td>WayPoint9_WayPoint1</td>\n",
       "      <td>4.591103</td>\n",
       "      <td>15.661669</td>\n",
       "    </tr>\n",
       "  </tbody>\n",
       "</table>\n",
       "</div>"
      ],
      "text/plain": [
       "      origin     target              edge_id  time_to_waypoint  operation_time\n",
       "0  WayPoint2  WayPoint1  WayPoint2_WayPoint1          0.124470       20.516262\n",
       "1  WayPoint9  WayPoint1  WayPoint9_WayPoint1          4.591103       15.661669"
      ]
     },
     "execution_count": 29,
     "metadata": {},
     "output_type": "execute_result"
    }
   ],
   "source": [
    "# retrieve data\n",
    "df_labs = pd.read_excel(\"data_labs.xlsx\")\n",
    "df_labs = df_labs[[\"origin\", \"target\", \"edge_id\", \"time_to_waypoint\", \"operation_time\"]]\n",
    "df_labs.head(2)"
   ]
  },
  {
   "cell_type": "markdown",
   "metadata": {},
   "source": [
    "# 5) Blenheim"
   ]
  },
  {
   "cell_type": "markdown",
   "metadata": {},
   "source": [
    "## 5a) Blenheim - Random"
   ]
  },
  {
   "cell_type": "code",
   "execution_count": 4,
   "metadata": {},
   "outputs": [
    {
     "name": "stdout",
     "output_type": "stream",
     "text": [
      "14981\n",
      "Time taken (get_adjacent): 0.08033394813537598 secs\n",
      "0 iterations in 0.0 secs\n",
      "1000 iterations in 2.798766613006592 secs\n",
      "2000 iterations in 5.397456407546997 secs\n",
      "3000 iterations in 7.944075107574463 secs\n",
      "4000 iterations in 10.514322996139526 secs\n",
      "5000 iterations in 13.142079591751099 secs\n",
      "6000 iterations in 15.826276302337646 secs\n",
      "7000 iterations in 18.428619384765625 secs\n",
      "8000 iterations in 21.01589798927307 secs\n",
      "9000 iterations in 23.64856719970703 secs\n",
      "10000 iterations in 26.362740516662598 secs\n",
      "11000 iterations in 29.00086808204651 secs\n",
      "12000 iterations in 31.751248836517334 secs\n",
      "13000 iterations in 34.32987403869629 secs\n",
      "14000 iterations in 36.891441106796265 secs\n",
      "Time taken(get_congestion): 39.43900394439697 secs\n"
     ]
    },
    {
     "data": {
      "text/plain": [
       "1    8068\n",
       "2    5016\n",
       "3    1566\n",
       "4     281\n",
       "5      50\n",
       "Name: n_robots, dtype: int64"
      ]
     },
     "execution_count": 4,
     "metadata": {},
     "output_type": "execute_result"
    }
   ],
   "source": [
    "#1) Import data from PyMongo\n",
    "df = get_data(address = \"blenheim_random\")\n",
    "print(len(df))\n",
    "adjacent = get_adjacent(\"blenheim_map.yaml\")\n",
    "df = get_congestion(df, adjacent)\n",
    "df[\"n_robots\"].value_counts()"
   ]
  },
  {
   "cell_type": "code",
   "execution_count": 12,
   "metadata": {},
   "outputs": [
    {
     "name": "stdout",
     "output_type": "stream",
     "text": [
      "Total Filtered\n",
      "14981 3856\n"
     ]
    },
    {
     "data": {
      "text/plain": [
       "1    3856\n",
       "Name: n_robots, dtype: int64"
      ]
     },
     "execution_count": 12,
     "metadata": {},
     "output_type": "execute_result"
    }
   ],
   "source": [
    "df_blenheim_random = get_valid(df, remove_multimodal = True, remove_initial = True)\n",
    "print(\"Total\", \"Filtered\")\n",
    "print(len(df), len(df_blenheim_random))\n",
    "df_blenheim_random[\"n_robots\"].value_counts()"
   ]
  },
  {
   "cell_type": "code",
   "execution_count": 14,
   "metadata": {},
   "outputs": [
    {
     "name": "stdout",
     "output_type": "stream",
     "text": [
      "done\n"
     ]
    }
   ],
   "source": [
    "#6) save to excel\n",
    "df_blenheim_random.to_excel(\"data_blenheim_random.xlsx\")\n",
    "print(\"done\")"
   ]
  },
  {
   "cell_type": "code",
   "execution_count": 15,
   "metadata": {},
   "outputs": [
    {
     "data": {
      "text/html": [
       "<div>\n",
       "<style scoped>\n",
       "    .dataframe tbody tr th:only-of-type {\n",
       "        vertical-align: middle;\n",
       "    }\n",
       "\n",
       "    .dataframe tbody tr th {\n",
       "        vertical-align: top;\n",
       "    }\n",
       "\n",
       "    .dataframe thead th {\n",
       "        text-align: right;\n",
       "    }\n",
       "</style>\n",
       "<table border=\"1\" class=\"dataframe\">\n",
       "  <thead>\n",
       "    <tr style=\"text-align: right;\">\n",
       "      <th></th>\n",
       "      <th>origin</th>\n",
       "      <th>target</th>\n",
       "      <th>edge_id</th>\n",
       "      <th>operation_time</th>\n",
       "    </tr>\n",
       "  </thead>\n",
       "  <tbody>\n",
       "    <tr>\n",
       "      <th>0</th>\n",
       "      <td>WayPoint4</td>\n",
       "      <td>WayPoint7</td>\n",
       "      <td>WayPoint4_WayPoint7</td>\n",
       "      <td>12.409</td>\n",
       "    </tr>\n",
       "    <tr>\n",
       "      <th>1</th>\n",
       "      <td>WayPoint7</td>\n",
       "      <td>WayPoint10</td>\n",
       "      <td>WayPoint7_WayPoint10</td>\n",
       "      <td>13.035</td>\n",
       "    </tr>\n",
       "  </tbody>\n",
       "</table>\n",
       "</div>"
      ],
      "text/plain": [
       "      origin      target               edge_id  operation_time\n",
       "0  WayPoint4   WayPoint7   WayPoint4_WayPoint7          12.409\n",
       "1  WayPoint7  WayPoint10  WayPoint7_WayPoint10          13.035"
      ]
     },
     "execution_count": 15,
     "metadata": {},
     "output_type": "execute_result"
    }
   ],
   "source": [
    "# retrieve data\n",
    "df_blenheim_random = pd.read_excel(\"data_blenheim_random.xlsx\")\n",
    "df_blenheim_random = df_blenheim_random[[\"origin\", \"target\", \"edge_id\", \"operation_time\"]]\n",
    "df_blenheim_random.head(2)"
   ]
  },
  {
   "cell_type": "markdown",
   "metadata": {},
   "source": [
    "## 5b) Blenheim - Targeted"
   ]
  },
  {
   "cell_type": "code",
   "execution_count": 16,
   "metadata": {},
   "outputs": [
    {
     "name": "stdout",
     "output_type": "stream",
     "text": [
      "15313\n",
      "Time taken (get_adjacent): 0.07280182838439941 secs\n",
      "0 iterations in 0.0 secs\n",
      "1000 iterations in 3.1794633865356445 secs\n",
      "2000 iterations in 6.315648078918457 secs\n",
      "3000 iterations in 9.647743701934814 secs\n",
      "4000 iterations in 12.92554259300232 secs\n",
      "5000 iterations in 16.085098266601562 secs\n",
      "6000 iterations in 19.368311882019043 secs\n",
      "7000 iterations in 22.323288202285767 secs\n",
      "8000 iterations in 24.916285037994385 secs\n",
      "9000 iterations in 27.510733604431152 secs\n",
      "10000 iterations in 30.133982181549072 secs\n",
      "11000 iterations in 32.7216694355011 secs\n",
      "12000 iterations in 35.44045662879944 secs\n",
      "13000 iterations in 38.094433307647705 secs\n",
      "14000 iterations in 40.80913758277893 secs\n",
      "15000 iterations in 43.41208291053772 secs\n",
      "Time taken(get_congestion): 44.22226810455322 secs\n",
      "Total Filtered\n",
      "15313 4288\n"
     ]
    },
    {
     "data": {
      "text/plain": [
       "1    4288\n",
       "Name: n_robots, dtype: int64"
      ]
     },
     "execution_count": 16,
     "metadata": {},
     "output_type": "execute_result"
    }
   ],
   "source": [
    "#1) Import data from PyMongo\n",
    "df = get_data(address = \"blenheim_targeted\")\n",
    "print(len(df))\n",
    "adjacent = get_adjacent(\"blenheim_map.yaml\")\n",
    "df = get_congestion(df, adjacent)\n",
    "\n",
    "df_blenheim_targeted = get_valid(df, remove_multimodal = True, remove_initial = True)\n",
    "print(\"Total\", \"Filtered\")\n",
    "print(len(df), len(df_blenheim_targeted))\n",
    "df_blenheim_targeted[\"n_robots\"].value_counts()"
   ]
  },
  {
   "cell_type": "code",
   "execution_count": 18,
   "metadata": {},
   "outputs": [
    {
     "name": "stdout",
     "output_type": "stream",
     "text": [
      "done\n"
     ]
    }
   ],
   "source": [
    "#6) save to excel\n",
    "df_blenheim_targeted.to_excel(\"data_blenheim_targeted.xlsx\")\n",
    "print(\"done\")"
   ]
  },
  {
   "cell_type": "code",
   "execution_count": 20,
   "metadata": {},
   "outputs": [
    {
     "data": {
      "text/html": [
       "<div>\n",
       "<style scoped>\n",
       "    .dataframe tbody tr th:only-of-type {\n",
       "        vertical-align: middle;\n",
       "    }\n",
       "\n",
       "    .dataframe tbody tr th {\n",
       "        vertical-align: top;\n",
       "    }\n",
       "\n",
       "    .dataframe thead th {\n",
       "        text-align: right;\n",
       "    }\n",
       "</style>\n",
       "<table border=\"1\" class=\"dataframe\">\n",
       "  <thead>\n",
       "    <tr style=\"text-align: right;\">\n",
       "      <th></th>\n",
       "      <th>origin</th>\n",
       "      <th>target</th>\n",
       "      <th>edge_id</th>\n",
       "      <th>operation_time</th>\n",
       "    </tr>\n",
       "  </thead>\n",
       "  <tbody>\n",
       "    <tr>\n",
       "      <th>0</th>\n",
       "      <td>WayPoint4</td>\n",
       "      <td>WayPoint7</td>\n",
       "      <td>WayPoint4_WayPoint7</td>\n",
       "      <td>11.574</td>\n",
       "    </tr>\n",
       "    <tr>\n",
       "      <th>1</th>\n",
       "      <td>WayPoint7</td>\n",
       "      <td>WayPoint10</td>\n",
       "      <td>WayPoint7_WayPoint10</td>\n",
       "      <td>12.874</td>\n",
       "    </tr>\n",
       "  </tbody>\n",
       "</table>\n",
       "</div>"
      ],
      "text/plain": [
       "      origin      target               edge_id  operation_time\n",
       "0  WayPoint4   WayPoint7   WayPoint4_WayPoint7          11.574\n",
       "1  WayPoint7  WayPoint10  WayPoint7_WayPoint10          12.874"
      ]
     },
     "execution_count": 20,
     "metadata": {},
     "output_type": "execute_result"
    }
   ],
   "source": [
    "# retrieve data\n",
    "df_blenheim_targeted = pd.read_excel(\"data_blenheim_targeted.xlsx\")\n",
    "df_blenheim_targeted = df_blenheim_targeted[[\"origin\", \"target\", \"edge_id\", \"operation_time\"]]\n",
    "df_blenheim_targeted.head(2)"
   ]
  },
  {
   "cell_type": "markdown",
   "metadata": {},
   "source": [
    "# 6) Walmart"
   ]
  },
  {
   "cell_type": "markdown",
   "metadata": {},
   "source": [
    "## 6a) Walmart - Random"
   ]
  },
  {
   "cell_type": "code",
   "execution_count": 21,
   "metadata": {},
   "outputs": [
    {
     "name": "stdout",
     "output_type": "stream",
     "text": [
      "17205\n",
      "Time taken (get_adjacent): 0.8186111450195312 secs\n",
      "0 iterations in 0.0 secs\n",
      "1000 iterations in 2.9142963886260986 secs\n",
      "2000 iterations in 5.735819339752197 secs\n",
      "3000 iterations in 8.370919466018677 secs\n",
      "4000 iterations in 11.008217334747314 secs\n",
      "5000 iterations in 13.613222599029541 secs\n",
      "6000 iterations in 16.33234190940857 secs\n",
      "7000 iterations in 19.00762104988098 secs\n",
      "8000 iterations in 21.894545793533325 secs\n",
      "9000 iterations in 24.572200775146484 secs\n",
      "10000 iterations in 27.257786750793457 secs\n",
      "11000 iterations in 30.157704830169678 secs\n",
      "12000 iterations in 33.081082582473755 secs\n",
      "13000 iterations in 35.744940996170044 secs\n",
      "14000 iterations in 38.635194540023804 secs\n",
      "15000 iterations in 41.28367280960083 secs\n",
      "16000 iterations in 44.16515564918518 secs\n",
      "17000 iterations in 46.94177055358887 secs\n",
      "Time taken(get_congestion): 47.532031536102295 secs\n",
      "Total Filtered\n",
      "17205 11210\n"
     ]
    },
    {
     "data": {
      "text/plain": [
       "1    11210\n",
       "Name: n_robots, dtype: int64"
      ]
     },
     "execution_count": 21,
     "metadata": {},
     "output_type": "execute_result"
    }
   ],
   "source": [
    "#1) Import data from PyMongo\n",
    "df = get_data(address = \"walmart_random\")\n",
    "print(len(df))\n",
    "adjacent = get_adjacent(\"walmart_map.yaml\")\n",
    "df = get_congestion(df, adjacent)\n",
    "\n",
    "df_walmart_random = get_valid(df, remove_multimodal = True, remove_initial = True)\n",
    "print(\"Total\", \"Filtered\")\n",
    "print(len(df), len(df_walmart_random))\n",
    "df_walmart_random[\"n_robots\"].value_counts()"
   ]
  },
  {
   "cell_type": "code",
   "execution_count": 22,
   "metadata": {},
   "outputs": [
    {
     "name": "stdout",
     "output_type": "stream",
     "text": [
      "done\n"
     ]
    }
   ],
   "source": [
    "#6) save to excel\n",
    "df_walmart_random.to_excel(\"data_walmart_random.xlsx\")\n",
    "print(\"done\")"
   ]
  },
  {
   "cell_type": "code",
   "execution_count": 23,
   "metadata": {},
   "outputs": [
    {
     "data": {
      "text/html": [
       "<div>\n",
       "<style scoped>\n",
       "    .dataframe tbody tr th:only-of-type {\n",
       "        vertical-align: middle;\n",
       "    }\n",
       "\n",
       "    .dataframe tbody tr th {\n",
       "        vertical-align: top;\n",
       "    }\n",
       "\n",
       "    .dataframe thead th {\n",
       "        text-align: right;\n",
       "    }\n",
       "</style>\n",
       "<table border=\"1\" class=\"dataframe\">\n",
       "  <thead>\n",
       "    <tr style=\"text-align: right;\">\n",
       "      <th></th>\n",
       "      <th>origin</th>\n",
       "      <th>target</th>\n",
       "      <th>edge_id</th>\n",
       "      <th>operation_time</th>\n",
       "    </tr>\n",
       "  </thead>\n",
       "  <tbody>\n",
       "    <tr>\n",
       "      <th>0</th>\n",
       "      <td>WayPoint110</td>\n",
       "      <td>WayPoint68</td>\n",
       "      <td>WayPoint110_WayPoint68</td>\n",
       "      <td>4.898</td>\n",
       "    </tr>\n",
       "    <tr>\n",
       "      <th>1</th>\n",
       "      <td>WayPoint61</td>\n",
       "      <td>WayPoint54</td>\n",
       "      <td>WayPoint61_WayPoint54</td>\n",
       "      <td>9.276</td>\n",
       "    </tr>\n",
       "  </tbody>\n",
       "</table>\n",
       "</div>"
      ],
      "text/plain": [
       "        origin      target                 edge_id  operation_time\n",
       "0  WayPoint110  WayPoint68  WayPoint110_WayPoint68           4.898\n",
       "1   WayPoint61  WayPoint54   WayPoint61_WayPoint54           9.276"
      ]
     },
     "execution_count": 23,
     "metadata": {},
     "output_type": "execute_result"
    }
   ],
   "source": [
    "# retrieve data\n",
    "df_walmart_random = pd.read_excel(\"data_walmart_random.xlsx\")\n",
    "df_walmart_random = df_walmart_random[[\"origin\", \"target\", \"edge_id\", \"operation_time\"]]\n",
    "df_walmart_random.head(2)"
   ]
  },
  {
   "cell_type": "markdown",
   "metadata": {},
   "source": [
    "## 6b) Walmart - Targeted"
   ]
  },
  {
   "cell_type": "code",
   "execution_count": 24,
   "metadata": {},
   "outputs": [
    {
     "name": "stdout",
     "output_type": "stream",
     "text": [
      "14173\n",
      "Time taken (get_adjacent): 0.7658038139343262 secs\n",
      "0 iterations in 0.0 secs\n",
      "1000 iterations in 3.093173027038574 secs\n",
      "2000 iterations in 6.159881830215454 secs\n",
      "3000 iterations in 9.3738272190094 secs\n",
      "4000 iterations in 12.330931186676025 secs\n",
      "5000 iterations in 15.255314588546753 secs\n",
      "6000 iterations in 18.23589062690735 secs\n",
      "7000 iterations in 21.141523838043213 secs\n",
      "8000 iterations in 23.792858362197876 secs\n",
      "9000 iterations in 26.387338161468506 secs\n",
      "10000 iterations in 28.90957021713257 secs\n",
      "11000 iterations in 31.50509476661682 secs\n",
      "12000 iterations in 34.220862865448 secs\n",
      "13000 iterations in 36.694212198257446 secs\n",
      "14000 iterations in 39.288665533065796 secs\n",
      "Time taken(get_congestion): 39.754576206207275 secs\n",
      "Total Filtered\n",
      "14173 4967\n"
     ]
    },
    {
     "data": {
      "text/plain": [
       "1    4967\n",
       "Name: n_robots, dtype: int64"
      ]
     },
     "execution_count": 24,
     "metadata": {},
     "output_type": "execute_result"
    }
   ],
   "source": [
    "#1) Import data from PyMongo\n",
    "df = get_data(address = \"walmart_targeted\")\n",
    "print(len(df))\n",
    "adjacent = get_adjacent(\"walmart_map.yaml\")\n",
    "df = get_congestion(df, adjacent)\n",
    "\n",
    "df_walmart_targeted = get_valid(df, remove_multimodal = True, remove_initial = True)\n",
    "print(\"Total\", \"Filtered\")\n",
    "print(len(df), len(df_walmart_targeted))\n",
    "df_walmart_targeted[\"n_robots\"].value_counts()"
   ]
  },
  {
   "cell_type": "code",
   "execution_count": 25,
   "metadata": {},
   "outputs": [
    {
     "name": "stdout",
     "output_type": "stream",
     "text": [
      "done\n"
     ]
    }
   ],
   "source": [
    "#6) save to excel\n",
    "df_walmart_targeted.to_excel(\"data_walmart_targeted.xlsx\")\n",
    "print(\"done\")"
   ]
  },
  {
   "cell_type": "code",
   "execution_count": 26,
   "metadata": {},
   "outputs": [
    {
     "data": {
      "text/html": [
       "<div>\n",
       "<style scoped>\n",
       "    .dataframe tbody tr th:only-of-type {\n",
       "        vertical-align: middle;\n",
       "    }\n",
       "\n",
       "    .dataframe tbody tr th {\n",
       "        vertical-align: top;\n",
       "    }\n",
       "\n",
       "    .dataframe thead th {\n",
       "        text-align: right;\n",
       "    }\n",
       "</style>\n",
       "<table border=\"1\" class=\"dataframe\">\n",
       "  <thead>\n",
       "    <tr style=\"text-align: right;\">\n",
       "      <th></th>\n",
       "      <th>origin</th>\n",
       "      <th>target</th>\n",
       "      <th>edge_id</th>\n",
       "      <th>operation_time</th>\n",
       "    </tr>\n",
       "  </thead>\n",
       "  <tbody>\n",
       "    <tr>\n",
       "      <th>0</th>\n",
       "      <td>WayPoint110</td>\n",
       "      <td>WayPoint68</td>\n",
       "      <td>WayPoint110_WayPoint68</td>\n",
       "      <td>5.179</td>\n",
       "    </tr>\n",
       "    <tr>\n",
       "      <th>1</th>\n",
       "      <td>WayPoint68</td>\n",
       "      <td>WayPoint75</td>\n",
       "      <td>WayPoint68_WayPoint75</td>\n",
       "      <td>9.396</td>\n",
       "    </tr>\n",
       "  </tbody>\n",
       "</table>\n",
       "</div>"
      ],
      "text/plain": [
       "        origin      target                 edge_id  operation_time\n",
       "0  WayPoint110  WayPoint68  WayPoint110_WayPoint68           5.179\n",
       "1   WayPoint68  WayPoint75   WayPoint68_WayPoint75           9.396"
      ]
     },
     "execution_count": 26,
     "metadata": {},
     "output_type": "execute_result"
    }
   ],
   "source": [
    "# retrieve data\n",
    "df_walmart_targeted = pd.read_excel(\"data_walmart_targeted.xlsx\")\n",
    "df_walmart_targeted = df_walmart_targeted[[\"origin\", \"target\", \"edge_id\", \"operation_time\"]]\n",
    "df_walmart_targeted.head(2)"
   ]
  },
  {
   "cell_type": "code",
   "execution_count": null,
   "metadata": {},
   "outputs": [],
   "source": []
  }
 ],
 "metadata": {
  "kernelspec": {
   "display_name": "Python 3",
   "language": "python",
   "name": "python3"
  },
  "language_info": {
   "codemirror_mode": {
    "name": "ipython",
    "version": 3
   },
   "file_extension": ".py",
   "mimetype": "text/x-python",
   "name": "python",
   "nbconvert_exporter": "python",
   "pygments_lexer": "ipython3",
   "version": "3.8.3"
  }
 },
 "nbformat": 4,
 "nbformat_minor": 4
}
